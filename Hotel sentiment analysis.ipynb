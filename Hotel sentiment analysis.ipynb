{
 "cells": [
  {
   "cell_type": "code",
   "execution_count": 1,
   "id": "ea915990-05a7-4d19-b20f-dd5ed16171ef",
   "metadata": {},
   "outputs": [],
   "source": [
    "import numpy as np\n",
    "import pandas as pd\n",
    "import math\n",
    "\n",
    "import torch\n",
    "import torch.nn as nn\n",
    "from torch.nn import Embedding, LSTM, Linear\n",
    "from torch.utils.data.sampler import WeightedRandomSampler\n",
    "from torch.utils.data import TensorDataset, DataLoader, Dataset\n",
    "from sklearn.preprocessing import OneHotEncoder\n",
    "from sklearn.model_selection import train_test_split\n",
    "from sklearn import metrics\n",
    "\n",
    "import seaborn as sns\n",
    "import matplotlib.pyplot as plt\n",
    "\n",
    "from random import shuffle\n",
    "\n",
    "import re\n",
    "import pymorphy2\n",
    "from nltk.corpus import stopwords\n",
    "\n",
    "import time\n",
    "\n",
    "import json\n",
    "\n",
    "from tqdm import tqdm"
   ]
  },
  {
   "cell_type": "code",
   "execution_count": null,
   "id": "f872c86d-3edf-4168-8739-6f856c22aa32",
   "metadata": {},
   "outputs": [],
   "source": []
  },
  {
   "cell_type": "code",
   "execution_count": 3,
   "id": "114e494d-e3e0-4aa0-840d-50912fb4f270",
   "metadata": {},
   "outputs": [],
   "source": [
    "device = torch.device(\"cuda\") if torch.cuda.is_available() else torch.device(\"cpu\")"
   ]
  },
  {
   "cell_type": "markdown",
   "id": "e3e1f4b4-82d3-4459-97b5-ad2b4826d1f4",
   "metadata": {},
   "source": [
    "# Загрузка датасета"
   ]
  },
  {
   "cell_type": "code",
   "execution_count": 85,
   "id": "f9022591-e8dc-4d7b-a3f8-ee736dec1d21",
   "metadata": {},
   "outputs": [
    {
     "data": {
      "text/html": [
       "<div>\n",
       "<style scoped>\n",
       "    .dataframe tbody tr th:only-of-type {\n",
       "        vertical-align: middle;\n",
       "    }\n",
       "\n",
       "    .dataframe tbody tr th {\n",
       "        vertical-align: top;\n",
       "    }\n",
       "\n",
       "    .dataframe thead th {\n",
       "        text-align: right;\n",
       "    }\n",
       "</style>\n",
       "<table border=\"1\" class=\"dataframe\">\n",
       "  <thead>\n",
       "    <tr style=\"text-align: right;\">\n",
       "      <th></th>\n",
       "      <th>Общая оценка</th>\n",
       "      <th>Цена/качество</th>\n",
       "      <th>Расположение</th>\n",
       "      <th>Качество сна</th>\n",
       "      <th>Номера</th>\n",
       "      <th>Чистота</th>\n",
       "      <th>Обслуживание</th>\n",
       "      <th>Текст отзыва</th>\n",
       "    </tr>\n",
       "  </thead>\n",
       "  <tbody>\n",
       "    <tr>\n",
       "      <th>0</th>\n",
       "      <td>4</td>\n",
       "      <td>4.0</td>\n",
       "      <td>4.0</td>\n",
       "      <td>5.0</td>\n",
       "      <td>4.0</td>\n",
       "      <td>4.0</td>\n",
       "      <td>5.0</td>\n",
       "      <td>Очень достойный отель с прекрасными номерами, ...</td>\n",
       "    </tr>\n",
       "    <tr>\n",
       "      <th>1</th>\n",
       "      <td>4</td>\n",
       "      <td>NaN</td>\n",
       "      <td>3.0</td>\n",
       "      <td>NaN</td>\n",
       "      <td>NaN</td>\n",
       "      <td>4.0</td>\n",
       "      <td>4.0</td>\n",
       "      <td>Остановились в Барселоне проездом, т.к. нужно ...</td>\n",
       "    </tr>\n",
       "    <tr>\n",
       "      <th>2</th>\n",
       "      <td>4</td>\n",
       "      <td>3.0</td>\n",
       "      <td>3.0</td>\n",
       "      <td>5.0</td>\n",
       "      <td>5.0</td>\n",
       "      <td>3.0</td>\n",
       "      <td>4.0</td>\n",
       "      <td>Типичная сетевая гостиница. Главный плюс-шикар...</td>\n",
       "    </tr>\n",
       "    <tr>\n",
       "      <th>3</th>\n",
       "      <td>1</td>\n",
       "      <td>NaN</td>\n",
       "      <td>NaN</td>\n",
       "      <td>NaN</td>\n",
       "      <td>2.0</td>\n",
       "      <td>1.0</td>\n",
       "      <td>1.0</td>\n",
       "      <td>Начнем с того, что в этом отеле не берут деньг...</td>\n",
       "    </tr>\n",
       "    <tr>\n",
       "      <th>4</th>\n",
       "      <td>5</td>\n",
       "      <td>NaN</td>\n",
       "      <td>NaN</td>\n",
       "      <td>NaN</td>\n",
       "      <td>NaN</td>\n",
       "      <td>NaN</td>\n",
       "      <td>NaN</td>\n",
       "      <td>Отель находится в отдалении от центра,но пешко...</td>\n",
       "    </tr>\n",
       "    <tr>\n",
       "      <th>...</th>\n",
       "      <td>...</td>\n",
       "      <td>...</td>\n",
       "      <td>...</td>\n",
       "      <td>...</td>\n",
       "      <td>...</td>\n",
       "      <td>...</td>\n",
       "      <td>...</td>\n",
       "      <td>...</td>\n",
       "    </tr>\n",
       "    <tr>\n",
       "      <th>57199</th>\n",
       "      <td>5</td>\n",
       "      <td>4.0</td>\n",
       "      <td>4.0</td>\n",
       "      <td>5.0</td>\n",
       "      <td>5.0</td>\n",
       "      <td>4.0</td>\n",
       "      <td>5.0</td>\n",
       "      <td>Для нас было плюсом, что в этом отеле можно ос...</td>\n",
       "    </tr>\n",
       "    <tr>\n",
       "      <th>57200</th>\n",
       "      <td>5</td>\n",
       "      <td>5.0</td>\n",
       "      <td>4.0</td>\n",
       "      <td>5.0</td>\n",
       "      <td>5.0</td>\n",
       "      <td>5.0</td>\n",
       "      <td>5.0</td>\n",
       "      <td>Очень понравился отель.Хорошие номера с кухней...</td>\n",
       "    </tr>\n",
       "    <tr>\n",
       "      <th>57201</th>\n",
       "      <td>5</td>\n",
       "      <td>5.0</td>\n",
       "      <td>4.0</td>\n",
       "      <td>5.0</td>\n",
       "      <td>5.0</td>\n",
       "      <td>5.0</td>\n",
       "      <td>4.0</td>\n",
       "      <td>В Петербурге бываю очень часто, поэтому появле...</td>\n",
       "    </tr>\n",
       "    <tr>\n",
       "      <th>57202</th>\n",
       "      <td>5</td>\n",
       "      <td>5.0</td>\n",
       "      <td>5.0</td>\n",
       "      <td>5.0</td>\n",
       "      <td>5.0</td>\n",
       "      <td>5.0</td>\n",
       "      <td>5.0</td>\n",
       "      <td>Изумительное место! Я просто не ожидала такого...</td>\n",
       "    </tr>\n",
       "    <tr>\n",
       "      <th>57203</th>\n",
       "      <td>4</td>\n",
       "      <td>4.0</td>\n",
       "      <td>5.0</td>\n",
       "      <td>5.0</td>\n",
       "      <td>5.0</td>\n",
       "      <td>5.0</td>\n",
       "      <td>5.0</td>\n",
       "      <td>Останавливались в этом отеле в августе 2013, р...</td>\n",
       "    </tr>\n",
       "  </tbody>\n",
       "</table>\n",
       "<p>57204 rows × 8 columns</p>\n",
       "</div>"
      ],
      "text/plain": [
       "       Общая оценка  Цена/качество  Расположение  Качество сна  Номера  \\\n",
       "0                 4            4.0           4.0           5.0     4.0   \n",
       "1                 4            NaN           3.0           NaN     NaN   \n",
       "2                 4            3.0           3.0           5.0     5.0   \n",
       "3                 1            NaN           NaN           NaN     2.0   \n",
       "4                 5            NaN           NaN           NaN     NaN   \n",
       "...             ...            ...           ...           ...     ...   \n",
       "57199             5            4.0           4.0           5.0     5.0   \n",
       "57200             5            5.0           4.0           5.0     5.0   \n",
       "57201             5            5.0           4.0           5.0     5.0   \n",
       "57202             5            5.0           5.0           5.0     5.0   \n",
       "57203             4            4.0           5.0           5.0     5.0   \n",
       "\n",
       "       Чистота  Обслуживание  \\\n",
       "0          4.0           5.0   \n",
       "1          4.0           4.0   \n",
       "2          3.0           4.0   \n",
       "3          1.0           1.0   \n",
       "4          NaN           NaN   \n",
       "...        ...           ...   \n",
       "57199      4.0           5.0   \n",
       "57200      5.0           5.0   \n",
       "57201      5.0           4.0   \n",
       "57202      5.0           5.0   \n",
       "57203      5.0           5.0   \n",
       "\n",
       "                                            Текст отзыва  \n",
       "0      Очень достойный отель с прекрасными номерами, ...  \n",
       "1      Остановились в Барселоне проездом, т.к. нужно ...  \n",
       "2      Типичная сетевая гостиница. Главный плюс-шикар...  \n",
       "3      Начнем с того, что в этом отеле не берут деньг...  \n",
       "4      Отель находится в отдалении от центра,но пешко...  \n",
       "...                                                  ...  \n",
       "57199  Для нас было плюсом, что в этом отеле можно ос...  \n",
       "57200  Очень понравился отель.Хорошие номера с кухней...  \n",
       "57201  В Петербурге бываю очень часто, поэтому появле...  \n",
       "57202  Изумительное место! Я просто не ожидала такого...  \n",
       "57203  Останавливались в этом отеле в августе 2013, р...  \n",
       "\n",
       "[57204 rows x 8 columns]"
      ]
     },
     "execution_count": 85,
     "metadata": {},
     "output_type": "execute_result"
    }
   ],
   "source": [
    "train_df = pd.read_csv('datasets/Training_data_marked.csv')\n",
    "test_df = pd.read_csv('datasets/Test_data_marked.csv')\n",
    "df = pd.concat([train_df, test_df], ignore_index=True)\n",
    "df"
   ]
  },
  {
   "cell_type": "code",
   "execution_count": 86,
   "id": "ddca17e2-d55c-479e-ba31-9eec0c2af1e2",
   "metadata": {},
   "outputs": [
    {
     "name": "stdout",
     "output_type": "stream",
     "text": [
      "<class 'pandas.core.frame.DataFrame'>\n",
      "RangeIndex: 57204 entries, 0 to 57203\n",
      "Data columns (total 2 columns):\n",
      " #   Column  Non-Null Count  Dtype \n",
      "---  ------  --------------  ----- \n",
      " 0   score   57204 non-null  int64 \n",
      " 1   text    57053 non-null  object\n",
      "dtypes: int64(1), object(1)\n",
      "memory usage: 893.9+ KB\n"
     ]
    }
   ],
   "source": [
    "df = df.rename(columns={'Текст отзыва': 'text', 'Общая оценка': 'score'})\n",
    "df = df[['score', 'text']]\n",
    "df.info()"
   ]
  },
  {
   "cell_type": "code",
   "execution_count": 87,
   "id": "c3c337e2-fd3b-4d61-9cea-a1477a7b9041",
   "metadata": {},
   "outputs": [],
   "source": [
    "df.dropna(inplace=True)\n",
    "df.drop_duplicates(inplace=True)"
   ]
  },
  {
   "cell_type": "code",
   "execution_count": 88,
   "id": "6e335d62-2e9c-4161-a965-9b20f70f1e2a",
   "metadata": {},
   "outputs": [
    {
     "name": "stdout",
     "output_type": "stream",
     "text": [
      "<class 'pandas.core.frame.DataFrame'>\n",
      "Index: 57039 entries, 0 to 57203\n",
      "Data columns (total 2 columns):\n",
      " #   Column  Non-Null Count  Dtype \n",
      "---  ------  --------------  ----- \n",
      " 0   score   57039 non-null  int64 \n",
      " 1   text    57039 non-null  object\n",
      "dtypes: int64(1), object(1)\n",
      "memory usage: 1.3+ MB\n"
     ]
    }
   ],
   "source": [
    "df.info()"
   ]
  },
  {
   "cell_type": "code",
   "execution_count": 95,
   "id": "e98c452a-b033-45c3-80c9-dcd0693b4219",
   "metadata": {},
   "outputs": [],
   "source": [
    "def draw_statistics(df):\n",
    "    x = df.groupby(by='score').count()\n",
    "    plt.pie(x['text'], labels=x.index,  autopct='%.1f%%')\n",
    "    plt.title('Соотношение оценок в коментариях')\n",
    "    print(x['text'])"
   ]
  },
  {
   "cell_type": "code",
   "execution_count": 96,
   "id": "289301f4-c020-4f1d-a9e2-b4a7314e5a04",
   "metadata": {},
   "outputs": [
    {
     "name": "stdout",
     "output_type": "stream",
     "text": [
      "score\n",
      "1     1452\n",
      "2     2026\n",
      "3     6356\n",
      "4    18208\n",
      "5    28997\n",
      "Name: text, dtype: int64\n"
     ]
    },
    {
     "data": {
      "image/png": "[encoded data removed]",
      "text/plain": [
       "<Figure size 640x480 with 1 Axes>"
      ]
     },
     "metadata": {},
     "output_type": "display_data"
    }
   ],
   "source": [
    "draw_statistics(df)"
   ]
  },
  {
   "cell_type": "markdown",
   "id": "c74f371a-7a0e-42c2-b865-41de465b3d0a",
   "metadata": {},
   "source": [
    "# Просмотр отзывов"
   ]
  },
  {
   "cell_type": "code",
   "execution_count": 8,
   "id": "a6e04b4c-5c3a-4103-97bc-197734eb0622",
   "metadata": {},
   "outputs": [],
   "source": [
    "def get_reviews(score, len_):\n",
    "    idx = list(df[df['score'] == score].index)\n",
    "    shuffle(idx)\n",
    "    return list(df['text'][idx[:len_]])"
   ]
  },
  {
   "cell_type": "code",
   "execution_count": 16,
   "id": "5364a64b-ef44-43e0-93d6-3785a5ed3c54",
   "metadata": {},
   "outputs": [
    {
     "name": "stdout",
     "output_type": "stream",
     "text": [
      "Оценка: 1 ['Каждый кубический сантиметр воздуха в отеле пропитан невыносимой наимерзейшей вонью кошачьей, пёсьей, волчьей, медвежьей и слоновьей ссанины. Чтобы получилось уснуть, пришлось курить в номере - только так запах прятался на несколько минут. И это не смотря на расположение кровати прямо рядом с открытым настежь окном.Есть множество и других огромнейших минусов, но они все меркнут в сравнении с вонью.', 'Останавливались в отеле вдвоем с мужем в июне 2014 года. Заказали номер как было заявлено на сайте высшей категории. Сразу напрягло, что номер оказался напротив лифта и был смежным (видимо он подразумевался как двухкомнатный, просто дверь во вторую комнату закрывается на ключ). Как по заказу в этот смежный номер поселили семейную пару с маленьким ребенком, который конечно плакал по ночам, ломился в эту закрытую дверь в коридоре и просыпался в пять утра. Но на все это можно было бы закрыть глаза, у нас тоже были маленькие дети, закрывали поплотнее дверь в прихожую и спали. Самое неприятное произошло, когда вечером мы отправились на ужин в ресторан в отеле. Обслуживали нас долго и часа через два, когда мы вернулись в номер, обнаружили что у нас из сумок вытащили три телефона. Мой Samsung Galaxy S4, мужа iPhone 5s (и третий у нас был как запасной вариант старенький sony). Естественно, обратились на ресепшн, там вызвали полицию. Полиция приехала, посмотрела на замок в номере (замок электронный ключ), взяли какую-то распечатку с замка, показали нам что в период пока мы были в ресторане наш замок не открывался, дали какую -то бумажку с номером заявления в полицию и уехали. И все!! Самое интересное, что в номере не предусмотрено сейфа и во всем отеле не оказалось ни одной камеры! Безопасность постояльцев на высоте!!!! И самое неприятное в этой истории, что персонал отеля даже НЕ ПОПЫТАЛСЯ принести нам свои извинения!! Пожелали спокойной ночи! Последние сутки гуляли по Берлину со всеми более менее ценными вещами и сумками. В Берлине бываем часто, но такое себе даже представить не могли! Так что если у Вас есть ценные вещи не советую выбирать этот отель. Наталья С.', 'Я никогда не буду останавливаться в этом отеле. Мы приехали в Ivbergs Hotel по случаю празднования 31 декабря.Обслуживание было плохим, парень на стойке регистрации сказал, что он разрежет мою немецкую банковскую карточку, все это меня очень и очень раздражало. От администрации было очень трудно получить хоть какую-то достоверную информацию.Цены??? Забудьте! Нам пришлось заплатить 200 евро всего лишь за одну ночь, чрезвычайно дорого только из-за того, что это было 31 декабря!Номер был большой и чистый, с большим балконом и прекрасным видом, но далеко от всех мест, и смотреть было нечего.Кроме того, лифт был настолько медленный, что по лестнице подняться на 4-й этаж можно в три раза быстрее.Может нам просто не повезло, так как другие люди оценили этот отель на 5 звезд. Но это именно мой опыт.']\n",
      "\n",
      "Оценка: 2 ['Очень маленький отель, всего 4 номера на этаже два из которых выходят на сторону рынка Banzaan. От рынка круглые сутки невыносимый запах, балкон не открыть, приходится находиться в номере с постоянно включенным кондиционером. Несмотря на закрытый балкон, очень сильная слышимость с улицы, в том числе от стадиона Bangla Boxing который находится прямо через дорогу. Плюс ко всему муравьи, которых по-началу не очень заметно, но вскоре они начинают ползать повсюду в больших количествах. Бассейн на крыше площадью метра 2 и 2 лежака у него, на фото кажется большим, но это не так. Пляжных полотенец и фена нет.Персонал дружелюбный, но плохо говорят по английски. завтраки по меню, выбрать есть из чего и довольно сытно.', 'В отеле бронировал номер на одного. Основное, что не понравилось - комната очень маленькая, чувствуешь себя как в коробке, но ванная комната достаточно большая. Уборка ничего, но не всегда идеальна: у меня, например, забывали в номере белье, которое меняли. Завтрак неплох, фруктов нет, в остальном достаточно стандартен, кофе отличный. Место, где проводят завтраки небольшое, без окон и стоит постоянный гул. Wi-Fi не особо комфортен, такое впечатление, что стоит ограничение трафик, посмотреть кино онлайн достаточно сложно. Расположение хорошее, хоть и не в центре, но до основных достопримечательностей можно дойти пешком. С учетом того, что в Барселоне отели сами по себе дороже, чем в остальной Испании, цена все же завышена для такого номера, соотношение цена/качество на мой взгляд плохо. Для одного отель не рекомендую.', 'Кроме отличного расположения и вежливого персонала плюсов у отеля вспомнить не могу.Были здесь в декабре, и было ОЧЕНЬ, ОЧЕНЬ, ОЧЕНЬ холодно. В номере из отопления кондиционер с функцией нагрева воздуха и тоненькие одеялки. Мой спутник простыл и спасался только горячим чаем. Слава богу, останавливались там только на одну ночь, поэтому кое-как дотерпев в десяти кофтах под одеялом до шести утра, пулей бросились в ванную и прочь из отеля. Завтрак катастрофически никакой.Оформление забавное, да: всё в рюшах, розочках и перламутровых переливах.']\n",
      "\n",
      "Оценка: 3 ['Отель претендует на элитный городской отель. Но он находится далеко от метро, соответственно вы постоянно будете стоять в пробках. Окна в отеле не открываются, поэтому если вам случайно жарко или душно, то исправить эту ситуацию будет сложно. Плюс ко всему платные завтраки. Единственный большой плюс - это красивый вид на мост через Босфор.', 'Мои отзывы основаны на реальных события, пишется по существу, только про отель, не сотрудничаю с владельцами! Отель Deevana Patong полностью соответсвует заявленной категории и звёздам! Двухместный Номер: чистый, не большой по размерам, огромная большая кровать, чистое постальное белье, подушки мягкие, кондиционер новый, современный, имеется телевизор, сейф, холодильник, это ПЛЮС, две бутылки воды в стекле ПЛЮС, освещенность номера средняя, это МИНУС.Ванная: огромная большая ванная комната, душ, раковина, унитаз чистый! Освещенность в норме, количество полотенец не достаточно для 3 звёзд, это МИНУС, имеется маленькие шампуни и гели это ПЛЮС. Завтра: хороший ПЛЮС. Отель на 3 линии от моря, это большой минус, идти минут 10; пляжные полотенца имеется выдаются бесплатно на ресшепшене. Имеется бесплатный WIFI. Программа РеВизорро рекомендует отель Deevana Patong на острове Пхукет!', 'Пришлось провести 2 дня в отеле Годунов по служебным делам. Заказ осуществлялся онлайн, бронь сохранилась, в этом проблем не было. При вселении в первый номер оказалось, что в нем отсутствуют холодильник, кондиционеры не работают по всему отелю, окно не закрывается, номер трудно назвать номером, два шага в ширину и три в длину к чести персонала, просьба поменять номер нашла отклик и новый номер с холодильником, но без кондиционера был предоставлен через 15 минут. Завтрак вполне съедобный, персонал отзывчивый, относительно чисто, но Лена Летучая была бы в восторге Все испортило отсутствие вентиляции и кондиционирования причем как обещал персонал в течение нескольких недель и только ночью при открытых окнах имелось ощущение комфорта Близость к центру в данном случае решает и было жалко наших забугорных гостей, бегавших по этажу в поисках хотя бы вентилятора ']\n",
      "\n",
      "Оценка: 4 ['Останавливались с женой на неделю в этом отеле, никаких претензий нет. Вкусные завтраки, удобная большая кровать, убирали каждый день. Очень удобное расположение в центре. Отель очень достойный, рекомендую. ', 'Очень достойный отель за понятные деньги почти в центре. Доброжелательный персонал, хорошие номера, удобная кровать. Из минусов: 1. Очень дорогой завтрак 790 рублей, сам завтрак неплохой, но мало выпечки, только круассаны и еще что-то2. Крайне ограниченный выбор рускоязычных ТВ каналов (первый, Россия, спорт, мультфильмы, еще пару). Но даже эти не всегда ловили сигнал и не показывали. ТВЦ нет и это в Москве)!3. Для того чтобы приоткрыть окно надо встать на стол, по крайней мере у меня по другому не получилось. Стол продвинут вплотную к окну и дотянуться до ручки окна невозможно Но в номерах очень тихо, номер был с видом на Москва сити, несколько раз поздно вечером выходила на улицу непосредствтвенно напротив вокзала, ни поездов ни их объявлений не слышно. Плохо что нет кулеров, хотя бутылку 0,5 воды в номер ставят, проблемы с теплой водой. Рекомендуют идти в бар, но иногда ночью нужно развести лекарство и бывает проблематично ехать на 5 этаж в бар отеля Novotel и потом с кипятком подниматься в лифте к себе в номер. В целом отель рекомендую', 'Хороший отель с точки зрения соотношения цена-качество. Что касается расположения - от метро недалеко, но до ближайшей достопримечательности (Триумфальной арки) идти пешком минут 30. А вообще район, в котором расположен отель, очень спокойный и приятный. Вокруг много кафе, супермаркет.Номера чистые, но малюсенькие, заходишь - сразу кровать, а туалет с ванной тоже практически у кровати. Слышимость ужасная. Такое ощущение, что в одной квартире со всем отелем живешь. Обслуживание очень хорошее, персонал вежливый и готовый помочь.']\n",
      "\n",
      "Оценка: 5 ['В этот отель мы приехали в октябре по совету моей подруги. И действительно он в реальности оказался превосходным.Конечно же это очень удобное расположение относительно всех важных объектов культурного и исторического значения . Остановка трамвая находится в 2-х минутах ходьбы, но мы редко пользовались транспортом, так как все необходимое: рынки, магазины и красивые парковые зоны находятся в шаговой доступности.Сам отель оставляет очень благоприятное впечатление. Здесь царит поистине камерная обстановка: приглушённый свет, тёплая подсветка на картинах панно и в витринах, удачно продуманное зонирование - все это создаёт ощущение уюта и комфорта.Особо хочу обратить внимание на персонал отеля. Во- первых сразу бросается в глаза это безупречная дисциплина - каждый на своём месте четко и профессионально выполняет свою работу. Любой вопрос или просьба выполняется мгновенно. Такое ощущение что твои желания предугадывают. Такое отношение очень редко я наблюдала в других отелях.Очень порадовало меня обслуживание в ресторане. Еда очень вкусная и разнообразная. На завтрак подают кроме многочисленной закуски и овощей несколько видов горячего помимо традиционных омлетов и большой выбор десертов варенья и даже сотовый мёд!!!! Приятным и неожиданным сюрпризом оказалось то что в стоимость включён не только завтрак но и обед причём с весьма удобным временем с 14-00 до 18-00, то есть если вы не успели пообедать в городе, то можно приехать в отель где вас будет ждать горячий вкусный ужин, а это согласитесь очень важно для нас уставших путешественников. Кстати также замечу что в ресторане работают очень услужливые и аккуратно с иголочки одетые официанты, очень мне понравилось их деликатное и вежливое обслуживание.Ну и конечно же главный менеджер этого отеля Жанна! Вот поистине настоящее лицо отеля - милая обаятельная очень симпатичная женщина и при этом настоящий профессионал - чётко грамотно и быстро выполняет свои обязанности. Приезжая за границу все мы чувствуем немно неуютно в чужом городе и как хорошо когда рядом оказывается человек который помогает снять все проблемы на бытовом уровне, подскажет как сориентироваться в незнакомом городе и поможет с выбором достопримечательностей. Вот к счастью таким человеком и оказалась Жанна - она для нас была как путеводная звезда! Я думаю, что благодаря ее профессиональным качествам весь персонал отеля работает как хорошо отлаженный механизм. Ну кроме всего прочего всегда приятно когда в отеле есть русскоговорящий персонал. Это очень большой бонус для отеля.Как это не странно, но моя первая поездка в Стамбул оставила благоприятное впечатление ещё и потому что я остановилась в этом отеле.Всем очень советую ,обязательно, если соберётесь в Стамбул, то только в этот отель. А я на следущий год точно приеду и остановлюсь в этом отеле. Приятных вам путешествий.', 'Ездила в Берлин в первый раз (в июне 2014), причем в гордом одиночестве. Хотелось погулять, посмотреть город, проникнутся его духом и, конечно, отдохнуть.Очень понравилось расположение отеля. Рядом с центральным вокзалом, музейным островом, госпиталем Шарите. По центральной части восточного Берлина можно ходить пешком, совсем рядом Рейхстаг Бранденбургские ворота. Жила в одноместном номере. Вид был на внутренний двор. Очень уютно, вечером и ночью поют соловьи. На улице всё время была дикая жира (+35-40), но отсутствие кондиционера не мешало, потому что окна были во двор и всегда можно было проветрить номер.Спасибо большое всему персоналу за уют и помощь. В гостинице работают русскоязычные администраторы и это особенно приятно))Еще совершенно незабываемо было завтракать на крыше) Обязательно вернусь сюда с семьей)))', 'Всем привет! Отдыхали парой с супругой на юбилей свадьбы с 19-23.07 в отеле. Очень понравилось. Уютно, спокойно, месторасположение тоже отличное! Персонал очень дружелюбный и общительный. На русском язвке можно общаться с привлекательной общительной девушкой по имени Хадиджа. Ей отдельный привет и спаибо за помощь в иныормации!!!']\n",
      "\n"
     ]
    }
   ],
   "source": [
    "for i in range(1, 6):\n",
    "    print('Оценка:', i, get_reviews(i, 3), end='\\n\\n')"
   ]
  },
  {
   "cell_type": "markdown",
   "id": "4fb499e8-d080-4fef-825d-900a8a024175",
   "metadata": {},
   "source": [
    "# Балансировка данных"
   ]
  },
  {
   "cell_type": "code",
   "execution_count": 98,
   "id": "78f04ad6-52d5-4fae-bfaf-4f60b8e0222f",
   "metadata": {},
   "outputs": [
    {
     "name": "stdout",
     "output_type": "stream",
     "text": [
      "score\n",
      "1    1452\n",
      "2    2026\n",
      "4    1739\n",
      "5    1739\n",
      "Name: text, dtype: int64\n"
     ]
    },
    {
     "data": {
      "image/png": "[encoded data removed]",
      "text/plain": [
       "<Figure size 640x480 with 1 Axes>"
      ]
     },
     "metadata": {},
     "output_type": "display_data"
    }
   ],
   "source": [
    "df_b = pd.concat([df[df['score']==1], df[df['score']==2], df[df['score']==4][:1739], df[df['score']==5][:1739]])\n",
    "draw_statistics(df_b)"
   ]
  },
  {
   "cell_type": "code",
   "execution_count": 11,
   "id": "f54f6dbb-a72c-4c12-8378-e93fd7f1b0c1",
   "metadata": {},
   "outputs": [
    {
     "data": {
      "text/plain": [
       "1739.0"
      ]
     },
     "execution_count": 11,
     "metadata": {},
     "output_type": "execute_result"
    }
   ],
   "source": [
    "(1452+2026)/2"
   ]
  },
  {
   "cell_type": "markdown",
   "id": "6ec57803-46d5-411c-8899-d9394f936b0d",
   "metadata": {},
   "source": [
    "# Обработка текста"
   ]
  },
  {
   "cell_type": "code",
   "execution_count": 8,
   "id": "ca4795da-0be7-4737-b975-ffa9f5e42f23",
   "metadata": {},
   "outputs": [],
   "source": [
    "def clear_text(text):\n",
    "    text = re.sub('((www\\.[^\\s]+)|(https?://[^\\s]+))', ' ', text) # Удаление ссылок\n",
    "    text = re.sub('\"[\\S]+\"', ' ', text) # Удаление названий. Пример: \"ООО ...\"\n",
    "\n",
    "    com_w = re.findall('[а-яё]{1}[А-ЯЁ]{1}', text)\n",
    "    for i in com_w:\n",
    "        text = text.replace(i, f'{i[0]} {i[1]}')\n",
    "    \n",
    "    text = text.lower().replace(\"ё\", \"е\")\n",
    "\n",
    "    for i in list('.?!(),-;:#$%&\\\\/*+<=>@[]') + ['...']:\n",
    "        text = text.replace(i, ' ') # В конце строки часто не ставят пробелов\n",
    "        # из-за этого после обработки два слова склеиваются и перестают нести смысловую нагрузку для сети\n",
    "    \n",
    "    symbols = re.findall(\"[а-я\\s]\", text) # Оставляем только буквы\n",
    "    text = ''.join(symbols)\n",
    "    text = re.sub(' +', ' ', text) # Оставляем между словами 1 пробел\n",
    "    return text.strip()"
   ]
  },
  {
   "cell_type": "code",
   "execution_count": 9,
   "id": "ec5c4739-ee2c-4d00-8184-f43351e86561",
   "metadata": {},
   "outputs": [],
   "source": [
    "morph = pymorphy2.MorphAnalyzer(lang='ru')\n",
    "\n",
    "def stemming(text):\n",
    "    text = text.split()\n",
    "    new_text = []\n",
    "\n",
    "    for i in text:\n",
    "        tmp = morph.parse(i)[0]\n",
    "        if not 'UNKN' in tmp.tag: # Если слово написано с ошибкой или несуществующее слово\n",
    "            new_text.append(tmp.normal_form)\n",
    "    \n",
    "    return ' '.join(new_text)"
   ]
  },
  {
   "cell_type": "code",
   "execution_count": 10,
   "id": "eb454fc3-3036-4193-a022-bdb22f6cc057",
   "metadata": {},
   "outputs": [],
   "source": [
    "def preprocess_text(text):\n",
    "    text = clear_text(text)\n",
    "    text = stemming(text)\n",
    "    return text"
   ]
  },
  {
   "cell_type": "code",
   "execution_count": 13,
   "id": "8b2330c6-c234-47c5-b31b-6a9457741410",
   "metadata": {},
   "outputs": [
    {
     "name": "stdout",
     "output_type": "stream",
     "text": [
      "Остановились в Барселоне проездом, т.к. нужно было посетить консульство РФ. Расположение, для посещения консульства - неплохо, дошли до него пешком (хотя идти пришлось минут 25 и в горку). Сама гостиница - достаточно хороша, завтрак - замечательный. В гостинице подземная парковка - заезжать туда нужно сразу, хотя она и рядом с главным входом (погуглите стрит вью) и на самый нижний уровень. У нас машина высокая (2м), но потолки парковки достаточно высокие и проблемы не было. Оттуда с вещами на лифте - в лобби. Есть достаточно простенький но функциональный спорт зал. Номера - нормальные, в принципе все понравилось.\n",
      "\n",
      "остановиться в барселона проезд так к нужно быть посетить консульство рф расположение для посещение консульство неплохо дойти до он пешком хотя идти прийтись минута и в горка сам гостиница достаточно хороший завтрак замечательный в гостиница подземный парковка заезжать туда нужно сразу хотя она и рядом с главный вход погуглита стрит вить и на самый нижний уровень у мы машина высокий м но потолок парковка достаточно высокий и проблема не быть оттуда с вещь на лифт в лобби есть достаточно простенький но функциональный спорт зал номер нормальный в принцип всё понравиться\n"
     ]
    }
   ],
   "source": [
    "i = 1\n",
    "print(df_b['text'][i], end='\\n\\n')\n",
    "print(preprocess_text(df_b['text'][i]))"
   ]
  },
  {
   "cell_type": "code",
   "execution_count": 15,
   "id": "2968c00f-201c-4f73-b6ae-275a067fc473",
   "metadata": {},
   "outputs": [
    {
     "name": "stdout",
     "output_type": "stream",
     "text": [
      "CPU times: user 1min 58s, sys: 1.65 ms, total: 1min 58s\n",
      "Wall time: 1min 58s\n"
     ]
    }
   ],
   "source": [
    "%%time\n",
    "df_pre = df_b.copy()\n",
    "df_pre['text'] = df_pre['text'].map(lambda x: preprocess_text(x))"
   ]
  },
  {
   "cell_type": "code",
   "execution_count": 18,
   "id": "0d511665-fe0f-42ce-877f-a89b9e4e7c3e",
   "metadata": {},
   "outputs": [],
   "source": [
    "df_pre.to_csv('datasets/preprocess_ds.csv')"
   ]
  },
  {
   "cell_type": "code",
   "execution_count": 2,
   "id": "9afc8fb7-3f23-4002-a396-c9e5d0c9ebee",
   "metadata": {},
   "outputs": [],
   "source": [
    "df_pre =  pd.read_csv('datasets/preprocess_ds.csv', index_col=0)\n",
    "df_pre['text'] = df_pre['text'].map(lambda x: str(x))"
   ]
  },
  {
   "cell_type": "code",
   "execution_count": 5,
   "id": "2d80a6c1-cb11-4375-ba50-9a2aa6654603",
   "metadata": {},
   "outputs": [],
   "source": []
  },
  {
   "cell_type": "markdown",
   "id": "23865991-bd1e-4142-b5da-da9d701946ae",
   "metadata": {},
   "source": [
    "# Удаление stopwords"
   ]
  },
  {
   "cell_type": "code",
   "execution_count": 16,
   "id": "2e08231c-f4aa-4646-a627-bf05993ac541",
   "metadata": {},
   "outputs": [
    {
     "name": "stdout",
     "output_type": "stream",
     "text": [
      "['и', 'в', 'во', 'не', 'что', 'он', 'на', 'я', 'с', 'со', 'как', 'а', 'то', 'все', 'она', 'так', 'его', 'но', 'да', 'ты', 'к', 'у', 'же', 'вы', 'за', 'бы', 'по', 'только', 'ее', 'мне', 'было', 'вот', 'от', 'меня', 'еще', 'нет', 'о', 'из', 'ему', 'теперь', 'когда', 'даже', 'ну', 'вдруг', 'ли', 'если', 'уже', 'или', 'ни', 'быть', 'был', 'него', 'до', 'вас', 'нибудь', 'опять', 'уж', 'вам', 'ведь', 'там', 'потом', 'себя', 'ничего', 'ей', 'может', 'они', 'тут', 'где', 'есть', 'надо', 'ней', 'для', 'мы', 'тебя', 'их', 'чем', 'была', 'сам', 'чтоб', 'без', 'будто', 'чего', 'раз', 'тоже', 'себе', 'под', 'будет', 'ж', 'тогда', 'кто', 'этот', 'того', 'потому', 'этого', 'какой', 'совсем', 'ним', 'здесь', 'этом', 'один', 'почти', 'мой', 'тем', 'чтобы', 'нее', 'сейчас', 'были', 'куда', 'зачем', 'всех', 'никогда', 'можно', 'при', 'наконец', 'два', 'об', 'другой', 'хоть', 'после', 'над', 'больше', 'тот', 'через', 'эти', 'нас', 'про', 'всего', 'них', 'какая', 'много', 'разве', 'три', 'эту', 'моя', 'впрочем', 'хорошо', 'свою', 'этой', 'перед', 'иногда', 'лучше', 'чуть', 'том', 'нельзя', 'такой', 'им', 'более', 'всегда', 'конечно', 'всю', 'между']\n"
     ]
    }
   ],
   "source": [
    "print(stopwords.words(\"russian\"))"
   ]
  },
  {
   "cell_type": "code",
   "execution_count": 17,
   "id": "370a2ecc-6ea2-4700-84ba-2a48987e38ae",
   "metadata": {},
   "outputs": [],
   "source": [
    "stop_list = stopwords.words(\"russian\")\n",
    "stop_list.extend(['это', 'который', 'всё', 'весь', 'свой', 'наш', 'ещё', 'также'])\n",
    "\n",
    "for i in ['не', 'нет', 'вдруг', 'ни', 'опять', 'ничего', 'без', 'тоже', 'совсем', \n",
    "          'хорошо', 'лучше', 'да', 'никогда', 'иногда', 'нельзя']:\n",
    "    stop_list.remove(i)"
   ]
  },
  {
   "cell_type": "markdown",
   "id": "bd38e83e-f13b-4613-add7-226d4d620cac",
   "metadata": {},
   "source": [
    "# Проверка слов"
   ]
  },
  {
   "cell_type": "code",
   "execution_count": 99,
   "id": "aef812be-9c3c-4929-93c6-5b9f73b491e0",
   "metadata": {},
   "outputs": [
    {
     "data": {
      "text/plain": [
       "1532652"
      ]
     },
     "execution_count": 99,
     "metadata": {},
     "output_type": "execute_result"
    }
   ],
   "source": [
    "# https://github.com/danakt/russian-words\n",
    "ru_words = ''\n",
    "with open('russian.txt', 'r', encoding='WINDOWS-1251') as f:\n",
    "    ru_words = f.read()\n",
    "ru_words = ru_words.lower().split()\n",
    "len(ru_words)"
   ]
  },
  {
   "cell_type": "code",
   "execution_count": 20,
   "id": "7105d352-5a59-4fa8-9662-1b3a155d3a8a",
   "metadata": {},
   "outputs": [
    {
     "data": {
      "text/plain": [
       "(21050, 4493, 0.2134441805225653)"
      ]
     },
     "execution_count": 20,
     "metadata": {},
     "output_type": "execute_result"
    }
   ],
   "source": [
    "tokens = set(' '.join(df_pre['text']).split())\n",
    "\n",
    "wrong_words = set(list(tokens)) - set(ru_words)\n",
    "len(tokens), len(wrong_words), len(wrong_words)/len(tokens)"
   ]
  },
  {
   "cell_type": "markdown",
   "id": "64c7991e-0c3c-4970-80d9-89ecd288d084",
   "metadata": {},
   "source": [
    "# Токенизация"
   ]
  },
  {
   "cell_type": "code",
   "execution_count": 21,
   "id": "c3196597-ce5f-420a-9bc5-8e11535f5e4f",
   "metadata": {},
   "outputs": [
    {
     "name": "stdout",
     "output_type": "stream",
     "text": [
      "Количество токенов: 16458\n"
     ]
    }
   ],
   "source": [
    "unique_words = tokens - set(stop_list) - wrong_words\n",
    "tokens = {value: key for key, value in enumerate(unique_words, start=1)}\n",
    "print('Количество токенов:', len(tokens))"
   ]
  },
  {
   "cell_type": "code",
   "execution_count": 22,
   "id": "601dbe3b-fc10-4538-ac01-b8de077cb347",
   "metadata": {},
   "outputs": [],
   "source": [
    "with open('datasets/vocabulary.json', 'w') as f:\n",
    "    json.dump(tokens, f)"
   ]
  },
  {
   "cell_type": "code",
   "execution_count": 3,
   "id": "de252d4f-1280-4392-a59b-8e1627d18d01",
   "metadata": {},
   "outputs": [],
   "source": [
    "with open('datasets/vocabulary.json', 'r') as f:\n",
    "    tokens = json.load(f)"
   ]
  },
  {
   "cell_type": "code",
   "execution_count": 4,
   "id": "c1a46a94-3089-4f78-97a8-cd5841cb9d74",
   "metadata": {},
   "outputs": [],
   "source": [
    "def text2numbers(text, dict_): \n",
    "    text = text.split()\n",
    "    sequence = []\n",
    "\n",
    "    for i in text:\n",
    "        if i in dict_.keys():\n",
    "            sequence.append(dict_[i])\n",
    "\n",
    "    return sequence"
   ]
  },
  {
   "cell_type": "code",
   "execution_count": 5,
   "id": "44604c9a-0742-4f76-b74e-38ae6966b9dc",
   "metadata": {},
   "outputs": [],
   "source": [
    "def texts2tokens(row):\n",
    "    return [text2numbers(i, dict_=tokens) for i in row]"
   ]
  },
  {
   "cell_type": "code",
   "execution_count": 6,
   "id": "ceaceca0-b78d-4d66-a497-6958134c478f",
   "metadata": {},
   "outputs": [],
   "source": [
    "texts = texts2tokens(df_pre['text'])"
   ]
  },
  {
   "cell_type": "markdown",
   "id": "3a9b0c05-c903-4ce2-ba62-7739eced42b4",
   "metadata": {},
   "source": [
    "## Преобразовываем тексты к одной длине"
   ]
  },
  {
   "cell_type": "code",
   "execution_count": 10,
   "id": "68addc3c-391a-4d80-8846-cd11656164f1",
   "metadata": {},
   "outputs": [
    {
     "name": "stdout",
     "output_type": "stream",
     "text": [
      "Количество слов:\n",
      "Min: 0\n",
      "Max: 990\n",
      "Mean: 68.92682576193215\n",
      "Median: 50.0\n"
     ]
    }
   ],
   "source": [
    "text_len = [len(i) for i in texts]\n",
    "\n",
    "print('Количество слов:')\n",
    "print('Min:', np.min(text_len))\n",
    "print('Max:', np.max(text_len))\n",
    "print('Mean:', np.mean(text_len))\n",
    "print('Median:', np.median(text_len))"
   ]
  },
  {
   "cell_type": "code",
   "execution_count": 11,
   "id": "228c842d-abfd-4573-b47c-28cc54573753",
   "metadata": {},
   "outputs": [
    {
     "data": {
      "text/plain": [
       "Text(0.5, 1.0, 'Количество слов в предложениях')"
      ]
     },
     "execution_count": 11,
     "metadata": {},
     "output_type": "execute_result"
    },
    {
     "data": {
      "image/png": "[encoded data removed]",
      "text/plain": [
       "<Figure size 640x480 with 1 Axes>"
      ]
     },
     "metadata": {},
     "output_type": "display_data"
    }
   ],
   "source": [
    "plt.hist(text_len, bins=50)\n",
    "plt.title('Количество слов в предложениях')"
   ]
  },
  {
   "cell_type": "code",
   "execution_count": 12,
   "id": "8e045a9d-5953-43ce-bc4f-e0cfb1054748",
   "metadata": {},
   "outputs": [
    {
     "data": {
      "text/plain": [
       "2"
      ]
     },
     "execution_count": 12,
     "metadata": {},
     "output_type": "execute_result"
    }
   ],
   "source": [
    "sum([1 for i in texts if len(i) == 0])"
   ]
  },
  {
   "cell_type": "code",
   "execution_count": 7,
   "id": "e08d1f24-be68-48a2-befb-784c2499a9a5",
   "metadata": {},
   "outputs": [],
   "source": [
    "def set_text_len(texts, max_len):\n",
    "    array = np.zeros([len(texts), max_len])\n",
    "\n",
    "    i = 0\n",
    "    for value in texts:\n",
    "        tmp = max_len-len(value)\n",
    "        tmp = tmp if tmp > 0 else 0\n",
    "\n",
    "        text = np.concatenate((value[:max_len], np.zeros(tmp)))\n",
    "        array[i] = text\n",
    "        i+=1\n",
    "\n",
    "    return array "
   ]
  },
  {
   "cell_type": "code",
   "execution_count": 8,
   "id": "11e31c97-c243-4c03-a88f-4e19425e6206",
   "metadata": {},
   "outputs": [
    {
     "data": {
      "text/plain": [
       "(6956, 200)"
      ]
     },
     "execution_count": 8,
     "metadata": {},
     "output_type": "execute_result"
    }
   ],
   "source": [
    "max_len = 200\n",
    "texts_same_len = set_text_len(texts, max_len)\n",
    "\n",
    "texts_same_len.shape"
   ]
  },
  {
   "cell_type": "code",
   "execution_count": 31,
   "id": "35833623-fb56-48d3-9368-815754ad3ce8",
   "metadata": {},
   "outputs": [],
   "source": [
    "np.save('datasets/texts_same_len.npy', texts_same_len)"
   ]
  },
  {
   "cell_type": "code",
   "execution_count": 25,
   "id": "d71164b8-97c8-46a6-b182-792fa799895c",
   "metadata": {},
   "outputs": [],
   "source": [
    "texts_same_len = np.load('datasets/texts_same_len.npy')"
   ]
  },
  {
   "cell_type": "markdown",
   "id": "c937a3d8-11c2-4eaf-befb-5a0cadfbb60f",
   "metadata": {},
   "source": [
    "## Преобразование результирующей колонки"
   ]
  },
  {
   "cell_type": "code",
   "execution_count": 15,
   "id": "911045bd-f7fa-47dc-ba75-39abbe0503af",
   "metadata": {},
   "outputs": [
    {
     "data": {
      "text/plain": [
       "array([1, 2, 4, 5])"
      ]
     },
     "execution_count": 15,
     "metadata": {},
     "output_type": "execute_result"
    }
   ],
   "source": [
    "df_pre['score'].unique()"
   ]
  },
  {
   "cell_type": "code",
   "execution_count": 9,
   "id": "a57e2b3c-d848-40a6-bb08-4bc01e2a5c27",
   "metadata": {},
   "outputs": [],
   "source": [
    "def rules(row):\n",
    "    score = row['score']\n",
    "    new_score = -1\n",
    "\n",
    "    if score in [4, 5]:\n",
    "        new_score = 5 # Положительные\n",
    "    elif score in [1, 2]:\n",
    "        new_score = 1 # Отрицательные\n",
    "\n",
    "\n",
    "    row['score'] = new_score\n",
    "    return row\n",
    "\n",
    "def merge_categories(df):\n",
    "    return df.apply(rules, axis=1)"
   ]
  },
  {
   "cell_type": "code",
   "execution_count": 10,
   "id": "af4065dc-5cee-4f87-805f-5d6aa8e9b7b1",
   "metadata": {},
   "outputs": [],
   "source": [
    "df_pre = merge_categories(df_pre)"
   ]
  },
  {
   "cell_type": "code",
   "execution_count": 11,
   "id": "06ef751a-5819-47dc-848c-6baabde2dd41",
   "metadata": {},
   "outputs": [
    {
     "name": "stdout",
     "output_type": "stream",
     "text": [
      "Категории:\n",
      "[array([1, 5])]\n",
      "\n",
      "Отрицательные\t 1 [[1. 0.]]\n",
      "Положительные\t 5 [[0. 1.]]\n"
     ]
    }
   ],
   "source": [
    "score_enc = OneHotEncoder(handle_unknown='ignore')\n",
    "X = df_pre['score'].to_numpy().reshape(-1, 1)\n",
    "\n",
    "unique_items = np.unique(X).reshape(-1, 1)\n",
    "score_enc.fit(unique_items)\n",
    "\n",
    "print('Категории:', score_enc.categories_, sep='\\n')\n",
    "print()\n",
    "for i, desc in zip(score_enc.categories_[0], ['Отрицательные\\t', 'Положительные\\t']):\n",
    "    print(desc, i, score_enc.transform(np.array([i]).reshape(-1, 1)).toarray())"
   ]
  },
  {
   "cell_type": "code",
   "execution_count": 12,
   "id": "1e46c35a-0dcb-47f5-9852-439ab812608c",
   "metadata": {},
   "outputs": [],
   "source": [
    "def score_one_hot_encoder(row):\n",
    "    array = row.to_numpy().reshape(-1, 1)\n",
    "    return score_enc.transform(array).toarray()"
   ]
  },
  {
   "cell_type": "code",
   "execution_count": 13,
   "id": "998047f3-60ab-494e-a46d-f731ebfe0ab7",
   "metadata": {},
   "outputs": [],
   "source": [
    "score = score_one_hot_encoder(df_pre['score'])"
   ]
  },
  {
   "cell_type": "code",
   "execution_count": 38,
   "id": "6d2cf549-913b-4586-bb2d-32bc31bae5a1",
   "metadata": {},
   "outputs": [],
   "source": [
    "np.save('datasets/score.npy', score)"
   ]
  },
  {
   "cell_type": "code",
   "execution_count": 24,
   "id": "aecc7bf0-05cc-4b6e-95d5-5d997c87795c",
   "metadata": {},
   "outputs": [],
   "source": [
    "score = np.load('datasets/score.npy')"
   ]
  },
  {
   "cell_type": "markdown",
   "id": "5d3efd8c-98f8-4aba-b605-e95fdd1baf70",
   "metadata": {},
   "source": [
    "# Создание DataLoader"
   ]
  },
  {
   "cell_type": "code",
   "execution_count": 21,
   "id": "c2a79e3d-892a-4cd7-a5a9-c2f7de028920",
   "metadata": {},
   "outputs": [],
   "source": [
    "class TextDataset(Dataset):\n",
    "    def __init__(self, X, y):\n",
    "        self.X = X\n",
    "        self.y = y\n",
    "\n",
    "    def __len__(self):\n",
    "        return len(self.y)\n",
    "\n",
    "    def __getitem__(self, idx):\n",
    "        return torch.IntTensor(self.X[idx]), torch.IntTensor([self.y[idx]])"
   ]
  },
  {
   "cell_type": "code",
   "execution_count": 14,
   "id": "5a0712b0-4295-41ea-9e8a-4a132d1bf3c7",
   "metadata": {},
   "outputs": [
    {
     "data": {
      "text/plain": [
       "6956"
      ]
     },
     "execution_count": 14,
     "metadata": {},
     "output_type": "execute_result"
    }
   ],
   "source": [
    "len(score)"
   ]
  },
  {
   "cell_type": "code",
   "execution_count": 17,
   "id": "22eb4306-f9f0-4fe2-8431-2bf8c9967343",
   "metadata": {},
   "outputs": [
    {
     "data": {
      "text/plain": [
       "(5564, 1392)"
      ]
     },
     "execution_count": 17,
     "metadata": {},
     "output_type": "execute_result"
    }
   ],
   "source": [
    "X_train, X_test, y_train, y_test = train_test_split(texts_same_len, score, test_size=0.20, random_state=87)\n",
    "len(X_train), len(X_test)"
   ]
  },
  {
   "cell_type": "code",
   "execution_count": 53,
   "id": "d79ecfce-b4f6-4fdc-ada7-1494518338bd",
   "metadata": {},
   "outputs": [
    {
     "data": {
      "text/plain": [
       "347.5"
      ]
     },
     "execution_count": 53,
     "metadata": {},
     "output_type": "execute_result"
    }
   ],
   "source": [
    "1390/4"
   ]
  },
  {
   "cell_type": "code",
   "execution_count": 24,
   "id": "88d99548-ca03-45e3-bc8f-d92c185cd679",
   "metadata": {},
   "outputs": [],
   "source": [
    "batch_size = 350\n",
    "\n",
    "train = TextDataset(X_train, y_train)\n",
    "test = TextDataset(X_test, y_test)\n",
    "\n",
    "train_loader = DataLoader(train,  batch_size=batch_size, shuffle=True)\n",
    "test_loader = DataLoader(test, batch_size=batch_size, shuffle=True)"
   ]
  },
  {
   "cell_type": "code",
   "execution_count": 26,
   "id": "2a48d418-06bb-4c2b-a27a-c2a04a2168be",
   "metadata": {},
   "outputs": [
    {
     "data": {
      "text/plain": [
       "(torch.Size([200]), torch.Size([1, 2]), tensor([[0, 1]], dtype=torch.int32))"
      ]
     },
     "execution_count": 26,
     "metadata": {},
     "output_type": "execute_result"
    }
   ],
   "source": [
    "x, y = next(iter(train))\n",
    "x.shape, y.shape, y #, x"
   ]
  },
  {
   "cell_type": "code",
   "execution_count": 64,
   "id": "2b2a8795-90f4-4302-b6fd-3fae5a6a83eb",
   "metadata": {},
   "outputs": [
    {
     "data": {
      "text/plain": [
       "(torch.Size([350, 200]), torch.Size([350, 1, 2]))"
      ]
     },
     "execution_count": 64,
     "metadata": {},
     "output_type": "execute_result"
    }
   ],
   "source": [
    "x, y = next(iter(train_loader))\n",
    "x.shape, y.shape"
   ]
  },
  {
   "cell_type": "markdown",
   "id": "4ae4ce8a-c2a9-4f6a-b2ef-bf7089475b09",
   "metadata": {},
   "source": [
    "# Создание модели"
   ]
  },
  {
   "cell_type": "code",
   "execution_count": 95,
   "id": "cdf60bfe-e606-4d83-a597-269b5093dd60",
   "metadata": {},
   "outputs": [
    {
     "data": {
      "text/plain": [
       "tensor([[ 0.9233, -0.2279, -0.3224],\n",
       "        [ 1.4868,  0.8123,  0.2109],\n",
       "        [ 0.1834,  0.0880,  0.3074],\n",
       "        [ 0.9233, -0.2279, -0.3224]], grad_fn=<EmbeddingBackward0>)"
      ]
     },
     "execution_count": 95,
     "metadata": {},
     "output_type": "execute_result"
    }
   ],
   "source": [
    "e = Embedding(10, 3)\n",
    "e(torch.IntTensor([1, 2, 3, 1]))"
   ]
  },
  {
   "cell_type": "code",
   "execution_count": 4,
   "id": "bbe7b307-ab74-4ab2-b0a0-fb53c0bc3d6f",
   "metadata": {},
   "outputs": [],
   "source": [
    "class LSTM(nn.Module):\n",
    "    def __init__(self, input_size, embedding_dim, hidden_size, output_size, num_layers=1, l_dropout=0, dropout=0):\n",
    "        super(LSTM, self).__init__()\n",
    "        self.hidden_size = hidden_size\n",
    "        self.output_size = output_size\n",
    "        \n",
    "        self.embedding = Embedding(input_size, embedding_dim, padding_idx=0)\n",
    "        self.lstm = nn.LSTM(embedding_dim, hidden_size, num_layers=num_layers, batch_first=True, dropout=l_dropout)\n",
    "        self.dropout = nn.Dropout(dropout)\n",
    "        self.fc = Linear(hidden_size, output_size)\n",
    "        self.sig = nn.Sigmoid()\n",
    "\n",
    "    def forward(self, text):\n",
    "        embedded = self.embedding(text)\n",
    "        output, (hidden, cell) = self.lstm(embedded)\n",
    "        output = self.dropout(output)\n",
    "        output = self.fc(output[:, -1, :])\n",
    "        output = self.sig(output).reshape(-1, 1, self.output_size)\n",
    "       \n",
    "        return output"
   ]
  },
  {
   "cell_type": "code",
   "execution_count": 28,
   "id": "e051e929-f47b-49ff-a4d4-720761f4a95f",
   "metadata": {},
   "outputs": [],
   "source": [
    "def accuracy(model, data_loader, device):\n",
    "    correct = 0\n",
    "    total_loss = 0\n",
    "    \n",
    "    with torch.no_grad():\n",
    "        for i, (X, y) in enumerate(data_loader):\n",
    "            X = X.to(device)\n",
    "            y = y.float().to(device)\n",
    "            outputs = model(X)\n",
    "            total_loss += loss_fn(outputs, y)\n",
    "            for pred, target in zip(outputs, y):\n",
    "                correct += pred.argmax() == target.argmax()\n",
    "                \n",
    "        total = len(data_loader) * data_loader.batch_size\n",
    "        # print(total, correct)\n",
    "        # print('Loss', total_loss)\n",
    "    return correct.float()/total * 100, total_loss"
   ]
  },
  {
   "cell_type": "code",
   "execution_count": 29,
   "id": "999094b2-d7be-42eb-a33a-c5ed2c0210f6",
   "metadata": {},
   "outputs": [],
   "source": [
    "def train(model, epochs = 10, prefix='e'):\n",
    "    start = time.time()\n",
    "    acc_score = {'train': [], 'test': [], 'train_loss':[], 'test_loss': []}\n",
    "    \n",
    "    for epoch in range(epochs):\n",
    "        model.train()\n",
    "        for i, data in enumerate(tqdm(train_loader)):\n",
    "            text, labels = data\n",
    "            text = text.to(device)\n",
    "            labels = labels.to(device)\n",
    "    \n",
    "        \n",
    "            optimizer.zero_grad()\n",
    "            outputs = model(text)\n",
    "            loss = loss_fn(outputs, labels.float())\n",
    "            loss.backward()\n",
    "            optimizer.step()\n",
    "\n",
    "        torch.save(model, f'models/{prefix}{epoch}_lstm_3.pt')\n",
    "    \n",
    "        with torch.set_grad_enabled(False):\n",
    "            train_acc, train_loss = accuracy(model, train_loader, device)\n",
    "            test_acc, test_loss = accuracy(model, test_loader, device)\n",
    "            \n",
    "            acc_score['train'].append(train_acc)\n",
    "            acc_score['test'].append(test_acc)\n",
    "            acc_score['train_loss'].append(train_loss)\n",
    "            acc_score['test_loss'].append(test_loss)\n",
    "\n",
    "            tqdm.write(f'Epoch: {epoch}')\n",
    "            tqdm.write(f'Train accuracy: {train_acc:.2f}% Loss: {train_loss:.2f}')\n",
    "            tqdm.write(f'Test accuracy: {test_acc:.2f}% Loss: {test_loss:.2f}')\n",
    "   \n",
    "        \n",
    "    print(f'Total time: {(time.time() - start)/60:.2f} min')\n",
    "    print(f'Test accuracy: {accuracy(model, test_loader, device)[0]:.2f}%')\n",
    "\n",
    "    return acc_score"
   ]
  },
  {
   "cell_type": "code",
   "execution_count": 30,
   "id": "8b34c201-684c-4132-97c6-5e67345ac873",
   "metadata": {},
   "outputs": [],
   "source": [
    "def to_list(tensors):\n",
    "    return [i.cpu().item() for i in tensors]"
   ]
  },
  {
   "cell_type": "code",
   "execution_count": 31,
   "id": "a986a6f5-b908-49e8-8bb0-68dc2c82fe5b",
   "metadata": {},
   "outputs": [],
   "source": [
    "def learn_chart(score):\n",
    "    data = {key: to_list(value) for key, value in score.items()}\n",
    "\n",
    "    fig, ax = plt.subplots(1, 2)\n",
    "    fig.tight_layout()\n",
    "    \n",
    "    ax[0].plot(data['train'], label = 'Train')\n",
    "    ax[0].plot(data['test'], label = 'Test')\n",
    "    ax[0].set_title(\"Accuracy\")\n",
    "    ax[0].legend()\n",
    "    ax[0].grid()\n",
    "    \n",
    "    ax[1].plot(data['train_loss'], label = 'Train')\n",
    "    ax[1].plot(data['test_loss'], label = 'Test')\n",
    "    ax[1].set_title(\"Loss\")\n",
    "    plt.legend()\n",
    "    plt.grid()"
   ]
  },
  {
   "cell_type": "code",
   "execution_count": null,
   "id": "50b8d4be-33c8-49aa-a86b-9c941d46c724",
   "metadata": {},
   "outputs": [],
   "source": []
  },
  {
   "cell_type": "code",
   "execution_count": 67,
   "id": "30c0130c-f975-4316-9744-7420d5d352ff",
   "metadata": {},
   "outputs": [],
   "source": [
    "torch.cuda.empty_cache()"
   ]
  },
  {
   "cell_type": "markdown",
   "id": "ceb5739d-5614-475a-9e02-5f1a38e05cf4",
   "metadata": {},
   "source": [
    "## 1 model"
   ]
  },
  {
   "cell_type": "code",
   "execution_count": 32,
   "id": "c3870060-8a4f-4146-8361-bf753a510007",
   "metadata": {},
   "outputs": [
    {
     "name": "stdout",
     "output_type": "stream",
     "text": [
      "LSTM(\n",
      "  (embedding): Embedding(16459, 64, padding_idx=0)\n",
      "  (lstm): LSTM(64, 128, batch_first=True)\n",
      "  (fc): Linear(in_features=128, out_features=2, bias=True)\n",
      "  (dropout): Dropout(p=0, inplace=False)\n",
      "  (sig): Sigmoid()\n",
      ")\n"
     ]
    }
   ],
   "source": [
    "model = LSTM(input_size=len(tokens) + 1,\n",
    "            embedding_dim=64,\n",
    "            hidden_size=128,\n",
    "            output_size=2,\n",
    "            num_layers=1,\n",
    "            l_dropout=0,\n",
    "            dropout=0\n",
    ")\n",
    "\n",
    "model = model.to(device)\n",
    "optimizer = torch.optim.Adam(model.parameters(), lr=0.001)\n",
    "loss_fn = nn.BCELoss()\n",
    "\n",
    "print(model)"
   ]
  },
  {
   "cell_type": "code",
   "execution_count": 33,
   "id": "a1e46eff-798d-40e0-b4d2-84d9be1c9bd2",
   "metadata": {
    "scrolled": true
   },
   "outputs": [
    {
     "name": "stderr",
     "output_type": "stream",
     "text": [
      "100%|███████████████████████████████████████████| 16/16 [00:01<00:00, 11.37it/s]\n"
     ]
    },
    {
     "name": "stdout",
     "output_type": "stream",
     "text": [
      "Epoch: 0\n",
      "Train accuracy: 52.11% Loss: 11.07\n",
      "Test accuracy: 50.43% Loss: 2.77\n"
     ]
    },
    {
     "name": "stderr",
     "output_type": "stream",
     "text": [
      "100%|███████████████████████████████████████████| 16/16 [00:00<00:00, 18.46it/s]\n"
     ]
    },
    {
     "name": "stdout",
     "output_type": "stream",
     "text": [
      "Epoch: 1\n",
      "Train accuracy: 52.64% Loss: 11.01\n",
      "Test accuracy: 51.21% Loss: 2.76\n"
     ]
    },
    {
     "name": "stderr",
     "output_type": "stream",
     "text": [
      "100%|███████████████████████████████████████████| 16/16 [00:00<00:00, 17.98it/s]\n"
     ]
    },
    {
     "name": "stdout",
     "output_type": "stream",
     "text": [
      "Epoch: 2\n",
      "Train accuracy: 53.00% Loss: 10.97\n",
      "Test accuracy: 51.64% Loss: 2.75\n"
     ]
    },
    {
     "name": "stderr",
     "output_type": "stream",
     "text": [
      "100%|███████████████████████████████████████████| 16/16 [00:00<00:00, 17.98it/s]\n"
     ]
    },
    {
     "name": "stdout",
     "output_type": "stream",
     "text": [
      "Epoch: 3\n",
      "Train accuracy: 52.64% Loss: 11.01\n",
      "Test accuracy: 51.07% Loss: 2.76\n"
     ]
    },
    {
     "name": "stderr",
     "output_type": "stream",
     "text": [
      "100%|███████████████████████████████████████████| 16/16 [00:00<00:00, 17.79it/s]\n"
     ]
    },
    {
     "name": "stdout",
     "output_type": "stream",
     "text": [
      "Epoch: 4\n",
      "Train accuracy: 52.70% Loss: 11.01\n",
      "Test accuracy: 51.07% Loss: 2.76\n"
     ]
    },
    {
     "name": "stderr",
     "output_type": "stream",
     "text": [
      "100%|███████████████████████████████████████████| 16/16 [00:00<00:00, 17.45it/s]\n"
     ]
    },
    {
     "name": "stdout",
     "output_type": "stream",
     "text": [
      "Epoch: 5\n",
      "Train accuracy: 52.68% Loss: 11.00\n",
      "Test accuracy: 51.29% Loss: 2.76\n"
     ]
    },
    {
     "name": "stderr",
     "output_type": "stream",
     "text": [
      "100%|███████████████████████████████████████████| 16/16 [00:00<00:00, 18.34it/s]\n"
     ]
    },
    {
     "name": "stdout",
     "output_type": "stream",
     "text": [
      "Epoch: 6\n",
      "Train accuracy: 52.77% Loss: 10.98\n",
      "Test accuracy: 51.29% Loss: 2.76\n"
     ]
    },
    {
     "name": "stderr",
     "output_type": "stream",
     "text": [
      "100%|███████████████████████████████████████████| 16/16 [00:00<00:00, 18.04it/s]\n"
     ]
    },
    {
     "name": "stdout",
     "output_type": "stream",
     "text": [
      "Epoch: 7\n",
      "Train accuracy: 52.82% Loss: 10.96\n",
      "Test accuracy: 51.43% Loss: 2.75\n"
     ]
    },
    {
     "name": "stderr",
     "output_type": "stream",
     "text": [
      "100%|███████████████████████████████████████████| 16/16 [00:00<00:00, 18.06it/s]\n"
     ]
    },
    {
     "name": "stdout",
     "output_type": "stream",
     "text": [
      "Epoch: 8\n",
      "Train accuracy: 52.98% Loss: 10.93\n",
      "Test accuracy: 51.71% Loss: 2.75\n"
     ]
    },
    {
     "name": "stderr",
     "output_type": "stream",
     "text": [
      "100%|███████████████████████████████████████████| 16/16 [00:00<00:00, 18.08it/s]\n"
     ]
    },
    {
     "name": "stdout",
     "output_type": "stream",
     "text": [
      "Epoch: 9\n",
      "Train accuracy: 53.80% Loss: 10.86\n",
      "Test accuracy: 52.64% Loss: 2.73\n"
     ]
    },
    {
     "name": "stderr",
     "output_type": "stream",
     "text": [
      "100%|███████████████████████████████████████████| 16/16 [00:00<00:00, 18.09it/s]\n"
     ]
    },
    {
     "name": "stdout",
     "output_type": "stream",
     "text": [
      "Epoch: 10\n",
      "Train accuracy: 53.43% Loss: 10.89\n",
      "Test accuracy: 51.57% Loss: 2.74\n"
     ]
    },
    {
     "name": "stderr",
     "output_type": "stream",
     "text": [
      "100%|███████████████████████████████████████████| 16/16 [00:00<00:00, 16.41it/s]\n"
     ]
    },
    {
     "name": "stdout",
     "output_type": "stream",
     "text": [
      "Epoch: 11\n",
      "Train accuracy: 53.38% Loss: 10.89\n",
      "Test accuracy: 51.57% Loss: 2.74\n"
     ]
    },
    {
     "name": "stderr",
     "output_type": "stream",
     "text": [
      "100%|███████████████████████████████████████████| 16/16 [00:00<00:00, 17.69it/s]\n"
     ]
    },
    {
     "name": "stdout",
     "output_type": "stream",
     "text": [
      "Epoch: 12\n",
      "Train accuracy: 53.55% Loss: 10.87\n",
      "Test accuracy: 51.57% Loss: 2.74\n"
     ]
    },
    {
     "name": "stderr",
     "output_type": "stream",
     "text": [
      "100%|███████████████████████████████████████████| 16/16 [00:00<00:00, 17.69it/s]\n"
     ]
    },
    {
     "name": "stdout",
     "output_type": "stream",
     "text": [
      "Epoch: 13\n",
      "Train accuracy: 53.73% Loss: 10.84\n",
      "Test accuracy: 52.07% Loss: 2.73\n"
     ]
    },
    {
     "name": "stderr",
     "output_type": "stream",
     "text": [
      "100%|███████████████████████████████████████████| 16/16 [00:00<00:00, 18.26it/s]\n"
     ]
    },
    {
     "name": "stdout",
     "output_type": "stream",
     "text": [
      "Epoch: 14\n",
      "Train accuracy: 54.20% Loss: 10.79\n",
      "Test accuracy: 52.86% Loss: 2.72\n"
     ]
    },
    {
     "name": "stderr",
     "output_type": "stream",
     "text": [
      "100%|███████████████████████████████████████████| 16/16 [00:00<00:00, 18.52it/s]\n"
     ]
    },
    {
     "name": "stdout",
     "output_type": "stream",
     "text": [
      "Epoch: 15\n",
      "Train accuracy: 55.14% Loss: 10.74\n",
      "Test accuracy: 54.00% Loss: 2.71\n"
     ]
    },
    {
     "name": "stderr",
     "output_type": "stream",
     "text": [
      "100%|███████████████████████████████████████████| 16/16 [00:00<00:00, 18.01it/s]\n"
     ]
    },
    {
     "name": "stdout",
     "output_type": "stream",
     "text": [
      "Epoch: 16\n",
      "Train accuracy: 52.95% Loss: 10.89\n",
      "Test accuracy: 50.79% Loss: 2.76\n"
     ]
    },
    {
     "name": "stderr",
     "output_type": "stream",
     "text": [
      "100%|███████████████████████████████████████████| 16/16 [00:00<00:00, 17.42it/s]\n"
     ]
    },
    {
     "name": "stdout",
     "output_type": "stream",
     "text": [
      "Epoch: 17\n",
      "Train accuracy: 52.93% Loss: 10.86\n",
      "Test accuracy: 50.79% Loss: 2.75\n"
     ]
    },
    {
     "name": "stderr",
     "output_type": "stream",
     "text": [
      "100%|███████████████████████████████████████████| 16/16 [00:00<00:00, 18.67it/s]\n"
     ]
    },
    {
     "name": "stdout",
     "output_type": "stream",
     "text": [
      "Epoch: 18\n",
      "Train accuracy: 52.96% Loss: 10.84\n",
      "Test accuracy: 50.93% Loss: 2.75\n"
     ]
    },
    {
     "name": "stderr",
     "output_type": "stream",
     "text": [
      "100%|███████████████████████████████████████████| 16/16 [00:00<00:00, 17.89it/s]\n"
     ]
    },
    {
     "name": "stdout",
     "output_type": "stream",
     "text": [
      "Epoch: 19\n",
      "Train accuracy: 53.00% Loss: 10.81\n",
      "Test accuracy: 51.00% Loss: 2.74\n"
     ]
    },
    {
     "name": "stderr",
     "output_type": "stream",
     "text": [
      "100%|███████████████████████████████████████████| 16/16 [00:00<00:00, 18.63it/s]\n"
     ]
    },
    {
     "name": "stdout",
     "output_type": "stream",
     "text": [
      "Epoch: 20\n",
      "Train accuracy: 53.07% Loss: 10.78\n",
      "Test accuracy: 51.21% Loss: 2.74\n"
     ]
    },
    {
     "name": "stderr",
     "output_type": "stream",
     "text": [
      "100%|███████████████████████████████████████████| 16/16 [00:00<00:00, 18.01it/s]\n"
     ]
    },
    {
     "name": "stdout",
     "output_type": "stream",
     "text": [
      "Epoch: 21\n",
      "Train accuracy: 53.16% Loss: 10.75\n",
      "Test accuracy: 51.29% Loss: 2.73\n"
     ]
    },
    {
     "name": "stderr",
     "output_type": "stream",
     "text": [
      "100%|███████████████████████████████████████████| 16/16 [00:00<00:00, 17.96it/s]\n"
     ]
    },
    {
     "name": "stdout",
     "output_type": "stream",
     "text": [
      "Epoch: 22\n",
      "Train accuracy: 53.66% Loss: 10.71\n",
      "Test accuracy: 51.57% Loss: 2.72\n"
     ]
    },
    {
     "name": "stderr",
     "output_type": "stream",
     "text": [
      "100%|███████████████████████████████████████████| 16/16 [00:00<00:00, 17.91it/s]\n"
     ]
    },
    {
     "name": "stdout",
     "output_type": "stream",
     "text": [
      "Epoch: 23\n",
      "Train accuracy: 54.93% Loss: 10.61\n",
      "Test accuracy: 53.50% Loss: 2.70\n"
     ]
    },
    {
     "name": "stderr",
     "output_type": "stream",
     "text": [
      "100%|███████████████████████████████████████████| 16/16 [00:00<00:00, 17.93it/s]\n"
     ]
    },
    {
     "name": "stdout",
     "output_type": "stream",
     "text": [
      "Epoch: 24\n",
      "Train accuracy: 53.09% Loss: 10.79\n",
      "Test accuracy: 50.79% Loss: 2.76\n"
     ]
    },
    {
     "name": "stderr",
     "output_type": "stream",
     "text": [
      "100%|███████████████████████████████████████████| 16/16 [00:00<00:00, 17.95it/s]\n"
     ]
    },
    {
     "name": "stdout",
     "output_type": "stream",
     "text": [
      "Epoch: 25\n",
      "Train accuracy: 53.09% Loss: 10.76\n",
      "Test accuracy: 50.93% Loss: 2.75\n"
     ]
    },
    {
     "name": "stderr",
     "output_type": "stream",
     "text": [
      "100%|███████████████████████████████████████████| 16/16 [00:00<00:00, 17.69it/s]\n"
     ]
    },
    {
     "name": "stdout",
     "output_type": "stream",
     "text": [
      "Epoch: 26\n",
      "Train accuracy: 53.16% Loss: 10.74\n",
      "Test accuracy: 51.07% Loss: 2.74\n"
     ]
    },
    {
     "name": "stderr",
     "output_type": "stream",
     "text": [
      "100%|███████████████████████████████████████████| 16/16 [00:00<00:00, 17.68it/s]\n"
     ]
    },
    {
     "name": "stdout",
     "output_type": "stream",
     "text": [
      "Epoch: 27\n",
      "Train accuracy: 53.18% Loss: 10.72\n",
      "Test accuracy: 51.14% Loss: 2.74\n"
     ]
    },
    {
     "name": "stderr",
     "output_type": "stream",
     "text": [
      "100%|███████████████████████████████████████████| 16/16 [00:00<00:00, 17.98it/s]\n"
     ]
    },
    {
     "name": "stdout",
     "output_type": "stream",
     "text": [
      "Epoch: 28\n",
      "Train accuracy: 53.21% Loss: 10.71\n",
      "Test accuracy: 51.21% Loss: 2.73\n"
     ]
    },
    {
     "name": "stderr",
     "output_type": "stream",
     "text": [
      "100%|███████████████████████████████████████████| 16/16 [00:00<00:00, 17.84it/s]\n"
     ]
    },
    {
     "name": "stdout",
     "output_type": "stream",
     "text": [
      "Epoch: 29\n",
      "Train accuracy: 53.34% Loss: 10.69\n",
      "Test accuracy: 51.21% Loss: 2.73\n"
     ]
    },
    {
     "name": "stderr",
     "output_type": "stream",
     "text": [
      "100%|███████████████████████████████████████████| 16/16 [00:00<00:00, 17.83it/s]\n"
     ]
    },
    {
     "name": "stdout",
     "output_type": "stream",
     "text": [
      "Epoch: 30\n",
      "Train accuracy: 53.46% Loss: 10.68\n",
      "Test accuracy: 51.43% Loss: 2.73\n"
     ]
    },
    {
     "name": "stderr",
     "output_type": "stream",
     "text": [
      "100%|███████████████████████████████████████████| 16/16 [00:00<00:00, 17.72it/s]\n"
     ]
    },
    {
     "name": "stdout",
     "output_type": "stream",
     "text": [
      "Epoch: 31\n",
      "Train accuracy: 53.71% Loss: 10.65\n",
      "Test accuracy: 51.43% Loss: 2.72\n"
     ]
    },
    {
     "name": "stderr",
     "output_type": "stream",
     "text": [
      "100%|███████████████████████████████████████████| 16/16 [00:00<00:00, 17.52it/s]\n"
     ]
    },
    {
     "name": "stdout",
     "output_type": "stream",
     "text": [
      "Epoch: 32\n",
      "Train accuracy: 54.11% Loss: 10.61\n",
      "Test accuracy: 51.79% Loss: 2.72\n"
     ]
    },
    {
     "name": "stderr",
     "output_type": "stream",
     "text": [
      "100%|███████████████████████████████████████████| 16/16 [00:00<00:00, 17.33it/s]\n"
     ]
    },
    {
     "name": "stdout",
     "output_type": "stream",
     "text": [
      "Epoch: 33\n",
      "Train accuracy: 57.38% Loss: 10.37\n",
      "Test accuracy: 56.00% Loss: 2.66\n"
     ]
    },
    {
     "name": "stderr",
     "output_type": "stream",
     "text": [
      "100%|███████████████████████████████████████████| 16/16 [00:00<00:00, 17.64it/s]\n"
     ]
    },
    {
     "name": "stdout",
     "output_type": "stream",
     "text": [
      "Epoch: 34\n",
      "Train accuracy: 56.27% Loss: 10.41\n",
      "Test accuracy: 55.14% Loss: 2.68\n"
     ]
    },
    {
     "name": "stderr",
     "output_type": "stream",
     "text": [
      "100%|███████████████████████████████████████████| 16/16 [00:00<00:00, 17.85it/s]\n"
     ]
    },
    {
     "name": "stdout",
     "output_type": "stream",
     "text": [
      "Epoch: 35\n",
      "Train accuracy: 56.64% Loss: 10.34\n",
      "Test accuracy: 54.93% Loss: 2.65\n"
     ]
    },
    {
     "name": "stderr",
     "output_type": "stream",
     "text": [
      "100%|███████████████████████████████████████████| 16/16 [00:00<00:00, 17.87it/s]\n"
     ]
    },
    {
     "name": "stdout",
     "output_type": "stream",
     "text": [
      "Epoch: 36\n",
      "Train accuracy: 53.73% Loss: 10.70\n",
      "Test accuracy: 51.50% Loss: 2.74\n"
     ]
    },
    {
     "name": "stderr",
     "output_type": "stream",
     "text": [
      "100%|███████████████████████████████████████████| 16/16 [00:00<00:00, 17.85it/s]\n"
     ]
    },
    {
     "name": "stdout",
     "output_type": "stream",
     "text": [
      "Epoch: 37\n",
      "Train accuracy: 53.25% Loss: 10.73\n",
      "Test accuracy: 51.21% Loss: 2.75\n"
     ]
    },
    {
     "name": "stderr",
     "output_type": "stream",
     "text": [
      "100%|███████████████████████████████████████████| 16/16 [00:00<00:00, 17.91it/s]\n"
     ]
    },
    {
     "name": "stdout",
     "output_type": "stream",
     "text": [
      "Epoch: 38\n",
      "Train accuracy: 53.30% Loss: 10.71\n",
      "Test accuracy: 51.29% Loss: 2.74\n"
     ]
    },
    {
     "name": "stderr",
     "output_type": "stream",
     "text": [
      "100%|███████████████████████████████████████████| 16/16 [00:00<00:00, 17.72it/s]\n"
     ]
    },
    {
     "name": "stdout",
     "output_type": "stream",
     "text": [
      "Epoch: 39\n",
      "Train accuracy: 53.48% Loss: 10.68\n",
      "Test accuracy: 51.50% Loss: 2.73\n"
     ]
    },
    {
     "name": "stderr",
     "output_type": "stream",
     "text": [
      "100%|███████████████████████████████████████████| 16/16 [00:00<00:00, 16.96it/s]\n"
     ]
    },
    {
     "name": "stdout",
     "output_type": "stream",
     "text": [
      "Epoch: 40\n",
      "Train accuracy: 53.66% Loss: 10.66\n",
      "Test accuracy: 51.50% Loss: 2.73\n"
     ]
    },
    {
     "name": "stderr",
     "output_type": "stream",
     "text": [
      "100%|███████████████████████████████████████████| 16/16 [00:00<00:00, 17.10it/s]\n"
     ]
    },
    {
     "name": "stdout",
     "output_type": "stream",
     "text": [
      "Epoch: 41\n",
      "Train accuracy: 54.02% Loss: 10.63\n",
      "Test accuracy: 51.93% Loss: 2.72\n"
     ]
    },
    {
     "name": "stderr",
     "output_type": "stream",
     "text": [
      "100%|███████████████████████████████████████████| 16/16 [00:00<00:00, 17.77it/s]\n"
     ]
    },
    {
     "name": "stdout",
     "output_type": "stream",
     "text": [
      "Epoch: 42\n",
      "Train accuracy: 54.55% Loss: 10.57\n",
      "Test accuracy: 52.50% Loss: 2.70\n"
     ]
    },
    {
     "name": "stderr",
     "output_type": "stream",
     "text": [
      "100%|███████████████████████████████████████████| 16/16 [00:00<00:00, 17.82it/s]\n"
     ]
    },
    {
     "name": "stdout",
     "output_type": "stream",
     "text": [
      "Epoch: 43\n",
      "Train accuracy: 57.62% Loss: 10.33\n",
      "Test accuracy: 56.50% Loss: 2.65\n"
     ]
    },
    {
     "name": "stderr",
     "output_type": "stream",
     "text": [
      "100%|███████████████████████████████████████████| 16/16 [00:00<00:00, 17.72it/s]\n"
     ]
    },
    {
     "name": "stdout",
     "output_type": "stream",
     "text": [
      "Epoch: 44\n",
      "Train accuracy: 73.71% Loss: 8.75\n",
      "Test accuracy: 72.50% Loss: 2.30\n"
     ]
    },
    {
     "name": "stderr",
     "output_type": "stream",
     "text": [
      "100%|███████████████████████████████████████████| 16/16 [00:00<00:00, 17.63it/s]\n"
     ]
    },
    {
     "name": "stdout",
     "output_type": "stream",
     "text": [
      "Epoch: 45\n",
      "Train accuracy: 80.21% Loss: 7.20\n",
      "Test accuracy: 79.21% Loss: 1.92\n"
     ]
    },
    {
     "name": "stderr",
     "output_type": "stream",
     "text": [
      "100%|███████████████████████████████████████████| 16/16 [00:00<00:00, 17.56it/s]\n"
     ]
    },
    {
     "name": "stdout",
     "output_type": "stream",
     "text": [
      "Epoch: 46\n",
      "Train accuracy: 86.80% Loss: 5.34\n",
      "Test accuracy: 84.00% Loss: 1.60\n"
     ]
    },
    {
     "name": "stderr",
     "output_type": "stream",
     "text": [
      "100%|███████████████████████████████████████████| 16/16 [00:00<00:00, 17.60it/s]\n"
     ]
    },
    {
     "name": "stdout",
     "output_type": "stream",
     "text": [
      "Epoch: 47\n",
      "Train accuracy: 84.91% Loss: 5.63\n",
      "Test accuracy: 83.86% Loss: 1.57\n"
     ]
    },
    {
     "name": "stderr",
     "output_type": "stream",
     "text": [
      "100%|███████████████████████████████████████████| 16/16 [00:00<00:00, 17.57it/s]\n"
     ]
    },
    {
     "name": "stdout",
     "output_type": "stream",
     "text": [
      "Epoch: 48\n",
      "Train accuracy: 89.64% Loss: 4.67\n",
      "Test accuracy: 86.07% Loss: 1.43\n"
     ]
    },
    {
     "name": "stderr",
     "output_type": "stream",
     "text": [
      "100%|███████████████████████████████████████████| 16/16 [00:00<00:00, 17.60it/s]\n"
     ]
    },
    {
     "name": "stdout",
     "output_type": "stream",
     "text": [
      "Epoch: 49\n",
      "Train accuracy: 80.21% Loss: 7.42\n",
      "Test accuracy: 76.36% Loss: 2.03\n"
     ]
    },
    {
     "name": "stderr",
     "output_type": "stream",
     "text": [
      "100%|███████████████████████████████████████████| 16/16 [00:00<00:00, 17.58it/s]\n"
     ]
    },
    {
     "name": "stdout",
     "output_type": "stream",
     "text": [
      "Epoch: 50\n",
      "Train accuracy: 88.50% Loss: 5.71\n",
      "Test accuracy: 85.07% Loss: 1.66\n"
     ]
    },
    {
     "name": "stderr",
     "output_type": "stream",
     "text": [
      "100%|███████████████████████████████████████████| 16/16 [00:00<00:00, 17.56it/s]\n"
     ]
    },
    {
     "name": "stdout",
     "output_type": "stream",
     "text": [
      "Epoch: 51\n",
      "Train accuracy: 90.75% Loss: 4.13\n",
      "Test accuracy: 87.64% Loss: 1.36\n"
     ]
    },
    {
     "name": "stderr",
     "output_type": "stream",
     "text": [
      "100%|███████████████████████████████████████████| 16/16 [00:00<00:00, 17.61it/s]\n"
     ]
    },
    {
     "name": "stdout",
     "output_type": "stream",
     "text": [
      "Epoch: 52\n",
      "Train accuracy: 92.09% Loss: 3.68\n",
      "Test accuracy: 88.57% Loss: 1.32\n"
     ]
    },
    {
     "name": "stderr",
     "output_type": "stream",
     "text": [
      "100%|███████████████████████████████████████████| 16/16 [00:00<00:00, 17.57it/s]\n"
     ]
    },
    {
     "name": "stdout",
     "output_type": "stream",
     "text": [
      "Epoch: 53\n",
      "Train accuracy: 92.20% Loss: 3.64\n",
      "Test accuracy: 88.29% Loss: 1.36\n"
     ]
    },
    {
     "name": "stderr",
     "output_type": "stream",
     "text": [
      "100%|███████████████████████████████████████████| 16/16 [00:00<00:00, 17.60it/s]\n"
     ]
    },
    {
     "name": "stdout",
     "output_type": "stream",
     "text": [
      "Epoch: 54\n",
      "Train accuracy: 92.61% Loss: 3.39\n",
      "Test accuracy: 88.93% Loss: 1.32\n"
     ]
    },
    {
     "name": "stderr",
     "output_type": "stream",
     "text": [
      "100%|███████████████████████████████████████████| 16/16 [00:00<00:00, 17.52it/s]\n"
     ]
    },
    {
     "name": "stdout",
     "output_type": "stream",
     "text": [
      "Epoch: 55\n",
      "Train accuracy: 92.71% Loss: 3.31\n",
      "Test accuracy: 89.29% Loss: 1.27\n"
     ]
    },
    {
     "name": "stderr",
     "output_type": "stream",
     "text": [
      "100%|███████████████████████████████████████████| 16/16 [00:00<00:00, 17.69it/s]\n"
     ]
    },
    {
     "name": "stdout",
     "output_type": "stream",
     "text": [
      "Epoch: 56\n",
      "Train accuracy: 93.09% Loss: 3.14\n",
      "Test accuracy: 89.21% Loss: 1.31\n"
     ]
    },
    {
     "name": "stderr",
     "output_type": "stream",
     "text": [
      "100%|███████████████████████████████████████████| 16/16 [00:00<00:00, 17.62it/s]\n"
     ]
    },
    {
     "name": "stdout",
     "output_type": "stream",
     "text": [
      "Epoch: 57\n",
      "Train accuracy: 93.29% Loss: 3.04\n",
      "Test accuracy: 89.50% Loss: 1.27\n"
     ]
    },
    {
     "name": "stderr",
     "output_type": "stream",
     "text": [
      "100%|███████████████████████████████████████████| 16/16 [00:00<00:00, 17.58it/s]\n"
     ]
    },
    {
     "name": "stdout",
     "output_type": "stream",
     "text": [
      "Epoch: 58\n",
      "Train accuracy: 93.46% Loss: 3.09\n",
      "Test accuracy: 89.36% Loss: 1.31\n"
     ]
    },
    {
     "name": "stderr",
     "output_type": "stream",
     "text": [
      "100%|███████████████████████████████████████████| 16/16 [00:00<00:00, 17.61it/s]\n"
     ]
    },
    {
     "name": "stdout",
     "output_type": "stream",
     "text": [
      "Epoch: 59\n",
      "Train accuracy: 93.62% Loss: 2.88\n",
      "Test accuracy: 89.79% Loss: 1.31\n"
     ]
    },
    {
     "name": "stderr",
     "output_type": "stream",
     "text": [
      "100%|███████████████████████████████████████████| 16/16 [00:00<00:00, 17.52it/s]\n"
     ]
    },
    {
     "name": "stdout",
     "output_type": "stream",
     "text": [
      "Epoch: 60\n",
      "Train accuracy: 93.38% Loss: 2.90\n",
      "Test accuracy: 89.21% Loss: 1.35\n"
     ]
    },
    {
     "name": "stderr",
     "output_type": "stream",
     "text": [
      "100%|███████████████████████████████████████████| 16/16 [00:00<00:00, 17.52it/s]\n"
     ]
    },
    {
     "name": "stdout",
     "output_type": "stream",
     "text": [
      "Epoch: 61\n",
      "Train accuracy: 93.91% Loss: 2.74\n",
      "Test accuracy: 90.07% Loss: 1.35\n"
     ]
    },
    {
     "name": "stderr",
     "output_type": "stream",
     "text": [
      "100%|███████████████████████████████████████████| 16/16 [00:00<00:00, 17.64it/s]\n"
     ]
    },
    {
     "name": "stdout",
     "output_type": "stream",
     "text": [
      "Epoch: 62\n",
      "Train accuracy: 94.54% Loss: 2.77\n",
      "Test accuracy: 89.57% Loss: 1.40\n"
     ]
    },
    {
     "name": "stderr",
     "output_type": "stream",
     "text": [
      "100%|███████████████████████████████████████████| 16/16 [00:00<00:00, 17.60it/s]\n"
     ]
    },
    {
     "name": "stdout",
     "output_type": "stream",
     "text": [
      "Epoch: 63\n",
      "Train accuracy: 92.91% Loss: 3.39\n",
      "Test accuracy: 88.71% Loss: 1.34\n"
     ]
    },
    {
     "name": "stderr",
     "output_type": "stream",
     "text": [
      "100%|███████████████████████████████████████████| 16/16 [00:00<00:00, 17.60it/s]\n"
     ]
    },
    {
     "name": "stdout",
     "output_type": "stream",
     "text": [
      "Epoch: 64\n",
      "Train accuracy: 94.29% Loss: 2.56\n",
      "Test accuracy: 89.71% Loss: 1.32\n"
     ]
    },
    {
     "name": "stderr",
     "output_type": "stream",
     "text": [
      "100%|███████████████████████████████████████████| 16/16 [00:00<00:00, 17.57it/s]\n"
     ]
    },
    {
     "name": "stdout",
     "output_type": "stream",
     "text": [
      "Epoch: 65\n",
      "Train accuracy: 94.70% Loss: 2.61\n",
      "Test accuracy: 89.50% Loss: 1.35\n"
     ]
    },
    {
     "name": "stderr",
     "output_type": "stream",
     "text": [
      "100%|███████████████████████████████████████████| 16/16 [00:00<00:00, 17.53it/s]\n"
     ]
    },
    {
     "name": "stdout",
     "output_type": "stream",
     "text": [
      "Epoch: 66\n",
      "Train accuracy: 94.91% Loss: 2.43\n",
      "Test accuracy: 90.21% Loss: 1.39\n"
     ]
    },
    {
     "name": "stderr",
     "output_type": "stream",
     "text": [
      "100%|███████████████████████████████████████████| 16/16 [00:00<00:00, 17.57it/s]\n"
     ]
    },
    {
     "name": "stdout",
     "output_type": "stream",
     "text": [
      "Epoch: 67\n",
      "Train accuracy: 94.80% Loss: 2.42\n",
      "Test accuracy: 90.07% Loss: 1.29\n"
     ]
    },
    {
     "name": "stderr",
     "output_type": "stream",
     "text": [
      "100%|███████████████████████████████████████████| 16/16 [00:00<00:00, 17.60it/s]\n"
     ]
    },
    {
     "name": "stdout",
     "output_type": "stream",
     "text": [
      "Epoch: 68\n",
      "Train accuracy: 94.55% Loss: 2.40\n",
      "Test accuracy: 90.00% Loss: 1.30\n"
     ]
    },
    {
     "name": "stderr",
     "output_type": "stream",
     "text": [
      "100%|███████████████████████████████████████████| 16/16 [00:00<00:00, 17.64it/s]\n"
     ]
    },
    {
     "name": "stdout",
     "output_type": "stream",
     "text": [
      "Epoch: 69\n",
      "Train accuracy: 94.95% Loss: 2.38\n",
      "Test accuracy: 89.86% Loss: 1.33\n"
     ]
    },
    {
     "name": "stderr",
     "output_type": "stream",
     "text": [
      "100%|███████████████████████████████████████████| 16/16 [00:00<00:00, 17.66it/s]\n"
     ]
    },
    {
     "name": "stdout",
     "output_type": "stream",
     "text": [
      "Epoch: 70\n",
      "Train accuracy: 95.00% Loss: 2.31\n",
      "Test accuracy: 90.29% Loss: 1.36\n"
     ]
    },
    {
     "name": "stderr",
     "output_type": "stream",
     "text": [
      "100%|███████████████████████████████████████████| 16/16 [00:00<00:00, 17.56it/s]\n"
     ]
    },
    {
     "name": "stdout",
     "output_type": "stream",
     "text": [
      "Epoch: 71\n",
      "Train accuracy: 94.91% Loss: 2.50\n",
      "Test accuracy: 89.36% Loss: 1.32\n"
     ]
    },
    {
     "name": "stderr",
     "output_type": "stream",
     "text": [
      "100%|███████████████████████████████████████████| 16/16 [00:00<00:00, 17.63it/s]\n"
     ]
    },
    {
     "name": "stdout",
     "output_type": "stream",
     "text": [
      "Epoch: 72\n",
      "Train accuracy: 95.38% Loss: 2.30\n",
      "Test accuracy: 90.07% Loss: 1.31\n"
     ]
    },
    {
     "name": "stderr",
     "output_type": "stream",
     "text": [
      "100%|███████████████████████████████████████████| 16/16 [00:00<00:00, 17.60it/s]\n"
     ]
    },
    {
     "name": "stdout",
     "output_type": "stream",
     "text": [
      "Epoch: 73\n",
      "Train accuracy: 95.23% Loss: 2.37\n",
      "Test accuracy: 90.29% Loss: 1.32\n"
     ]
    },
    {
     "name": "stderr",
     "output_type": "stream",
     "text": [
      "100%|███████████████████████████████████████████| 16/16 [00:00<00:00, 17.60it/s]\n"
     ]
    },
    {
     "name": "stdout",
     "output_type": "stream",
     "text": [
      "Epoch: 74\n",
      "Train accuracy: 95.27% Loss: 2.28\n",
      "Test accuracy: 90.86% Loss: 1.28\n"
     ]
    },
    {
     "name": "stderr",
     "output_type": "stream",
     "text": [
      "100%|███████████████████████████████████████████| 16/16 [00:00<00:00, 17.62it/s]\n"
     ]
    },
    {
     "name": "stdout",
     "output_type": "stream",
     "text": [
      "Epoch: 75\n",
      "Train accuracy: 95.27% Loss: 2.35\n",
      "Test accuracy: 89.86% Loss: 1.29\n"
     ]
    },
    {
     "name": "stderr",
     "output_type": "stream",
     "text": [
      "100%|███████████████████████████████████████████| 16/16 [00:00<00:00, 17.53it/s]\n"
     ]
    },
    {
     "name": "stdout",
     "output_type": "stream",
     "text": [
      "Epoch: 76\n",
      "Train accuracy: 95.50% Loss: 2.25\n",
      "Test accuracy: 90.36% Loss: 1.26\n"
     ]
    },
    {
     "name": "stderr",
     "output_type": "stream",
     "text": [
      "100%|███████████████████████████████████████████| 16/16 [00:00<00:00, 17.61it/s]\n"
     ]
    },
    {
     "name": "stdout",
     "output_type": "stream",
     "text": [
      "Epoch: 77\n",
      "Train accuracy: 95.75% Loss: 2.18\n",
      "Test accuracy: 90.43% Loss: 1.28\n"
     ]
    },
    {
     "name": "stderr",
     "output_type": "stream",
     "text": [
      "100%|███████████████████████████████████████████| 16/16 [00:00<00:00, 17.64it/s]\n"
     ]
    },
    {
     "name": "stdout",
     "output_type": "stream",
     "text": [
      "Epoch: 78\n",
      "Train accuracy: 95.84% Loss: 2.12\n",
      "Test accuracy: 90.29% Loss: 1.32\n"
     ]
    },
    {
     "name": "stderr",
     "output_type": "stream",
     "text": [
      "100%|███████████████████████████████████████████| 16/16 [00:00<00:00, 17.62it/s]\n"
     ]
    },
    {
     "name": "stdout",
     "output_type": "stream",
     "text": [
      "Epoch: 79\n",
      "Train accuracy: 95.80% Loss: 2.14\n",
      "Test accuracy: 90.57% Loss: 1.27\n"
     ]
    },
    {
     "name": "stderr",
     "output_type": "stream",
     "text": [
      "100%|███████████████████████████████████████████| 16/16 [00:00<00:00, 17.59it/s]\n"
     ]
    },
    {
     "name": "stdout",
     "output_type": "stream",
     "text": [
      "Epoch: 80\n",
      "Train accuracy: 95.82% Loss: 2.12\n",
      "Test accuracy: 90.36% Loss: 1.29\n"
     ]
    },
    {
     "name": "stderr",
     "output_type": "stream",
     "text": [
      "100%|███████████████████████████████████████████| 16/16 [00:00<00:00, 17.56it/s]\n"
     ]
    },
    {
     "name": "stdout",
     "output_type": "stream",
     "text": [
      "Epoch: 81\n",
      "Train accuracy: 95.82% Loss: 2.12\n",
      "Test accuracy: 90.57% Loss: 1.30\n"
     ]
    },
    {
     "name": "stderr",
     "output_type": "stream",
     "text": [
      "100%|███████████████████████████████████████████| 16/16 [00:00<00:00, 17.61it/s]\n"
     ]
    },
    {
     "name": "stdout",
     "output_type": "stream",
     "text": [
      "Epoch: 82\n",
      "Train accuracy: 95.86% Loss: 2.10\n",
      "Test accuracy: 90.93% Loss: 1.32\n"
     ]
    },
    {
     "name": "stderr",
     "output_type": "stream",
     "text": [
      "100%|███████████████████████████████████████████| 16/16 [00:00<00:00, 17.65it/s]\n"
     ]
    },
    {
     "name": "stdout",
     "output_type": "stream",
     "text": [
      "Epoch: 83\n",
      "Train accuracy: 95.59% Loss: 2.21\n",
      "Test accuracy: 89.71% Loss: 1.28\n"
     ]
    },
    {
     "name": "stderr",
     "output_type": "stream",
     "text": [
      "100%|███████████████████████████████████████████| 16/16 [00:00<00:00, 17.67it/s]\n"
     ]
    },
    {
     "name": "stdout",
     "output_type": "stream",
     "text": [
      "Epoch: 84\n",
      "Train accuracy: 95.82% Loss: 2.11\n",
      "Test accuracy: 90.71% Loss: 1.28\n"
     ]
    },
    {
     "name": "stderr",
     "output_type": "stream",
     "text": [
      "100%|███████████████████████████████████████████| 16/16 [00:00<00:00, 17.57it/s]\n"
     ]
    },
    {
     "name": "stdout",
     "output_type": "stream",
     "text": [
      "Epoch: 85\n",
      "Train accuracy: 95.77% Loss: 2.13\n",
      "Test accuracy: 90.71% Loss: 1.32\n"
     ]
    },
    {
     "name": "stderr",
     "output_type": "stream",
     "text": [
      "100%|███████████████████████████████████████████| 16/16 [00:00<00:00, 17.54it/s]\n"
     ]
    },
    {
     "name": "stdout",
     "output_type": "stream",
     "text": [
      "Epoch: 86\n",
      "Train accuracy: 95.80% Loss: 2.13\n",
      "Test accuracy: 90.64% Loss: 1.24\n"
     ]
    },
    {
     "name": "stderr",
     "output_type": "stream",
     "text": [
      "100%|███████████████████████████████████████████| 16/16 [00:00<00:00, 17.54it/s]\n"
     ]
    },
    {
     "name": "stdout",
     "output_type": "stream",
     "text": [
      "Epoch: 87\n",
      "Train accuracy: 95.80% Loss: 2.12\n",
      "Test accuracy: 90.64% Loss: 1.28\n"
     ]
    },
    {
     "name": "stderr",
     "output_type": "stream",
     "text": [
      "100%|███████████████████████████████████████████| 16/16 [00:00<00:00, 17.59it/s]\n"
     ]
    },
    {
     "name": "stdout",
     "output_type": "stream",
     "text": [
      "Epoch: 88\n",
      "Train accuracy: 95.54% Loss: 2.19\n",
      "Test accuracy: 89.43% Loss: 1.30\n"
     ]
    },
    {
     "name": "stderr",
     "output_type": "stream",
     "text": [
      "100%|███████████████████████████████████████████| 16/16 [00:00<00:00, 17.59it/s]\n"
     ]
    },
    {
     "name": "stdout",
     "output_type": "stream",
     "text": [
      "Epoch: 89\n",
      "Train accuracy: 95.93% Loss: 2.06\n",
      "Test accuracy: 90.64% Loss: 1.36\n"
     ]
    },
    {
     "name": "stderr",
     "output_type": "stream",
     "text": [
      "100%|███████████████████████████████████████████| 16/16 [00:00<00:00, 17.58it/s]\n"
     ]
    },
    {
     "name": "stdout",
     "output_type": "stream",
     "text": [
      "Epoch: 90\n",
      "Train accuracy: 95.86% Loss: 2.11\n",
      "Test accuracy: 90.29% Loss: 1.52\n"
     ]
    },
    {
     "name": "stderr",
     "output_type": "stream",
     "text": [
      "100%|███████████████████████████████████████████| 16/16 [00:00<00:00, 16.98it/s]\n"
     ]
    },
    {
     "name": "stdout",
     "output_type": "stream",
     "text": [
      "Epoch: 91\n",
      "Train accuracy: 95.75% Loss: 2.15\n",
      "Test accuracy: 90.29% Loss: 1.34\n"
     ]
    },
    {
     "name": "stderr",
     "output_type": "stream",
     "text": [
      "100%|███████████████████████████████████████████| 16/16 [00:00<00:00, 17.14it/s]\n"
     ]
    },
    {
     "name": "stdout",
     "output_type": "stream",
     "text": [
      "Epoch: 92\n",
      "Train accuracy: 95.84% Loss: 2.08\n",
      "Test accuracy: 90.43% Loss: 1.35\n"
     ]
    },
    {
     "name": "stderr",
     "output_type": "stream",
     "text": [
      "100%|███████████████████████████████████████████| 16/16 [00:00<00:00, 17.44it/s]\n"
     ]
    },
    {
     "name": "stdout",
     "output_type": "stream",
     "text": [
      "Epoch: 93\n",
      "Train accuracy: 93.59% Loss: 3.02\n",
      "Test accuracy: 87.36% Loss: 1.60\n"
     ]
    },
    {
     "name": "stderr",
     "output_type": "stream",
     "text": [
      "100%|███████████████████████████████████████████| 16/16 [00:00<00:00, 17.34it/s]\n"
     ]
    },
    {
     "name": "stdout",
     "output_type": "stream",
     "text": [
      "Epoch: 94\n",
      "Train accuracy: 94.95% Loss: 2.45\n",
      "Test accuracy: 90.21% Loss: 1.31\n"
     ]
    },
    {
     "name": "stderr",
     "output_type": "stream",
     "text": [
      "100%|███████████████████████████████████████████| 16/16 [00:00<00:00, 17.59it/s]\n"
     ]
    },
    {
     "name": "stdout",
     "output_type": "stream",
     "text": [
      "Epoch: 95\n",
      "Train accuracy: 95.95% Loss: 2.08\n",
      "Test accuracy: 90.29% Loss: 1.28\n"
     ]
    },
    {
     "name": "stderr",
     "output_type": "stream",
     "text": [
      "100%|███████████████████████████████████████████| 16/16 [00:00<00:00, 18.06it/s]\n"
     ]
    },
    {
     "name": "stdout",
     "output_type": "stream",
     "text": [
      "Epoch: 96\n",
      "Train accuracy: 96.14% Loss: 1.98\n",
      "Test accuracy: 90.29% Loss: 1.34\n"
     ]
    },
    {
     "name": "stderr",
     "output_type": "stream",
     "text": [
      "100%|███████████████████████████████████████████| 16/16 [00:00<00:00, 17.52it/s]\n"
     ]
    },
    {
     "name": "stdout",
     "output_type": "stream",
     "text": [
      "Epoch: 97\n",
      "Train accuracy: 96.04% Loss: 2.06\n",
      "Test accuracy: 89.93% Loss: 1.36\n"
     ]
    },
    {
     "name": "stderr",
     "output_type": "stream",
     "text": [
      "100%|███████████████████████████████████████████| 16/16 [00:00<00:00, 17.65it/s]\n"
     ]
    },
    {
     "name": "stdout",
     "output_type": "stream",
     "text": [
      "Epoch: 98\n",
      "Train accuracy: 96.20% Loss: 1.95\n",
      "Test accuracy: 90.21% Loss: 1.19\n"
     ]
    },
    {
     "name": "stderr",
     "output_type": "stream",
     "text": [
      "100%|███████████████████████████████████████████| 16/16 [00:00<00:00, 17.62it/s]\n"
     ]
    },
    {
     "name": "stdout",
     "output_type": "stream",
     "text": [
      "Epoch: 99\n",
      "Train accuracy: 95.93% Loss: 1.91\n",
      "Test accuracy: 90.21% Loss: 1.33\n"
     ]
    },
    {
     "name": "stderr",
     "output_type": "stream",
     "text": [
      "100%|███████████████████████████████████████████| 16/16 [00:00<00:00, 17.58it/s]\n"
     ]
    },
    {
     "name": "stdout",
     "output_type": "stream",
     "text": [
      "Epoch: 100\n",
      "Train accuracy: 96.11% Loss: 1.97\n",
      "Test accuracy: 90.36% Loss: 1.31\n"
     ]
    },
    {
     "name": "stderr",
     "output_type": "stream",
     "text": [
      "100%|███████████████████████████████████████████| 16/16 [00:00<00:00, 17.64it/s]\n"
     ]
    },
    {
     "name": "stdout",
     "output_type": "stream",
     "text": [
      "Epoch: 101\n",
      "Train accuracy: 96.29% Loss: 1.88\n",
      "Test accuracy: 90.50% Loss: 1.29\n"
     ]
    },
    {
     "name": "stderr",
     "output_type": "stream",
     "text": [
      "100%|███████████████████████████████████████████| 16/16 [00:00<00:00, 17.52it/s]\n"
     ]
    },
    {
     "name": "stdout",
     "output_type": "stream",
     "text": [
      "Epoch: 102\n",
      "Train accuracy: 96.41% Loss: 1.80\n",
      "Test accuracy: 90.43% Loss: 1.31\n"
     ]
    },
    {
     "name": "stderr",
     "output_type": "stream",
     "text": [
      "100%|███████████████████████████████████████████| 16/16 [00:00<00:00, 17.53it/s]\n"
     ]
    },
    {
     "name": "stdout",
     "output_type": "stream",
     "text": [
      "Epoch: 103\n",
      "Train accuracy: 96.36% Loss: 1.86\n",
      "Test accuracy: 90.36% Loss: 1.27\n"
     ]
    },
    {
     "name": "stderr",
     "output_type": "stream",
     "text": [
      "100%|███████████████████████████████████████████| 16/16 [00:00<00:00, 17.58it/s]\n"
     ]
    },
    {
     "name": "stdout",
     "output_type": "stream",
     "text": [
      "Epoch: 104\n",
      "Train accuracy: 96.45% Loss: 1.79\n",
      "Test accuracy: 90.57% Loss: 1.37\n"
     ]
    },
    {
     "name": "stderr",
     "output_type": "stream",
     "text": [
      "100%|███████████████████████████████████████████| 16/16 [00:00<00:00, 17.52it/s]\n"
     ]
    },
    {
     "name": "stdout",
     "output_type": "stream",
     "text": [
      "Epoch: 105\n",
      "Train accuracy: 96.55% Loss: 1.75\n",
      "Test accuracy: 90.57% Loss: 1.40\n"
     ]
    },
    {
     "name": "stderr",
     "output_type": "stream",
     "text": [
      "100%|███████████████████████████████████████████| 16/16 [00:00<00:00, 17.56it/s]\n"
     ]
    },
    {
     "name": "stdout",
     "output_type": "stream",
     "text": [
      "Epoch: 106\n",
      "Train accuracy: 96.59% Loss: 1.73\n",
      "Test accuracy: 90.29% Loss: 1.38\n"
     ]
    },
    {
     "name": "stderr",
     "output_type": "stream",
     "text": [
      "100%|███████████████████████████████████████████| 16/16 [00:00<00:00, 17.52it/s]\n"
     ]
    },
    {
     "name": "stdout",
     "output_type": "stream",
     "text": [
      "Epoch: 107\n",
      "Train accuracy: 96.61% Loss: 1.73\n",
      "Test accuracy: 90.14% Loss: 1.44\n"
     ]
    },
    {
     "name": "stderr",
     "output_type": "stream",
     "text": [
      "100%|███████████████████████████████████████████| 16/16 [00:00<00:00, 17.57it/s]\n"
     ]
    },
    {
     "name": "stdout",
     "output_type": "stream",
     "text": [
      "Epoch: 108\n",
      "Train accuracy: 89.00% Loss: 5.65\n",
      "Test accuracy: 84.50% Loss: 2.04\n"
     ]
    },
    {
     "name": "stderr",
     "output_type": "stream",
     "text": [
      "100%|███████████████████████████████████████████| 16/16 [00:00<00:00, 17.58it/s]\n"
     ]
    },
    {
     "name": "stdout",
     "output_type": "stream",
     "text": [
      "Epoch: 109\n",
      "Train accuracy: 95.54% Loss: 3.16\n",
      "Test accuracy: 89.00% Loss: 1.68\n"
     ]
    },
    {
     "name": "stderr",
     "output_type": "stream",
     "text": [
      "100%|███████████████████████████████████████████| 16/16 [00:00<00:00, 17.57it/s]\n"
     ]
    },
    {
     "name": "stdout",
     "output_type": "stream",
     "text": [
      "Epoch: 110\n",
      "Train accuracy: 96.07% Loss: 2.18\n",
      "Test accuracy: 88.93% Loss: 1.49\n"
     ]
    },
    {
     "name": "stderr",
     "output_type": "stream",
     "text": [
      "100%|███████████████████████████████████████████| 16/16 [00:00<00:00, 17.57it/s]\n"
     ]
    },
    {
     "name": "stdout",
     "output_type": "stream",
     "text": [
      "Epoch: 111\n",
      "Train accuracy: 96.34% Loss: 1.89\n",
      "Test accuracy: 88.86% Loss: 1.61\n"
     ]
    },
    {
     "name": "stderr",
     "output_type": "stream",
     "text": [
      "100%|███████████████████████████████████████████| 16/16 [00:00<00:00, 17.57it/s]\n"
     ]
    },
    {
     "name": "stdout",
     "output_type": "stream",
     "text": [
      "Epoch: 112\n",
      "Train accuracy: 96.46% Loss: 1.85\n",
      "Test accuracy: 88.29% Loss: 1.97\n"
     ]
    },
    {
     "name": "stderr",
     "output_type": "stream",
     "text": [
      "100%|███████████████████████████████████████████| 16/16 [00:00<00:00, 17.54it/s]\n"
     ]
    },
    {
     "name": "stdout",
     "output_type": "stream",
     "text": [
      "Epoch: 113\n",
      "Train accuracy: 96.64% Loss: 1.72\n",
      "Test accuracy: 89.50% Loss: 1.50\n"
     ]
    },
    {
     "name": "stderr",
     "output_type": "stream",
     "text": [
      "100%|███████████████████████████████████████████| 16/16 [00:00<00:00, 17.62it/s]\n"
     ]
    },
    {
     "name": "stdout",
     "output_type": "stream",
     "text": [
      "Epoch: 114\n",
      "Train accuracy: 96.79% Loss: 1.65\n",
      "Test accuracy: 90.07% Loss: 1.42\n"
     ]
    },
    {
     "name": "stderr",
     "output_type": "stream",
     "text": [
      "100%|███████████████████████████████████████████| 16/16 [00:00<00:00, 17.60it/s]\n"
     ]
    },
    {
     "name": "stdout",
     "output_type": "stream",
     "text": [
      "Epoch: 115\n",
      "Train accuracy: 96.96% Loss: 1.56\n",
      "Test accuracy: 90.43% Loss: 1.53\n"
     ]
    },
    {
     "name": "stderr",
     "output_type": "stream",
     "text": [
      "100%|███████████████████████████████████████████| 16/16 [00:00<00:00, 17.60it/s]\n"
     ]
    },
    {
     "name": "stdout",
     "output_type": "stream",
     "text": [
      "Epoch: 116\n",
      "Train accuracy: 96.64% Loss: 1.71\n",
      "Test accuracy: 89.79% Loss: 1.44\n"
     ]
    },
    {
     "name": "stderr",
     "output_type": "stream",
     "text": [
      "100%|███████████████████████████████████████████| 16/16 [00:00<00:00, 17.58it/s]\n"
     ]
    },
    {
     "name": "stdout",
     "output_type": "stream",
     "text": [
      "Epoch: 117\n",
      "Train accuracy: 96.95% Loss: 1.57\n",
      "Test accuracy: 90.36% Loss: 1.57\n"
     ]
    },
    {
     "name": "stderr",
     "output_type": "stream",
     "text": [
      "100%|███████████████████████████████████████████| 16/16 [00:00<00:00, 17.47it/s]\n"
     ]
    },
    {
     "name": "stdout",
     "output_type": "stream",
     "text": [
      "Epoch: 118\n",
      "Train accuracy: 96.96% Loss: 1.57\n",
      "Test accuracy: 90.57% Loss: 1.50\n"
     ]
    },
    {
     "name": "stderr",
     "output_type": "stream",
     "text": [
      "100%|███████████████████████████████████████████| 16/16 [00:00<00:00, 17.58it/s]\n"
     ]
    },
    {
     "name": "stdout",
     "output_type": "stream",
     "text": [
      "Epoch: 119\n",
      "Train accuracy: 97.02% Loss: 1.53\n",
      "Test accuracy: 90.43% Loss: 1.54\n"
     ]
    },
    {
     "name": "stderr",
     "output_type": "stream",
     "text": [
      "100%|███████████████████████████████████████████| 16/16 [00:00<00:00, 17.57it/s]\n"
     ]
    },
    {
     "name": "stdout",
     "output_type": "stream",
     "text": [
      "Epoch: 120\n",
      "Train accuracy: 96.98% Loss: 1.54\n",
      "Test accuracy: 89.79% Loss: 1.82\n"
     ]
    },
    {
     "name": "stderr",
     "output_type": "stream",
     "text": [
      "100%|███████████████████████████████████████████| 16/16 [00:00<00:00, 17.55it/s]\n"
     ]
    },
    {
     "name": "stdout",
     "output_type": "stream",
     "text": [
      "Epoch: 121\n",
      "Train accuracy: 96.98% Loss: 1.56\n",
      "Test accuracy: 90.14% Loss: 1.51\n"
     ]
    },
    {
     "name": "stderr",
     "output_type": "stream",
     "text": [
      "100%|███████████████████████████████████████████| 16/16 [00:00<00:00, 17.51it/s]\n"
     ]
    },
    {
     "name": "stdout",
     "output_type": "stream",
     "text": [
      "Epoch: 122\n",
      "Train accuracy: 97.04% Loss: 1.52\n",
      "Test accuracy: 90.79% Loss: 1.52\n"
     ]
    },
    {
     "name": "stderr",
     "output_type": "stream",
     "text": [
      "100%|███████████████████████████████████████████| 16/16 [00:00<00:00, 17.53it/s]\n"
     ]
    },
    {
     "name": "stdout",
     "output_type": "stream",
     "text": [
      "Epoch: 123\n",
      "Train accuracy: 96.96% Loss: 1.62\n",
      "Test accuracy: 90.14% Loss: 1.75\n"
     ]
    },
    {
     "name": "stderr",
     "output_type": "stream",
     "text": [
      "100%|███████████████████████████████████████████| 16/16 [00:00<00:00, 17.48it/s]\n"
     ]
    },
    {
     "name": "stdout",
     "output_type": "stream",
     "text": [
      "Epoch: 124\n",
      "Train accuracy: 96.66% Loss: 1.72\n",
      "Test accuracy: 90.00% Loss: 1.38\n"
     ]
    },
    {
     "name": "stderr",
     "output_type": "stream",
     "text": [
      "100%|███████████████████████████████████████████| 16/16 [00:00<00:00, 17.91it/s]\n"
     ]
    },
    {
     "name": "stdout",
     "output_type": "stream",
     "text": [
      "Epoch: 125\n",
      "Train accuracy: 97.11% Loss: 1.50\n",
      "Test accuracy: 90.64% Loss: 1.54\n"
     ]
    },
    {
     "name": "stderr",
     "output_type": "stream",
     "text": [
      "100%|███████████████████████████████████████████| 16/16 [00:00<00:00, 18.06it/s]\n"
     ]
    },
    {
     "name": "stdout",
     "output_type": "stream",
     "text": [
      "Epoch: 126\n",
      "Train accuracy: 97.18% Loss: 1.45\n",
      "Test accuracy: 90.36% Loss: 1.69\n"
     ]
    },
    {
     "name": "stderr",
     "output_type": "stream",
     "text": [
      "100%|███████████████████████████████████████████| 16/16 [00:00<00:00, 17.54it/s]\n"
     ]
    },
    {
     "name": "stdout",
     "output_type": "stream",
     "text": [
      "Epoch: 127\n",
      "Train accuracy: 97.18% Loss: 1.46\n",
      "Test accuracy: 90.43% Loss: 1.71\n"
     ]
    },
    {
     "name": "stderr",
     "output_type": "stream",
     "text": [
      "100%|███████████████████████████████████████████| 16/16 [00:00<00:00, 17.50it/s]\n"
     ]
    },
    {
     "name": "stdout",
     "output_type": "stream",
     "text": [
      "Epoch: 128\n",
      "Train accuracy: 97.07% Loss: 1.51\n",
      "Test accuracy: 90.50% Loss: 1.49\n"
     ]
    },
    {
     "name": "stderr",
     "output_type": "stream",
     "text": [
      "100%|███████████████████████████████████████████| 16/16 [00:00<00:00, 17.50it/s]\n"
     ]
    },
    {
     "name": "stdout",
     "output_type": "stream",
     "text": [
      "Epoch: 129\n",
      "Train accuracy: 97.20% Loss: 1.45\n",
      "Test accuracy: 90.29% Loss: 1.62\n"
     ]
    },
    {
     "name": "stderr",
     "output_type": "stream",
     "text": [
      "100%|███████████████████████████████████████████| 16/16 [00:00<00:00, 17.61it/s]\n"
     ]
    },
    {
     "name": "stdout",
     "output_type": "stream",
     "text": [
      "Epoch: 130\n",
      "Train accuracy: 96.79% Loss: 1.67\n",
      "Test accuracy: 89.50% Loss: 2.00\n"
     ]
    },
    {
     "name": "stderr",
     "output_type": "stream",
     "text": [
      "100%|███████████████████████████████████████████| 16/16 [00:00<00:00, 17.55it/s]\n"
     ]
    },
    {
     "name": "stdout",
     "output_type": "stream",
     "text": [
      "Epoch: 131\n",
      "Train accuracy: 97.20% Loss: 1.44\n",
      "Test accuracy: 90.64% Loss: 1.45\n"
     ]
    },
    {
     "name": "stderr",
     "output_type": "stream",
     "text": [
      "100%|███████████████████████████████████████████| 16/16 [00:00<00:00, 17.56it/s]\n"
     ]
    },
    {
     "name": "stdout",
     "output_type": "stream",
     "text": [
      "Epoch: 132\n",
      "Train accuracy: 97.27% Loss: 1.41\n",
      "Test accuracy: 90.86% Loss: 1.47\n"
     ]
    },
    {
     "name": "stderr",
     "output_type": "stream",
     "text": [
      "100%|███████████████████████████████████████████| 16/16 [00:00<00:00, 17.54it/s]\n"
     ]
    },
    {
     "name": "stdout",
     "output_type": "stream",
     "text": [
      "Epoch: 133\n",
      "Train accuracy: 97.27% Loss: 1.43\n",
      "Test accuracy: 90.57% Loss: 1.40\n"
     ]
    },
    {
     "name": "stderr",
     "output_type": "stream",
     "text": [
      "100%|███████████████████████████████████████████| 16/16 [00:00<00:00, 17.57it/s]\n"
     ]
    },
    {
     "name": "stdout",
     "output_type": "stream",
     "text": [
      "Epoch: 134\n",
      "Train accuracy: 97.29% Loss: 1.40\n",
      "Test accuracy: 91.07% Loss: 1.39\n"
     ]
    },
    {
     "name": "stderr",
     "output_type": "stream",
     "text": [
      "100%|███████████████████████████████████████████| 16/16 [00:00<00:00, 17.57it/s]\n"
     ]
    },
    {
     "name": "stdout",
     "output_type": "stream",
     "text": [
      "Epoch: 135\n",
      "Train accuracy: 97.30% Loss: 1.39\n",
      "Test accuracy: 90.93% Loss: 1.47\n"
     ]
    },
    {
     "name": "stderr",
     "output_type": "stream",
     "text": [
      "100%|███████████████████████████████████████████| 16/16 [00:00<00:00, 17.57it/s]\n"
     ]
    },
    {
     "name": "stdout",
     "output_type": "stream",
     "text": [
      "Epoch: 136\n",
      "Train accuracy: 97.36% Loss: 1.36\n",
      "Test accuracy: 90.79% Loss: 1.57\n"
     ]
    },
    {
     "name": "stderr",
     "output_type": "stream",
     "text": [
      "100%|███████████████████████████████████████████| 16/16 [00:00<00:00, 17.51it/s]\n"
     ]
    },
    {
     "name": "stdout",
     "output_type": "stream",
     "text": [
      "Epoch: 137\n",
      "Train accuracy: 97.36% Loss: 1.37\n",
      "Test accuracy: 90.86% Loss: 1.53\n"
     ]
    },
    {
     "name": "stderr",
     "output_type": "stream",
     "text": [
      "100%|███████████████████████████████████████████| 16/16 [00:00<00:00, 17.55it/s]\n"
     ]
    },
    {
     "name": "stdout",
     "output_type": "stream",
     "text": [
      "Epoch: 138\n",
      "Train accuracy: 97.36% Loss: 1.37\n",
      "Test accuracy: 90.86% Loss: 1.49\n"
     ]
    },
    {
     "name": "stderr",
     "output_type": "stream",
     "text": [
      "100%|███████████████████████████████████████████| 16/16 [00:00<00:00, 17.49it/s]\n"
     ]
    },
    {
     "name": "stdout",
     "output_type": "stream",
     "text": [
      "Epoch: 139\n",
      "Train accuracy: 97.36% Loss: 1.36\n",
      "Test accuracy: 90.86% Loss: 1.51\n"
     ]
    },
    {
     "name": "stderr",
     "output_type": "stream",
     "text": [
      "100%|███████████████████████████████████████████| 16/16 [00:00<00:00, 17.55it/s]\n"
     ]
    },
    {
     "name": "stdout",
     "output_type": "stream",
     "text": [
      "Epoch: 140\n",
      "Train accuracy: 97.36% Loss: 1.37\n",
      "Test accuracy: 90.71% Loss: 1.52\n"
     ]
    },
    {
     "name": "stderr",
     "output_type": "stream",
     "text": [
      "100%|███████████████████████████████████████████| 16/16 [00:00<00:00, 17.55it/s]\n"
     ]
    },
    {
     "name": "stdout",
     "output_type": "stream",
     "text": [
      "Epoch: 141\n",
      "Train accuracy: 97.36% Loss: 1.37\n",
      "Test accuracy: 90.93% Loss: 1.53\n"
     ]
    },
    {
     "name": "stderr",
     "output_type": "stream",
     "text": [
      "100%|███████████████████████████████████████████| 16/16 [00:00<00:00, 17.53it/s]\n"
     ]
    },
    {
     "name": "stdout",
     "output_type": "stream",
     "text": [
      "Epoch: 142\n",
      "Train accuracy: 97.36% Loss: 1.36\n",
      "Test accuracy: 90.93% Loss: 1.54\n"
     ]
    },
    {
     "name": "stderr",
     "output_type": "stream",
     "text": [
      "100%|███████████████████████████████████████████| 16/16 [00:00<00:00, 17.55it/s]\n"
     ]
    },
    {
     "name": "stdout",
     "output_type": "stream",
     "text": [
      "Epoch: 143\n",
      "Train accuracy: 97.36% Loss: 1.37\n",
      "Test accuracy: 90.93% Loss: 1.53\n"
     ]
    },
    {
     "name": "stderr",
     "output_type": "stream",
     "text": [
      "100%|███████████████████████████████████████████| 16/16 [00:00<00:00, 17.50it/s]\n"
     ]
    },
    {
     "name": "stdout",
     "output_type": "stream",
     "text": [
      "Epoch: 144\n",
      "Train accuracy: 97.36% Loss: 1.37\n",
      "Test accuracy: 91.00% Loss: 1.54\n"
     ]
    },
    {
     "name": "stderr",
     "output_type": "stream",
     "text": [
      "100%|███████████████████████████████████████████| 16/16 [00:00<00:00, 17.56it/s]\n"
     ]
    },
    {
     "name": "stdout",
     "output_type": "stream",
     "text": [
      "Epoch: 145\n",
      "Train accuracy: 97.36% Loss: 1.37\n",
      "Test accuracy: 90.93% Loss: 1.55\n"
     ]
    },
    {
     "name": "stderr",
     "output_type": "stream",
     "text": [
      "100%|███████████████████████████████████████████| 16/16 [00:00<00:00, 17.58it/s]\n"
     ]
    },
    {
     "name": "stdout",
     "output_type": "stream",
     "text": [
      "Epoch: 146\n",
      "Train accuracy: 97.36% Loss: 1.37\n",
      "Test accuracy: 91.00% Loss: 1.56\n"
     ]
    },
    {
     "name": "stderr",
     "output_type": "stream",
     "text": [
      "100%|███████████████████████████████████████████| 16/16 [00:00<00:00, 17.58it/s]\n"
     ]
    },
    {
     "name": "stdout",
     "output_type": "stream",
     "text": [
      "Epoch: 147\n",
      "Train accuracy: 97.36% Loss: 1.36\n",
      "Test accuracy: 91.00% Loss: 1.56\n"
     ]
    },
    {
     "name": "stderr",
     "output_type": "stream",
     "text": [
      "100%|███████████████████████████████████████████| 16/16 [00:00<00:00, 17.53it/s]\n"
     ]
    },
    {
     "name": "stdout",
     "output_type": "stream",
     "text": [
      "Epoch: 148\n",
      "Train accuracy: 97.36% Loss: 1.37\n",
      "Test accuracy: 91.00% Loss: 1.57\n"
     ]
    },
    {
     "name": "stderr",
     "output_type": "stream",
     "text": [
      "100%|███████████████████████████████████████████| 16/16 [00:00<00:00, 17.51it/s]\n"
     ]
    },
    {
     "name": "stdout",
     "output_type": "stream",
     "text": [
      "Epoch: 149\n",
      "Train accuracy: 97.36% Loss: 1.36\n",
      "Test accuracy: 91.00% Loss: 1.57\n",
      "Total time: 4.05 min\n",
      "Test accuracy: 91.00%\n"
     ]
    }
   ],
   "source": [
    "acc_score = train(model, epochs=150, prefix='1m_')"
   ]
  },
  {
   "cell_type": "code",
   "execution_count": 34,
   "id": "4488ce1f-74fb-4006-a648-4058927ff6bf",
   "metadata": {},
   "outputs": [
    {
     "data": {
      "image/png": "[encoded data removed]",
      "text/plain": [
       "<Figure size 640x480 with 2 Axes>"
      ]
     },
     "metadata": {},
     "output_type": "display_data"
    }
   ],
   "source": [
    "learn_chart(acc_score)"
   ]
  },
  {
   "cell_type": "markdown",
   "id": "50e1f5fd-360d-46e4-bc29-45649a7dfe51",
   "metadata": {},
   "source": [
    "## 2 model"
   ]
  },
  {
   "cell_type": "code",
   "execution_count": 57,
   "id": "60e162ef-881e-412b-b52c-dfeef9acd0d2",
   "metadata": {},
   "outputs": [
    {
     "name": "stdout",
     "output_type": "stream",
     "text": [
      "LSTM(\n",
      "  (embedding): Embedding(16459, 128, padding_idx=0)\n",
      "  (lstm): LSTM(128, 256, num_layers=2, batch_first=True, dropout=0.25)\n",
      "  (fc): Linear(in_features=256, out_features=2, bias=True)\n",
      "  (dropout): Dropout(p=0, inplace=False)\n",
      "  (sig): Sigmoid()\n",
      ")\n"
     ]
    }
   ],
   "source": [
    "model = LSTM(input_size=len(tokens) + 1,\n",
    "            embedding_dim=128,\n",
    "            hidden_size=256,\n",
    "            output_size=2,\n",
    "            num_layers=2,\n",
    "            l_dropout=0.25,\n",
    "            dropout=0\n",
    ")\n",
    "\n",
    "model = model.to(device)\n",
    "optimizer = torch.optim.Adam(model.parameters(), lr=0.001)\n",
    "loss_fn = nn.BCELoss()\n",
    "\n",
    "print(model)"
   ]
  },
  {
   "cell_type": "code",
   "execution_count": 58,
   "id": "efdb116f-16c6-4ecf-ae7f-b16a26d055c2",
   "metadata": {
    "scrolled": true
   },
   "outputs": [
    {
     "name": "stderr",
     "output_type": "stream",
     "text": [
      "100%|███████████████████████████████████████████| 16/16 [00:02<00:00,  5.59it/s]\n"
     ]
    },
    {
     "name": "stdout",
     "output_type": "stream",
     "text": [
      "Epoch: 0\n",
      "Train accuracy: 53.20% Loss: 10.96\n",
      "Test accuracy: 51.86% Loss: 2.74\n"
     ]
    },
    {
     "name": "stderr",
     "output_type": "stream",
     "text": [
      "100%|███████████████████████████████████████████| 16/16 [00:02<00:00,  5.65it/s]\n"
     ]
    },
    {
     "name": "stdout",
     "output_type": "stream",
     "text": [
      "Epoch: 1\n",
      "Train accuracy: 53.41% Loss: 10.94\n",
      "Test accuracy: 52.29% Loss: 2.74\n"
     ]
    },
    {
     "name": "stderr",
     "output_type": "stream",
     "text": [
      "100%|███████████████████████████████████████████| 16/16 [00:02<00:00,  5.53it/s]\n"
     ]
    },
    {
     "name": "stdout",
     "output_type": "stream",
     "text": [
      "Epoch: 2\n",
      "Train accuracy: 52.88% Loss: 10.98\n",
      "Test accuracy: 51.64% Loss: 2.75\n"
     ]
    },
    {
     "name": "stderr",
     "output_type": "stream",
     "text": [
      "100%|███████████████████████████████████████████| 16/16 [00:02<00:00,  5.60it/s]\n"
     ]
    },
    {
     "name": "stdout",
     "output_type": "stream",
     "text": [
      "Epoch: 3\n",
      "Train accuracy: 53.21% Loss: 10.95\n",
      "Test accuracy: 51.79% Loss: 2.74\n"
     ]
    },
    {
     "name": "stderr",
     "output_type": "stream",
     "text": [
      "100%|███████████████████████████████████████████| 16/16 [00:02<00:00,  5.53it/s]\n"
     ]
    },
    {
     "name": "stdout",
     "output_type": "stream",
     "text": [
      "Epoch: 4\n",
      "Train accuracy: 53.41% Loss: 10.89\n",
      "Test accuracy: 52.21% Loss: 2.73\n"
     ]
    },
    {
     "name": "stderr",
     "output_type": "stream",
     "text": [
      "100%|███████████████████████████████████████████| 16/16 [00:02<00:00,  5.68it/s]\n"
     ]
    },
    {
     "name": "stdout",
     "output_type": "stream",
     "text": [
      "Epoch: 5\n",
      "Train accuracy: 53.98% Loss: 10.88\n",
      "Test accuracy: 53.07% Loss: 2.73\n"
     ]
    },
    {
     "name": "stderr",
     "output_type": "stream",
     "text": [
      "100%|███████████████████████████████████████████| 16/16 [00:02<00:00,  5.44it/s]\n"
     ]
    },
    {
     "name": "stdout",
     "output_type": "stream",
     "text": [
      "Epoch: 6\n",
      "Train accuracy: 54.34% Loss: 11.08\n",
      "Test accuracy: 56.14% Loss: 2.75\n"
     ]
    },
    {
     "name": "stderr",
     "output_type": "stream",
     "text": [
      "100%|███████████████████████████████████████████| 16/16 [00:02<00:00,  5.50it/s]\n"
     ]
    },
    {
     "name": "stdout",
     "output_type": "stream",
     "text": [
      "Epoch: 7\n",
      "Train accuracy: 53.39% Loss: 10.86\n",
      "Test accuracy: 54.71% Loss: 2.71\n"
     ]
    },
    {
     "name": "stderr",
     "output_type": "stream",
     "text": [
      "100%|███████████████████████████████████████████| 16/16 [00:02<00:00,  5.48it/s]\n"
     ]
    },
    {
     "name": "stdout",
     "output_type": "stream",
     "text": [
      "Epoch: 8\n",
      "Train accuracy: 51.30% Loss: 10.94\n",
      "Test accuracy: 53.36% Loss: 2.72\n"
     ]
    },
    {
     "name": "stderr",
     "output_type": "stream",
     "text": [
      "100%|███████████████████████████████████████████| 16/16 [00:02<00:00,  5.63it/s]\n"
     ]
    },
    {
     "name": "stdout",
     "output_type": "stream",
     "text": [
      "Epoch: 9\n",
      "Train accuracy: 51.50% Loss: 10.93\n",
      "Test accuracy: 53.57% Loss: 2.71\n"
     ]
    },
    {
     "name": "stderr",
     "output_type": "stream",
     "text": [
      "100%|███████████████████████████████████████████| 16/16 [00:02<00:00,  5.53it/s]\n"
     ]
    },
    {
     "name": "stdout",
     "output_type": "stream",
     "text": [
      "Epoch: 10\n",
      "Train accuracy: 51.55% Loss: 10.93\n",
      "Test accuracy: 53.57% Loss: 2.71\n"
     ]
    },
    {
     "name": "stderr",
     "output_type": "stream",
     "text": [
      "100%|███████████████████████████████████████████| 16/16 [00:02<00:00,  5.63it/s]\n"
     ]
    },
    {
     "name": "stdout",
     "output_type": "stream",
     "text": [
      "Epoch: 11\n",
      "Train accuracy: 51.64% Loss: 10.92\n",
      "Test accuracy: 53.64% Loss: 2.71\n"
     ]
    },
    {
     "name": "stderr",
     "output_type": "stream",
     "text": [
      "100%|███████████████████████████████████████████| 16/16 [00:02<00:00,  5.74it/s]\n"
     ]
    },
    {
     "name": "stdout",
     "output_type": "stream",
     "text": [
      "Epoch: 12\n",
      "Train accuracy: 51.59% Loss: 10.92\n",
      "Test accuracy: 52.21% Loss: 2.71\n"
     ]
    },
    {
     "name": "stderr",
     "output_type": "stream",
     "text": [
      "100%|███████████████████████████████████████████| 16/16 [00:02<00:00,  5.52it/s]\n"
     ]
    },
    {
     "name": "stdout",
     "output_type": "stream",
     "text": [
      "Epoch: 13\n",
      "Train accuracy: 51.68% Loss: 10.92\n",
      "Test accuracy: 53.64% Loss: 2.71\n"
     ]
    },
    {
     "name": "stderr",
     "output_type": "stream",
     "text": [
      "100%|███████████████████████████████████████████| 16/16 [00:02<00:00,  5.59it/s]\n"
     ]
    },
    {
     "name": "stdout",
     "output_type": "stream",
     "text": [
      "Epoch: 14\n",
      "Train accuracy: 51.75% Loss: 10.91\n",
      "Test accuracy: 53.71% Loss: 2.70\n"
     ]
    },
    {
     "name": "stderr",
     "output_type": "stream",
     "text": [
      "100%|███████████████████████████████████████████| 16/16 [00:02<00:00,  5.51it/s]\n"
     ]
    },
    {
     "name": "stdout",
     "output_type": "stream",
     "text": [
      "Epoch: 15\n",
      "Train accuracy: 51.80% Loss: 10.91\n",
      "Test accuracy: 54.07% Loss: 2.71\n"
     ]
    },
    {
     "name": "stderr",
     "output_type": "stream",
     "text": [
      "100%|███████████████████████████████████████████| 16/16 [00:02<00:00,  5.62it/s]\n"
     ]
    },
    {
     "name": "stdout",
     "output_type": "stream",
     "text": [
      "Epoch: 16\n",
      "Train accuracy: 52.07% Loss: 10.90\n",
      "Test accuracy: 54.14% Loss: 2.70\n"
     ]
    },
    {
     "name": "stderr",
     "output_type": "stream",
     "text": [
      "100%|███████████████████████████████████████████| 16/16 [00:02<00:00,  5.73it/s]\n"
     ]
    },
    {
     "name": "stdout",
     "output_type": "stream",
     "text": [
      "Epoch: 17\n",
      "Train accuracy: 52.55% Loss: 10.90\n",
      "Test accuracy: 50.21% Loss: 2.71\n"
     ]
    },
    {
     "name": "stderr",
     "output_type": "stream",
     "text": [
      "100%|███████████████████████████████████████████| 16/16 [00:02<00:00,  5.74it/s]\n"
     ]
    },
    {
     "name": "stdout",
     "output_type": "stream",
     "text": [
      "Epoch: 18\n",
      "Train accuracy: 52.18% Loss: 10.86\n",
      "Test accuracy: 51.57% Loss: 2.69\n"
     ]
    },
    {
     "name": "stderr",
     "output_type": "stream",
     "text": [
      "100%|███████████████████████████████████████████| 16/16 [00:02<00:00,  5.61it/s]\n"
     ]
    },
    {
     "name": "stdout",
     "output_type": "stream",
     "text": [
      "Epoch: 19\n",
      "Train accuracy: 52.93% Loss: 10.84\n",
      "Test accuracy: 50.93% Loss: 2.70\n"
     ]
    },
    {
     "name": "stderr",
     "output_type": "stream",
     "text": [
      "100%|███████████████████████████████████████████| 16/16 [00:02<00:00,  5.59it/s]\n"
     ]
    },
    {
     "name": "stdout",
     "output_type": "stream",
     "text": [
      "Epoch: 20\n",
      "Train accuracy: 53.68% Loss: 10.77\n",
      "Test accuracy: 51.36% Loss: 2.67\n"
     ]
    },
    {
     "name": "stderr",
     "output_type": "stream",
     "text": [
      "100%|███████████████████████████████████████████| 16/16 [00:02<00:00,  5.62it/s]\n"
     ]
    },
    {
     "name": "stdout",
     "output_type": "stream",
     "text": [
      "Epoch: 21\n",
      "Train accuracy: 54.61% Loss: 10.67\n",
      "Test accuracy: 55.29% Loss: 2.62\n"
     ]
    },
    {
     "name": "stderr",
     "output_type": "stream",
     "text": [
      "100%|███████████████████████████████████████████| 16/16 [00:02<00:00,  5.71it/s]\n"
     ]
    },
    {
     "name": "stdout",
     "output_type": "stream",
     "text": [
      "Epoch: 22\n",
      "Train accuracy: 56.52% Loss: 10.33\n",
      "Test accuracy: 58.86% Loss: 2.54\n"
     ]
    },
    {
     "name": "stderr",
     "output_type": "stream",
     "text": [
      "100%|███████████████████████████████████████████| 16/16 [00:02<00:00,  5.48it/s]\n"
     ]
    },
    {
     "name": "stdout",
     "output_type": "stream",
     "text": [
      "Epoch: 23\n",
      "Train accuracy: 67.00% Loss: 8.97\n",
      "Test accuracy: 68.57% Loss: 2.24\n"
     ]
    },
    {
     "name": "stderr",
     "output_type": "stream",
     "text": [
      "100%|███████████████████████████████████████████| 16/16 [00:02<00:00,  5.67it/s]\n"
     ]
    },
    {
     "name": "stdout",
     "output_type": "stream",
     "text": [
      "Epoch: 24\n",
      "Train accuracy: 79.27% Loss: 7.56\n",
      "Test accuracy: 78.14% Loss: 1.97\n"
     ]
    },
    {
     "name": "stderr",
     "output_type": "stream",
     "text": [
      "100%|███████████████████████████████████████████| 16/16 [00:02<00:00,  5.74it/s]\n"
     ]
    },
    {
     "name": "stdout",
     "output_type": "stream",
     "text": [
      "Epoch: 25\n",
      "Train accuracy: 79.20% Loss: 7.91\n",
      "Test accuracy: 78.50% Loss: 1.99\n"
     ]
    },
    {
     "name": "stderr",
     "output_type": "stream",
     "text": [
      "100%|███████████████████████████████████████████| 16/16 [00:02<00:00,  5.65it/s]\n"
     ]
    },
    {
     "name": "stdout",
     "output_type": "stream",
     "text": [
      "Epoch: 26\n",
      "Train accuracy: 86.75% Loss: 5.55\n",
      "Test accuracy: 83.14% Loss: 1.61\n"
     ]
    },
    {
     "name": "stderr",
     "output_type": "stream",
     "text": [
      "100%|███████████████████████████████████████████| 16/16 [00:02<00:00,  5.61it/s]\n"
     ]
    },
    {
     "name": "stdout",
     "output_type": "stream",
     "text": [
      "Epoch: 27\n",
      "Train accuracy: 74.23% Loss: 9.45\n",
      "Test accuracy: 73.36% Loss: 2.46\n"
     ]
    },
    {
     "name": "stderr",
     "output_type": "stream",
     "text": [
      "100%|███████████████████████████████████████████| 16/16 [00:02<00:00,  5.63it/s]\n"
     ]
    },
    {
     "name": "stdout",
     "output_type": "stream",
     "text": [
      "Epoch: 28\n",
      "Train accuracy: 68.14% Loss: 9.00\n",
      "Test accuracy: 65.36% Loss: 2.38\n"
     ]
    },
    {
     "name": "stderr",
     "output_type": "stream",
     "text": [
      "100%|███████████████████████████████████████████| 16/16 [00:02<00:00,  5.64it/s]\n"
     ]
    },
    {
     "name": "stdout",
     "output_type": "stream",
     "text": [
      "Epoch: 29\n",
      "Train accuracy: 67.80% Loss: 8.79\n",
      "Test accuracy: 64.07% Loss: 2.36\n"
     ]
    },
    {
     "name": "stderr",
     "output_type": "stream",
     "text": [
      "100%|███████████████████████████████████████████| 16/16 [00:02<00:00,  5.56it/s]\n"
     ]
    },
    {
     "name": "stdout",
     "output_type": "stream",
     "text": [
      "Epoch: 30\n",
      "Train accuracy: 66.61% Loss: 8.91\n",
      "Test accuracy: 63.50% Loss: 2.38\n"
     ]
    },
    {
     "name": "stderr",
     "output_type": "stream",
     "text": [
      "100%|███████████████████████████████████████████| 16/16 [00:02<00:00,  5.63it/s]\n"
     ]
    },
    {
     "name": "stdout",
     "output_type": "stream",
     "text": [
      "Epoch: 31\n",
      "Train accuracy: 67.09% Loss: 8.84\n",
      "Test accuracy: 64.00% Loss: 2.37\n"
     ]
    },
    {
     "name": "stderr",
     "output_type": "stream",
     "text": [
      "100%|███████████████████████████████████████████| 16/16 [00:02<00:00,  5.65it/s]\n"
     ]
    },
    {
     "name": "stdout",
     "output_type": "stream",
     "text": [
      "Epoch: 32\n",
      "Train accuracy: 63.32% Loss: 9.39\n",
      "Test accuracy: 61.50% Loss: 2.43\n"
     ]
    },
    {
     "name": "stderr",
     "output_type": "stream",
     "text": [
      "100%|███████████████████████████████████████████| 16/16 [00:02<00:00,  5.67it/s]\n"
     ]
    },
    {
     "name": "stdout",
     "output_type": "stream",
     "text": [
      "Epoch: 33\n",
      "Train accuracy: 66.07% Loss: 9.05\n",
      "Test accuracy: 63.43% Loss: 2.37\n"
     ]
    },
    {
     "name": "stderr",
     "output_type": "stream",
     "text": [
      "100%|███████████████████████████████████████████| 16/16 [00:02<00:00,  5.62it/s]\n"
     ]
    },
    {
     "name": "stdout",
     "output_type": "stream",
     "text": [
      "Epoch: 34\n",
      "Train accuracy: 68.77% Loss: 8.62\n",
      "Test accuracy: 66.57% Loss: 2.27\n"
     ]
    },
    {
     "name": "stderr",
     "output_type": "stream",
     "text": [
      "100%|███████████████████████████████████████████| 16/16 [00:02<00:00,  5.64it/s]\n"
     ]
    },
    {
     "name": "stdout",
     "output_type": "stream",
     "text": [
      "Epoch: 35\n",
      "Train accuracy: 69.82% Loss: 8.48\n",
      "Test accuracy: 68.21% Loss: 2.23\n"
     ]
    },
    {
     "name": "stderr",
     "output_type": "stream",
     "text": [
      "100%|███████████████████████████████████████████| 16/16 [00:02<00:00,  5.61it/s]\n"
     ]
    },
    {
     "name": "stdout",
     "output_type": "stream",
     "text": [
      "Epoch: 36\n",
      "Train accuracy: 70.82% Loss: 8.27\n",
      "Test accuracy: 69.29% Loss: 2.20\n"
     ]
    },
    {
     "name": "stderr",
     "output_type": "stream",
     "text": [
      "100%|███████████████████████████████████████████| 16/16 [00:02<00:00,  5.55it/s]\n"
     ]
    },
    {
     "name": "stdout",
     "output_type": "stream",
     "text": [
      "Epoch: 37\n",
      "Train accuracy: 72.25% Loss: 7.96\n",
      "Test accuracy: 70.93% Loss: 2.11\n"
     ]
    },
    {
     "name": "stderr",
     "output_type": "stream",
     "text": [
      "100%|███████████████████████████████████████████| 16/16 [00:02<00:00,  5.64it/s]\n"
     ]
    },
    {
     "name": "stdout",
     "output_type": "stream",
     "text": [
      "Epoch: 38\n",
      "Train accuracy: 71.98% Loss: 7.99\n",
      "Test accuracy: 70.00% Loss: 2.17\n"
     ]
    },
    {
     "name": "stderr",
     "output_type": "stream",
     "text": [
      "100%|███████████████████████████████████████████| 16/16 [00:02<00:00,  5.53it/s]\n"
     ]
    },
    {
     "name": "stdout",
     "output_type": "stream",
     "text": [
      "Epoch: 39\n",
      "Train accuracy: 68.89% Loss: 8.79\n",
      "Test accuracy: 66.50% Loss: 2.39\n"
     ]
    },
    {
     "name": "stderr",
     "output_type": "stream",
     "text": [
      "100%|███████████████████████████████████████████| 16/16 [00:02<00:00,  5.63it/s]\n"
     ]
    },
    {
     "name": "stdout",
     "output_type": "stream",
     "text": [
      "Epoch: 40\n",
      "Train accuracy: 78.07% Loss: 7.04\n",
      "Test accuracy: 75.07% Loss: 1.97\n"
     ]
    },
    {
     "name": "stderr",
     "output_type": "stream",
     "text": [
      "100%|███████████████████████████████████████████| 16/16 [00:02<00:00,  5.61it/s]\n"
     ]
    },
    {
     "name": "stdout",
     "output_type": "stream",
     "text": [
      "Epoch: 41\n",
      "Train accuracy: 78.62% Loss: 6.64\n",
      "Test accuracy: 75.36% Loss: 1.92\n"
     ]
    },
    {
     "name": "stderr",
     "output_type": "stream",
     "text": [
      "100%|███████████████████████████████████████████| 16/16 [00:02<00:00,  5.65it/s]\n"
     ]
    },
    {
     "name": "stdout",
     "output_type": "stream",
     "text": [
      "Epoch: 42\n",
      "Train accuracy: 77.93% Loss: 6.87\n",
      "Test accuracy: 75.14% Loss: 1.99\n"
     ]
    },
    {
     "name": "stderr",
     "output_type": "stream",
     "text": [
      "100%|███████████████████████████████████████████| 16/16 [00:02<00:00,  5.62it/s]\n"
     ]
    },
    {
     "name": "stdout",
     "output_type": "stream",
     "text": [
      "Epoch: 43\n",
      "Train accuracy: 81.89% Loss: 5.95\n",
      "Test accuracy: 79.64% Loss: 1.75\n"
     ]
    },
    {
     "name": "stderr",
     "output_type": "stream",
     "text": [
      "100%|███████████████████████████████████████████| 16/16 [00:02<00:00,  5.63it/s]\n"
     ]
    },
    {
     "name": "stdout",
     "output_type": "stream",
     "text": [
      "Epoch: 44\n",
      "Train accuracy: 82.20% Loss: 5.84\n",
      "Test accuracy: 79.43% Loss: 1.74\n"
     ]
    },
    {
     "name": "stderr",
     "output_type": "stream",
     "text": [
      "100%|███████████████████████████████████████████| 16/16 [00:02<00:00,  5.61it/s]\n"
     ]
    },
    {
     "name": "stdout",
     "output_type": "stream",
     "text": [
      "Epoch: 45\n",
      "Train accuracy: 81.86% Loss: 5.81\n",
      "Test accuracy: 78.29% Loss: 1.79\n"
     ]
    },
    {
     "name": "stderr",
     "output_type": "stream",
     "text": [
      "100%|███████████████████████████████████████████| 16/16 [00:02<00:00,  5.59it/s]\n"
     ]
    },
    {
     "name": "stdout",
     "output_type": "stream",
     "text": [
      "Epoch: 46\n",
      "Train accuracy: 81.93% Loss: 5.77\n",
      "Test accuracy: 78.86% Loss: 1.82\n"
     ]
    },
    {
     "name": "stderr",
     "output_type": "stream",
     "text": [
      "100%|███████████████████████████████████████████| 16/16 [00:02<00:00,  5.62it/s]\n"
     ]
    },
    {
     "name": "stdout",
     "output_type": "stream",
     "text": [
      "Epoch: 47\n",
      "Train accuracy: 82.50% Loss: 5.58\n",
      "Test accuracy: 79.64% Loss: 1.77\n"
     ]
    },
    {
     "name": "stderr",
     "output_type": "stream",
     "text": [
      "100%|███████████████████████████████████████████| 16/16 [00:02<00:00,  5.63it/s]\n"
     ]
    },
    {
     "name": "stdout",
     "output_type": "stream",
     "text": [
      "Epoch: 48\n",
      "Train accuracy: 83.84% Loss: 5.38\n",
      "Test accuracy: 80.14% Loss: 1.77\n"
     ]
    },
    {
     "name": "stderr",
     "output_type": "stream",
     "text": [
      "100%|███████████████████████████████████████████| 16/16 [00:02<00:00,  5.60it/s]\n"
     ]
    },
    {
     "name": "stdout",
     "output_type": "stream",
     "text": [
      "Epoch: 49\n",
      "Train accuracy: 85.66% Loss: 4.88\n",
      "Test accuracy: 81.50% Loss: 1.70\n"
     ]
    },
    {
     "name": "stderr",
     "output_type": "stream",
     "text": [
      "100%|███████████████████████████████████████████| 16/16 [00:02<00:00,  5.62it/s]\n"
     ]
    },
    {
     "name": "stdout",
     "output_type": "stream",
     "text": [
      "Epoch: 50\n",
      "Train accuracy: 86.52% Loss: 4.59\n",
      "Test accuracy: 82.57% Loss: 1.65\n"
     ]
    },
    {
     "name": "stderr",
     "output_type": "stream",
     "text": [
      "100%|███████████████████████████████████████████| 16/16 [00:02<00:00,  5.66it/s]\n"
     ]
    },
    {
     "name": "stdout",
     "output_type": "stream",
     "text": [
      "Epoch: 51\n",
      "Train accuracy: 86.52% Loss: 4.51\n",
      "Test accuracy: 82.50% Loss: 1.70\n"
     ]
    },
    {
     "name": "stderr",
     "output_type": "stream",
     "text": [
      "100%|███████████████████████████████████████████| 16/16 [00:02<00:00,  5.64it/s]\n"
     ]
    },
    {
     "name": "stdout",
     "output_type": "stream",
     "text": [
      "Epoch: 52\n",
      "Train accuracy: 86.80% Loss: 4.46\n",
      "Test accuracy: 82.43% Loss: 1.67\n"
     ]
    },
    {
     "name": "stderr",
     "output_type": "stream",
     "text": [
      "100%|███████████████████████████████████████████| 16/16 [00:02<00:00,  5.63it/s]\n"
     ]
    },
    {
     "name": "stdout",
     "output_type": "stream",
     "text": [
      "Epoch: 53\n",
      "Train accuracy: 86.89% Loss: 4.37\n",
      "Test accuracy: 82.50% Loss: 1.67\n"
     ]
    },
    {
     "name": "stderr",
     "output_type": "stream",
     "text": [
      "100%|███████████████████████████████████████████| 16/16 [00:02<00:00,  5.66it/s]\n"
     ]
    },
    {
     "name": "stdout",
     "output_type": "stream",
     "text": [
      "Epoch: 54\n",
      "Train accuracy: 87.05% Loss: 4.31\n",
      "Test accuracy: 82.36% Loss: 1.67\n"
     ]
    },
    {
     "name": "stderr",
     "output_type": "stream",
     "text": [
      "100%|███████████████████████████████████████████| 16/16 [00:02<00:00,  5.65it/s]\n"
     ]
    },
    {
     "name": "stdout",
     "output_type": "stream",
     "text": [
      "Epoch: 55\n",
      "Train accuracy: 86.36% Loss: 4.50\n",
      "Test accuracy: 81.93% Loss: 1.76\n"
     ]
    },
    {
     "name": "stderr",
     "output_type": "stream",
     "text": [
      "100%|███████████████████████████████████████████| 16/16 [00:02<00:00,  5.65it/s]\n"
     ]
    },
    {
     "name": "stdout",
     "output_type": "stream",
     "text": [
      "Epoch: 56\n",
      "Train accuracy: 84.30% Loss: 5.80\n",
      "Test accuracy: 80.14% Loss: 2.13\n"
     ]
    },
    {
     "name": "stderr",
     "output_type": "stream",
     "text": [
      "100%|███████████████████████████████████████████| 16/16 [00:02<00:00,  5.55it/s]\n"
     ]
    },
    {
     "name": "stdout",
     "output_type": "stream",
     "text": [
      "Epoch: 57\n",
      "Train accuracy: 85.57% Loss: 4.67\n",
      "Test accuracy: 81.07% Loss: 1.73\n"
     ]
    },
    {
     "name": "stderr",
     "output_type": "stream",
     "text": [
      "100%|███████████████████████████████████████████| 16/16 [00:02<00:00,  5.65it/s]\n"
     ]
    },
    {
     "name": "stdout",
     "output_type": "stream",
     "text": [
      "Epoch: 58\n",
      "Train accuracy: 87.82% Loss: 4.03\n",
      "Test accuracy: 83.71% Loss: 1.65\n"
     ]
    },
    {
     "name": "stderr",
     "output_type": "stream",
     "text": [
      "100%|███████████████████████████████████████████| 16/16 [00:02<00:00,  5.63it/s]\n"
     ]
    },
    {
     "name": "stdout",
     "output_type": "stream",
     "text": [
      "Epoch: 59\n",
      "Train accuracy: 88.09% Loss: 3.90\n",
      "Test accuracy: 83.86% Loss: 1.64\n"
     ]
    },
    {
     "name": "stderr",
     "output_type": "stream",
     "text": [
      "100%|███████████████████████████████████████████| 16/16 [00:02<00:00,  5.61it/s]\n"
     ]
    },
    {
     "name": "stdout",
     "output_type": "stream",
     "text": [
      "Epoch: 60\n",
      "Train accuracy: 87.98% Loss: 3.96\n",
      "Test accuracy: 83.43% Loss: 1.72\n"
     ]
    },
    {
     "name": "stderr",
     "output_type": "stream",
     "text": [
      "100%|███████████████████████████████████████████| 16/16 [00:02<00:00,  5.62it/s]\n"
     ]
    },
    {
     "name": "stdout",
     "output_type": "stream",
     "text": [
      "Epoch: 61\n",
      "Train accuracy: 88.57% Loss: 3.94\n",
      "Test accuracy: 83.71% Loss: 1.70\n"
     ]
    },
    {
     "name": "stderr",
     "output_type": "stream",
     "text": [
      "100%|███████████████████████████████████████████| 16/16 [00:02<00:00,  5.43it/s]\n"
     ]
    },
    {
     "name": "stdout",
     "output_type": "stream",
     "text": [
      "Epoch: 62\n",
      "Train accuracy: 88.43% Loss: 3.65\n",
      "Test accuracy: 84.00% Loss: 1.59\n"
     ]
    },
    {
     "name": "stderr",
     "output_type": "stream",
     "text": [
      "100%|███████████████████████████████████████████| 16/16 [00:02<00:00,  5.60it/s]\n"
     ]
    },
    {
     "name": "stdout",
     "output_type": "stream",
     "text": [
      "Epoch: 63\n",
      "Train accuracy: 91.36% Loss: 3.25\n",
      "Test accuracy: 87.00% Loss: 1.52\n"
     ]
    },
    {
     "name": "stderr",
     "output_type": "stream",
     "text": [
      "100%|███████████████████████████████████████████| 16/16 [00:02<00:00,  5.61it/s]\n"
     ]
    },
    {
     "name": "stdout",
     "output_type": "stream",
     "text": [
      "Epoch: 64\n",
      "Train accuracy: 92.82% Loss: 2.84\n",
      "Test accuracy: 87.43% Loss: 1.43\n"
     ]
    },
    {
     "name": "stderr",
     "output_type": "stream",
     "text": [
      "100%|███████████████████████████████████████████| 16/16 [00:02<00:00,  5.64it/s]\n"
     ]
    },
    {
     "name": "stdout",
     "output_type": "stream",
     "text": [
      "Epoch: 65\n",
      "Train accuracy: 93.11% Loss: 2.64\n",
      "Test accuracy: 88.43% Loss: 1.42\n"
     ]
    },
    {
     "name": "stderr",
     "output_type": "stream",
     "text": [
      "100%|███████████████████████████████████████████| 16/16 [00:02<00:00,  5.65it/s]\n"
     ]
    },
    {
     "name": "stdout",
     "output_type": "stream",
     "text": [
      "Epoch: 66\n",
      "Train accuracy: 92.96% Loss: 2.71\n",
      "Test accuracy: 87.79% Loss: 1.44\n"
     ]
    },
    {
     "name": "stderr",
     "output_type": "stream",
     "text": [
      "100%|███████████████████████████████████████████| 16/16 [00:02<00:00,  5.61it/s]\n"
     ]
    },
    {
     "name": "stdout",
     "output_type": "stream",
     "text": [
      "Epoch: 67\n",
      "Train accuracy: 94.12% Loss: 2.86\n",
      "Test accuracy: 88.93% Loss: 1.51\n"
     ]
    },
    {
     "name": "stderr",
     "output_type": "stream",
     "text": [
      "100%|███████████████████████████████████████████| 16/16 [00:02<00:00,  5.34it/s]\n"
     ]
    },
    {
     "name": "stdout",
     "output_type": "stream",
     "text": [
      "Epoch: 68\n",
      "Train accuracy: 94.32% Loss: 2.50\n",
      "Test accuracy: 88.14% Loss: 1.40\n"
     ]
    },
    {
     "name": "stderr",
     "output_type": "stream",
     "text": [
      "100%|███████████████████████████████████████████| 16/16 [00:02<00:00,  5.49it/s]\n"
     ]
    },
    {
     "name": "stdout",
     "output_type": "stream",
     "text": [
      "Epoch: 69\n",
      "Train accuracy: 95.32% Loss: 2.14\n",
      "Test accuracy: 89.07% Loss: 1.43\n"
     ]
    },
    {
     "name": "stderr",
     "output_type": "stream",
     "text": [
      "100%|███████████████████████████████████████████| 16/16 [00:02<00:00,  5.61it/s]\n"
     ]
    },
    {
     "name": "stdout",
     "output_type": "stream",
     "text": [
      "Epoch: 70\n",
      "Train accuracy: 94.36% Loss: 2.54\n",
      "Test accuracy: 88.29% Loss: 1.49\n"
     ]
    },
    {
     "name": "stderr",
     "output_type": "stream",
     "text": [
      "100%|███████████████████████████████████████████| 16/16 [00:02<00:00,  5.61it/s]\n"
     ]
    },
    {
     "name": "stdout",
     "output_type": "stream",
     "text": [
      "Epoch: 71\n",
      "Train accuracy: 95.34% Loss: 2.08\n",
      "Test accuracy: 89.36% Loss: 1.51\n"
     ]
    },
    {
     "name": "stderr",
     "output_type": "stream",
     "text": [
      "100%|███████████████████████████████████████████| 16/16 [00:02<00:00,  5.64it/s]\n"
     ]
    },
    {
     "name": "stdout",
     "output_type": "stream",
     "text": [
      "Epoch: 72\n",
      "Train accuracy: 96.50% Loss: 1.80\n",
      "Test accuracy: 89.00% Loss: 1.34\n"
     ]
    },
    {
     "name": "stderr",
     "output_type": "stream",
     "text": [
      "100%|███████████████████████████████████████████| 16/16 [00:02<00:00,  5.49it/s]\n"
     ]
    },
    {
     "name": "stdout",
     "output_type": "stream",
     "text": [
      "Epoch: 73\n",
      "Train accuracy: 96.66% Loss: 1.73\n",
      "Test accuracy: 89.29% Loss: 1.42\n"
     ]
    },
    {
     "name": "stderr",
     "output_type": "stream",
     "text": [
      "100%|███████████████████████████████████████████| 16/16 [00:02<00:00,  5.64it/s]\n"
     ]
    },
    {
     "name": "stdout",
     "output_type": "stream",
     "text": [
      "Epoch: 74\n",
      "Train accuracy: 96.41% Loss: 1.84\n",
      "Test accuracy: 89.64% Loss: 1.34\n"
     ]
    },
    {
     "name": "stderr",
     "output_type": "stream",
     "text": [
      "100%|███████████████████████████████████████████| 16/16 [00:02<00:00,  5.64it/s]\n"
     ]
    },
    {
     "name": "stdout",
     "output_type": "stream",
     "text": [
      "Epoch: 75\n",
      "Train accuracy: 89.93% Loss: 3.59\n",
      "Test accuracy: 84.93% Loss: 1.74\n"
     ]
    },
    {
     "name": "stderr",
     "output_type": "stream",
     "text": [
      "100%|███████████████████████████████████████████| 16/16 [00:02<00:00,  5.63it/s]\n"
     ]
    },
    {
     "name": "stdout",
     "output_type": "stream",
     "text": [
      "Epoch: 76\n",
      "Train accuracy: 94.46% Loss: 2.49\n",
      "Test accuracy: 87.21% Loss: 1.46\n"
     ]
    },
    {
     "name": "stderr",
     "output_type": "stream",
     "text": [
      "100%|███████████████████████████████████████████| 16/16 [00:02<00:00,  5.63it/s]\n"
     ]
    },
    {
     "name": "stdout",
     "output_type": "stream",
     "text": [
      "Epoch: 77\n",
      "Train accuracy: 97.46% Loss: 1.36\n",
      "Test accuracy: 89.86% Loss: 1.39\n"
     ]
    },
    {
     "name": "stderr",
     "output_type": "stream",
     "text": [
      "100%|███████████████████████████████████████████| 16/16 [00:02<00:00,  5.63it/s]\n"
     ]
    },
    {
     "name": "stdout",
     "output_type": "stream",
     "text": [
      "Epoch: 78\n",
      "Train accuracy: 96.80% Loss: 1.68\n",
      "Test accuracy: 89.36% Loss: 1.46\n"
     ]
    },
    {
     "name": "stderr",
     "output_type": "stream",
     "text": [
      "100%|███████████████████████████████████████████| 16/16 [00:02<00:00,  5.65it/s]\n"
     ]
    },
    {
     "name": "stdout",
     "output_type": "stream",
     "text": [
      "Epoch: 79\n",
      "Train accuracy: 94.18% Loss: 2.78\n",
      "Test accuracy: 88.14% Loss: 1.55\n"
     ]
    },
    {
     "name": "stderr",
     "output_type": "stream",
     "text": [
      "100%|███████████████████████████████████████████| 16/16 [00:02<00:00,  5.63it/s]\n"
     ]
    },
    {
     "name": "stdout",
     "output_type": "stream",
     "text": [
      "Epoch: 80\n",
      "Train accuracy: 96.36% Loss: 1.82\n",
      "Test accuracy: 89.57% Loss: 1.35\n"
     ]
    },
    {
     "name": "stderr",
     "output_type": "stream",
     "text": [
      "100%|███████████████████████████████████████████| 16/16 [00:02<00:00,  5.63it/s]\n"
     ]
    },
    {
     "name": "stdout",
     "output_type": "stream",
     "text": [
      "Epoch: 81\n",
      "Train accuracy: 96.79% Loss: 1.63\n",
      "Test accuracy: 90.07% Loss: 1.32\n"
     ]
    },
    {
     "name": "stderr",
     "output_type": "stream",
     "text": [
      "100%|███████████████████████████████████████████| 16/16 [00:02<00:00,  5.65it/s]\n"
     ]
    },
    {
     "name": "stdout",
     "output_type": "stream",
     "text": [
      "Epoch: 82\n",
      "Train accuracy: 97.04% Loss: 1.52\n",
      "Test accuracy: 90.07% Loss: 1.36\n"
     ]
    },
    {
     "name": "stderr",
     "output_type": "stream",
     "text": [
      "100%|███████████████████████████████████████████| 16/16 [00:02<00:00,  5.62it/s]\n"
     ]
    },
    {
     "name": "stdout",
     "output_type": "stream",
     "text": [
      "Epoch: 83\n",
      "Train accuracy: 97.20% Loss: 1.46\n",
      "Test accuracy: 90.36% Loss: 1.37\n"
     ]
    },
    {
     "name": "stderr",
     "output_type": "stream",
     "text": [
      "100%|███████████████████████████████████████████| 16/16 [00:02<00:00,  5.60it/s]\n"
     ]
    },
    {
     "name": "stdout",
     "output_type": "stream",
     "text": [
      "Epoch: 84\n",
      "Train accuracy: 97.38% Loss: 1.36\n",
      "Test accuracy: 90.93% Loss: 1.31\n"
     ]
    },
    {
     "name": "stderr",
     "output_type": "stream",
     "text": [
      "100%|███████████████████████████████████████████| 16/16 [00:02<00:00,  5.64it/s]\n"
     ]
    },
    {
     "name": "stdout",
     "output_type": "stream",
     "text": [
      "Epoch: 85\n",
      "Train accuracy: 97.54% Loss: 1.26\n",
      "Test accuracy: 90.64% Loss: 1.33\n"
     ]
    },
    {
     "name": "stderr",
     "output_type": "stream",
     "text": [
      "100%|███████████████████████████████████████████| 16/16 [00:02<00:00,  5.64it/s]\n"
     ]
    },
    {
     "name": "stdout",
     "output_type": "stream",
     "text": [
      "Epoch: 86\n",
      "Train accuracy: 97.45% Loss: 1.27\n",
      "Test accuracy: 90.07% Loss: 1.36\n"
     ]
    },
    {
     "name": "stderr",
     "output_type": "stream",
     "text": [
      "100%|███████████████████████████████████████████| 16/16 [00:02<00:00,  5.63it/s]\n"
     ]
    },
    {
     "name": "stdout",
     "output_type": "stream",
     "text": [
      "Epoch: 87\n",
      "Train accuracy: 96.50% Loss: 1.78\n",
      "Test accuracy: 90.29% Loss: 1.43\n"
     ]
    },
    {
     "name": "stderr",
     "output_type": "stream",
     "text": [
      "100%|███████████████████████████████████████████| 16/16 [00:02<00:00,  5.58it/s]\n"
     ]
    },
    {
     "name": "stdout",
     "output_type": "stream",
     "text": [
      "Epoch: 88\n",
      "Train accuracy: 93.14% Loss: 3.38\n",
      "Test accuracy: 87.07% Loss: 1.83\n"
     ]
    },
    {
     "name": "stderr",
     "output_type": "stream",
     "text": [
      "100%|███████████████████████████████████████████| 16/16 [00:02<00:00,  5.60it/s]\n"
     ]
    },
    {
     "name": "stdout",
     "output_type": "stream",
     "text": [
      "Epoch: 89\n",
      "Train accuracy: 97.21% Loss: 1.54\n",
      "Test accuracy: 90.29% Loss: 1.32\n"
     ]
    },
    {
     "name": "stderr",
     "output_type": "stream",
     "text": [
      "100%|███████████████████████████████████████████| 16/16 [00:02<00:00,  5.66it/s]\n"
     ]
    },
    {
     "name": "stdout",
     "output_type": "stream",
     "text": [
      "Epoch: 90\n",
      "Train accuracy: 97.27% Loss: 1.44\n",
      "Test accuracy: 91.21% Loss: 1.25\n"
     ]
    },
    {
     "name": "stderr",
     "output_type": "stream",
     "text": [
      "100%|███████████████████████████████████████████| 16/16 [00:02<00:00,  5.65it/s]\n"
     ]
    },
    {
     "name": "stdout",
     "output_type": "stream",
     "text": [
      "Epoch: 91\n",
      "Train accuracy: 97.64% Loss: 1.24\n",
      "Test accuracy: 90.43% Loss: 1.37\n"
     ]
    },
    {
     "name": "stderr",
     "output_type": "stream",
     "text": [
      "100%|███████████████████████████████████████████| 16/16 [00:02<00:00,  5.65it/s]\n"
     ]
    },
    {
     "name": "stdout",
     "output_type": "stream",
     "text": [
      "Epoch: 92\n",
      "Train accuracy: 97.25% Loss: 1.36\n",
      "Test accuracy: 89.71% Loss: 1.37\n"
     ]
    },
    {
     "name": "stderr",
     "output_type": "stream",
     "text": [
      "100%|███████████████████████████████████████████| 16/16 [00:02<00:00,  5.62it/s]\n"
     ]
    },
    {
     "name": "stdout",
     "output_type": "stream",
     "text": [
      "Epoch: 93\n",
      "Train accuracy: 97.62% Loss: 1.17\n",
      "Test accuracy: 90.93% Loss: 1.27\n"
     ]
    },
    {
     "name": "stderr",
     "output_type": "stream",
     "text": [
      "100%|███████████████████████████████████████████| 16/16 [00:02<00:00,  5.66it/s]\n"
     ]
    },
    {
     "name": "stdout",
     "output_type": "stream",
     "text": [
      "Epoch: 94\n",
      "Train accuracy: 97.82% Loss: 1.06\n",
      "Test accuracy: 91.14% Loss: 1.31\n"
     ]
    },
    {
     "name": "stderr",
     "output_type": "stream",
     "text": [
      "100%|███████████████████████████████████████████| 16/16 [00:02<00:00,  5.64it/s]\n"
     ]
    },
    {
     "name": "stdout",
     "output_type": "stream",
     "text": [
      "Epoch: 95\n",
      "Train accuracy: 98.05% Loss: 0.95\n",
      "Test accuracy: 91.00% Loss: 1.24\n"
     ]
    },
    {
     "name": "stderr",
     "output_type": "stream",
     "text": [
      "100%|███████████████████████████████████████████| 16/16 [00:02<00:00,  5.66it/s]\n"
     ]
    },
    {
     "name": "stdout",
     "output_type": "stream",
     "text": [
      "Epoch: 96\n",
      "Train accuracy: 98.12% Loss: 0.93\n",
      "Test accuracy: 91.43% Loss: 1.24\n"
     ]
    },
    {
     "name": "stderr",
     "output_type": "stream",
     "text": [
      "100%|███████████████████████████████████████████| 16/16 [00:02<00:00,  5.67it/s]\n"
     ]
    },
    {
     "name": "stdout",
     "output_type": "stream",
     "text": [
      "Epoch: 97\n",
      "Train accuracy: 98.20% Loss: 0.90\n",
      "Test accuracy: 91.36% Loss: 1.26\n"
     ]
    },
    {
     "name": "stderr",
     "output_type": "stream",
     "text": [
      "100%|███████████████████████████████████████████| 16/16 [00:02<00:00,  5.48it/s]\n"
     ]
    },
    {
     "name": "stdout",
     "output_type": "stream",
     "text": [
      "Epoch: 98\n",
      "Train accuracy: 98.18% Loss: 0.90\n",
      "Test accuracy: 91.71% Loss: 1.23\n"
     ]
    },
    {
     "name": "stderr",
     "output_type": "stream",
     "text": [
      "100%|███████████████████████████████████████████| 16/16 [00:02<00:00,  5.59it/s]\n"
     ]
    },
    {
     "name": "stdout",
     "output_type": "stream",
     "text": [
      "Epoch: 99\n",
      "Train accuracy: 98.27% Loss: 0.85\n",
      "Test accuracy: 91.43% Loss: 1.27\n"
     ]
    },
    {
     "name": "stderr",
     "output_type": "stream",
     "text": [
      "100%|███████████████████████████████████████████| 16/16 [00:02<00:00,  5.61it/s]\n"
     ]
    },
    {
     "name": "stdout",
     "output_type": "stream",
     "text": [
      "Epoch: 100\n",
      "Train accuracy: 98.32% Loss: 0.83\n",
      "Test accuracy: 91.36% Loss: 1.29\n"
     ]
    },
    {
     "name": "stderr",
     "output_type": "stream",
     "text": [
      "100%|███████████████████████████████████████████| 16/16 [00:02<00:00,  5.54it/s]\n"
     ]
    },
    {
     "name": "stdout",
     "output_type": "stream",
     "text": [
      "Epoch: 101\n",
      "Train accuracy: 98.34% Loss: 0.81\n",
      "Test accuracy: 91.21% Loss: 1.32\n"
     ]
    },
    {
     "name": "stderr",
     "output_type": "stream",
     "text": [
      "100%|███████████████████████████████████████████| 16/16 [00:02<00:00,  5.63it/s]\n"
     ]
    },
    {
     "name": "stdout",
     "output_type": "stream",
     "text": [
      "Epoch: 102\n",
      "Train accuracy: 98.36% Loss: 0.80\n",
      "Test accuracy: 91.93% Loss: 1.34\n"
     ]
    },
    {
     "name": "stderr",
     "output_type": "stream",
     "text": [
      "100%|███████████████████████████████████████████| 16/16 [00:02<00:00,  5.54it/s]\n"
     ]
    },
    {
     "name": "stdout",
     "output_type": "stream",
     "text": [
      "Epoch: 103\n",
      "Train accuracy: 98.38% Loss: 0.79\n",
      "Test accuracy: 91.50% Loss: 1.34\n"
     ]
    },
    {
     "name": "stderr",
     "output_type": "stream",
     "text": [
      "100%|███████████████████████████████████████████| 16/16 [00:02<00:00,  5.49it/s]\n"
     ]
    },
    {
     "name": "stdout",
     "output_type": "stream",
     "text": [
      "Epoch: 104\n",
      "Train accuracy: 98.38% Loss: 0.78\n",
      "Test accuracy: 91.07% Loss: 1.41\n"
     ]
    },
    {
     "name": "stderr",
     "output_type": "stream",
     "text": [
      "100%|███████████████████████████████████████████| 16/16 [00:02<00:00,  5.51it/s]\n"
     ]
    },
    {
     "name": "stdout",
     "output_type": "stream",
     "text": [
      "Epoch: 105\n",
      "Train accuracy: 98.43% Loss: 0.75\n",
      "Test accuracy: 90.71% Loss: 1.44\n"
     ]
    },
    {
     "name": "stderr",
     "output_type": "stream",
     "text": [
      "100%|███████████████████████████████████████████| 16/16 [00:02<00:00,  5.68it/s]\n"
     ]
    },
    {
     "name": "stdout",
     "output_type": "stream",
     "text": [
      "Epoch: 106\n",
      "Train accuracy: 98.45% Loss: 0.74\n",
      "Test accuracy: 91.36% Loss: 1.40\n"
     ]
    },
    {
     "name": "stderr",
     "output_type": "stream",
     "text": [
      "100%|███████████████████████████████████████████| 16/16 [00:02<00:00,  5.46it/s]\n"
     ]
    },
    {
     "name": "stdout",
     "output_type": "stream",
     "text": [
      "Epoch: 107\n",
      "Train accuracy: 98.43% Loss: 0.73\n",
      "Test accuracy: 90.71% Loss: 1.44\n"
     ]
    },
    {
     "name": "stderr",
     "output_type": "stream",
     "text": [
      "100%|███████████████████████████████████████████| 16/16 [00:02<00:00,  5.73it/s]\n"
     ]
    },
    {
     "name": "stdout",
     "output_type": "stream",
     "text": [
      "Epoch: 108\n",
      "Train accuracy: 98.45% Loss: 0.73\n",
      "Test accuracy: 91.50% Loss: 1.38\n"
     ]
    },
    {
     "name": "stderr",
     "output_type": "stream",
     "text": [
      "100%|███████████████████████████████████████████| 16/16 [00:02<00:00,  5.78it/s]\n"
     ]
    },
    {
     "name": "stdout",
     "output_type": "stream",
     "text": [
      "Epoch: 109\n",
      "Train accuracy: 98.34% Loss: 0.78\n",
      "Test accuracy: 91.14% Loss: 1.40\n"
     ]
    },
    {
     "name": "stderr",
     "output_type": "stream",
     "text": [
      "100%|███████████████████████████████████████████| 16/16 [00:02<00:00,  5.74it/s]\n"
     ]
    },
    {
     "name": "stdout",
     "output_type": "stream",
     "text": [
      "Epoch: 110\n",
      "Train accuracy: 98.43% Loss: 0.76\n",
      "Test accuracy: 90.86% Loss: 1.51\n"
     ]
    },
    {
     "name": "stderr",
     "output_type": "stream",
     "text": [
      "100%|███████████████████████████████████████████| 16/16 [00:02<00:00,  5.80it/s]\n"
     ]
    },
    {
     "name": "stdout",
     "output_type": "stream",
     "text": [
      "Epoch: 111\n",
      "Train accuracy: 98.45% Loss: 0.74\n",
      "Test accuracy: 91.29% Loss: 1.45\n"
     ]
    },
    {
     "name": "stderr",
     "output_type": "stream",
     "text": [
      "100%|███████████████████████████████████████████| 16/16 [00:02<00:00,  5.80it/s]\n"
     ]
    },
    {
     "name": "stdout",
     "output_type": "stream",
     "text": [
      "Epoch: 112\n",
      "Train accuracy: 98.45% Loss: 0.73\n",
      "Test accuracy: 91.21% Loss: 1.41\n"
     ]
    },
    {
     "name": "stderr",
     "output_type": "stream",
     "text": [
      "100%|███████████████████████████████████████████| 16/16 [00:02<00:00,  5.82it/s]\n"
     ]
    },
    {
     "name": "stdout",
     "output_type": "stream",
     "text": [
      "Epoch: 113\n",
      "Train accuracy: 98.45% Loss: 0.72\n",
      "Test accuracy: 91.29% Loss: 1.44\n"
     ]
    },
    {
     "name": "stderr",
     "output_type": "stream",
     "text": [
      "100%|███████████████████████████████████████████| 16/16 [00:02<00:00,  5.79it/s]\n"
     ]
    },
    {
     "name": "stdout",
     "output_type": "stream",
     "text": [
      "Epoch: 114\n",
      "Train accuracy: 98.46% Loss: 0.72\n",
      "Test accuracy: 91.57% Loss: 1.43\n"
     ]
    },
    {
     "name": "stderr",
     "output_type": "stream",
     "text": [
      "100%|███████████████████████████████████████████| 16/16 [00:02<00:00,  5.82it/s]\n"
     ]
    },
    {
     "name": "stdout",
     "output_type": "stream",
     "text": [
      "Epoch: 115\n",
      "Train accuracy: 98.46% Loss: 0.74\n",
      "Test accuracy: 91.43% Loss: 1.38\n"
     ]
    },
    {
     "name": "stderr",
     "output_type": "stream",
     "text": [
      "100%|███████████████████████████████████████████| 16/16 [00:02<00:00,  5.80it/s]\n"
     ]
    },
    {
     "name": "stdout",
     "output_type": "stream",
     "text": [
      "Epoch: 116\n",
      "Train accuracy: 98.46% Loss: 0.72\n",
      "Test accuracy: 91.21% Loss: 1.45\n"
     ]
    },
    {
     "name": "stderr",
     "output_type": "stream",
     "text": [
      "100%|███████████████████████████████████████████| 16/16 [00:02<00:00,  5.79it/s]\n"
     ]
    },
    {
     "name": "stdout",
     "output_type": "stream",
     "text": [
      "Epoch: 117\n",
      "Train accuracy: 98.46% Loss: 0.73\n",
      "Test accuracy: 91.07% Loss: 1.47\n"
     ]
    },
    {
     "name": "stderr",
     "output_type": "stream",
     "text": [
      "100%|███████████████████████████████████████████| 16/16 [00:02<00:00,  5.79it/s]\n"
     ]
    },
    {
     "name": "stdout",
     "output_type": "stream",
     "text": [
      "Epoch: 118\n",
      "Train accuracy: 98.46% Loss: 0.72\n",
      "Test accuracy: 91.14% Loss: 1.50\n"
     ]
    },
    {
     "name": "stderr",
     "output_type": "stream",
     "text": [
      "100%|███████████████████████████████████████████| 16/16 [00:02<00:00,  5.80it/s]\n"
     ]
    },
    {
     "name": "stdout",
     "output_type": "stream",
     "text": [
      "Epoch: 119\n",
      "Train accuracy: 98.48% Loss: 0.71\n",
      "Test accuracy: 91.07% Loss: 1.47\n",
      "Total time: 9.03 min\n",
      "Test accuracy: 91.21%\n"
     ]
    }
   ],
   "source": [
    "acc_score = train(model, epochs=120, prefix='2m_')"
   ]
  },
  {
   "cell_type": "code",
   "execution_count": 59,
   "id": "ed8926f4-9481-472a-9222-c47b7bb88609",
   "metadata": {},
   "outputs": [
    {
     "data": {
      "image/png": "[encoded data removed]",
      "text/plain": [
       "<Figure size 640x480 with 2 Axes>"
      ]
     },
     "metadata": {},
     "output_type": "display_data"
    }
   ],
   "source": [
    "learn_chart(acc_score)"
   ]
  },
  {
   "cell_type": "markdown",
   "id": "eb4adf48-ebf4-4617-b06a-517d93c3ee54",
   "metadata": {},
   "source": [
    "## 3 model"
   ]
  },
  {
   "cell_type": "code",
   "execution_count": 70,
   "id": "b09e0435-1c9a-4876-89ac-f99e54475e0c",
   "metadata": {},
   "outputs": [
    {
     "name": "stdout",
     "output_type": "stream",
     "text": [
      "LSTM(\n",
      "  (embedding): Embedding(16459, 64, padding_idx=0)\n",
      "  (lstm): LSTM(64, 128, batch_first=True)\n",
      "  (fc): Linear(in_features=128, out_features=2, bias=True)\n",
      "  (dropout): Dropout(p=0.25, inplace=False)\n",
      "  (sig): Sigmoid()\n",
      ")\n"
     ]
    }
   ],
   "source": [
    "model = LSTM(input_size=len(tokens) + 1,\n",
    "            embedding_dim=64,\n",
    "            hidden_size=128,\n",
    "            output_size=2,\n",
    "            num_layers=1,\n",
    "            l_dropout=0,\n",
    "            dropout=0.25\n",
    ")\n",
    "\n",
    "model = model.to(device)\n",
    "optimizer = torch.optim.Adam(model.parameters(), lr=0.001)\n",
    "loss_fn = nn.BCELoss()\n",
    "\n",
    "print(model)"
   ]
  },
  {
   "cell_type": "code",
   "execution_count": 71,
   "id": "3427a699-47e9-493d-a2d7-53cdc5fdb521",
   "metadata": {
    "scrolled": true
   },
   "outputs": [
    {
     "name": "stderr",
     "output_type": "stream",
     "text": [
      "100%|███████████████████████████████████████████| 16/16 [00:00<00:00, 16.61it/s]\n"
     ]
    },
    {
     "name": "stdout",
     "output_type": "stream",
     "text": [
      "Epoch: 0\n",
      "Train accuracy: 52.14% Loss: 11.06\n",
      "Test accuracy: 50.50% Loss: 2.77\n"
     ]
    },
    {
     "name": "stderr",
     "output_type": "stream",
     "text": [
      "100%|███████████████████████████████████████████| 16/16 [00:00<00:00, 18.20it/s]\n"
     ]
    },
    {
     "name": "stdout",
     "output_type": "stream",
     "text": [
      "Epoch: 1\n",
      "Train accuracy: 53.05% Loss: 10.96\n",
      "Test accuracy: 51.64% Loss: 2.75\n"
     ]
    },
    {
     "name": "stderr",
     "output_type": "stream",
     "text": [
      "100%|███████████████████████████████████████████| 16/16 [00:00<00:00, 17.21it/s]\n"
     ]
    },
    {
     "name": "stdout",
     "output_type": "stream",
     "text": [
      "Epoch: 2\n",
      "Train accuracy: 52.71% Loss: 10.98\n",
      "Test accuracy: 51.29% Loss: 2.75\n"
     ]
    },
    {
     "name": "stderr",
     "output_type": "stream",
     "text": [
      "100%|███████████████████████████████████████████| 16/16 [00:00<00:00, 17.68it/s]\n"
     ]
    },
    {
     "name": "stdout",
     "output_type": "stream",
     "text": [
      "Epoch: 3\n",
      "Train accuracy: 52.71% Loss: 10.96\n",
      "Test accuracy: 51.21% Loss: 2.75\n"
     ]
    },
    {
     "name": "stderr",
     "output_type": "stream",
     "text": [
      "100%|███████████████████████████████████████████| 16/16 [00:00<00:00, 17.54it/s]\n"
     ]
    },
    {
     "name": "stdout",
     "output_type": "stream",
     "text": [
      "Epoch: 4\n",
      "Train accuracy: 52.77% Loss: 10.92\n",
      "Test accuracy: 51.21% Loss: 2.75\n"
     ]
    },
    {
     "name": "stderr",
     "output_type": "stream",
     "text": [
      "100%|███████████████████████████████████████████| 16/16 [00:00<00:00, 17.67it/s]\n"
     ]
    },
    {
     "name": "stdout",
     "output_type": "stream",
     "text": [
      "Epoch: 5\n",
      "Train accuracy: 52.82% Loss: 10.89\n",
      "Test accuracy: 51.29% Loss: 2.74\n"
     ]
    },
    {
     "name": "stderr",
     "output_type": "stream",
     "text": [
      "100%|███████████████████████████████████████████| 16/16 [00:00<00:00, 17.68it/s]\n"
     ]
    },
    {
     "name": "stdout",
     "output_type": "stream",
     "text": [
      "Epoch: 6\n",
      "Train accuracy: 53.00% Loss: 10.84\n",
      "Test accuracy: 51.71% Loss: 2.74\n"
     ]
    },
    {
     "name": "stderr",
     "output_type": "stream",
     "text": [
      "100%|███████████████████████████████████████████| 16/16 [00:00<00:00, 17.62it/s]\n"
     ]
    },
    {
     "name": "stdout",
     "output_type": "stream",
     "text": [
      "Epoch: 7\n",
      "Train accuracy: 53.54% Loss: 10.78\n",
      "Test accuracy: 52.36% Loss: 2.73\n"
     ]
    },
    {
     "name": "stderr",
     "output_type": "stream",
     "text": [
      "100%|███████████████████████████████████████████| 16/16 [00:00<00:00, 17.59it/s]\n"
     ]
    },
    {
     "name": "stdout",
     "output_type": "stream",
     "text": [
      "Epoch: 8\n",
      "Train accuracy: 53.23% Loss: 10.81\n",
      "Test accuracy: 51.36% Loss: 2.74\n"
     ]
    },
    {
     "name": "stderr",
     "output_type": "stream",
     "text": [
      "100%|███████████████████████████████████████████| 16/16 [00:00<00:00, 17.59it/s]\n"
     ]
    },
    {
     "name": "stdout",
     "output_type": "stream",
     "text": [
      "Epoch: 9\n",
      "Train accuracy: 53.11% Loss: 10.83\n",
      "Test accuracy: 51.21% Loss: 2.74\n"
     ]
    },
    {
     "name": "stderr",
     "output_type": "stream",
     "text": [
      "100%|███████████████████████████████████████████| 16/16 [00:00<00:00, 17.62it/s]\n"
     ]
    },
    {
     "name": "stdout",
     "output_type": "stream",
     "text": [
      "Epoch: 10\n",
      "Train accuracy: 53.11% Loss: 10.81\n",
      "Test accuracy: 51.29% Loss: 2.74\n"
     ]
    },
    {
     "name": "stderr",
     "output_type": "stream",
     "text": [
      "100%|███████████████████████████████████████████| 16/16 [00:00<00:00, 17.61it/s]\n"
     ]
    },
    {
     "name": "stdout",
     "output_type": "stream",
     "text": [
      "Epoch: 11\n",
      "Train accuracy: 53.20% Loss: 10.78\n",
      "Test accuracy: 51.36% Loss: 2.74\n"
     ]
    },
    {
     "name": "stderr",
     "output_type": "stream",
     "text": [
      "100%|███████████████████████████████████████████| 16/16 [00:00<00:00, 17.55it/s]\n"
     ]
    },
    {
     "name": "stdout",
     "output_type": "stream",
     "text": [
      "Epoch: 12\n",
      "Train accuracy: 53.41% Loss: 10.76\n",
      "Test accuracy: 51.43% Loss: 2.74\n"
     ]
    },
    {
     "name": "stderr",
     "output_type": "stream",
     "text": [
      "100%|███████████████████████████████████████████| 16/16 [00:00<00:00, 17.56it/s]\n"
     ]
    },
    {
     "name": "stdout",
     "output_type": "stream",
     "text": [
      "Epoch: 13\n",
      "Train accuracy: 53.48% Loss: 10.74\n",
      "Test accuracy: 51.50% Loss: 2.74\n"
     ]
    },
    {
     "name": "stderr",
     "output_type": "stream",
     "text": [
      "100%|███████████████████████████████████████████| 16/16 [00:00<00:00, 17.48it/s]\n"
     ]
    },
    {
     "name": "stdout",
     "output_type": "stream",
     "text": [
      "Epoch: 14\n",
      "Train accuracy: 53.54% Loss: 10.73\n",
      "Test accuracy: 51.50% Loss: 2.73\n"
     ]
    },
    {
     "name": "stderr",
     "output_type": "stream",
     "text": [
      "100%|███████████████████████████████████████████| 16/16 [00:00<00:00, 17.53it/s]\n"
     ]
    },
    {
     "name": "stdout",
     "output_type": "stream",
     "text": [
      "Epoch: 15\n",
      "Train accuracy: 53.70% Loss: 10.70\n",
      "Test accuracy: 51.79% Loss: 2.74\n"
     ]
    },
    {
     "name": "stderr",
     "output_type": "stream",
     "text": [
      "100%|███████████████████████████████████████████| 16/16 [00:00<00:00, 17.55it/s]\n"
     ]
    },
    {
     "name": "stdout",
     "output_type": "stream",
     "text": [
      "Epoch: 16\n",
      "Train accuracy: 53.82% Loss: 10.68\n",
      "Test accuracy: 52.00% Loss: 2.74\n"
     ]
    },
    {
     "name": "stderr",
     "output_type": "stream",
     "text": [
      "100%|███████████████████████████████████████████| 16/16 [00:00<00:00, 17.55it/s]\n"
     ]
    },
    {
     "name": "stdout",
     "output_type": "stream",
     "text": [
      "Epoch: 17\n",
      "Train accuracy: 54.14% Loss: 10.63\n",
      "Test accuracy: 52.64% Loss: 2.74\n"
     ]
    },
    {
     "name": "stderr",
     "output_type": "stream",
     "text": [
      "100%|███████████████████████████████████████████| 16/16 [00:00<00:00, 16.52it/s]\n"
     ]
    },
    {
     "name": "stdout",
     "output_type": "stream",
     "text": [
      "Epoch: 18\n",
      "Train accuracy: 58.05% Loss: 10.38\n",
      "Test accuracy: 57.07% Loss: 2.68\n"
     ]
    },
    {
     "name": "stderr",
     "output_type": "stream",
     "text": [
      "100%|███████████████████████████████████████████| 16/16 [00:00<00:00, 17.46it/s]\n"
     ]
    },
    {
     "name": "stdout",
     "output_type": "stream",
     "text": [
      "Epoch: 19\n",
      "Train accuracy: 53.73% Loss: 10.71\n",
      "Test accuracy: 51.43% Loss: 2.75\n"
     ]
    },
    {
     "name": "stderr",
     "output_type": "stream",
     "text": [
      "100%|███████████████████████████████████████████| 16/16 [00:00<00:00, 17.41it/s]\n"
     ]
    },
    {
     "name": "stdout",
     "output_type": "stream",
     "text": [
      "Epoch: 20\n",
      "Train accuracy: 53.82% Loss: 10.70\n",
      "Test accuracy: 51.79% Loss: 2.75\n"
     ]
    },
    {
     "name": "stderr",
     "output_type": "stream",
     "text": [
      "100%|███████████████████████████████████████████| 16/16 [00:00<00:00, 17.56it/s]\n"
     ]
    },
    {
     "name": "stdout",
     "output_type": "stream",
     "text": [
      "Epoch: 21\n",
      "Train accuracy: 54.04% Loss: 10.67\n",
      "Test accuracy: 51.64% Loss: 2.74\n"
     ]
    },
    {
     "name": "stderr",
     "output_type": "stream",
     "text": [
      "100%|███████████████████████████████████████████| 16/16 [00:00<00:00, 17.57it/s]\n"
     ]
    },
    {
     "name": "stdout",
     "output_type": "stream",
     "text": [
      "Epoch: 22\n",
      "Train accuracy: 54.29% Loss: 10.65\n",
      "Test accuracy: 52.29% Loss: 2.74\n"
     ]
    },
    {
     "name": "stderr",
     "output_type": "stream",
     "text": [
      "100%|███████████████████████████████████████████| 16/16 [00:00<00:00, 17.48it/s]\n"
     ]
    },
    {
     "name": "stdout",
     "output_type": "stream",
     "text": [
      "Epoch: 23\n",
      "Train accuracy: 55.64% Loss: 10.59\n",
      "Test accuracy: 54.07% Loss: 2.73\n"
     ]
    },
    {
     "name": "stderr",
     "output_type": "stream",
     "text": [
      "100%|███████████████████████████████████████████| 16/16 [00:00<00:00, 17.48it/s]\n"
     ]
    },
    {
     "name": "stdout",
     "output_type": "stream",
     "text": [
      "Epoch: 24\n",
      "Train accuracy: 54.07% Loss: 10.69\n",
      "Test accuracy: 52.07% Loss: 2.76\n"
     ]
    },
    {
     "name": "stderr",
     "output_type": "stream",
     "text": [
      "100%|███████████████████████████████████████████| 16/16 [00:00<00:00, 17.43it/s]\n"
     ]
    },
    {
     "name": "stdout",
     "output_type": "stream",
     "text": [
      "Epoch: 25\n",
      "Train accuracy: 54.23% Loss: 10.63\n",
      "Test accuracy: 52.21% Loss: 2.74\n"
     ]
    },
    {
     "name": "stderr",
     "output_type": "stream",
     "text": [
      "100%|███████████████████████████████████████████| 16/16 [00:00<00:00, 17.48it/s]\n"
     ]
    },
    {
     "name": "stdout",
     "output_type": "stream",
     "text": [
      "Epoch: 26\n",
      "Train accuracy: 54.71% Loss: 10.60\n",
      "Test accuracy: 53.36% Loss: 2.74\n"
     ]
    },
    {
     "name": "stderr",
     "output_type": "stream",
     "text": [
      "100%|███████████████████████████████████████████| 16/16 [00:00<00:00, 17.50it/s]\n"
     ]
    },
    {
     "name": "stdout",
     "output_type": "stream",
     "text": [
      "Epoch: 27\n",
      "Train accuracy: 55.45% Loss: 10.55\n",
      "Test accuracy: 53.43% Loss: 2.73\n"
     ]
    },
    {
     "name": "stderr",
     "output_type": "stream",
     "text": [
      "100%|███████████████████████████████████████████| 16/16 [00:00<00:00, 17.45it/s]\n"
     ]
    },
    {
     "name": "stdout",
     "output_type": "stream",
     "text": [
      "Epoch: 28\n",
      "Train accuracy: 56.11% Loss: 10.46\n",
      "Test accuracy: 54.43% Loss: 2.72\n"
     ]
    },
    {
     "name": "stderr",
     "output_type": "stream",
     "text": [
      "100%|███████████████████████████████████████████| 16/16 [00:00<00:00, 17.49it/s]\n"
     ]
    },
    {
     "name": "stdout",
     "output_type": "stream",
     "text": [
      "Epoch: 29\n",
      "Train accuracy: 53.21% Loss: 10.75\n",
      "Test accuracy: 51.00% Loss: 2.77\n"
     ]
    },
    {
     "name": "stderr",
     "output_type": "stream",
     "text": [
      "100%|███████████████████████████████████████████| 16/16 [00:00<00:00, 17.48it/s]\n"
     ]
    },
    {
     "name": "stdout",
     "output_type": "stream",
     "text": [
      "Epoch: 30\n",
      "Train accuracy: 53.25% Loss: 10.70\n",
      "Test accuracy: 51.00% Loss: 2.76\n"
     ]
    },
    {
     "name": "stderr",
     "output_type": "stream",
     "text": [
      "100%|███████████████████████████████████████████| 16/16 [00:00<00:00, 17.53it/s]\n"
     ]
    },
    {
     "name": "stdout",
     "output_type": "stream",
     "text": [
      "Epoch: 31\n",
      "Train accuracy: 53.30% Loss: 10.69\n",
      "Test accuracy: 51.07% Loss: 2.76\n"
     ]
    },
    {
     "name": "stderr",
     "output_type": "stream",
     "text": [
      "100%|███████████████████████████████████████████| 16/16 [00:00<00:00, 17.49it/s]\n"
     ]
    },
    {
     "name": "stdout",
     "output_type": "stream",
     "text": [
      "Epoch: 32\n",
      "Train accuracy: 53.38% Loss: 10.68\n",
      "Test accuracy: 51.14% Loss: 2.75\n"
     ]
    },
    {
     "name": "stderr",
     "output_type": "stream",
     "text": [
      "100%|███████████████████████████████████████████| 16/16 [00:00<00:00, 17.51it/s]\n"
     ]
    },
    {
     "name": "stdout",
     "output_type": "stream",
     "text": [
      "Epoch: 33\n",
      "Train accuracy: 53.43% Loss: 10.67\n",
      "Test accuracy: 51.07% Loss: 2.75\n"
     ]
    },
    {
     "name": "stderr",
     "output_type": "stream",
     "text": [
      "100%|███████████████████████████████████████████| 16/16 [00:00<00:00, 17.53it/s]\n"
     ]
    },
    {
     "name": "stdout",
     "output_type": "stream",
     "text": [
      "Epoch: 34\n",
      "Train accuracy: 53.46% Loss: 10.66\n",
      "Test accuracy: 51.29% Loss: 2.75\n"
     ]
    },
    {
     "name": "stderr",
     "output_type": "stream",
     "text": [
      "100%|███████████████████████████████████████████| 16/16 [00:00<00:00, 17.54it/s]\n"
     ]
    },
    {
     "name": "stdout",
     "output_type": "stream",
     "text": [
      "Epoch: 35\n",
      "Train accuracy: 53.46% Loss: 10.66\n",
      "Test accuracy: 51.14% Loss: 2.75\n"
     ]
    },
    {
     "name": "stderr",
     "output_type": "stream",
     "text": [
      "100%|███████████████████████████████████████████| 16/16 [00:00<00:00, 17.53it/s]\n"
     ]
    },
    {
     "name": "stdout",
     "output_type": "stream",
     "text": [
      "Epoch: 36\n",
      "Train accuracy: 53.57% Loss: 10.65\n",
      "Test accuracy: 51.43% Loss: 2.75\n"
     ]
    },
    {
     "name": "stderr",
     "output_type": "stream",
     "text": [
      "100%|███████████████████████████████████████████| 16/16 [00:00<00:00, 17.54it/s]\n"
     ]
    },
    {
     "name": "stdout",
     "output_type": "stream",
     "text": [
      "Epoch: 37\n",
      "Train accuracy: 53.61% Loss: 10.64\n",
      "Test accuracy: 51.43% Loss: 2.75\n"
     ]
    },
    {
     "name": "stderr",
     "output_type": "stream",
     "text": [
      "100%|███████████████████████████████████████████| 16/16 [00:00<00:00, 17.52it/s]\n"
     ]
    },
    {
     "name": "stdout",
     "output_type": "stream",
     "text": [
      "Epoch: 38\n",
      "Train accuracy: 53.88% Loss: 10.61\n",
      "Test accuracy: 51.50% Loss: 2.75\n"
     ]
    },
    {
     "name": "stderr",
     "output_type": "stream",
     "text": [
      "100%|███████████████████████████████████████████| 16/16 [00:00<00:00, 17.48it/s]\n"
     ]
    },
    {
     "name": "stdout",
     "output_type": "stream",
     "text": [
      "Epoch: 39\n",
      "Train accuracy: 54.07% Loss: 10.58\n",
      "Test accuracy: 52.00% Loss: 2.76\n"
     ]
    },
    {
     "name": "stderr",
     "output_type": "stream",
     "text": [
      "100%|███████████████████████████████████████████| 16/16 [00:00<00:00, 17.52it/s]\n"
     ]
    },
    {
     "name": "stdout",
     "output_type": "stream",
     "text": [
      "Epoch: 40\n",
      "Train accuracy: 55.46% Loss: 10.46\n",
      "Test accuracy: 53.36% Loss: 2.75\n"
     ]
    },
    {
     "name": "stderr",
     "output_type": "stream",
     "text": [
      "100%|███████████████████████████████████████████| 16/16 [00:00<00:00, 17.44it/s]\n"
     ]
    },
    {
     "name": "stdout",
     "output_type": "stream",
     "text": [
      "Epoch: 41\n",
      "Train accuracy: 57.57% Loss: 10.26\n",
      "Test accuracy: 55.79% Loss: 2.68\n"
     ]
    },
    {
     "name": "stderr",
     "output_type": "stream",
     "text": [
      "100%|███████████████████████████████████████████| 16/16 [00:00<00:00, 17.43it/s]\n"
     ]
    },
    {
     "name": "stdout",
     "output_type": "stream",
     "text": [
      "Epoch: 42\n",
      "Train accuracy: 64.30% Loss: 9.53\n",
      "Test accuracy: 62.29% Loss: 2.50\n"
     ]
    },
    {
     "name": "stderr",
     "output_type": "stream",
     "text": [
      "100%|███████████████████████████████████████████| 16/16 [00:00<00:00, 17.41it/s]\n"
     ]
    },
    {
     "name": "stdout",
     "output_type": "stream",
     "text": [
      "Epoch: 43\n",
      "Train accuracy: 71.23% Loss: 8.71\n",
      "Test accuracy: 70.07% Loss: 2.31\n"
     ]
    },
    {
     "name": "stderr",
     "output_type": "stream",
     "text": [
      "100%|███████████████████████████████████████████| 16/16 [00:00<00:00, 17.37it/s]\n"
     ]
    },
    {
     "name": "stdout",
     "output_type": "stream",
     "text": [
      "Epoch: 44\n",
      "Train accuracy: 81.79% Loss: 6.85\n",
      "Test accuracy: 80.93% Loss: 1.82\n"
     ]
    },
    {
     "name": "stderr",
     "output_type": "stream",
     "text": [
      "100%|███████████████████████████████████████████| 16/16 [00:00<00:00, 17.31it/s]\n"
     ]
    },
    {
     "name": "stdout",
     "output_type": "stream",
     "text": [
      "Epoch: 45\n",
      "Train accuracy: 80.73% Loss: 7.10\n",
      "Test accuracy: 80.21% Loss: 1.83\n"
     ]
    },
    {
     "name": "stderr",
     "output_type": "stream",
     "text": [
      "100%|███████████████████████████████████████████| 16/16 [00:00<00:00, 17.28it/s]\n"
     ]
    },
    {
     "name": "stdout",
     "output_type": "stream",
     "text": [
      "Epoch: 46\n",
      "Train accuracy: 83.05% Loss: 5.78\n",
      "Test accuracy: 82.50% Loss: 1.57\n"
     ]
    },
    {
     "name": "stderr",
     "output_type": "stream",
     "text": [
      "100%|███████████████████████████████████████████| 16/16 [00:00<00:00, 17.30it/s]\n"
     ]
    },
    {
     "name": "stdout",
     "output_type": "stream",
     "text": [
      "Epoch: 47\n",
      "Train accuracy: 85.43% Loss: 5.23\n",
      "Test accuracy: 85.07% Loss: 1.54\n"
     ]
    },
    {
     "name": "stderr",
     "output_type": "stream",
     "text": [
      "100%|███████████████████████████████████████████| 16/16 [00:00<00:00, 17.31it/s]\n"
     ]
    },
    {
     "name": "stdout",
     "output_type": "stream",
     "text": [
      "Epoch: 48\n",
      "Train accuracy: 88.64% Loss: 4.68\n",
      "Test accuracy: 85.36% Loss: 1.45\n"
     ]
    },
    {
     "name": "stderr",
     "output_type": "stream",
     "text": [
      "100%|███████████████████████████████████████████| 16/16 [00:00<00:00, 17.21it/s]\n"
     ]
    },
    {
     "name": "stdout",
     "output_type": "stream",
     "text": [
      "Epoch: 49\n",
      "Train accuracy: 88.71% Loss: 4.53\n",
      "Test accuracy: 85.07% Loss: 1.44\n"
     ]
    },
    {
     "name": "stderr",
     "output_type": "stream",
     "text": [
      "100%|███████████████████████████████████████████| 16/16 [00:00<00:00, 17.16it/s]\n"
     ]
    },
    {
     "name": "stdout",
     "output_type": "stream",
     "text": [
      "Epoch: 50\n",
      "Train accuracy: 89.29% Loss: 4.25\n",
      "Test accuracy: 84.79% Loss: 1.47\n"
     ]
    },
    {
     "name": "stderr",
     "output_type": "stream",
     "text": [
      "100%|███████████████████████████████████████████| 16/16 [00:00<00:00, 17.15it/s]\n"
     ]
    },
    {
     "name": "stdout",
     "output_type": "stream",
     "text": [
      "Epoch: 51\n",
      "Train accuracy: 90.55% Loss: 4.07\n",
      "Test accuracy: 85.64% Loss: 1.43\n"
     ]
    },
    {
     "name": "stderr",
     "output_type": "stream",
     "text": [
      "100%|███████████████████████████████████████████| 16/16 [00:00<00:00, 17.15it/s]\n"
     ]
    },
    {
     "name": "stdout",
     "output_type": "stream",
     "text": [
      "Epoch: 52\n",
      "Train accuracy: 89.86% Loss: 4.14\n",
      "Test accuracy: 84.86% Loss: 1.37\n"
     ]
    },
    {
     "name": "stderr",
     "output_type": "stream",
     "text": [
      "100%|███████████████████████████████████████████| 16/16 [00:00<00:00, 17.17it/s]\n"
     ]
    },
    {
     "name": "stdout",
     "output_type": "stream",
     "text": [
      "Epoch: 53\n",
      "Train accuracy: 91.43% Loss: 3.76\n",
      "Test accuracy: 86.14% Loss: 1.37\n"
     ]
    },
    {
     "name": "stderr",
     "output_type": "stream",
     "text": [
      "100%|███████████████████████████████████████████| 16/16 [00:00<00:00, 17.20it/s]\n"
     ]
    },
    {
     "name": "stdout",
     "output_type": "stream",
     "text": [
      "Epoch: 54\n",
      "Train accuracy: 92.04% Loss: 3.59\n",
      "Test accuracy: 87.00% Loss: 1.46\n"
     ]
    },
    {
     "name": "stderr",
     "output_type": "stream",
     "text": [
      "100%|███████████████████████████████████████████| 16/16 [00:00<00:00, 17.16it/s]\n"
     ]
    },
    {
     "name": "stdout",
     "output_type": "stream",
     "text": [
      "Epoch: 55\n",
      "Train accuracy: 92.30% Loss: 3.51\n",
      "Test accuracy: 86.79% Loss: 1.54\n"
     ]
    },
    {
     "name": "stderr",
     "output_type": "stream",
     "text": [
      "100%|███████████████████████████████████████████| 16/16 [00:00<00:00, 17.15it/s]\n"
     ]
    },
    {
     "name": "stdout",
     "output_type": "stream",
     "text": [
      "Epoch: 56\n",
      "Train accuracy: 92.68% Loss: 3.38\n",
      "Test accuracy: 87.21% Loss: 1.41\n"
     ]
    },
    {
     "name": "stderr",
     "output_type": "stream",
     "text": [
      "100%|███████████████████████████████████████████| 16/16 [00:00<00:00, 17.12it/s]\n"
     ]
    },
    {
     "name": "stdout",
     "output_type": "stream",
     "text": [
      "Epoch: 57\n",
      "Train accuracy: 92.84% Loss: 3.24\n",
      "Test accuracy: 87.21% Loss: 1.36\n"
     ]
    },
    {
     "name": "stderr",
     "output_type": "stream",
     "text": [
      "100%|███████████████████████████████████████████| 16/16 [00:00<00:00, 17.19it/s]\n"
     ]
    },
    {
     "name": "stdout",
     "output_type": "stream",
     "text": [
      "Epoch: 58\n",
      "Train accuracy: 92.70% Loss: 3.32\n",
      "Test accuracy: 86.64% Loss: 1.33\n"
     ]
    },
    {
     "name": "stderr",
     "output_type": "stream",
     "text": [
      "100%|███████████████████████████████████████████| 16/16 [00:00<00:00, 17.21it/s]\n"
     ]
    },
    {
     "name": "stdout",
     "output_type": "stream",
     "text": [
      "Epoch: 59\n",
      "Train accuracy: 93.14% Loss: 3.27\n",
      "Test accuracy: 87.79% Loss: 1.49\n"
     ]
    },
    {
     "name": "stderr",
     "output_type": "stream",
     "text": [
      "100%|███████████████████████████████████████████| 16/16 [00:00<00:00, 17.21it/s]\n"
     ]
    },
    {
     "name": "stdout",
     "output_type": "stream",
     "text": [
      "Epoch: 60\n",
      "Train accuracy: 93.54% Loss: 3.06\n",
      "Test accuracy: 88.50% Loss: 1.33\n"
     ]
    },
    {
     "name": "stderr",
     "output_type": "stream",
     "text": [
      "100%|███████████████████████████████████████████| 16/16 [00:00<00:00, 17.18it/s]\n"
     ]
    },
    {
     "name": "stdout",
     "output_type": "stream",
     "text": [
      "Epoch: 61\n",
      "Train accuracy: 93.64% Loss: 2.97\n",
      "Test accuracy: 88.71% Loss: 1.37\n"
     ]
    },
    {
     "name": "stderr",
     "output_type": "stream",
     "text": [
      "100%|███████████████████████████████████████████| 16/16 [00:00<00:00, 17.20it/s]\n"
     ]
    },
    {
     "name": "stdout",
     "output_type": "stream",
     "text": [
      "Epoch: 62\n",
      "Train accuracy: 93.77% Loss: 2.94\n",
      "Test accuracy: 88.07% Loss: 1.33\n"
     ]
    },
    {
     "name": "stderr",
     "output_type": "stream",
     "text": [
      "100%|███████████████████████████████████████████| 16/16 [00:00<00:00, 17.16it/s]\n"
     ]
    },
    {
     "name": "stdout",
     "output_type": "stream",
     "text": [
      "Epoch: 63\n",
      "Train accuracy: 93.98% Loss: 2.89\n",
      "Test accuracy: 88.07% Loss: 1.33\n"
     ]
    },
    {
     "name": "stderr",
     "output_type": "stream",
     "text": [
      "100%|███████████████████████████████████████████| 16/16 [00:00<00:00, 17.18it/s]\n"
     ]
    },
    {
     "name": "stdout",
     "output_type": "stream",
     "text": [
      "Epoch: 64\n",
      "Train accuracy: 94.34% Loss: 2.78\n",
      "Test accuracy: 88.57% Loss: 1.47\n"
     ]
    },
    {
     "name": "stderr",
     "output_type": "stream",
     "text": [
      "100%|███████████████████████████████████████████| 16/16 [00:00<00:00, 17.21it/s]\n"
     ]
    },
    {
     "name": "stdout",
     "output_type": "stream",
     "text": [
      "Epoch: 65\n",
      "Train accuracy: 94.46% Loss: 2.69\n",
      "Test accuracy: 88.57% Loss: 1.35\n"
     ]
    },
    {
     "name": "stderr",
     "output_type": "stream",
     "text": [
      "100%|███████████████████████████████████████████| 16/16 [00:00<00:00, 17.21it/s]\n"
     ]
    },
    {
     "name": "stdout",
     "output_type": "stream",
     "text": [
      "Epoch: 66\n",
      "Train accuracy: 94.62% Loss: 2.64\n",
      "Test accuracy: 88.50% Loss: 1.41\n"
     ]
    },
    {
     "name": "stderr",
     "output_type": "stream",
     "text": [
      "100%|███████████████████████████████████████████| 16/16 [00:00<00:00, 17.21it/s]\n"
     ]
    },
    {
     "name": "stdout",
     "output_type": "stream",
     "text": [
      "Epoch: 67\n",
      "Train accuracy: 94.52% Loss: 2.71\n",
      "Test accuracy: 88.71% Loss: 1.42\n"
     ]
    },
    {
     "name": "stderr",
     "output_type": "stream",
     "text": [
      "100%|███████████████████████████████████████████| 16/16 [00:00<00:00, 17.20it/s]\n"
     ]
    },
    {
     "name": "stdout",
     "output_type": "stream",
     "text": [
      "Epoch: 68\n",
      "Train accuracy: 94.45% Loss: 2.75\n",
      "Test accuracy: 88.29% Loss: 1.55\n"
     ]
    },
    {
     "name": "stderr",
     "output_type": "stream",
     "text": [
      "100%|███████████████████████████████████████████| 16/16 [00:00<00:00, 17.16it/s]\n"
     ]
    },
    {
     "name": "stdout",
     "output_type": "stream",
     "text": [
      "Epoch: 69\n",
      "Train accuracy: 94.61% Loss: 2.65\n",
      "Test accuracy: 89.21% Loss: 1.40\n"
     ]
    },
    {
     "name": "stderr",
     "output_type": "stream",
     "text": [
      "100%|███████████████████████████████████████████| 16/16 [00:00<00:00, 17.25it/s]\n"
     ]
    },
    {
     "name": "stdout",
     "output_type": "stream",
     "text": [
      "Epoch: 70\n",
      "Train accuracy: 94.32% Loss: 2.75\n",
      "Test accuracy: 87.64% Loss: 1.38\n"
     ]
    },
    {
     "name": "stderr",
     "output_type": "stream",
     "text": [
      "100%|███████████████████████████████████████████| 16/16 [00:00<00:00, 17.16it/s]\n"
     ]
    },
    {
     "name": "stdout",
     "output_type": "stream",
     "text": [
      "Epoch: 71\n",
      "Train accuracy: 94.36% Loss: 2.75\n",
      "Test accuracy: 88.57% Loss: 1.62\n"
     ]
    },
    {
     "name": "stderr",
     "output_type": "stream",
     "text": [
      "100%|███████████████████████████████████████████| 16/16 [00:00<00:00, 17.25it/s]\n"
     ]
    },
    {
     "name": "stdout",
     "output_type": "stream",
     "text": [
      "Epoch: 72\n",
      "Train accuracy: 94.73% Loss: 2.61\n",
      "Test accuracy: 89.00% Loss: 1.33\n"
     ]
    },
    {
     "name": "stderr",
     "output_type": "stream",
     "text": [
      "100%|███████████████████████████████████████████| 16/16 [00:00<00:00, 17.17it/s]\n"
     ]
    },
    {
     "name": "stdout",
     "output_type": "stream",
     "text": [
      "Epoch: 73\n",
      "Train accuracy: 94.73% Loss: 2.67\n",
      "Test accuracy: 88.64% Loss: 1.51\n"
     ]
    },
    {
     "name": "stderr",
     "output_type": "stream",
     "text": [
      "100%|███████████████████████████████████████████| 16/16 [00:00<00:00, 17.15it/s]\n"
     ]
    },
    {
     "name": "stdout",
     "output_type": "stream",
     "text": [
      "Epoch: 74\n",
      "Train accuracy: 90.38% Loss: 4.24\n",
      "Test accuracy: 87.64% Loss: 1.39\n"
     ]
    },
    {
     "name": "stderr",
     "output_type": "stream",
     "text": [
      "100%|███████████████████████████████████████████| 16/16 [00:00<00:00, 17.19it/s]\n"
     ]
    },
    {
     "name": "stdout",
     "output_type": "stream",
     "text": [
      "Epoch: 75\n",
      "Train accuracy: 94.30% Loss: 2.90\n",
      "Test accuracy: 88.93% Loss: 1.18\n"
     ]
    },
    {
     "name": "stderr",
     "output_type": "stream",
     "text": [
      "100%|███████████████████████████████████████████| 16/16 [00:00<00:00, 17.13it/s]\n"
     ]
    },
    {
     "name": "stdout",
     "output_type": "stream",
     "text": [
      "Epoch: 76\n",
      "Train accuracy: 94.96% Loss: 2.56\n",
      "Test accuracy: 89.36% Loss: 1.27\n"
     ]
    },
    {
     "name": "stderr",
     "output_type": "stream",
     "text": [
      "100%|███████████████████████████████████████████| 16/16 [00:00<00:00, 17.19it/s]\n"
     ]
    },
    {
     "name": "stdout",
     "output_type": "stream",
     "text": [
      "Epoch: 77\n",
      "Train accuracy: 94.93% Loss: 2.54\n",
      "Test accuracy: 89.29% Loss: 1.30\n"
     ]
    },
    {
     "name": "stderr",
     "output_type": "stream",
     "text": [
      "100%|███████████████████████████████████████████| 16/16 [00:00<00:00, 17.17it/s]\n"
     ]
    },
    {
     "name": "stdout",
     "output_type": "stream",
     "text": [
      "Epoch: 78\n",
      "Train accuracy: 95.00% Loss: 2.47\n",
      "Test accuracy: 89.21% Loss: 1.31\n"
     ]
    },
    {
     "name": "stderr",
     "output_type": "stream",
     "text": [
      "100%|███████████████████████████████████████████| 16/16 [00:00<00:00, 17.14it/s]\n"
     ]
    },
    {
     "name": "stdout",
     "output_type": "stream",
     "text": [
      "Epoch: 79\n",
      "Train accuracy: 95.07% Loss: 2.45\n",
      "Test accuracy: 89.64% Loss: 1.33\n"
     ]
    },
    {
     "name": "stderr",
     "output_type": "stream",
     "text": [
      "100%|███████████████████████████████████████████| 16/16 [00:00<00:00, 17.07it/s]\n"
     ]
    },
    {
     "name": "stdout",
     "output_type": "stream",
     "text": [
      "Epoch: 80\n",
      "Train accuracy: 95.12% Loss: 2.44\n",
      "Test accuracy: 89.43% Loss: 1.35\n"
     ]
    },
    {
     "name": "stderr",
     "output_type": "stream",
     "text": [
      "100%|███████████████████████████████████████████| 16/16 [00:00<00:00, 17.19it/s]\n"
     ]
    },
    {
     "name": "stdout",
     "output_type": "stream",
     "text": [
      "Epoch: 81\n",
      "Train accuracy: 95.12% Loss: 2.43\n",
      "Test accuracy: 89.64% Loss: 1.34\n"
     ]
    },
    {
     "name": "stderr",
     "output_type": "stream",
     "text": [
      "100%|███████████████████████████████████████████| 16/16 [00:00<00:00, 17.18it/s]\n"
     ]
    },
    {
     "name": "stdout",
     "output_type": "stream",
     "text": [
      "Epoch: 82\n",
      "Train accuracy: 95.11% Loss: 2.46\n",
      "Test accuracy: 89.64% Loss: 1.36\n"
     ]
    },
    {
     "name": "stderr",
     "output_type": "stream",
     "text": [
      "100%|███████████████████████████████████████████| 16/16 [00:00<00:00, 17.18it/s]\n"
     ]
    },
    {
     "name": "stdout",
     "output_type": "stream",
     "text": [
      "Epoch: 83\n",
      "Train accuracy: 95.11% Loss: 2.46\n",
      "Test accuracy: 89.57% Loss: 1.35\n"
     ]
    },
    {
     "name": "stderr",
     "output_type": "stream",
     "text": [
      "100%|███████████████████████████████████████████| 16/16 [00:00<00:00, 17.18it/s]\n"
     ]
    },
    {
     "name": "stdout",
     "output_type": "stream",
     "text": [
      "Epoch: 84\n",
      "Train accuracy: 95.07% Loss: 2.49\n",
      "Test accuracy: 88.36% Loss: 1.33\n"
     ]
    },
    {
     "name": "stderr",
     "output_type": "stream",
     "text": [
      "100%|███████████████████████████████████████████| 16/16 [00:00<00:00, 17.17it/s]\n"
     ]
    },
    {
     "name": "stdout",
     "output_type": "stream",
     "text": [
      "Epoch: 85\n",
      "Train accuracy: 95.09% Loss: 2.48\n",
      "Test accuracy: 89.14% Loss: 1.37\n"
     ]
    },
    {
     "name": "stderr",
     "output_type": "stream",
     "text": [
      "100%|███████████████████████████████████████████| 16/16 [00:00<00:00, 17.12it/s]\n"
     ]
    },
    {
     "name": "stdout",
     "output_type": "stream",
     "text": [
      "Epoch: 86\n",
      "Train accuracy: 95.09% Loss: 2.50\n",
      "Test accuracy: 88.57% Loss: 1.34\n"
     ]
    },
    {
     "name": "stderr",
     "output_type": "stream",
     "text": [
      "100%|███████████████████████████████████████████| 16/16 [00:00<00:00, 17.21it/s]\n"
     ]
    },
    {
     "name": "stdout",
     "output_type": "stream",
     "text": [
      "Epoch: 87\n",
      "Train accuracy: 95.12% Loss: 2.44\n",
      "Test accuracy: 89.86% Loss: 1.34\n"
     ]
    },
    {
     "name": "stderr",
     "output_type": "stream",
     "text": [
      "100%|███████████████████████████████████████████| 16/16 [00:00<00:00, 17.21it/s]\n"
     ]
    },
    {
     "name": "stdout",
     "output_type": "stream",
     "text": [
      "Epoch: 88\n",
      "Train accuracy: 95.14% Loss: 2.46\n",
      "Test accuracy: 89.14% Loss: 1.32\n"
     ]
    },
    {
     "name": "stderr",
     "output_type": "stream",
     "text": [
      "100%|███████████████████████████████████████████| 16/16 [00:00<00:00, 17.22it/s]\n"
     ]
    },
    {
     "name": "stdout",
     "output_type": "stream",
     "text": [
      "Epoch: 89\n",
      "Train accuracy: 95.14% Loss: 2.46\n",
      "Test accuracy: 89.36% Loss: 1.34\n"
     ]
    },
    {
     "name": "stderr",
     "output_type": "stream",
     "text": [
      "100%|███████████████████████████████████████████| 16/16 [00:00<00:00, 17.19it/s]\n"
     ]
    },
    {
     "name": "stdout",
     "output_type": "stream",
     "text": [
      "Epoch: 90\n",
      "Train accuracy: 95.14% Loss: 2.46\n",
      "Test accuracy: 89.43% Loss: 1.38\n"
     ]
    },
    {
     "name": "stderr",
     "output_type": "stream",
     "text": [
      "100%|███████████████████████████████████████████| 16/16 [00:00<00:00, 17.14it/s]\n"
     ]
    },
    {
     "name": "stdout",
     "output_type": "stream",
     "text": [
      "Epoch: 91\n",
      "Train accuracy: 95.14% Loss: 2.47\n",
      "Test accuracy: 89.36% Loss: 1.36\n"
     ]
    },
    {
     "name": "stderr",
     "output_type": "stream",
     "text": [
      "100%|███████████████████████████████████████████| 16/16 [00:00<00:00, 17.13it/s]\n"
     ]
    },
    {
     "name": "stdout",
     "output_type": "stream",
     "text": [
      "Epoch: 92\n",
      "Train accuracy: 95.14% Loss: 2.45\n",
      "Test accuracy: 89.50% Loss: 1.38\n"
     ]
    },
    {
     "name": "stderr",
     "output_type": "stream",
     "text": [
      "100%|███████████████████████████████████████████| 16/16 [00:00<00:00, 17.17it/s]\n"
     ]
    },
    {
     "name": "stdout",
     "output_type": "stream",
     "text": [
      "Epoch: 93\n",
      "Train accuracy: 95.14% Loss: 2.45\n",
      "Test accuracy: 89.50% Loss: 1.37\n"
     ]
    },
    {
     "name": "stderr",
     "output_type": "stream",
     "text": [
      "100%|███████████████████████████████████████████| 16/16 [00:00<00:00, 17.23it/s]\n"
     ]
    },
    {
     "name": "stdout",
     "output_type": "stream",
     "text": [
      "Epoch: 94\n",
      "Train accuracy: 95.14% Loss: 2.46\n",
      "Test accuracy: 89.36% Loss: 1.35\n"
     ]
    },
    {
     "name": "stderr",
     "output_type": "stream",
     "text": [
      "100%|███████████████████████████████████████████| 16/16 [00:00<00:00, 17.18it/s]\n"
     ]
    },
    {
     "name": "stdout",
     "output_type": "stream",
     "text": [
      "Epoch: 95\n",
      "Train accuracy: 95.14% Loss: 2.44\n",
      "Test accuracy: 89.43% Loss: 1.37\n"
     ]
    },
    {
     "name": "stderr",
     "output_type": "stream",
     "text": [
      "100%|███████████████████████████████████████████| 16/16 [00:00<00:00, 17.17it/s]\n"
     ]
    },
    {
     "name": "stdout",
     "output_type": "stream",
     "text": [
      "Epoch: 96\n",
      "Train accuracy: 95.14% Loss: 2.45\n",
      "Test accuracy: 89.50% Loss: 1.39\n"
     ]
    },
    {
     "name": "stderr",
     "output_type": "stream",
     "text": [
      "100%|███████████████████████████████████████████| 16/16 [00:00<00:00, 17.10it/s]\n"
     ]
    },
    {
     "name": "stdout",
     "output_type": "stream",
     "text": [
      "Epoch: 97\n",
      "Train accuracy: 95.14% Loss: 2.43\n",
      "Test accuracy: 89.50% Loss: 1.38\n"
     ]
    },
    {
     "name": "stderr",
     "output_type": "stream",
     "text": [
      "100%|███████████████████████████████████████████| 16/16 [00:00<00:00, 17.19it/s]\n"
     ]
    },
    {
     "name": "stdout",
     "output_type": "stream",
     "text": [
      "Epoch: 98\n",
      "Train accuracy: 95.14% Loss: 2.45\n",
      "Test accuracy: 89.50% Loss: 1.38\n"
     ]
    },
    {
     "name": "stderr",
     "output_type": "stream",
     "text": [
      "100%|███████████████████████████████████████████| 16/16 [00:00<00:00, 17.17it/s]\n"
     ]
    },
    {
     "name": "stdout",
     "output_type": "stream",
     "text": [
      "Epoch: 99\n",
      "Train accuracy: 95.14% Loss: 2.44\n",
      "Test accuracy: 89.57% Loss: 1.35\n"
     ]
    },
    {
     "name": "stderr",
     "output_type": "stream",
     "text": [
      "100%|███████████████████████████████████████████| 16/16 [00:00<00:00, 17.19it/s]\n"
     ]
    },
    {
     "name": "stdout",
     "output_type": "stream",
     "text": [
      "Epoch: 100\n",
      "Train accuracy: 95.16% Loss: 2.43\n",
      "Test accuracy: 89.00% Loss: 1.39\n"
     ]
    },
    {
     "name": "stderr",
     "output_type": "stream",
     "text": [
      "100%|███████████████████████████████████████████| 16/16 [00:00<00:00, 17.22it/s]\n"
     ]
    },
    {
     "name": "stdout",
     "output_type": "stream",
     "text": [
      "Epoch: 101\n",
      "Train accuracy: 95.16% Loss: 2.44\n",
      "Test accuracy: 89.00% Loss: 1.39\n"
     ]
    },
    {
     "name": "stderr",
     "output_type": "stream",
     "text": [
      "100%|███████████████████████████████████████████| 16/16 [00:00<00:00, 17.13it/s]\n"
     ]
    },
    {
     "name": "stdout",
     "output_type": "stream",
     "text": [
      "Epoch: 102\n",
      "Train accuracy: 95.20% Loss: 2.43\n",
      "Test accuracy: 90.21% Loss: 1.34\n"
     ]
    },
    {
     "name": "stderr",
     "output_type": "stream",
     "text": [
      "100%|███████████████████████████████████████████| 16/16 [00:00<00:00, 17.21it/s]\n"
     ]
    },
    {
     "name": "stdout",
     "output_type": "stream",
     "text": [
      "Epoch: 103\n",
      "Train accuracy: 95.16% Loss: 2.44\n",
      "Test accuracy: 89.14% Loss: 1.24\n"
     ]
    },
    {
     "name": "stderr",
     "output_type": "stream",
     "text": [
      "100%|███████████████████████████████████████████| 16/16 [00:01<00:00, 15.62it/s]\n"
     ]
    },
    {
     "name": "stdout",
     "output_type": "stream",
     "text": [
      "Epoch: 104\n",
      "Train accuracy: 95.20% Loss: 2.41\n",
      "Test accuracy: 89.71% Loss: 1.28\n"
     ]
    },
    {
     "name": "stderr",
     "output_type": "stream",
     "text": [
      "100%|███████████████████████████████████████████| 16/16 [00:00<00:00, 17.20it/s]\n"
     ]
    },
    {
     "name": "stdout",
     "output_type": "stream",
     "text": [
      "Epoch: 105\n",
      "Train accuracy: 95.20% Loss: 2.40\n",
      "Test accuracy: 89.21% Loss: 1.32\n"
     ]
    },
    {
     "name": "stderr",
     "output_type": "stream",
     "text": [
      "100%|███████████████████████████████████████████| 16/16 [00:00<00:00, 17.22it/s]\n"
     ]
    },
    {
     "name": "stdout",
     "output_type": "stream",
     "text": [
      "Epoch: 106\n",
      "Train accuracy: 95.21% Loss: 2.39\n",
      "Test accuracy: 89.29% Loss: 1.29\n"
     ]
    },
    {
     "name": "stderr",
     "output_type": "stream",
     "text": [
      "100%|███████████████████████████████████████████| 16/16 [00:00<00:00, 17.21it/s]\n"
     ]
    },
    {
     "name": "stdout",
     "output_type": "stream",
     "text": [
      "Epoch: 107\n",
      "Train accuracy: 95.23% Loss: 2.39\n",
      "Test accuracy: 89.29% Loss: 1.32\n"
     ]
    },
    {
     "name": "stderr",
     "output_type": "stream",
     "text": [
      "100%|███████████████████████████████████████████| 16/16 [00:00<00:00, 17.14it/s]\n"
     ]
    },
    {
     "name": "stdout",
     "output_type": "stream",
     "text": [
      "Epoch: 108\n",
      "Train accuracy: 95.18% Loss: 2.43\n",
      "Test accuracy: 88.93% Loss: 1.30\n"
     ]
    },
    {
     "name": "stderr",
     "output_type": "stream",
     "text": [
      "100%|███████████████████████████████████████████| 16/16 [00:00<00:00, 17.17it/s]\n"
     ]
    },
    {
     "name": "stdout",
     "output_type": "stream",
     "text": [
      "Epoch: 109\n",
      "Train accuracy: 95.02% Loss: 2.49\n",
      "Test accuracy: 88.14% Loss: 1.33\n"
     ]
    },
    {
     "name": "stderr",
     "output_type": "stream",
     "text": [
      "100%|███████████████████████████████████████████| 16/16 [00:00<00:00, 17.20it/s]\n"
     ]
    },
    {
     "name": "stdout",
     "output_type": "stream",
     "text": [
      "Epoch: 110\n",
      "Train accuracy: 94.50% Loss: 3.18\n",
      "Test accuracy: 89.71% Loss: 1.75\n"
     ]
    },
    {
     "name": "stderr",
     "output_type": "stream",
     "text": [
      "100%|███████████████████████████████████████████| 16/16 [00:00<00:00, 17.26it/s]\n"
     ]
    },
    {
     "name": "stdout",
     "output_type": "stream",
     "text": [
      "Epoch: 111\n",
      "Train accuracy: 95.14% Loss: 2.52\n",
      "Test accuracy: 90.21% Loss: 1.31\n"
     ]
    },
    {
     "name": "stderr",
     "output_type": "stream",
     "text": [
      "100%|███████████████████████████████████████████| 16/16 [00:00<00:00, 17.26it/s]\n"
     ]
    },
    {
     "name": "stdout",
     "output_type": "stream",
     "text": [
      "Epoch: 112\n",
      "Train accuracy: 95.43% Loss: 2.38\n",
      "Test accuracy: 90.00% Loss: 1.34\n"
     ]
    },
    {
     "name": "stderr",
     "output_type": "stream",
     "text": [
      "100%|███████████████████████████████████████████| 16/16 [00:00<00:00, 17.16it/s]\n"
     ]
    },
    {
     "name": "stdout",
     "output_type": "stream",
     "text": [
      "Epoch: 113\n",
      "Train accuracy: 95.41% Loss: 2.36\n",
      "Test accuracy: 89.93% Loss: 1.37\n"
     ]
    },
    {
     "name": "stderr",
     "output_type": "stream",
     "text": [
      "100%|███████████████████████████████████████████| 16/16 [00:00<00:00, 17.15it/s]\n"
     ]
    },
    {
     "name": "stdout",
     "output_type": "stream",
     "text": [
      "Epoch: 114\n",
      "Train accuracy: 95.50% Loss: 2.32\n",
      "Test accuracy: 89.86% Loss: 1.40\n"
     ]
    },
    {
     "name": "stderr",
     "output_type": "stream",
     "text": [
      "100%|███████████████████████████████████████████| 16/16 [00:00<00:00, 17.17it/s]\n"
     ]
    },
    {
     "name": "stdout",
     "output_type": "stream",
     "text": [
      "Epoch: 115\n",
      "Train accuracy: 95.52% Loss: 2.31\n",
      "Test accuracy: 89.64% Loss: 1.44\n"
     ]
    },
    {
     "name": "stderr",
     "output_type": "stream",
     "text": [
      "100%|███████████████████████████████████████████| 16/16 [00:00<00:00, 17.20it/s]\n"
     ]
    },
    {
     "name": "stdout",
     "output_type": "stream",
     "text": [
      "Epoch: 116\n",
      "Train accuracy: 95.54% Loss: 2.31\n",
      "Test accuracy: 89.57% Loss: 1.40\n"
     ]
    },
    {
     "name": "stderr",
     "output_type": "stream",
     "text": [
      "100%|███████████████████████████████████████████| 16/16 [00:00<00:00, 17.22it/s]\n"
     ]
    },
    {
     "name": "stdout",
     "output_type": "stream",
     "text": [
      "Epoch: 117\n",
      "Train accuracy: 95.54% Loss: 2.29\n",
      "Test accuracy: 89.86% Loss: 1.43\n"
     ]
    },
    {
     "name": "stderr",
     "output_type": "stream",
     "text": [
      "100%|███████████████████████████████████████████| 16/16 [00:00<00:00, 17.22it/s]\n"
     ]
    },
    {
     "name": "stdout",
     "output_type": "stream",
     "text": [
      "Epoch: 118\n",
      "Train accuracy: 95.54% Loss: 2.31\n",
      "Test accuracy: 89.79% Loss: 1.40\n"
     ]
    },
    {
     "name": "stderr",
     "output_type": "stream",
     "text": [
      "100%|███████████████████████████████████████████| 16/16 [00:00<00:00, 17.14it/s]\n"
     ]
    },
    {
     "name": "stdout",
     "output_type": "stream",
     "text": [
      "Epoch: 119\n",
      "Train accuracy: 95.54% Loss: 2.30\n",
      "Test accuracy: 90.00% Loss: 1.40\n",
      "Total time: 3.29 min\n",
      "Test accuracy: 90.00%\n"
     ]
    }
   ],
   "source": [
    "acc_score = train(model, epochs=120, prefix='3m_')"
   ]
  },
  {
   "cell_type": "code",
   "execution_count": 72,
   "id": "012f95a5-2645-4277-a619-731d445dbabf",
   "metadata": {},
   "outputs": [
    {
     "data": {
      "image/png": "[encoded data removed]",
      "text/plain": [
       "<Figure size 640x480 with 2 Axes>"
      ]
     },
     "metadata": {},
     "output_type": "display_data"
    }
   ],
   "source": [
    "learn_chart(acc_score)"
   ]
  },
  {
   "cell_type": "code",
   "execution_count": null,
   "id": "0244d817-e5cc-411b-b368-e123a1fde3d9",
   "metadata": {},
   "outputs": [],
   "source": []
  },
  {
   "cell_type": "markdown",
   "id": "ed6e8e8b-65e0-4e53-86c5-bee56277c195",
   "metadata": {},
   "source": [
    "# Метрики"
   ]
  },
  {
   "cell_type": "code",
   "execution_count": 5,
   "id": "f23f9abb-afac-4e49-b2e8-4d87dca6df85",
   "metadata": {},
   "outputs": [
    {
     "data": {
      "text/plain": [
       "LSTM(\n",
       "  (embedding): Embedding(16459, 128, padding_idx=0)\n",
       "  (lstm): LSTM(128, 256, num_layers=2, batch_first=True, dropout=0.25)\n",
       "  (fc): Linear(in_features=256, out_features=2, bias=True)\n",
       "  (dropout): Dropout(p=0, inplace=False)\n",
       "  (sig): Sigmoid()\n",
       ")"
      ]
     },
     "execution_count": 5,
     "metadata": {},
     "output_type": "execute_result"
    }
   ],
   "source": [
    "model1 = torch.load('models/2model_102_lstm.pt', weights_only=False)\n",
    "model1.eval()"
   ]
  },
  {
   "cell_type": "code",
   "execution_count": 6,
   "id": "b59de00a-4237-4793-b7aa-283747b53074",
   "metadata": {},
   "outputs": [],
   "source": [
    "tokens = {}\n",
    "with open('datasets/vocabulary.json', 'r') as f:\n",
    "    tokens = json.load(f)\n",
    "\n",
    "def predict(texts):\n",
    "    texts = [preprocess_text(i) for i in texts]\n",
    "    num_text = texts2tokens(texts)\n",
    "    # print(num_text)\n",
    "    max_len = [len(i) for i in num_text]\n",
    "    same_shape = set_text_len(num_text, max(max_len))\n",
    "    tensors = torch.IntTensor(same_shape).to(device)\n",
    "\n",
    "    pred = []\n",
    "    for i in model1(tensors):\n",
    "        tmp = i.cpu().argmax()\n",
    "        # print(tmp)\n",
    "        tmp = 5 if tmp == 1 else 1\n",
    "        pred.append(tmp)\n",
    "    \n",
    "    return pred"
   ]
  },
  {
   "cell_type": "code",
   "execution_count": 16,
   "id": "6d4849b6-3cd0-46bc-80c6-5fd57ea8a65c",
   "metadata": {},
   "outputs": [
    {
     "data": {
      "text/plain": [
       "[5, 1, 1, 5, 1, 1, 5]"
      ]
     },
     "execution_count": 16,
     "metadata": {},
     "output_type": "execute_result"
    }
   ],
   "source": [
    "predict(['хороший отель, но есть нюансы',\n",
    "         'очень шумно на улице не возможно спать по ночам', \n",
    "         'плохой отель',\n",
    "         'На весь отель 3 или 4 фена, которые надо просить на ресепшене,\\\n",
    "         если успеешь. Это очень странно. Забирайте с вечера, если нужен вам.',\n",
    "         \n",
    "        'очень не понравилось, что время бежит чертовски быстро. И приближение рабочих дней от крайне не понравилось!',\n",
    "        '\"Я останавливался в этом отеле на выходные, и, к сожалению, мой опыт был далеко не положительным. Номер\\\n",
    "        оказался грязным, с пылью на мебели и неубранной ванной. Персонал был не очень дружелюбным и не реагировал\\\n",
    "        на наши просьбы. Завтрак тоже разочаровал: еда была холодной и не свежей. Я не рекомендую этот отель, так \\\n",
    "        как за такие деньги можно найти гораздо лучшие варианты.',\n",
    "         'Я провел замечательные дни в этом отеле! Номер был чистым и уютным, с прекрасным видом на город. \\\n",
    "         Персонал был очень вежливым и отзывчивым, всегда готов\\\n",
    "        помочь. Завтрак был разнообразным и вкусным, особенно понравились свежие булочки и кофе. Я обязательно\\\n",
    "        вернусь сюда снова и рекомендую всем, кто ищет комфортное место для отдыха!'])"
   ]
  },
  {
   "cell_type": "code",
   "execution_count": null,
   "id": "8a6a8d56-34a7-481e-8536-45566b6fabfe",
   "metadata": {},
   "outputs": [],
   "source": []
  },
  {
   "cell_type": "code",
   "execution_count": null,
   "id": "6f22a232-8bfb-4157-b0ae-35e58a369674",
   "metadata": {},
   "outputs": [],
   "source": []
  },
  {
   "cell_type": "code",
   "execution_count": null,
   "id": "fcbd4a0b-7397-4c17-9220-234cad7a14ac",
   "metadata": {},
   "outputs": [],
   "source": []
  },
  {
   "cell_type": "code",
   "execution_count": 77,
   "id": "f5db850b-b79c-4fb7-a07e-0c8e43aa6248",
   "metadata": {},
   "outputs": [],
   "source": [
    "def get_pred_y(model, data_loader, device):\n",
    "    outputs = []\n",
    "    correct = []\n",
    "    \n",
    "    with torch.no_grad():\n",
    "        for i, (X, y) in enumerate(data_loader):\n",
    "            X = X.to(device)\n",
    "            outputs.extend(model(X))\n",
    "            correct.extend(y)\n",
    "\n",
    "    outputs = [i.cpu().argmax().item() for i in outputs]\n",
    "    correct = [i.cpu().argmax().item() for i in correct]\n",
    "    \n",
    "    return outputs, correct "
   ]
  },
  {
   "cell_type": "code",
   "execution_count": 152,
   "id": "22751da6-6ed1-4b94-ae98-926a137e0db4",
   "metadata": {},
   "outputs": [
    {
     "name": "stdout",
     "output_type": "stream",
     "text": [
      "Model accuracy = 92.52%\n",
      "\n",
      "Classification Report:\n",
      "              precision    recall  f1-score   support\n",
      "\n",
      "           0       0.93      0.92      0.93       710\n",
      "           1       0.92      0.93      0.92       680\n",
      "\n",
      "    accuracy                           0.93      1390\n",
      "   macro avg       0.93      0.93      0.93      1390\n",
      "weighted avg       0.93      0.93      0.93      1390\n",
      "\n"
     ]
    }
   ],
   "source": [
    "predicted, y_test = get_pred_y(model1, test_loader, device)\n",
    "\n",
    "accuracy_score = metrics.accuracy_score(predicted, y_test)\n",
    "\n",
    "print(f'Model accuracy = {accuracy_score*100:4.2f}%\\n')\n",
    "print('Classification Report:')\n",
    "print(metrics.classification_report(y_test, predicted))"
   ]
  },
  {
   "cell_type": "code",
   "execution_count": 153,
   "id": "1342539f-c740-4ebb-8276-b3a165e0de09",
   "metadata": {},
   "outputs": [
    {
     "data": {
      "text/plain": [
       "Text(0.5, 1.0, 'Confusion Matrix')"
      ]
     },
     "execution_count": 153,
     "metadata": {},
     "output_type": "execute_result"
    },
    {
     "data": {
      "image/png": "[encoded data removed]",
      "text/plain": [
       "<Figure size 640x480 with 2 Axes>"
      ]
     },
     "metadata": {},
     "output_type": "display_data"
    }
   ],
   "source": [
    "cm = pd.DataFrame(metrics.confusion_matrix(y_test, predicted))\n",
    "sns.heatmap(cm, annot=True, annot_kws={\"size\": 20}, fmt='.0f')\n",
    "plt.title('Confusion Matrix')"
   ]
  },
  {
   "cell_type": "code",
   "execution_count": 154,
   "id": "37035689-310c-4c52-9b81-c74fe14351ac",
   "metadata": {},
   "outputs": [
    {
     "data": {
      "image/png": "[encoded data removed]",
      "text/plain": [
       "<Figure size 640x480 with 1 Axes>"
      ]
     },
     "metadata": {},
     "output_type": "display_data"
    }
   ],
   "source": [
    "#  TPR = TP/(TP+FN)\n",
    "# FPR = FP/(FP+TN)\n",
    "\n",
    "tpr = cm[0][0]/(cm[0][0]+cm[0][1])\n",
    "fpr = cm[1][0]/(cm[1][0]+cm[1][1])\n",
    "\n",
    "\n",
    "fpr, tpr, thresholds = metrics.roc_curve(y_test, predicted) \n",
    "roc_auc = metrics.auc(fpr, tpr)\n",
    "\n",
    "plt.figure()  \n",
    "plt.plot(fpr, tpr, label='ROC curve (area = %0.2f)' % roc_auc)\n",
    "plt.plot([0, 1], [0, 1], 'k--', label='No Skill')\n",
    "plt.xlim([0.0, 1.0])\n",
    "plt.ylim([0.0, 1.05])\n",
    "plt.xlabel('False Positive Rate')\n",
    "plt.ylabel('True Positive Rate')\n",
    "plt.title('ROC Curve')\n",
    "plt.legend()\n",
    "plt.show()"
   ]
  },
  {
   "cell_type": "code",
   "execution_count": null,
   "id": "cc3e2c0c-10fa-4b60-a5a6-ce0b9069ddc5",
   "metadata": {},
   "outputs": [],
   "source": []
  },
  {
   "cell_type": "markdown",
   "id": "cb4b48d0-e019-4415-8835-a5a2a000b264",
   "metadata": {},
   "source": [
    "# Tokens"
   ]
  },
  {
   "cell_type": "code",
   "execution_count": 103,
   "id": "18afdcb7-aed1-4bea-9289-50184a5aace8",
   "metadata": {
    "scrolled": true
   },
   "outputs": [
    {
     "name": "stdout",
     "output_type": "stream",
     "text": [
      "16458 {'кондиционировать': 1, 'окружный': 2, 'заложить': 3, 'бригада': 4, 'вопросительно': 5, 'звукоизоляция': 6, 'почёсывать': 7, 'диаметр': 8, 'совпасть': 9, 'препятствовать': 10, 'сут': 11, 'унизить': 12, 'привлечение': 13, 'изящно': 14, 'гуляка': 15, 'очутиться': 16, 'выяснять': 17, 'блондинка': 18, 'перенести': 19, 'мадридский': 20, 'похитить': 21, 'гетеросексуальный': 22, 'ява': 23, 'старость': 24, 'удостоверение': 25, 'медовый': 26, 'призывать': 27, 'сфабриковать': 28, 'опыт': 29, 'японец': 30, 'руководство': 31, 'болельщик': 32, 'крекер': 33, 'дышаться': 34, 'высококультурный': 35, 'поломать': 36, 'согреваться': 37, 'ит': 38, 'подвозить': 39, 'переправить': 40, 'угрожающе': 41, 'действие': 42, 'сей': 43, 'недосмотр': 44, 'замок': 45, 'миниатюрный': 46, 'выручить': 47, 'драка': 48, 'сбежать': 49, 'сороконожка': 50, 'господь': 51, 'выхватывать': 52, 'размять': 53, 'сюда': 54, 'граммофон': 55, 'полметра': 56, 'пожароопасный': 57, 'возмутить': 58, 'тематика': 59, 'бабник': 60, 'таблетка': 61, 'изнывать': 62, 'рулонный': 63, 'добавка': 64, 'свежеокрашенный': 65, 'осведомиться': 66, 'точечный': 67, 'приправить': 68, 'лихорадочно': 69, 'натяжной': 70, 'изолента': 71, 'надеть': 72, 'салфетка': 73, 'обогнать': 74, 'старожил': 75, 'безмятежный': 76, 'парилка': 77, 'крепнуть': 78, 'пицца': 79, 'скандал': 80, 'дождевой': 81, 'нажимать': 82, 'поклажа': 83, 'невежливый': 84, 'всучить': 85, 'аргументировать': 86, 'пробиваться': 87, 'исключительно': 88, 'стеснительный': 89, 'шато': 90, 'дмитрий': 91, 'намотать': 92, 'кабель': 93, 'неординарный': 94, 'стирка': 95, 'таллинн': 96, 'долго': 97, 'вторник': 98, 'купить': 99, 'голосовой': 100, 'консистенция': 101, 'завтрашний': 102, 'свето': 103, 'накрыть': 104, 'яство': 105, 'обрезать': 106, 'сосиска': 107, 'груз': 108, 'ходьба': 109, 'разрыв': 110, 'коли': 111, 'некритичный': 112, 'поворот': 113, 'безграничный': 114, 'будить': 115, 'маргарита': 116, 'верещание': 117, 'детонатор': 118, 'соблазнить': 119, 'код': 120, 'выпустить': 121, 'посетитель': 122, 'игнорирование': 123, 'свеженький': 124, 'вырваться': 125, 'скользкий': 126, 'женить': 127, 'нереальный': 128, 'стоимость': 129, 'необильный': 130, 'уровень': 131, 'стенка': 132, 'торжество': 133, 'жакет': 134, 'поправлять': 135, 'заплаканный': 136, 'видно': 137, 'пульт': 138, 'изнурённый': 139, 'кон': 140, 'вилл': 141, 'глушиться': 142, 'экспозиция': 143, 'отбор': 144, 'лишек': 145, 'снимок': 146, 'объясниться': 147, 'слышимый': 148, 'проконсультировать': 149, 'управляемый': 150, 'смахнуть': 151, 'поскальзываться': 152, 'заплесневелость': 153, 'забыться': 154, 'слаженный': 155, 'надышаться': 156, 'кухня': 157, 'великолепие': 158, 'ромашка': 159, 'век': 160, 'перфоратор': 161, 'фисташковый': 162, 'очаровательно': 163, 'малограмотный': 164, 'кадр': 165, 'консервированный': 166, 'замызгать': 167, 'джема': 168, 'дым': 169, 'выпалить': 170, 'подмога': 171, 'булькать': 172, 'малоприятный': 173, 'погружение': 174, 'октябрь': 175, 'ус': 176, 'наблюдать': 177, 'корпорация': 178, 'переселиться': 179, 'штурмоваться': 180, 'вяз': 181, 'сарафанчик': 182, 'стонать': 183, 'озноб': 184, 'панельный': 185, 'занятый': 186, 'почём': 187, 'позиционироваться': 188, 'оливка': 189, 'принадлежность': 190, 'провинциальный': 191, 'отжить': 192, 'низкопробный': 193, 'паутина': 194, 'телик': 195, 'разя': 196, 'раскрасить': 197, 'персональный': 198, 'гулящий': 199, 'цитировать': 200, 'пересчёт': 201, 'отодрать': 202, 'темница': 203, 'отлично': 204, 'безвозмездно': 205, 'капитально': 206, 'смешной': 207, 'сеть': 208, 'метровый': 209, 'эротика': 210, 'церковь': 211, 'приезжать': 212, 'вследствие': 213, 'испания': 214, 'антонио': 215, 'проектировать': 216, 'элитный': 217, 'палка': 218, 'добрый': 219, 'добротность': 220, 'голос': 221, 'тащиться': 222, 'журнал': 223, 'изысканно': 224, 'планета': 225, 'перекрёсток': 226, 'вокзал': 227, 'климат': 228, 'сечь': 229, 'стаж': 230, 'скитание': 231, 'шелохнуться': 232, 'воздушный': 233, 'денёк': 234, 'зарезервировать': 235, 'сумма': 236, 'бесконечность': 237, 'сквер': 238, 'цемент': 239, 'михаил': 240, 'гармония': 241, 'аллея': 242, 'удержаться': 243, 'сюрприз': 244, 'готовить': 245, 'выбор': 246, 'хирургический': 247, 'фарфоровый': 248, 'произведение': 249, 'разглядывать': 250, 'возникнуть': 251, 'спаться': 252, 'нажатие': 253, 'разумеется': 254, 'объединять': 255, 'севилья': 256, 'арабский': 257, 'неоднократно': 258, 'отблеск': 259, 'маргарин': 260, 'прикасаться': 261, 'побережье': 262, 'торра': 263, 'кавардак': 264, 'стрелять': 265, 'жаловаться': 266, 'ругань': 267, 'собачий': 268, 'спускной': 269, 'выкупать': 270, 'гордость': 271, 'петербург': 272, 'кофейник': 273, 'жиденький': 274, 'торговаться': 275, 'тепло': 276, 'запереться': 277, 'логично': 278, 'слоник': 279, 'рассыпаться': 280, 'отопительный': 281, 'вывеска': 282, 'пожарный': 283, 'заморозок': 284, 'цикада': 285, 'немалый': 286, 'тянуться': 287, 'погреться': 288, 'заступить': 289, 'моторизовать': 290, 'половина': 291, 'уместиться': 292, 'инициал': 293, 'невыгодный': 294, 'несчастный': 295, 'корабль': 296, 'мытарство': 297, 'витамин': 298, 'выдерживать': 299, 'сталь': 300, 'выносить': 301, 'кнопочка': 302, 'пояс': 303, 'чередование': 304, 'пронырливый': 305, 'полировать': 306, 'символически': 307, 'подташнивать': 308, 'иллюминатор': 309, 'выя': 310, 'отправной': 311, 'ничуть': 312, 'указывать': 313, 'нормативный': 314, 'высунуть': 315, 'сняться': 316, 'удручать': 317, 'итал': 318, 'терраска': 319, 'распорядитель': 320, 'былой': 321, 'трудиться': 322, 'душевный': 323, 'спираль': 324, 'продажа': 325, 'намазать': 326, 'выручка': 327, 'экспоцентр': 328, 'оправдываться': 329, 'прилив': 330, 'ого': 331, 'ковёр': 332, 'весёлый': 333, 'переварить': 334, 'выматывать': 335, 'незабываемый': 336, 'охотно': 337, 'европа': 338, 'кромешный': 339, 'автозаправка': 340, 'освещать': 341, 'развитие': 342, 'ровно': 343, 'двустворчатый': 344, 'потерять': 345, 'механизм': 346, 'сколько': 347, 'автопарк': 348, 'застылый': 349, 'действовать': 350, 'протестировать': 351, 'саркастичный': 352, 'позитивный': 353, 'начинать': 354, 'посылка': 355, 'подиум': 356, 'мушмула': 357, 'готика': 358, 'натура': 359, 'карцер': 360, 'качели': 361, 'унылый': 362, 'восстановить': 363, 'внутрь': 364, 'ренессанс': 365, 'простыть': 366, 'ссылаться': 367, 'ржать': 368, 'поддержка': 369, 'представлять': 370, 'скомкать': 371, 'прочность': 372, 'проходной': 373, 'понадобиться': 374, 'достопримечательность': 375, 'ресница': 376, 'залить': 377, 'болгарский': 378, 'гитара': 379, 'отсрочить': 380, 'звание': 381, 'уборочный': 382, 'горелый': 383, 'рушить': 384, 'разгружать': 385, 'ролл': 386, 'романтика': 387, 'считаться': 388, 'распечатка': 389, 'нечисто': 390, 'окрестный': 391, 'интересовать': 392, 'распрощаться': 393, 'беспрепятственно': 394, 'порыться': 395, 'откачиваться': 396, 'текст': 397, 'цейтнот': 398, 'загашать': 399, 'маргинал': 400, 'инвентарь': 401, 'прихоть': 402, 'открыточка': 403, 'принципал': 404, 'причиндалы': 405, 'февраль': 406, 'распускать': 407, 'синяк': 408, 'отключить': 409, 'излишество': 410, 'эквивалентный': 411, 'пернатый': 412, 'поставить': 413, 'добыча': 414, 'облазать': 415, 'цеплять': 416, 'трижды': 417, 'отец': 418, 'валить': 419, 'раскатывать': 420, 'совершаться': 421, 'ярусный': 422, 'фиктивный': 423, 'таков': 424, 'ветер': 425, 'значок': 426, 'бутербродик': 427, 'одиннадцатый': 428, 'ответствовать': 429, 'преподноситься': 430, 'карелия': 431, 'поворачивать': 432, 'платить': 433, 'красный': 434, 'налегать': 435, 'экстра': 436, 'отвоевать': 437, 'комнатка': 438, 'догадываться': 439, 'препарат': 440, 'приобщаться': 441, 'спереть': 442, 'сажать': 443, 'скрипка': 444, 'канонада': 445, 'потенциально': 446, 'силком': 447, 'трой': 448, 'ананасовый': 449, 'недоумевать': 450, 'жар': 451, 'вообразить': 452, 'чел': 453, 'наградить': 454, 'мыльный': 455, 'арматура': 456, 'остановиться': 457, 'клиент': 458, 'экскурсия': 459, 'маяк': 460, 'резать': 461, 'вертеть': 462, 'общительность': 463, 'заваливаться': 464, 'газетка': 465, 'осуществить': 466, 'помёт': 467, 'промозглый': 468, 'накипь': 469, 'срок': 470, 'прокатный': 471, 'успокоить': 472, 'стук': 473, 'немногое': 474, 'коммуналка': 475, 'глодать': 476, 'начинание': 477, 'неформал': 478, 'продублировать': 479, 'логово': 480, 'ожог': 481, 'припадать': 482, 'подтопление': 483, 'российский': 484, 'каток': 485, 'лояльный': 486, 'обрадоваться': 487, 'вердикт': 488, 'памир': 489, 'вилы': 490, 'высохший': 491, 'виноватый': 492, 'износиться': 493, 'безнадёга': 494, 'упадок': 495, 'расслаблять': 496, 'переглянуться': 497, 'полутёмный': 498, 'рубашка': 499, 'повествование': 500, 'громкоголосый': 501, 'творить': 502, 'высказать': 503, 'потёмки': 504, 'представительский': 505, 'рыбацкий': 506, 'многообразный': 507, 'штурм': 508, 'резюмировать': 509, 'шпарить': 510, 'чайка': 511, 'антикварный': 512, 'приглашение': 513, 'параллельный': 514, 'озадачить': 515, 'затхлый': 516, 'волнение': 517, 'безнадёжно': 518, 'самострой': 519, 'хабаровск': 520, 'навстречу': 521, 'добыть': 522, 'москит': 523, 'картина': 524, 'расселиться': 525, 'массажёр': 526, 'неужто': 527, 'компактно': 528, 'вразумительный': 529, 'вечер': 530, 'опубликовать': 531, 'свечка': 532, 'сплит': 533, 'ежедневно': 534, 'гам': 535, 'залог': 536, 'рождественский': 537, 'превеликий': 538, 'непридирчивый': 539, 'переобуваться': 540, 'намокание': 541, 'быстрый': 542, 'деликатно': 543, 'многовато': 544, 'яичница': 545, 'условно': 546, 'предельно': 547, 'прилагаться': 548, 'ура': 549, 'необычайный': 550, 'взвалить': 551, 'разозлиться': 552, 'повторять': 553, 'отсутствовать': 554, 'рациональный': 555, 'случаться': 556, 'изжога': 557, 'видный': 558, 'красавица': 559, 'шаблон': 560, 'подборка': 561, 'преспокойно': 562, 'увеличительный': 563, 'столь': 564, 'курилка': 565, 'неоправданно': 566, 'бег': 567, 'сушилка': 568, 'зара': 569, 'свыкнуться': 570, 'таможня': 571, 'односпальный': 572, 'правило': 573, 'поражаться': 574, 'притащить': 575, 'выписаться': 576, 'впихнуть': 577, 'тормознуть': 578, 'центризм': 579, 'пропуск': 580, 'брызгало': 581, 'туфля': 582, 'племя': 583, 'расстроенный': 584, 'ниша': 585, 'тряпка': 586, 'январский': 587, 'психопатка': 588, 'смертельный': 589, 'разветвить': 590, 'посыпаться': 591, 'бродячий': 592, 'пенить': 593, 'раскошелиться': 594, 'фикус': 595, 'секция': 596, 'многолюдный': 597, 'видео': 598, 'этнический': 599, 'разветвляться': 600, 'мопед': 601, 'смягчиться': 602, 'удовлетворительный': 603, 'вымочить': 604, 'всяческий': 605, 'отредактировать': 606, 'прохладный': 607, 'разделочный': 608, 'отобразить': 609, 'сочиться': 610, 'фабричный': 611, 'рассчитать': 612, 'терпимый': 613, 'микроволновой': 614, 'отпраздновать': 615, 'моль': 616, 'надутый': 617, 'вскрыться': 618, 'бывший': 619, 'пепел': 620, 'атаковать': 621, 'обещание': 622, 'пересушить': 623, 'первоклассный': 624, 'храм': 625, 'поступать': 626, 'кас': 627, 'отвыкнуть': 628, 'обслуживаться': 629, 'пристально': 630, 'опрометью': 631, 'набрать': 632, 'корн': 633, 'перемещение': 634, 'взлететь': 635, 'лактоза': 636, 'нонсенс': 637, 'регистрировать': 638, 'водоснабжение': 639, 'проявить': 640, 'аля': 641, 'алина': 642, 'частное': 643, 'встречный': 644, 'покупать': 645, 'наивный': 646, 'лукавить': 647, 'противный': 648, 'кассовый': 649, 'прошвырнуться': 650, 'стучаться': 651, 'жирный': 652, 'ёмкий': 653, 'нерасторопность': 654, 'укрывание': 655, 'заграничный': 656, 'безвкусица': 657, 'сгущёнка': 658, 'евгений': 659, 'эксплуатация': 660, 'угнетать': 661, 'олимпиада': 662, 'прелесть': 663, 'агент': 664, 'дорасти': 665, 'посредник': 666, 'слышимость': 667, 'автосервис': 668, 'следом': 669, 'пропитание': 670, 'зюзя': 671, 'монитор': 672, 'большущий': 673, 'помолвка': 674, 'дебош': 675, 'фура': 676, 'блюсти': 677, 'визитный': 678, 'порекомендовать': 679, 'настежь': 680, 'кондиционирование': 681, 'вхождение': 682, 'улыбнуться': 683, 'стажироваться': 684, 'выслушивать': 685, 'унитаз': 686, 'машина': 687, 'простой': 688, 'десятилетний': 689, 'пожертвовать': 690, 'правдивый': 691, 'подсказывать': 692, 'заключить': 693, 'издевательство': 694, 'пролежать': 695, 'житель': 696, 'парусник': 697, 'установленный': 698, 'багаж': 699, 'закивать': 700, 'ка': 701, 'защитить': 702, 'полочка': 703, 'длина': 704, 'сумрак': 705, 'вариация': 706, 'потрещать': 707, 'любовный': 708, 'оборванный': 709, 'выспаться': 710, 'тоже': 711, 'невежество': 712, 'миллионер': 713, 'кокос': 714, 'додуматься': 715, 'побрякивать': 716, 'последовательный': 717, 'перечислять': 718, 'избавление': 719, 'подчеркнуть': 720, 'присматриваться': 721, 'вывихнуть': 722, 'мздоимство': 723, 'пейзаж': 724, 'профессионально': 725, 'наесться': 726, 'долгий': 727, 'несъедобный': 728, 'поразмыслить': 729, 'заложник': 730, 'топить': 731, 'нуждаться': 732, 'удивлять': 733, 'размещаться': 734, 'кавказец': 735, 'ярость': 736, 'носить': 737, 'сельскохозяйственный': 738, 'молотков': 739, 'ошибиться': 740, 'тариф': 741, 'подкидываться': 742, 'истекать': 743, 'слоить': 744, 'изогнутый': 745, 'приёмник': 746, 'поковыряться': 747, 'проникать': 748, 'классно': 749, 'мелочность': 750, 'пушистый': 751, 'урна': 752, 'смутить': 753, 'дворецкий': 754, 'постройка': 755, 'распашка': 756, 'стучать': 757, 'нарисовать': 758, 'убегать': 759, 'вываливаться': 760, 'мила': 761, 'розетка': 762, 'расстелить': 763, 'подступ': 764, 'аферист': 765, 'девка': 766, 'вафельный': 767, 'кидаться': 768, 'укрепить': 769, 'мыльница': 770, 'шашлык': 771, 'кайф': 772, 'шишечка': 773, 'сувенир': 774, 'узбечка': 775, 'раздельный': 776, 'назначить': 777, 'объектив': 778, 'близкостоящий': 779, 'именной': 780, 'спешно': 781, 'запасный': 782, 'канарейка': 783, 'пятьдесят': 784, 'расчёска': 785, 'гламур': 786, 'соседствовать': 787, 'значимость': 788, 'крестьянский': 789, 'грузить': 790, 'потолок': 791, 'грузчик': 792, 'закрыть': 793, 'возмутительно': 794, 'брезговать': 795, 'столетний': 796, 'герметичный': 797, 'валентин': 798, 'доктор': 799, 'противоречить': 800, 'бай': 801, 'облазить': 802, 'зеленогорск': 803, 'ключ': 804, 'наряд': 805, 'отведать': 806, 'болгар': 807, 'снижение': 808, 'каприз': 809, 'августовский': 810, 'таракашка': 811, 'англоговорящий': 812, 'сметь': 813, 'прижать': 814, 'сложиться': 815, 'конфиденциальный': 816, 'испанец': 817, 'минимализм': 818, 'действо': 819, 'виза': 820, 'парад': 821, 'менталитет': 822, 'отстирать': 823, 'вымысел': 824, 'изложить': 825, 'безответственность': 826, 'заявка': 827, 'кислород': 828, 'добрать': 829, 'взять': 830, 'негатив': 831, 'соединяться': 832, 'друг': 833, 'кемерово': 834, 'обшарить': 835, 'бульончик': 836, 'небрежно': 837, 'наворот': 838, 'навряд': 839, 'конский': 840, 'браться': 841, 'годовалый': 842, 'лаванда': 843, 'обочина': 844, 'десятый': 845, 'перчатка': 846, 'цифровой': 847, 'паранджа': 848, 'своровать': 849, 'губа': 850, 'эмилия': 851, 'канада': 852, 'зачесть': 853, 'блузка': 854, 'засолиться': 855, 'железнодорожный': 856, 'подвезти': 857, 'паника': 858, 'полюбоваться': 859, 'информативный': 860, 'пароль': 861, 'страшный': 862, 'парковый': 863, 'затапливать': 864, 'помёрзнуть': 865, 'неважно': 866, 'вохра': 867, 'бак': 868, 'точно': 869, 'чищеный': 870, 'накормить': 871, 'жлобский': 872, 'дтп': 873, 'зарядить': 874, 'ниже': 875, 'саркофаг': 876, 'эпидемия': 877, 'теплоход': 878, 'обоснование': 879, 'намер': 880, 'паша': 881, 'ванный': 882, 'содержаться': 883, 'предисловие': 884, 'пятёрочка': 885, 'подавать': 886, 'кинопроектор': 887, 'проработать': 888, 'белорусский': 889, 'устанавливать': 890, 'миша': 891, 'постоялец': 892, 'банковский': 893, 'декабрьский': 894, 'шариковый': 895, 'необразованный': 896, 'отклонить': 897, 'сменщик': 898, 'трещина': 899, 'вступать': 900, 'караван': 901, 'поломойка': 902, 'слаженно': 903, 'заусенец': 904, 'накачать': 905, 'заварной': 906, 'паук': 907, 'молча': 908, 'выплакать': 909, 'лиловый': 910, 'впечатляющий': 911, 'вывозить': 912, 'сказочный': 913, 'наиболее': 914, 'мишка': 915, 'проскальзывать': 916, 'непосещение': 917, 'ссср': 918, 'уродливый': 919, 'приготовляться': 920, 'округ': 921, 'эрмитаж': 922, 'забастовка': 923, 'начисто': 924, 'ракетка': 925, 'чм': 926, 'перекопать': 927, 'приукрашивать': 928, 'голодать': 929, 'нависать': 930, 'квадратик': 931, 'логистика': 932, 'понрав': 933, 'наверх': 934, 'пожать': 935, 'мороженое': 936, 'додать': 937, 'притронуться': 938, 'снести': 939, 'негде': 940, 'проч': 941, 'ягодка': 942, 'извёстка': 943, 'крупа': 944, 'жалобный': 945, 'купюра': 946, 'проникаться': 947, 'заготовить': 948, 'озон': 949, 'уточнять': 950, 'первомайский': 951, 'сохранность': 952, 'прожарить': 953, 'радость': 954, 'буфет': 955, 'загончик': 956, 'липовый': 957, 'плеваться': 958, 'грязный': 959, 'продавец': 960, 'обмануться': 961, 'сместить': 962, 'телевизор': 963, 'перезагрузить': 964, 'приезжий': 965, 'бундестаг': 966, 'пополнять': 967, 'экскурсант': 968, 'кратенький': 969, 'обрываться': 970, 'наступление': 971, 'дороговизна': 972, 'поаплодировать': 973, 'телескопный': 974, 'безделье': 975, 'хавьер': 976, 'суматошный': 977, 'привозить': 978, 'возникать': 979, 'билетик': 980, 'чистота': 981, 'полдник': 982, 'заказывать': 983, 'новобрачный': 984, 'пролетать': 985, 'лопать': 986, 'утончённый': 987, 'экономия': 988, 'непроходимый': 989, 'водопровод': 990, 'старание': 991, 'доблестный': 992, 'борн': 993, 'идеал': 994, 'повредить': 995, 'спортинвентарь': 996, 'владелец': 997, 'заснуть': 998, 'ворс': 999, 'прокат': 1000, 'приползти': 1001, 'сие': 1002, 'покрасить': 1003, 'загореться': 1004, 'стандартный': 1005, 'баллончик': 1006, 'зашториваться': 1007, 'плавка': 1008, 'предупредить': 1009, 'муэдзин': 1010, 'потратить': 1011, 'тайм': 1012, 'разобраться': 1013, 'подавиться': 1014, 'запачкать': 1015, 'подмёрзнуть': 1016, 'подсказка': 1017, 'треть': 1018, 'девичий': 1019, 'удариться': 1020, 'пожар': 1021, 'незадача': 1022, 'видеокамера': 1023, 'инкрустация': 1024, 'мотороллер': 1025, 'ремарка': 1026, 'повториться': 1027, 'рубить': 1028, 'выделение': 1029, 'мятый': 1030, 'гранат': 1031, 'ха': 1032, 'выдуваться': 1033, 'пакистан': 1034, 'брон': 1035, 'погрузочный': 1036, 'железобетонный': 1037, 'исторический': 1038, 'смыкаться': 1039, 'шприц': 1040, 'подсовывать': 1041, 'охотничий': 1042, 'утомить': 1043, 'самоходом': 1044, 'иль': 1045, 'царский': 1046, 'необычно': 1047, 'стратегический': 1048, 'надстройка': 1049, 'унижение': 1050, 'положительно': 1051, 'перебивать': 1052, 'жлобство': 1053, 'верный': 1054, 'нахал': 1055, 'нарваться': 1056, 'конфигурация': 1057, 'символический': 1058, 'кунжут': 1059, 'ремонтник': 1060, 'пробежать': 1061, 'дефект': 1062, 'отзавтракать': 1063, 'покоробить': 1064, 'прощение': 1065, 'памятка': 1066, 'нервный': 1067, 'приурочить': 1068, 'бухгалтерский': 1069, 'лента': 1070, 'грешить': 1071, 'неленивый': 1072, 'вымогать': 1073, 'антиквариат': 1074, 'утихомирить': 1075, 'пугать': 1076, 'неожиданность': 1077, 'неадекватный': 1078, 'отбеливатель': 1079, 'гигиенический': 1080, 'корректно': 1081, 'доставать': 1082, 'собственный': 1083, 'ствол': 1084, 'располагаться': 1085, 'шкафчик': 1086, 'уберечь': 1087, 'катушка': 1088, 'инопланетянин': 1089, 'водительский': 1090, 'обогрев': 1091, 'фотка': 1092, 'посещаться': 1093, 'дезодорант': 1094, 'красящий': 1095, 'ознакомление': 1096, 'рябить': 1097, 'замеч': 1098, 'оправданный': 1099, 'измельчить': 1100, 'предыстория': 1101, 'отматывать': 1102, 'бдительный': 1103, 'кипяток': 1104, 'соображение': 1105, 'непосредственно': 1106, 'качественный': 1107, 'увлекаться': 1108, 'роскошно': 1109, 'массажный': 1110, 'верблюжий': 1111, 'тётенька': 1112, 'гостить': 1113, 'двое': 1114, 'показывать': 1115, 'салями': 1116, 'тазик': 1117, 'варить': 1118, 'мерзко': 1119, 'прикольно': 1120, 'кричать': 1121, 'электропила': 1122, 'тушёнка': 1123, 'полностью': 1124, 'изваяние': 1125, 'шатунов': 1126, 'совать': 1127, 'некорректность': 1128, 'смотреться': 1129, 'теснота': 1130, 'двухспальная': 1131, 'крематорий': 1132, 'анне': 1133, 'инспектировать': 1134, 'круглосуточный': 1135, 'откатывать': 1136, 'людно': 1137, 'мотыльковый': 1138, 'проходом': 1139, 'проплывать': 1140, 'частный': 1141, 'пытаться': 1142, 'наделать': 1143, 'нервно': 1144, 'пристрастие': 1145, 'кака': 1146, 'сон': 1147, 'заповедный': 1148, 'взяться': 1149, 'молчать': 1150, 'поздравительный': 1151, 'подсадить': 1152, 'дружный': 1153, 'рубль': 1154, 'выдворить': 1155, 'ёршик': 1156, 'аба': 1157, 'переоборудовать': 1158, 'психиатрический': 1159, 'пшёнка': 1160, 'часами': 1161, 'сообщаться': 1162, 'цензурный': 1163, 'высокомерный': 1164, 'скорлупа': 1165, 'двоечка': 1166, 'востребовать': 1167, 'периодический': 1168, 'априори': 1169, 'нетипичный': 1170, 'убежать': 1171, 'чердак': 1172, 'павлов': 1173, 'прислониться': 1174, 'заколачивать': 1175, 'отмечать': 1176, 'помыть': 1177, 'тактично': 1178, 'насчитать': 1179, 'перечисление': 1180, 'лежать': 1181, 'корпоративный': 1182, 'танк': 1183, 'обнаруживать': 1184, 'обронить': 1185, 'сделанный': 1186, 'сходу': 1187, 'копия': 1188, 'невежливость': 1189, 'живописно': 1190, 'занять': 1191, 'автоматический': 1192, 'облезать': 1193, 'киношка': 1194, 'палящий': 1195, 'уверить': 1196, 'фламинго': 1197, 'пасмурный': 1198, 'непродуманный': 1199, 'лайнер': 1200, 'балык': 1201, 'зарыться': 1202, 'сайт': 1203, 'широко': 1204, 'стильность': 1205, 'канон': 1206, 'дезинсектор': 1207, 'сквозь': 1208, 'поляна': 1209, 'борщ': 1210, 'территориально': 1211, 'комплиментарный': 1212, 'площадь': 1213, 'жаба': 1214, 'софа': 1215, 'технически': 1216, 'промаркировать': 1217, 'повысить': 1218, 'просёлочный': 1219, 'неск': 1220, 'четвёрочка': 1221, 'ложиться': 1222, 'выдрать': 1223, 'башенка': 1224, 'рада': 1225, 'шт': 1226, 'день': 1227, 'переворачиваться': 1228, 'ежегодный': 1229, 'выносной': 1230, 'задуматься': 1231, 'громко': 1232, 'комар': 1233, 'размыть': 1234, 'практичный': 1235, 'немногие': 1236, 'вделать': 1237, 'коломенский': 1238, 'утомлять': 1239, 'гномик': 1240, 'анналы': 1241, 'отключение': 1242, 'чёткость': 1243, 'бельевой': 1244, 'вспомнить': 1245, 'настя': 1246, 'консоль': 1247, 'глаз': 1248, 'просунуть': 1249, 'хлопок': 1250, 'кулёк': 1251, 'зафиксировать': 1252, 'насыпной': 1253, 'начальница': 1254, 'фолликулярный': 1255, 'благой': 1256, 'бухгалтерия': 1257, 'прислуга': 1258, 'работяга': 1259, 'пикап': 1260, 'месторасположение': 1261, 'равноудалённый': 1262, 'чаша': 1263, 'бачок': 1264, 'долг': 1265, 'вегетарианство': 1266, 'несвойственный': 1267, 'бакс': 1268, 'неудовлетворительный': 1269, 'сегодня': 1270, 'факультет': 1271, 'рецептор': 1272, 'институт': 1273, 'посмотреться': 1274, 'боком': 1275, 'опечалить': 1276, 'выброс': 1277, 'колесо': 1278, 'глушь': 1279, 'управление': 1280, 'спиртное': 1281, 'гараж': 1282, 'полежать': 1283, 'ар': 1284, 'порыв': 1285, 'зорко': 1286, 'букашка': 1287, 'исцарапаться': 1288, 'тяжеловес': 1289, 'показать': 1290, 'стемнеть': 1291, 'глупо': 1292, 'трепетно': 1293, 'заминка': 1294, 'мужество': 1295, 'хорошенько': 1296, 'лариса': 1297, 'собирать': 1298, 'реплика': 1299, 'эклер': 1300, 'недолго': 1301, 'грузовой': 1302, 'выставление': 1303, 'аккомпанировать': 1304, 'уставать': 1305, 'сероватый': 1306, 'усердно': 1307, 'градусник': 1308, 'сливка': 1309, 'нил': 1310, 'защита': 1311, 'астрономический': 1312, 'л': 1313, 'пронизывать': 1314, 'забронировать': 1315, 'предположение': 1316, 'ведёрко': 1317, 'операция': 1318, 'отодвигать': 1319, 'подразумевать': 1320, 'органический': 1321, 'австралия': 1322, 'приукрашать': 1323, 'дорого': 1324, 'презентовать': 1325, 'вешала': 1326, 'вырубиться': 1327, 'говяжий': 1328, 'перпендикулярно': 1329, 'географический': 1330, 'трущобный': 1331, 'узловой': 1332, 'бездомный': 1333, 'драться': 1334, 'трансильвания': 1335, 'въесться': 1336, 'портить': 1337, 'кофточка': 1338, 'принадлежать': 1339, 'лепесток': 1340, 'общенациональный': 1341, 'напиток': 1342, 'гражданство': 1343, 'вскипятить': 1344, 'блистер': 1345, 'застывший': 1346, 'отмывать': 1347, 'одинакий': 1348, 'отменить': 1349, 'похлеще': 1350, 'связный': 1351, 'жулик': 1352, 'деятель': 1353, 'баталия': 1354, 'свежайший': 1355, 'отодвигаться': 1356, 'слаживать': 1357, 'хамоватый': 1358, 'просвещаться': 1359, 'травка': 1360, 'дядька': 1361, 'предсказуемый': 1362, 'главный': 1363, 'повсюду': 1364, 'чудом': 1365, 'прожечь': 1366, 'невразумительный': 1367, 'отнестись': 1368, 'кемпинг': 1369, 'ах': 1370, 'скромняга': 1371, 'ритуальный': 1372, 'мысль': 1373, 'связь': 1374, 'аккумулятор': 1375, 'гамбургер': 1376, 'трещинка': 1377, 'протокол': 1378, 'спокойствие': 1379, 'располнеть': 1380, 'изгваздать': 1381, 'кровища': 1382, 'маяковский': 1383, 'вытереть': 1384, 'сменять': 1385, 'блюдо': 1386, 'обдуть': 1387, 'бал': 1388, 'усиленно': 1389, 'гигиеничность': 1390, 'выиграть': 1391, 'пожимать': 1392, 'собраться': 1393, 'обжора': 1394, 'расшатать': 1395, 'салат': 1396, 'торец': 1397, 'гранд': 1398, 'посудомойка': 1399, 'неспешность': 1400, 'шлёпанец': 1401, 'декабрь': 1402, 'оголтелый': 1403, 'надурить': 1404, 'венецианский': 1405, 'мощь': 1406, 'босс': 1407, 'заподозрить': 1408, 'иголочка': 1409, 'пиджак': 1410, 'тропик': 1411, 'прожужжать': 1412, 'нетрезвость': 1413, 'конверт': 1414, 'слоновый': 1415, 'пережиток': 1416, 'свадебный': 1417, 'шуршать': 1418, 'некомфортно': 1419, 'аргумент': 1420, 'трудолюбивый': 1421, 'затронуть': 1422, 'левак': 1423, 'милый': 1424, 'чан': 1425, 'жарко': 1426, 'отдельный': 1427, 'попытать': 1428, 'реал': 1429, 'липучий': 1430, 'телебашня': 1431, 'прикупить': 1432, 'сервисный': 1433, 'орех': 1434, 'театр': 1435, 'людская': 1436, 'полумрак': 1437, 'поскольку': 1438, 'козырёк': 1439, 'незаконный': 1440, 'управлять': 1441, 'тонкость': 1442, 'прибежать': 1443, 'затем': 1444, 'фальшивый': 1445, 'шитьё': 1446, 'принтер': 1447, 'мелькать': 1448, 'пикантный': 1449, 'точка': 1450, 'зачаток': 1451, 'пропит': 1452, 'развлечение': 1453, 'эффективный': 1454, 'расспрос': 1455, 'обдираловка': 1456, 'развесить': 1457, 'сэр': 1458, 'европейски': 1459, 'любезно': 1460, 'воткнуть': 1461, 'заваляться': 1462, 'завидный': 1463, 'потревожить': 1464, 'конь': 1465, 'бережливость': 1466, 'изучить': 1467, 'сигнал': 1468, 'парашют': 1469, 'яичный': 1470, 'водичка': 1471, 'великан': 1472, 'извращение': 1473, 'брандспойт': 1474, 'больно': 1475, 'пятачок': 1476, 'возрастной': 1477, 'кровавый': 1478, 'араб': 1479, 'безденежье': 1480, 'записка': 1481, 'вой': 1482, 'творение': 1483, 'вершина': 1484, 'временно': 1485, 'греть': 1486, 'верхом': 1487, 'ужалить': 1488, 'уха': 1489, 'дерзать': 1490, 'отливать': 1491, 'добивать': 1492, 'моментально': 1493, 'далёкий': 1494, 'грустно': 1495, 'перебраться': 1496, 'напирать': 1497, 'ку': 1498, 'тяжёлый': 1499, 'отводить': 1500, 'перепродать': 1501, 'пыл': 1502, 'расслабляться': 1503, 'экстраординарный': 1504, 'документ': 1505, 'наэлектризовать': 1506, 'отруби': 1507, 'комплект': 1508, 'претерпеть': 1509, 'скорбный': 1510, 'перевозить': 1511, 'автономно': 1512, 'чт': 1513, 'доставаться': 1514, 'географически': 1515, 'штудировать': 1516, 'набиваться': 1517, 'голодание': 1518, 'мораль': 1519, 'честный': 1520, 'неприбранность': 1521, 'завтракать': 1522, 'стремительно': 1523, 'мука': 1524, 'задерживаться': 1525, 'монорельс': 1526, 'океанарий': 1527, 'поехать': 1528, 'развивающийся': 1529, 'маркетинг': 1530, 'среднеазиатский': 1531, 'бассейн': 1532, 'пугаться': 1533, 'опилка': 1534, 'подмётный': 1535, 'ирбис': 1536, 'мышиный': 1537, 'дож': 1538, 'потрёпанность': 1539, 'горизонтально': 1540, 'шушуканье': 1541, 'регулярность': 1542, 'массивный': 1543, 'иматра': 1544, 'фыркнуть': 1545, 'госпиталь': 1546, 'просвет': 1547, 'разнородный': 1548, 'дервиш': 1549, 'износить': 1550, 'выход': 1551, 'ооо': 1552, 'лучевой': 1553, 'богато': 1554, 'изголовье': 1555, 'анатолий': 1556, 'вихрь': 1557, 'веред': 1558, 'застой': 1559, 'хоровод': 1560, 'путный': 1561, 'дорога': 1562, 'извинить': 1563, 'купание': 1564, 'стухнуть': 1565, 'регион': 1566, 'чистенько': 1567, 'седьмой': 1568, 'следить': 1569, 'телеграмма': 1570, 'платиться': 1571, 'переключиться': 1572, 'избегать': 1573, 'лгунья': 1574, 'студия': 1575, 'купон': 1576, 'даниил': 1577, 'поломаться': 1578, 'аналоговый': 1579, 'стильно': 1580, 'преграда': 1581, 'питерский': 1582, 'долететь': 1583, 'нескучный': 1584, 'сокровище': 1585, 'насморк': 1586, 'открытие': 1587, 'протереть': 1588, 'приветить': 1589, 'мусоропровод': 1590, 'массажистка': 1591, 'сообщать': 1592, 'сообщение': 1593, 'увеличить': 1594, 'мелководье': 1595, 'ливр': 1596, 'отразиться': 1597, 'ноябрь': 1598, 'соусница': 1599, 'промычать': 1600, 'тырить': 1601, 'осуществлять': 1602, 'злой': 1603, 'зеленоватый': 1604, 'каменистый': 1605, 'еда': 1606, 'качать': 1607, 'клавиатура': 1608, 'расписать': 1609, 'наледь': 1610, 'извращенец': 1611, 'обладатель': 1612, 'экстренно': 1613, 'вернуться': 1614, 'неизведанный': 1615, 'карлик': 1616, 'быстроногий': 1617, 'шарага': 1618, 'далековато': 1619, 'кашлять': 1620, 'свинарник': 1621, 'раздеваться': 1622, 'обрушение': 1623, 'сарделька': 1624, 'нерешительно': 1625, 'целиком': 1626, 'боков': 1627, 'купер': 1628, 'разбогатеть': 1629, 'тематический': 1630, 'сдержать': 1631, 'сирота': 1632, 'искажать': 1633, 'струйка': 1634, 'попивать': 1635, 'некурящий': 1636, 'спланировать': 1637, 'потыкаться': 1638, 'подключить': 1639, 'торжественно': 1640, 'бавария': 1641, 'расписание': 1642, 'непримечательный': 1643, 'верёвка': 1644, 'газировка': 1645, 'погреть': 1646, 'нужно': 1647, 'негр': 1648, 'нагреться': 1649, 'наследие': 1650, 'посетить': 1651, 'пробник': 1652, 'темнота': 1653, 'будильник': 1654, 'шептаться': 1655, 'порезаться': 1656, 'грубость': 1657, 'родиться': 1658, 'заполнить': 1659, 'вчетвером': 1660, 'законодательство': 1661, 'областной': 1662, 'серёжка': 1663, 'заклятый': 1664, 'обшарпанно': 1665, 'устраивать': 1666, 'скользко': 1667, 'загадочно': 1668, 'миксер': 1669, 'казарма': 1670, 'микроклимат': 1671, 'уехать': 1672, 'планироваться': 1673, 'коленка': 1674, 'слива': 1675, 'надобность': 1676, 'общепит': 1677, 'обработать': 1678, 'беляна': 1679, 'полцена': 1680, 'надевать': 1681, 'любо': 1682, 'скупаться': 1683, 'напомнить': 1684, 'утомлённый': 1685, 'жёлтый': 1686, 'рама': 1687, 'взломать': 1688, 'неуверенный': 1689, 'двадцатый': 1690, 'дикость': 1691, 'поведение': 1692, 'клементина': 1693, 'перемена': 1694, 'неоплаченный': 1695, 'переслать': 1696, 'недо': 1697, 'солнцезащитный': 1698, 'вася': 1699, 'эмир': 1700, 'полезный': 1701, 'связать': 1702, 'материал': 1703, 'обезличить': 1704, 'шантаж': 1705, 'никогда': 1706, 'динамичный': 1707, 'навроде': 1708, 'странный': 1709, 'надёжность': 1710, 'рог': 1711, 'нормальный': 1712, 'закинуть': 1713, 'радужный': 1714, 'намерение': 1715, 'горячо': 1716, 'тянущий': 1717, 'приставить': 1718, 'наплевательский': 1719, 'впитывать': 1720, 'компот': 1721, 'храпеть': 1722, 'обрызгать': 1723, 'уплетать': 1724, 'эмилий': 1725, 'старуха': 1726, 'неработающий': 1727, 'посыпать': 1728, 'осваивать': 1729, 'урод': 1730, 'разбавлять': 1731, 'готовый': 1732, 'бум': 1733, 'профессионализм': 1734, 'игнорироваться': 1735, 'погаснуть': 1736, 'заседание': 1737, 'спортивный': 1738, 'упрашивать': 1739, 'применить': 1740, 'подтянуться': 1741, 'зависеть': 1742, 'упомнить': 1743, 'призвать': 1744, 'отклеить': 1745, 'пренебрежение': 1746, 'иногородний': 1747, 'присмотреть': 1748, 'свитер': 1749, 'стыковочный': 1750, 'залёживаться': 1751, 'назавтра': 1752, 'зачесаться': 1753, 'курящий': 1754, 'подойти': 1755, 'парижанин': 1756, 'разложиться': 1757, 'медленна': 1758, 'газовать': 1759, 'бутик': 1760, 'вон': 1761, 'паста': 1762, 'заострять': 1763, 'обёртывание': 1764, 'карман': 1765, 'сгон': 1766, 'железный': 1767, 'вдвойне': 1768, 'тапочка': 1769, 'приятный': 1770, 'обжечь': 1771, 'преуменьшение': 1772, 'раздражение': 1773, 'грызть': 1774, 'отогревать': 1775, 'указанный': 1776, 'ночью': 1777, 'халат': 1778, 'грузило': 1779, 'менее': 1780, 'видеозапись': 1781, 'объединить': 1782, 'рассчитаться': 1783, 'выдвигаться': 1784, 'гид': 1785, 'картонка': 1786, 'отечественный': 1787, 'виднеться': 1788, 'удивлённо': 1789, 'уверять': 1790, 'обращать': 1791, 'слеза': 1792, 'напечатать': 1793, 'широкоизвестный': 1794, 'королевский': 1795, 'разучиться': 1796, 'удручающий': 1797, 'загородный': 1798, 'эпицентр': 1799, 'ополаскиваться': 1800, 'съехать': 1801, 'тюк': 1802, 'обозначить': 1803, 'умственный': 1804, 'начаться': 1805, 'размазывать': 1806, 'воровской': 1807, 'гостинец': 1808, 'ничего': 1809, 'умывание': 1810, 'орхидея': 1811, 'перестраховаться': 1812, 'фора': 1813, 'неприличие': 1814, 'бич': 1815, 'подумывать': 1816, 'лукаво': 1817, 'притрагиваться': 1818, 'разномастный': 1819, 'берлога': 1820, 'радоваться': 1821, 'изолировать': 1822, 'лёгкость': 1823, 'мелодия': 1824, 'стряпня': 1825, 'крутиться': 1826, 'светофор': 1827, 'завесить': 1828, 'адаптер': 1829, 'пятнистый': 1830, 'величественный': 1831, 'лекция': 1832, 'выразиться': 1833, 'совершенный': 1834, 'напихать': 1835, 'вьетнамец': 1836, 'мегаполис': 1837, 'точность': 1838, 'централизовать': 1839, 'объект': 1840, 'мудрёный': 1841, 'элегантный': 1842, 'тамара': 1843, 'прибегать': 1844, 'подстегнуть': 1845, 'татьяна': 1846, 'дефицит': 1847, 'откл': 1848, 'хлорсодержащий': 1849, 'сити': 1850, 'переспрашивать': 1851, 'пьющий': 1852, 'квартал': 1853, 'съезд': 1854, 'контакт': 1855, 'поэт': 1856, 'снабдить': 1857, 'мычание': 1858, 'перерастать': 1859, 'ярослав': 1860, 'крупный': 1861, 'делегация': 1862, 'прозрачный': 1863, 'посиделки': 1864, 'нечаянно': 1865, 'цель': 1866, 'бесшабашный': 1867, 'прекрасно': 1868, 'реализация': 1869, 'похолодать': 1870, 'крыльцо': 1871, 'дедуля': 1872, 'африканский': 1873, 'неадекватно': 1874, 'глянуть': 1875, 'досаждать': 1876, 'зажарить': 1877, 'прицельный': 1878, 'лоханка': 1879, 'разыгрывать': 1880, 'искать': 1881, 'смонтировать': 1882, 'плохой': 1883, 'спасти': 1884, 'дядя': 1885, 'магазинчик': 1886, 'усмехнуться': 1887, 'вовнутрь': 1888, 'спиться': 1889, 'переспросить': 1890, 'отзывчивый': 1891, 'нынешний': 1892, 'обои': 1893, 'вспоминаться': 1894, 'дополнение': 1895, 'туалетный': 1896, 'усадить': 1897, 'гордый': 1898, 'достаточный': 1899, 'сгореть': 1900, 'торчать': 1901, 'перекатываться': 1902, 'отважиться': 1903, 'виолетта': 1904, 'фауст': 1905, 'поизноситься': 1906, 'употребление': 1907, 'некуда': 1908, 'бассейный': 1909, 'пудреница': 1910, 'пасмурно': 1911, 'медный': 1912, 'существовать': 1913, 'залюбоваться': 1914, 'турок': 1915, 'необходимо': 1916, 'часть': 1917, 'сбыться': 1918, 'угорать': 1919, 'шторка': 1920, 'спутник': 1921, 'митра': 1922, 'свч': 1923, 'деятельность': 1924, 'покинуть': 1925, 'кратное': 1926, 'меленький': 1927, 'поправка': 1928, 'клиника': 1929, 'измотать': 1930, 'развезти': 1931, 'никак': 1932, 'одурачить': 1933, 'блочный': 1934, 'фланелевый': 1935, 'качалка': 1936, 'темно': 1937, 'отсыпать': 1938, 'воспитательница': 1939, 'хрустальный': 1940, 'запрет': 1941, 'проезд': 1942, 'слабенький': 1943, 'неразборчивый': 1944, 'утешать': 1945, 'пл': 1946, 'зов': 1947, 'подменить': 1948, 'санузел': 1949, 'сгнить': 1950, 'спарить': 1951, 'неравномерный': 1952, 'оболочка': 1953, 'форточка': 1954, 'ассоциироваться': 1955, 'надбить': 1956, 'посредственно': 1957, 'разметка': 1958, 'характеристика': 1959, 'комарьё': 1960, 'совок': 1961, 'препираться': 1962, 'левый': 1963, 'согласиться': 1964, 'ад': 1965, 'потеть': 1966, 'слабый': 1967, 'двойственный': 1968, 'нелётный': 1969, 'лапочка': 1970, 'местечко': 1971, 'зерно': 1972, 'вскакивать': 1973, 'потрогать': 1974, 'выйти': 1975, 'победитель': 1976, 'тамбовский': 1977, 'сердобольный': 1978, 'тапка': 1979, 'напарник': 1980, 'релиз': 1981, 'строитель': 1982, 'промах': 1983, 'склеить': 1984, 'распродать': 1985, 'люстра': 1986, 'ползучий': 1987, 'датчанин': 1988, 'предложный': 1989, 'кусать': 1990, 'низкий': 1991, 'устранение': 1992, 'донный': 1993, 'покрыться': 1994, 'репродуктор': 1995, 'отслаиваться': 1996, 'снять': 1997, 'жалеть': 1998, 'глупый': 1999, 'электрика': 2000, 'край': 2001, 'метать': 2002, 'сбавить': 2003, 'автоответчик': 2004, 'космический': 2005, 'соизволить': 2006, 'вечно': 2007, 'самосохранение': 2008, 'сэкономить': 2009, 'кладь': 2010, 'зачисление': 2011, 'стерильно': 2012, 'автоматика': 2013, 'воздух': 2014, 'безучастный': 2015, 'мальчуган': 2016, 'зелёненький': 2017, 'майонез': 2018, 'раскладной': 2019, 'осматривание': 2020, 'починить': 2021, 'молоко': 2022, 'аж': 2023, 'путевой': 2024, 'лицевой': 2025, 'подфартить': 2026, 'нечестный': 2027, 'благоприятный': 2028, 'совмещать': 2029, 'обзвонить': 2030, 'безобразие': 2031, 'мириться': 2032, 'сторонник': 2033, 'ионизатор': 2034, 'увлечённо': 2035, 'проситься': 2036, 'махинация': 2037, 'размазывание': 2038, 'охранять': 2039, 'отгораживаться': 2040, 'нечищеный': 2041, 'записываться': 2042, 'иванов': 2043, 'выжить': 2044, 'облить': 2045, 'расходовать': 2046, 'формально': 2047, 'нафталин': 2048, 'борьба': 2049, 'бегун': 2050, 'итальянец': 2051, 'помирать': 2052, 'недавний': 2053, 'петроградский': 2054, 'неподдельный': 2055, 'лаять': 2056, 'утончить': 2057, 'поднятие': 2058, 'треугольный': 2059, 'зачислить': 2060, 'осмотреть': 2061, 'непростительный': 2062, 'ахинея': 2063, 'улица': 2064, 'невероятно': 2065, 'приткнуть': 2066, 'добить': 2067, 'вглядываться': 2068, 'задумчиво': 2069, 'чемоданчик': 2070, 'голубиный': 2071, 'пожилое': 2072, 'трехместный': 2073, 'посметь': 2074, 'сеньор': 2075, 'убавлять': 2076, 'океан': 2077, 'обсыпка': 2078, 'скидка': 2079, 'способствовать': 2080, 'муть': 2081, 'карл': 2082, 'зашевелиться': 2083, 'туда': 2084, 'обосновать': 2085, 'взирать': 2086, 'баллон': 2087, 'передумать': 2088, 'гомосексуалист': 2089, 'панорама': 2090, 'незначительно': 2091, 'тесно': 2092, 'этикет': 2093, 'доживать': 2094, 'свидание': 2095, 'истёртый': 2096, 'востребование': 2097, 'приветливость': 2098, 'протяжённость': 2099, 'уплата': 2100, 'разгуляться': 2101, 'многочасовой': 2102, 'ласковый': 2103, 'косметичка': 2104, 'прижаться': 2105, 'дальнобойщик': 2106, 'проползти': 2107, 'подкиснуть': 2108, 'пантомима': 2109, 'сливать': 2110, 'неформально': 2111, 'подытожить': 2112, 'рыбина': 2113, 'сырный': 2114, 'питаться': 2115, 'посушиться': 2116, 'спешный': 2117, 'громкоговоритель': 2118, 'приют': 2119, 'сразу': 2120, 'девать': 2121, 'текстиль': 2122, 'катание': 2123, 'согревать': 2124, 'неочищенный': 2125, 'поистине': 2126, 'наушник': 2127, 'консерватор': 2128, 'уговаривать': 2129, 'закрой': 2130, 'вертеп': 2131, 'моча': 2132, 'четв': 2133, 'ознакомительный': 2134, 'переговорный': 2135, 'переглаживать': 2136, 'хихикать': 2137, 'эх': 2138, 'кардинально': 2139, 'атлантика': 2140, 'дёргать': 2141, 'пародия': 2142, 'грех': 2143, 'сын': 2144, 'лицензия': 2145, 'мысленно': 2146, 'толчок': 2147, 'столбняк': 2148, 'стройный': 2149, 'обморок': 2150, 'стратегия': 2151, 'муравей': 2152, 'японско': 2153, 'грандиозно': 2154, 'канализация': 2155, 'несостоятельность': 2156, 'посапывать': 2157, 'решётка': 2158, 'освобождение': 2159, 'нисколько': 2160, 'запад': 2161, 'отпугивать': 2162, 'пижама': 2163, 'сновать': 2164, 'звучать': 2165, 'отклик': 2166, 'постелить': 2167, 'сводить': 2168, 'собачка': 2169, 'наим': 2170, 'марафонский': 2171, 'обличить': 2172, 'неразнообразный': 2173, 'омар': 2174, 'поддержать': 2175, 'страстный': 2176, 'шаговый': 2177, 'служба': 2178, 'крон': 2179, 'гнездо': 2180, 'безуспешно': 2181, 'будт': 2182, 'бухать': 2183, 'коллекционер': 2184, 'уездный': 2185, 'хлопанье': 2186, 'вызывать': 2187, 'британец': 2188, 'рулет': 2189, 'сценарий': 2190, 'юг': 2191, 'приметный': 2192, 'осадка': 2193, 'газпром': 2194, 'занимать': 2195, 'вглубь': 2196, 'дотянуть': 2197, 'прогореть': 2198, 'хоромы': 2199, 'мошенник': 2200, 'облицовка': 2201, 'бакалея': 2202, 'аспект': 2203, 'горошина': 2204, 'прислать': 2205, 'существенно': 2206, 'хард': 2207, 'трехкомнатный': 2208, 'пешочком': 2209, 'часто': 2210, 'плита': 2211, 'карта': 2212, 'паркетный': 2213, 'перепуг': 2214, 'облик': 2215, 'обученный': 2216, 'прибавить': 2217, 'постараться': 2218, 'щётка': 2219, 'вымереть': 2220, 'проводок': 2221, 'пекарня': 2222, 'сгладиться': 2223, 'пляска': 2224, 'пролезать': 2225, 'ярый': 2226, 'крышка': 2227, 'посуточно': 2228, 'швейцарский': 2229, 'переплата': 2230, 'настолько': 2231, 'мирно': 2232, 'залететь': 2233, 'труп': 2234, 'флор': 2235, 'берет': 2236, 'диета': 2237, 'приличие': 2238, 'заползать': 2239, 'делать': 2240, 'завышать': 2241, 'сова': 2242, 'окаменелый': 2243, 'возмещать': 2244, 'рассматриваться': 2245, 'астрахань': 2246, 'привычный': 2247, 'застойный': 2248, 'шмотки': 2249, 'спина': 2250, 'деревня': 2251, 'многообразие': 2252, 'постоялый': 2253, 'адвокат': 2254, 'расследование': 2255, 'чёрт': 2256, 'банк': 2257, 'усугубиться': 2258, 'подсолить': 2259, 'желательно': 2260, 'манго': 2261, 'кран': 2262, 'завал': 2263, 'шумоизоляция': 2264, 'сдача': 2265, 'еврей': 2266, 'перебиваться': 2267, 'непредсказуемый': 2268, 'заявляться': 2269, 'ставка': 2270, 'заставлять': 2271, 'доставить': 2272, 'продвигать': 2273, 'ровный': 2274, 'нежно': 2275, 'льстить': 2276, 'подождать': 2277, 'рысить': 2278, 'валять': 2279, 'провалиться': 2280, 'лишний': 2281, 'ненужность': 2282, 'пакетик': 2283, 'раздвигаться': 2284, 'вднх': 2285, 'педаль': 2286, 'тонна': 2287, 'безусловный': 2288, 'покрытие': 2289, 'слепой': 2290, 'гдр': 2291, 'приспособление': 2292, 'истошно': 2293, 'прогрессия': 2294, 'безвкусный': 2295, 'филип': 2296, 'спартак': 2297, 'стартовать': 2298, 'забронированный': 2299, 'местность': 2300, 'спад': 2301, 'максимилиан': 2302, 'транспорт': 2303, 'пареный': 2304, 'потянуться': 2305, 'мытый': 2306, 'краснодар': 2307, 'доморощенный': 2308, 'нерабочий': 2309, 'отклониться': 2310, 'неправильно': 2311, 'множественный': 2312, 'француз': 2313, 'подводить': 2314, 'мариновать': 2315, 'дунуть': 2316, 'булгаков': 2317, 'вата': 2318, 'оповестить': 2319, 'неприхотливый': 2320, 'усадьба': 2321, 'немотивированный': 2322, 'срабатывание': 2323, 'чесаться': 2324, 'приоткрываться': 2325, 'заканчивать': 2326, 'расползаться': 2327, 'вежливость': 2328, 'деградация': 2329, 'президентский': 2330, 'рубленый': 2331, 'дата': 2332, 'посмеяться': 2333, 'душновато': 2334, 'телец': 2335, 'сеанс': 2336, 'султан': 2337, 'примитивный': 2338, 'кебаб': 2339, 'габаритный': 2340, 'гипс': 2341, 'осторожно': 2342, 'обжарить': 2343, 'выкатить': 2344, 'пожалуйста': 2345, 'переработать': 2346, 'снисходительно': 2347, 'окошко': 2348, 'расстраивать': 2349, 'митинг': 2350, 'обеспокоить': 2351, 'планка': 2352, 'провинция': 2353, 'субъективность': 2354, 'геройский': 2355, 'недорого': 2356, 'узить': 2357, 'оранжерея': 2358, 'крайне': 2359, 'флорист': 2360, 'единовременно': 2361, 'умолчать': 2362, 'реализовывать': 2363, 'вымокнуть': 2364, 'оспаривание': 2365, 'разбираться': 2366, 'стелить': 2367, 'налепить': 2368, 'волосатый': 2369, 'ориентированность': 2370, 'провождение': 2371, 'отрада': 2372, 'убийство': 2373, 'батарейка': 2374, 'рыдать': 2375, 'кончиться': 2376, 'логин': 2377, 'колхоз': 2378, 'загадочный': 2379, 'наподобие': 2380, 'бухта': 2381, 'учесть': 2382, 'протопать': 2383, 'прекрасна': 2384, 'образ': 2385, 'единственно': 2386, 'вентилироваться': 2387, 'поглотить': 2388, 'выдаться': 2389, 'смолотить': 2390, 'забрать': 2391, 'преследовать': 2392, 'регулярный': 2393, 'заход': 2394, 'унифицировать': 2395, 'тенистый': 2396, 'успокоиться': 2397, 'гематома': 2398, 'продать': 2399, 'фигня': 2400, 'скапливаться': 2401, 'бракосочетание': 2402, 'повышать': 2403, 'полсутки': 2404, 'урбанистический': 2405, 'притвориться': 2406, 'наумов': 2407, 'солнечный': 2408, 'античный': 2409, 'пр': 2410, 'душераздирающий': 2411, 'наркотик': 2412, 'напис': 2413, 'офицер': 2414, 'достучаться': 2415, 'бегать': 2416, 'проживание': 2417, 'нагишом': 2418, 'кровля': 2419, 'завязываться': 2420, 'непринуждённо': 2421, 'соблюсти': 2422, 'заблуждение': 2423, 'тишь': 2424, 'сбиваться': 2425, 'проползать': 2426, 'успех': 2427, 'консультация': 2428, 'специфический': 2429, 'проволочка': 2430, 'ненависть': 2431, 'мечтать': 2432, 'выкрутиться': 2433, 'украинский': 2434, 'мастерство': 2435, 'снаружи': 2436, 'нюхать': 2437, 'грубый': 2438, 'лексика': 2439, 'махать': 2440, 'адресовать': 2441, 'съесть': 2442, 'впадать': 2443, 'сцена': 2444, 'кинозал': 2445, 'лобби': 2446, 'елена': 2447, 'гадкий': 2448, 'сладко': 2449, 'переселить': 2450, 'перепрограммирование': 2451, 'перекручиваться': 2452, 'беседка': 2453, 'горшок': 2454, 'мэр': 2455, 'тахта': 2456, 'достойно': 2457, 'баклажан': 2458, 'жетон': 2459, 'полусырой': 2460, 'путешественница': 2461, 'полусонный': 2462, 'обзавестись': 2463, 'варка': 2464, 'сохранять': 2465, 'тайный': 2466, 'багет': 2467, 'закупаться': 2468, 'алюминиевый': 2469, 'прогреваться': 2470, 'ребро': 2471, 'коттедж': 2472, 'окутывать': 2473, 'разгладить': 2474, 'лев': 2475, 'термический': 2476, 'движение': 2477, 'сопроводить': 2478, 'порываться': 2479, 'культурный': 2480, 'заслуживать': 2481, 'приватность': 2482, 'убираться': 2483, 'тесто': 2484, 'нескрываемый': 2485, 'быстро': 2486, 'состоятельный': 2487, 'провоцировать': 2488, 'август': 2489, 'сохраняться': 2490, 'поститься': 2491, 'шарик': 2492, 'студентка': 2493, 'напоить': 2494, 'туковый': 2495, 'гульбище': 2496, 'прояснить': 2497, 'попутчик': 2498, 'устилать': 2499, 'слышаться': 2500, 'заодно': 2501, 'склизкий': 2502, 'погостить': 2503, 'вечный': 2504, 'немецкий': 2505, 'набережный': 2506, 'микроволновка': 2507, 'доказать': 2508, 'поймать': 2509, 'комиссия': 2510, 'урезать': 2511, 'дружеский': 2512, 'округа': 2513, 'клясть': 2514, 'газировать': 2515, 'сало': 2516, 'домостить': 2517, 'огрех': 2518, 'сбербанк': 2519, 'ресторанный': 2520, 'нагрубить': 2521, 'темноволосый': 2522, 'улучшиться': 2523, 'несвежесть': 2524, 'амплуа': 2525, 'исчезать': 2526, 'уничтожать': 2527, 'улитка': 2528, 'прибавлять': 2529, 'истинный': 2530, 'скакать': 2531, 'эксцентричный': 2532, 'приговорить': 2533, 'наркоман': 2534, 'сумрачно': 2535, 'вязаться': 2536, 'монастырь': 2537, 'наручник': 2538, 'стена': 2539, 'наверное': 2540, 'шагнуть': 2541, 'подзарядка': 2542, 'строительный': 2543, 'тоник': 2544, 'нагловато': 2545, 'подбородок': 2546, 'показатель': 2547, 'перебирать': 2548, 'наорать': 2549, 'понервничать': 2550, 'отовариваться': 2551, 'беззаботный': 2552, 'пирс': 2553, 'лисица': 2554, 'мак': 2555, 'цитата': 2556, 'трапп': 2557, 'ориентация': 2558, 'впускать': 2559, 'списываться': 2560, 'геннадиевич': 2561, 'анонсировать': 2562, 'оборот': 2563, 'бычковый': 2564, 'неповторимый': 2565, 'крис': 2566, 'си': 2567, 'духов': 2568, 'отзываться': 2569, 'заверение': 2570, 'ирония': 2571, 'средненький': 2572, 'сода': 2573, 'эффектный': 2574, 'новизна': 2575, 'приступ': 2576, 'разброс': 2577, 'прогресс': 2578, 'вздумать': 2579, 'пенсия': 2580, 'поселиться': 2581, 'планёрка': 2582, 'хлопать': 2583, 'иранец': 2584, 'скандировать': 2585, 'упорно': 2586, 'обокрасть': 2587, 'сеточка': 2588, 'неосведомлённый': 2589, 'приторный': 2590, 'реновация': 2591, 'безграмотный': 2592, 'тарахтеть': 2593, 'щенок': 2594, 'поддержание': 2595, 'отправить': 2596, 'гнёздышко': 2597, 'нападение': 2598, 'лак': 2599, 'виновница': 2600, 'рекреация': 2601, 'тупо': 2602, 'чудесно': 2603, 'капитан': 2604, 'интересный': 2605, 'двухдневный': 2606, 'долбиться': 2607, 'обжираться': 2608, 'однозначный': 2609, 'барышня': 2610, 'жвачка': 2611, 'предвкушение': 2612, 'осложнять': 2613, 'пушкинский': 2614, 'фруктовый': 2615, 'ныне': 2616, 'бойлер': 2617, 'бюджет': 2618, 'вышибать': 2619, 'нательный': 2620, 'водомёт': 2621, 'гибкий': 2622, 'сопровождение': 2623, 'пожелтеть': 2624, 'презрение': 2625, 'турецк': 2626, 'обниматься': 2627, 'рваный': 2628, 'поучиться': 2629, 'выслать': 2630, 'пошевелиться': 2631, 'приход': 2632, 'возмущаться': 2633, 'исправление': 2634, 'припереться': 2635, 'ловушка': 2636, 'критерий': 2637, 'онкологический': 2638, 'довершать': 2639, 'круто': 2640, 'лазить': 2641, 'освещение': 2642, 'митя': 2643, 'приятно': 2644, 'амбал': 2645, 'датировать': 2646, 'вылинять': 2647, 'путёвка': 2648, 'живить': 2649, 'незаметный': 2650, 'прочее': 2651, 'офисный': 2652, 'поделать': 2653, 'чуткий': 2654, 'двести': 2655, 'прождать': 2656, 'навозный': 2657, 'оделять': 2658, 'слабенек': 2659, 'прекращаться': 2660, 'ремонтироваться': 2661, 'червь': 2662, 'неопределённость': 2663, 'ноготь': 2664, 'червячок': 2665, 'славный': 2666, 'зад': 2667, 'красочный': 2668, 'обслужить': 2669, 'струить': 2670, 'вправду': 2671, 'привинтить': 2672, 'тревожить': 2673, 'реформа': 2674, 'оснащённость': 2675, 'морозилка': 2676, 'роль': 2677, 'нелёгкая': 2678, 'впопад': 2679, 'притяжение': 2680, 'пораниться': 2681, 'пересмотреть': 2682, 'возврат': 2683, 'отштукатурить': 2684, 'загородка': 2685, 'опять': 2686, 'заляпать': 2687, 'составление': 2688, 'железяка': 2689, 'пшённый': 2690, 'бутовый': 2691, 'дебил': 2692, 'тегеран': 2693, 'селёдка': 2694, 'клетушка': 2695, 'тяжесть': 2696, 'глазеть': 2697, 'ринуться': 2698, 'решающий': 2699, 'неподходящий': 2700, 'скудноватый': 2701, 'зал': 2702, 'выгрузить': 2703, 'маловажный': 2704, 'пешеход': 2705, 'побояться': 2706, 'лоток': 2707, 'прикол': 2708, 'выпросить': 2709, 'штрафоваться': 2710, 'недостаточный': 2711, 'комплексный': 2712, 'непосредственный': 2713, 'вперемешку': 2714, 'гаснуть': 2715, 'ковровый': 2716, 'толкаться': 2717, 'животный': 2718, 'просвечиваться': 2719, 'такса': 2720, 'изъездить': 2721, 'подгонять': 2722, 'нервничать': 2723, 'позаботиться': 2724, 'аудитор': 2725, 'кгб': 2726, 'бомж': 2727, 'сыр': 2728, 'течение': 2729, 'любимый': 2730, 'возмещение': 2731, 'рецепт': 2732, 'дальнейший': 2733, 'оглашаться': 2734, 'спальный': 2735, 'английско': 2736, 'зарубежный': 2737, 'сдобрить': 2738, 'велосипедист': 2739, 'уложить': 2740, 'осколок': 2741, 'клеёнка': 2742, 'суть': 2743, 'заряжаться': 2744, 'спб': 2745, 'бомбёжка': 2746, 'свинина': 2747, 'присоединяться': 2748, 'тама': 2749, 'оснащение': 2750, 'топиться': 2751, 'компашка': 2752, 'балконный': 2753, 'стеллаж': 2754, 'изюминка': 2755, 'чёткий': 2756, 'улыбчивость': 2757, 'комфортный': 2758, 'пешеходный': 2759, 'успешно': 2760, 'морг': 2761, 'задумка': 2762, 'техподдержка': 2763, 'внутри': 2764, 'искренне': 2765, 'сменщица': 2766, 'порционный': 2767, 'многоярусный': 2768, 'сопля': 2769, 'заносить': 2770, 'занятой': 2771, 'обсуждаться': 2772, 'боинг': 2773, 'рамка': 2774, 'бару': 2775, 'балтиец': 2776, 'партия': 2777, 'пирамида': 2778, 'сосредоточиться': 2779, 'разогреться': 2780, 'сырник': 2781, 'дороговатый': 2782, 'отказывать': 2783, 'выбира': 2784, 'дешевизна': 2785, 'поклеить': 2786, 'приписка': 2787, 'капля': 2788, 'сибирь': 2789, 'исправить': 2790, 'ссора': 2791, 'усложнять': 2792, 'отсчитывать': 2793, 'интурист': 2794, 'компромисс': 2795, 'приукрасить': 2796, 'солидный': 2797, 'гоп': 2798, 'елизавета': 2799, 'полёт': 2800, 'эвакуатор': 2801, 'направлять': 2802, 'достоевский': 2803, 'дружественный': 2804, 'фотографироваться': 2805, 'др': 2806, 'засыпаться': 2807, 'бриться': 2808, 'переждать': 2809, 'государство': 2810, 'уничтожить': 2811, 'налёт': 2812, 'отследить': 2813, 'ищущий': 2814, 'бравый': 2815, 'пора': 2816, 'ужаснуться': 2817, 'упрекнуть': 2818, 'женщина': 2819, 'переставлять': 2820, 'состав': 2821, 'потёртый': 2822, 'перенос': 2823, 'маска': 2824, 'конвертация': 2825, 'кроме': 2826, 'боле': 2827, 'научиться': 2828, 'хладагент': 2829, 'игрушечный': 2830, 'горб': 2831, 'придание': 2832, 'частично': 2833, 'клуб': 2834, 'размытый': 2835, 'кулак': 2836, 'сказаться': 2837, 'стрелка': 2838, 'истерика': 2839, 'туба': 2840, 'небывальщина': 2841, 'танцевальный': 2842, 'лично': 2843, 'неслабый': 2844, 'портовый': 2845, 'тускло': 2846, 'грохот': 2847, 'выпуклый': 2848, 'подтверждение': 2849, 'аскет': 2850, 'финансово': 2851, 'закрытие': 2852, 'словосочетание': 2853, 'лондон': 2854, 'буддист': 2855, 'вонь': 2856, 'снимать': 2857, 'водить': 2858, 'ракурс': 2859, 'похолодание': 2860, 'потребитель': 2861, 'отказ': 2862, 'очевидный': 2863, 'обусловить': 2864, 'манящий': 2865, 'мазурина': 2866, 'прибрать': 2867, 'лепнина': 2868, 'потребоваться': 2869, 'впиваться': 2870, 'изловить': 2871, 'колокольный': 2872, 'вводить': 2873, 'имитация': 2874, 'организовывать': 2875, 'отнюдь': 2876, 'случайный': 2877, 'шаня': 2878, 'обстрел': 2879, 'трёхзвёздочный': 2880, 'идентичный': 2881, 'вынуждать': 2882, 'выплёскивать': 2883, 'черпак': 2884, 'цех': 2885, 'ян': 2886, 'плачевный': 2887, 'лежание': 2888, 'зуд': 2889, 'переговариваться': 2890, 'расспрашивать': 2891, 'солидол': 2892, 'безмолвствовать': 2893, 'сверхъестественный': 2894, 'звать': 2895, 'промокать': 2896, 'поглощение': 2897, 'взрослый': 2898, 'нарубить': 2899, 'подтечь': 2900, 'административный': 2901, 'независящий': 2902, 'гад': 2903, 'детальный': 2904, 'заверять': 2905, 'комментировать': 2906, 'вычитать': 2907, 'взбираться': 2908, 'удивляться': 2909, 'замысловатый': 2910, 'периметр': 2911, 'клейковина': 2912, 'нешумно': 2913, 'покачивать': 2914, 'ибис': 2915, 'доводить': 2916, 'рис': 2917, 'фонтанчик': 2918, 'тунис': 2919, 'велик': 2920, 'припарковать': 2921, 'жаль': 2922, 'стоить': 2923, 'названивать': 2924, 'суммарно': 2925, 'товар': 2926, 'накидать': 2927, 'прокомментировать': 2928, 'блевотина': 2929, 'любить': 2930, 'клеить': 2931, 'пожелание': 2932, 'дождаться': 2933, 'заботливый': 2934, 'занизить': 2935, 'выплатить': 2936, 'рыбий': 2937, 'узел': 2938, 'втихаря': 2939, 'трактовать': 2940, 'враг': 2941, 'накурить': 2942, 'швах': 2943, 'колея': 2944, 'изнутри': 2945, 'порою': 2946, 'откос': 2947, 'беспокоить': 2948, 'ботинок': 2949, 'вдыхать': 2950, 'возня': 2951, 'роза': 2952, 'растекаться': 2953, 'освящение': 2954, 'распознавать': 2955, 'криворукий': 2956, 'официально': 2957, 'антиоксидант': 2958, 'цивильный': 2959, 'смежный': 2960, 'невозвратный': 2961, 'оседать': 2962, 'обвес': 2963, 'перелистывать': 2964, 'классность': 2965, 'отогреваться': 2966, 'диск': 2967, 'невольный': 2968, 'пилочка': 2969, 'плед': 2970, 'самопроизвольно': 2971, 'разбирать': 2972, 'жалкий': 2973, 'царь': 2974, 'армейский': 2975, 'сальный': 2976, 'недурно': 2977, 'холод': 2978, 'кучковаться': 2979, 'бриллиант': 2980, 'погибнуть': 2981, 'валяться': 2982, 'гост': 2983, 'павел': 2984, 'никотин': 2985, 'докатиться': 2986, 'эстетический': 2987, 'подправить': 2988, 'барбекю': 2989, 'поедание': 2990, 'нравиться': 2991, 'лоск': 2992, 'медлительность': 2993, 'посидеть': 2994, 'пронзительно': 2995, 'обглодать': 2996, 'дело': 2997, 'взламывать': 2998, 'свойственный': 2999, 'дойти': 3000, 'размещённый': 3001, 'порядочность': 3002, 'стандартно': 3003, 'бисквит': 3004, 'накинуть': 3005, 'оборудование': 3006, 'угодный': 3007, 'спорить': 3008, 'переименоваться': 3009, 'затопить': 3010, 'лыжа': 3011, 'незатейливость': 3012, 'пользовать': 3013, 'рычать': 3014, 'оценка': 3015, 'колоритно': 3016, 'несвежий': 3017, 'осветительный': 3018, 'вездесущие': 3019, 'утопить': 3020, 'слово': 3021, 'ровесница': 3022, 'экология': 3023, 'вдруг': 3024, 'поучаствовать': 3025, 'похороны': 3026, 'высокоскоростной': 3027, 'разгадать': 3028, 'выездной': 3029, 'тратить': 3030, 'оратор': 3031, 'нормально': 3032, 'сдать': 3033, 'вероятно': 3034, 'толстой': 3035, 'проветрить': 3036, 'переулок': 3037, 'измена': 3038, 'бог': 3039, 'неудержимый': 3040, 'температурный': 3041, 'кат': 3042, 'втыкать': 3043, 'вздуться': 3044, 'проветриваться': 3045, 'трагедия': 3046, 'подсушить': 3047, 'бункер': 3048, 'считать': 3049, 'закономерность': 3050, 'рыкнуть': 3051, 'разменный': 3052, 'брезгливый': 3053, 'постукивать': 3054, 'котельная': 3055, 'позорище': 3056, 'эпический': 3057, 'запеканка': 3058, 'блошиный': 3059, 'масса': 3060, 'добровольно': 3061, 'повод': 3062, 'лопнуть': 3063, 'познаваться': 3064, 'отчётный': 3065, 'оно': 3066, 'аутентичность': 3067, 'дискотека': 3068, 'резко': 3069, 'списывать': 3070, 'воробьёв': 3071, 'суха': 3072, 'малолетний': 3073, 'фиат': 3074, 'победить': 3075, 'выхватить': 3076, 'архитектура': 3077, 'урезанный': 3078, 'бородатый': 3079, 'беспрепятственный': 3080, 'досмотреть': 3081, 'отдаляться': 3082, 'контора': 3083, 'обалдеть': 3084, 'кинуть': 3085, 'возраст': 3086, 'бросать': 3087, 'кисель': 3088, 'каталка': 3089, 'локация': 3090, 'садик': 3091, 'сравнительно': 3092, 'шпинат': 3093, 'уточнение': 3094, 'красочно': 3095, 'расплатиться': 3096, 'пояснить': 3097, 'киев': 3098, 'полнолуние': 3099, 'доброжелательность': 3100, 'торопить': 3101, 'удалить': 3102, 'улучшить': 3103, 'негромкий': 3104, 'нудно': 3105, 'лужайка': 3106, 'теплоизоляция': 3107, 'пред': 3108, 'обследование': 3109, 'длительный': 3110, 'уединённый': 3111, 'ле': 3112, 'архитектор': 3113, 'слишком': 3114, 'миниатюра': 3115, 'настойчиво': 3116, 'окружающий': 3117, 'зарубежье': 3118, 'многодневный': 3119, 'балкончик': 3120, 'английски': 3121, 'платно': 3122, 'усаживаться': 3123, 'полугодие': 3124, 'экономиться': 3125, 'душа': 3126, 'чисто': 3127, 'ночь': 3128, 'сказать': 3129, 'отображать': 3130, 'липнуть': 3131, 'обкурить': 3132, 'неизменно': 3133, 'интернет': 3134, 'шахта': 3135, 'морепродукт': 3136, 'потрясение': 3137, 'восемь': 3138, 'искупаться': 3139, 'объяснение': 3140, 'пятый': 3141, 'отчаяние': 3142, 'материализоваться': 3143, 'забывчивость': 3144, 'ключевой': 3145, 'шпилька': 3146, 'руководитель': 3147, 'герман': 3148, 'проходимец': 3149, 'обветшать': 3150, 'внучка': 3151, 'превратить': 3152, 'тонко': 3153, 'возвышенность': 3154, 'плот': 3155, 'свистеть': 3156, 'внутренний': 3157, 'сигнализация': 3158, 'предупредительный': 3159, 'килограмм': 3160, 'девушка': 3161, 'заглушка': 3162, 'еслиб': 3163, 'шёпотом': 3164, 'отвешивать': 3165, 'откладывать': 3166, 'конструктивный': 3167, 'наворотить': 3168, 'ступень': 3169, 'заколка': 3170, 'роуминг': 3171, 'гантель': 3172, 'блокнот': 3173, 'микроскопический': 3174, 'изумлённый': 3175, 'катерина': 3176, 'отлив': 3177, 'приватбанк': 3178, 'навредить': 3179, 'силовой': 3180, 'отребье': 3181, 'врать': 3182, 'договориться': 3183, 'процент': 3184, 'холодно': 3185, 'обманывать': 3186, 'наполеон': 3187, 'пафосный': 3188, 'применять': 3189, 'оправдать': 3190, 'сниматься': 3191, 'нешумный': 3192, 'параша': 3193, 'нестабильный': 3194, 'похвала': 3195, 'нетрезвый': 3196, 'семечко': 3197, 'тестирование': 3198, 'брат': 3199, 'нырять': 3200, 'пуфик': 3201, 'пакетный': 3202, 'ссориться': 3203, 'электропоезд': 3204, 'фуникулёр': 3205, 'немой': 3206, 'презерватив': 3207, 'сушиться': 3208, 'абсурд': 3209, 'серо': 3210, 'пригрозить': 3211, 'наполниться': 3212, 'угождать': 3213, 'астматик': 3214, 'позорить': 3215, 'уволить': 3216, 'количество': 3217, 'игуана': 3218, 'баня': 3219, 'отсчёт': 3220, 'елисейский': 3221, 'светящийся': 3222, 'пропахнуть': 3223, 'яма': 3224, 'бегом': 3225, 'начисление': 3226, 'вертикальный': 3227, 'утыкать': 3228, 'посредине': 3229, 'механический': 3230, 'дёшево': 3231, 'татуировка': 3232, 'разминуться': 3233, 'рогожка': 3234, 'перестилаться': 3235, 'затереть': 3236, 'документальный': 3237, 'утверждать': 3238, 'невооружённый': 3239, 'поисковик': 3240, 'испански': 3241, 'жжёный': 3242, 'власть': 3243, 'жариться': 3244, 'подсобный': 3245, 'поспать': 3246, 'конченый': 3247, 'произвол': 3248, 'комбинировать': 3249, 'экономика': 3250, 'героически': 3251, 'неграмотный': 3252, 'улечься': 3253, 'предписать': 3254, 'область': 3255, 'охлаждение': 3256, 'впустую': 3257, 'гос': 3258, 'вытянутый': 3259, 'аудит': 3260, 'наталья': 3261, 'завязаться': 3262, 'вс': 3263, 'термос': 3264, 'толковый': 3265, 'двоичный': 3266, 'инструктаж': 3267, 'никудышный': 3268, 'заикаться': 3269, 'пожалеть': 3270, 'линючий': 3271, 'судорожно': 3272, 'мебельный': 3273, 'гарант': 3274, 'хилый': 3275, 'минута': 3276, 'противовес': 3277, 'прикреплять': 3278, 'повезти': 3279, 'пуховый': 3280, 'отличить': 3281, 'вваливаться': 3282, 'виски': 3283, 'проводить': 3284, 'отскакивать': 3285, 'сокращать': 3286, 'дятел': 3287, 'обязать': 3288, 'рок': 3289, 'наводиться': 3290, 'аналогичный': 3291, 'казённость': 3292, 'сравнить': 3293, 'часочек': 3294, 'котлован': 3295, 'фигура': 3296, 'маркер': 3297, 'несерьёзно': 3298, 'развитой': 3299, 'зачитать': 3300, 'познание': 3301, 'непереносимый': 3302, 'звучание': 3303, 'перекрывать': 3304, 'бумажник': 3305, 'стерлинг': 3306, 'поколение': 3307, 'арт': 3308, 'крыло': 3309, 'джазовый': 3310, 'проглотить': 3311, 'беседовать': 3312, 'непредвиденный': 3313, 'бедовать': 3314, 'моментальный': 3315, 'рюмка': 3316, 'нежарко': 3317, 'ама': 3318, 'разрываться': 3319, 'удручённый': 3320, 'корявый': 3321, 'минск': 3322, 'экстрим': 3323, 'базироваться': 3324, 'регулироваться': 3325, 'изобретение': 3326, 'ненатуральный': 3327, 'продлевать': 3328, 'мармеладка': 3329, 'взаимодействие': 3330, 'наружность': 3331, 'вползти': 3332, 'напыщенность': 3333, 'концептуальный': 3334, 'печь': 3335, 'таксометр': 3336, 'отключиться': 3337, 'раб': 3338, 'тефтели': 3339, 'одиноко': 3340, 'анжелика': 3341, 'бессрочный': 3342, 'прокатить': 3343, 'редкий': 3344, 'американский': 3345, 'диффузор': 3346, 'написать': 3347, 'дарование': 3348, 'убито': 3349, 'справедливый': 3350, 'реставрировать': 3351, 'осматривать': 3352, 'прейскурант': 3353, 'обзор': 3354, 'неблизкий': 3355, 'выселок': 3356, 'признаваться': 3357, 'следовательно': 3358, 'убойный': 3359, 'выдумать': 3360, 'привлекать': 3361, 'салить': 3362, 'натуральный': 3363, 'ввести': 3364, 'вестерн': 3365, 'ставиться': 3366, 'довозить': 3367, 'фортепиано': 3368, 'развернуть': 3369, 'устойчивость': 3370, 'вдали': 3371, 'командный': 3372, 'примёрзнуть': 3373, 'рейка': 3374, 'взиматься': 3375, 'вышибить': 3376, 'бедно': 3377, 'англоязычный': 3378, 'запаковать': 3379, 'нарядный': 3380, 'заскучать': 3381, 'освятить': 3382, 'опрос': 3383, 'кисточка': 3384, 'постичь': 3385, 'сентиментальный': 3386, 'омрачить': 3387, 'безбилетный': 3388, 'влиять': 3389, 'сковородка': 3390, 'скромно': 3391, 'сытный': 3392, 'позади': 3393, 'съедать': 3394, 'взлёт': 3395, 'попугай': 3396, 'намекать': 3397, 'ругательный': 3398, 'ручей': 3399, 'напол': 3400, 'украшать': 3401, 'ы': 3402, 'недополученный': 3403, 'кровоточить': 3404, 'вселение': 3405, 'твердеть': 3406, 'пустынь': 3407, 'жажда': 3408, 'прокол': 3409, 'становиться': 3410, 'прилежно': 3411, 'вынести': 3412, 'несущественный': 3413, 'обогревать': 3414, 'караоке': 3415, 'мигрант': 3416, 'тэц': 3417, 'инновационный': 3418, 'распечатать': 3419, 'авторизовать': 3420, 'отшиб': 3421, 'ведро': 3422, 'чарли': 3423, 'спасть': 3424, 'запоздать': 3425, 'музыка': 3426, 'вторить': 3427, 'варшава': 3428, 'прямиком': 3429, 'корыто': 3430, 'невиданный': 3431, 'уютный': 3432, 'идиот': 3433, 'ощупь': 3434, 'нервотрёпка': 3435, 'четыре': 3436, 'рекомендоваться': 3437, 'надолго': 3438, 'первоначально': 3439, 'ананас': 3440, 'напороться': 3441, 'лангуст': 3442, 'приез': 3443, 'ошеломлять': 3444, 'перевести': 3445, 'предоставить': 3446, 'примыкать': 3447, 'ложечка': 3448, 'напротив': 3449, 'бишь': 3450, 'израильтянин': 3451, 'вякать': 3452, 'честно': 3453, 'треснуть': 3454, 'сломать': 3455, 'опешить': 3456, 'фиксатор': 3457, 'толерантный': 3458, 'консервный': 3459, 'авиакомпания': 3460, 'преданно': 3461, 'ограничивать': 3462, 'невеста': 3463, 'двухэтажный': 3464, 'распивать': 3465, 'строй': 3466, 'релаксировать': 3467, 'колоссально': 3468, 'минималистский': 3469, 'детектор': 3470, 'кофейня': 3471, 'отличиться': 3472, 'одновременно': 3473, 'разыграться': 3474, 'запоминать': 3475, 'евроремонт': 3476, 'трудность': 3477, 'фонарь': 3478, 'разъезд': 3479, 'ошарашить': 3480, 'вселяться': 3481, 'постер': 3482, 'раздавать': 3483, 'напугать': 3484, 'разжевать': 3485, 'нереально': 3486, 'постпредство': 3487, 'языковой': 3488, 'валенсия': 3489, 'запрыгивать': 3490, 'мандариновый': 3491, 'заполнять': 3492, 'малиновый': 3493, 'наука': 3494, 'навивать': 3495, 'бальзам': 3496, 'обида': 3497, 'мраморный': 3498, 'подкрепить': 3499, 'чечня': 3500, 'хотя': 3501, 'одеял': 3502, 'запереть': 3503, 'ветшать': 3504, 'блистательно': 3505, 'подушка': 3506, 'раскричаться': 3507, 'хорош': 3508, 'надкусить': 3509, 'варёный': 3510, 'химки': 3511, 'круизный': 3512, 'рослый': 3513, 'стопа': 3514, 'спокойный': 3515, 'сосуд': 3516, 'парк': 3517, 'пешие': 3518, 'модернизация': 3519, 'полуторный': 3520, 'сторонка': 3521, 'начало': 3522, 'инвалид': 3523, 'говорящий': 3524, 'обвести': 3525, 'принципиальный': 3526, 'интересно': 3527, 'удовлетворить': 3528, 'котлета': 3529, 'онлайн': 3530, 'тугой': 3531, 'соотношение': 3532, 'конструктор': 3533, 'анимационный': 3534, 'задумываться': 3535, 'лаконичный': 3536, 'прибраться': 3537, 'доспать': 3538, 'предоставление': 3539, 'ночной': 3540, 'познакомить': 3541, 'эвакуация': 3542, 'превратиться': 3543, 'потрудиться': 3544, 'задумать': 3545, 'отрывать': 3546, 'гарнитура': 3547, 'чиститься': 3548, 'перебранка': 3549, 'врубиться': 3550, 'поколесить': 3551, 'ассоциация': 3552, 'утюг': 3553, 'результат': 3554, 'сливной': 3555, 'тараканий': 3556, 'затирка': 3557, 'предостаточный': 3558, 'современно': 3559, 'передвинуть': 3560, 'страна': 3561, 'непромокаемый': 3562, 'весьма': 3563, 'вечность': 3564, 'пластиковый': 3565, 'обшарпаться': 3566, 'угодить': 3567, 'мария': 3568, 'рейтинг': 3569, 'королевна': 3570, 'попустить': 3571, 'выдающийся': 3572, 'обвинять': 3573, 'отваливаться': 3574, 'решетчатый': 3575, 'резервировать': 3576, 'глюкоза': 3577, 'изгадить': 3578, 'отступать': 3579, 'перевязь': 3580, 'топтать': 3581, 'пересекаться': 3582, 'панировочный': 3583, 'небезопасный': 3584, 'парадное': 3585, 'отключать': 3586, 'слетать': 3587, 'казать': 3588, 'неплохо': 3589, 'шаг': 3590, 'статус': 3591, 'приёмный': 3592, 'ограда': 3593, 'шестеро': 3594, 'грамотно': 3595, 'вариант': 3596, 'эээ': 3597, 'болезнь': 3598, 'ящик': 3599, 'напасть': 3600, 'опустошаться': 3601, 'утепление': 3602, 'уют': 3603, 'холодное': 3604, 'улёт': 3605, 'ваз': 3606, 'закроить': 3607, 'притягиваться': 3608, 'доползти': 3609, 'манер': 3610, 'принудительный': 3611, 'простоять': 3612, 'идеально': 3613, 'подстава': 3614, 'маркетинговый': 3615, 'огородить': 3616, 'понятно': 3617, 'подводный': 3618, 'недосчитаться': 3619, 'восхититься': 3620, 'лейкопластырь': 3621, 'солонка': 3622, 'запутать': 3623, 'счастливчик': 3624, 'назваться': 3625, 'страдивариус': 3626, 'девяностый': 3627, 'заразить': 3628, 'рвота': 3629, 'платёжеспособный': 3630, 'конура': 3631, 'техника': 3632, 'ручаться': 3633, 'нервировать': 3634, 'база': 3635, 'достигаться': 3636, 'жанр': 3637, 'приватно': 3638, 'рябой': 3639, 'шаурм': 3640, 'листик': 3641, 'недоброжелательный': 3642, 'краснеть': 3643, 'персонал': 3644, 'пионерка': 3645, 'незамедлительный': 3646, 'четверг': 3647, 'выпускной': 3648, 'дружелюбно': 3649, 'устать': 3650, 'подслушивание': 3651, 'нивелировать': 3652, 'курортный': 3653, 'безопасный': 3654, 'общество': 3655, 'везти': 3656, 'вкладываться': 3657, 'ветка': 3658, 'брод': 3659, 'загрузка': 3660, 'повисать': 3661, 'комод': 3662, 'коротко': 3663, 'бодаться': 3664, 'деться': 3665, 'темнеть': 3666, 'странноватый': 3667, 'аннулироваться': 3668, 'пробовать': 3669, 'устрица': 3670, 'площадка': 3671, 'воскресный': 3672, 'университет': 3673, 'регистратура': 3674, 'аппетитно': 3675, 'безжалостно': 3676, 'некультурный': 3677, 'турникет': 3678, 'помета': 3679, 'опустошить': 3680, 'приборка': 3681, 'хозяйка': 3682, 'кинуться': 3683, 'вода': 3684, 'неприятно': 3685, 'прилёт': 3686, 'дробь': 3687, 'земля': 3688, 'подстраховываться': 3689, 'лавка': 3690, 'февральский': 3691, 'пиццерия': 3692, 'успевать': 3693, 'павлин': 3694, 'годик': 3695, 'элемент': 3696, 'вопль': 3697, 'убого': 3698, 'перила': 3699, 'необходимость': 3700, 'мелочёвка': 3701, 'побродить': 3702, 'дополнять': 3703, 'нерегулярный': 3704, 'дурной': 3705, 'непорядочно': 3706, 'стоика': 3707, 'антик': 3708, 'погладить': 3709, 'вибрация': 3710, 'переохладиться': 3711, 'ножевой': 3712, 'перепробовать': 3713, 'потрясающе': 3714, 'пенсионер': 3715, 'затягиваться': 3716, 'туристка': 3717, 'фигурировать': 3718, 'озеленить': 3719, 'прикрепить': 3720, 'разместиться': 3721, 'мелочный': 3722, 'де': 3723, 'скатиться': 3724, 'скат': 3725, 'ворваться': 3726, 'пожаловать': 3727, 'вставить': 3728, 'неблагополучный': 3729, 'рецензент': 3730, 'вставляться': 3731, 'учтивость': 3732, 'документально': 3733, 'ломбард': 3734, 'развеять': 3735, 'ворковать': 3736, 'слабовато': 3737, 'намеренный': 3738, 'обогреваться': 3739, 'аэрофлот': 3740, 'прочитать': 3741, 'тагил': 3742, 'взаимопонимание': 3743, 'терьер': 3744, 'причина': 3745, 'речка': 3746, 'список': 3747, 'шампанский': 3748, 'погреб': 3749, 'красавец': 3750, 'перестилать': 3751, 'болото': 3752, 'псевдо': 3753, 'бюджетный': 3754, 'пятнадцать': 3755, 'таверна': 3756, 'греча': 3757, 'амстердам': 3758, 'щадить': 3759, 'очистить': 3760, 'высокомерно': 3761, 'запрещаться': 3762, 'поисковый': 3763, 'пересекать': 3764, 'засориться': 3765, 'спецобувь': 3766, 'служебный': 3767, 'рубероид': 3768, 'вести': 3769, 'доля': 3770, 'стоящий': 3771, 'вписывать': 3772, 'споласкивать': 3773, 'святыня': 3774, 'мотель': 3775, 'выжечь': 3776, 'сборный': 3777, 'автодром': 3778, 'утруждать': 3779, 'консультант': 3780, 'безжизненность': 3781, 'войти': 3782, 'грузия': 3783, 'заново': 3784, 'спиртовой': 3785, 'премерзкий': 3786, 'наркотический': 3787, 'светлый': 3788, 'вымыться': 3789, 'отдоить': 3790, 'девчушка': 3791, 'вскочить': 3792, 'социализм': 3793, 'обработка': 3794, 'необычайно': 3795, 'курьёз': 3796, 'упоминаться': 3797, 'высота': 3798, 'восхищаться': 3799, 'распространяться': 3800, 'разбрасываться': 3801, 'кульминация': 3802, 'медленный': 3803, 'раскладушка': 3804, 'кузня': 3805, 'удобный': 3806, 'сполна': 3807, 'отшить': 3808, 'тук': 3809, 'эмоция': 3810, 'вытянуть': 3811, 'белые': 3812, 'мат': 3813, 'коллекция': 3814, 'мнение': 3815, 'разворачиваться': 3816, 'удивление': 3817, 'вырасти': 3818, 'однодневный': 3819, 'пролегать': 3820, 'спичка': 3821, 'полагать': 3822, 'визуальный': 3823, 'роскошь': 3824, 'кукурузный': 3825, 'якобы': 3826, 'динамика': 3827, 'вменяемый': 3828, 'восторженный': 3829, 'неумелый': 3830, 'пенка': 3831, 'необдуманный': 3832, 'утилизация': 3833, 'нагло': 3834, 'пулково': 3835, 'гонять': 3836, 'ул': 3837, 'деталь': 3838, 'тьма': 3839, 'поштучно': 3840, 'зашторивать': 3841, 'городок': 3842, 'пассаж': 3843, 'транслировать': 3844, 'тортик': 3845, 'инфракрасный': 3846, 'забрызгать': 3847, 'табачный': 3848, 'довериться': 3849, 'венский': 3850, 'советоваться': 3851, 'идти': 3852, 'надувательство': 3853, 'искриться': 3854, 'халтурно': 3855, 'удаться': 3856, 'затхлость': 3857, 'сгрудиться': 3858, 'чемпион': 3859, 'солярий': 3860, 'вышесказанной': 3861, 'фирменный': 3862, 'кара': 3863, 'пардон': 3864, 'коромысло': 3865, 'тереться': 3866, 'шлёпнуться': 3867, 'дрянь': 3868, 'косяком': 3869, 'сапог': 3870, 'занятость': 3871, 'штопать': 3872, 'молоток': 3873, 'задохнуться': 3874, 'бездарный': 3875, 'пучок': 3876, 'надорваться': 3877, 'вакуумный': 3878, 'остальной': 3879, 'неудавшийся': 3880, 'варьироваться': 3881, 'постепенно': 3882, 'обмануть': 3883, 'крепость': 3884, 'радостный': 3885, 'выпускать': 3886, 'расставить': 3887, 'отговорка': 3888, 'шумный': 3889, 'разрез': 3890, 'вазон': 3891, 'прям': 3892, 'талончик': 3893, 'баланс': 3894, 'заткнуть': 3895, 'цукат': 3896, 'вычистить': 3897, 'несоответствие': 3898, 'настойка': 3899, 'заблокироваться': 3900, 'здороваться': 3901, 'противоречивый': 3902, 'вкратце': 3903, 'хата': 3904, 'дверка': 3905, 'раздражённо': 3906, 'парадокс': 3907, 'забитый': 3908, 'жертва': 3909, 'пляж': 3910, 'низко': 3911, 'парковать': 3912, 'порядочно': 3913, 'приложиться': 3914, 'причудливый': 3915, 'прогуляться': 3916, 'пасть': 3917, 'ниагарский': 3918, 'тв': 3919, 'скандинавия': 3920, 'существенный': 3921, 'порядок': 3922, 'перебрасывать': 3923, 'банный': 3924, 'сталин': 3925, 'похоже': 3926, 'активно': 3927, 'фанатизм': 3928, 'лука': 3929, 'конструкция': 3930, 'санкция': 3931, 'гардеробный': 3932, 'секрет': 3933, 'провод': 3934, 'жёсткость': 3935, 'варочный': 3936, 'подвыпить': 3937, 'отельный': 3938, 'средство': 3939, 'сообразить': 3940, 'тюль': 3941, 'сирена': 3942, 'кооперация': 3943, 'популярный': 3944, 'пролёт': 3945, 'пояснять': 3946, 'многие': 3947, 'удушать': 3948, 'график': 3949, 'покупаться': 3950, 'энтузиазм': 3951, 'кукольный': 3952, 'колумб': 3953, 'счастие': 3954, 'предпочесть': 3955, 'швейцар': 3956, 'чинить': 3957, 'огорчать': 3958, 'вакцина': 3959, 'понедельник': 3960, 'заманивать': 3961, 'мгновенный': 3962, 'ежесуточно': 3963, 'начитаться': 3964, 'ден': 3965, 'ознакомиться': 3966, 'мелочно': 3967, 'промышленный': 3968, 'ворочаться': 3969, 'самовольство': 3970, 'набираться': 3971, 'половинка': 3972, 'ред': 3973, 'заслужить': 3974, 'умыть': 3975, 'преложить': 3976, 'хамство': 3977, 'молодёжный': 3978, 'трёхэтажный': 3979, 'речной': 3980, 'завидовать': 3981, 'пропускной': 3982, 'иван': 3983, 'добродушный': 3984, 'информация': 3985, 'возле': 3986, 'слава': 3987, 'взлом': 3988, 'томительный': 3989, 'консультироваться': 3990, 'отвалиться': 3991, 'народ': 3992, 'сентябрьский': 3993, 'счастливый': 3994, 'выбивать': 3995, 'ломаться': 3996, 'осадок': 3997, 'таня': 3998, 'стянуть': 3999, 'выбираться': 4000, 'филиппинец': 4001, 'ресторан': 4002, 'блёкнуть': 4003, 'дачный': 4004, 'развалины': 4005, 'пояснение': 4006, 'кросс': 4007, 'видовой': 4008, 'простынка': 4009, 'выкупаться': 4010, 'радио': 4011, 'покормить': 4012, 'переборщить': 4013, 'внешне': 4014, 'помимо': 4015, 'полседьмого': 4016, 'жестковатый': 4017, 'обязательный': 4018, 'роковой': 4019, 'штрафной': 4020, 'столовый': 4021, 'набраться': 4022, 'футбол': 4023, 'выступать': 4024, 'бот': 4025, 'упавший': 4026, 'уверенность': 4027, 'омрачать': 4028, 'страдание': 4029, 'обычно': 4030, 'сталагмит': 4031, 'фортификационный': 4032, 'дымить': 4033, 'частность': 4034, 'принц': 4035, 'зашпаклевать': 4036, 'обновляться': 4037, 'наполовину': 4038, 'похихикать': 4039, 'повернуться': 4040, 'тая': 4041, 'статический': 4042, 'обозрение': 4043, 'плюс': 4044, 'разреветься': 4045, 'муниципальный': 4046, 'сервировка': 4047, 'развиваться': 4048, 'взгляд': 4049, 'звёздочка': 4050, 'карточка': 4051, 'плебс': 4052, 'усиливать': 4053, 'беспардонный': 4054, 'устаревший': 4055, 'крыться': 4056, 'сантиметр': 4057, 'единожды': 4058, 'пошлина': 4059, 'содействовать': 4060, 'подвальчик': 4061, 'большинство': 4062, 'приведение': 4063, 'приближённость': 4064, 'переезжать': 4065, 'угостить': 4066, 'ощутить': 4067, 'слипнуться': 4068, 'ограбить': 4069, 'переодевание': 4070, 'дико': 4071, 'уместить': 4072, 'резерв': 4073, 'непрекращающийся': 4074, 'диссонанс': 4075, 'нашинковать': 4076, 'терпеть': 4077, 'развешивать': 4078, 'аттракцион': 4079, 'инцидент': 4080, 'прохладительный': 4081, 'дабы': 4082, 'деловой': 4083, 'безвозвратный': 4084, 'деяние': 4085, 'неубранный': 4086, 'утренний': 4087, 'отапливаться': 4088, 'ароматизатор': 4089, 'рак': 4090, 'подкрепиться': 4091, 'пхукет': 4092, 'раздумывать': 4093, 'шесть': 4094, 'заправлять': 4095, 'забота': 4096, 'пятница': 4097, 'выманивать': 4098, 'наедаться': 4099, 'занавеска': 4100, 'проволока': 4101, 'плательщик': 4102, 'творожник': 4103, 'апельсиновый': 4104, 'охладить': 4105, 'покатый': 4106, 'ввязываться': 4107, 'змея': 4108, 'струйный': 4109, 'тихий': 4110, 'стремить': 4111, 'игровой': 4112, 'попользовать': 4113, 'собор': 4114, 'повидать': 4115, 'доброжелательно': 4116, 'этакий': 4117, 'присваивать': 4118, 'поражать': 4119, 'жадный': 4120, 'высовываться': 4121, 'выкачивать': 4122, 'недостаточно': 4123, 'восковой': 4124, 'михеев': 4125, 'подкашиваться': 4126, 'вкуснятина': 4127, 'выгода': 4128, 'скорее': 4129, 'грабить': 4130, 'выкинуть': 4131, 'советников': 4132, 'бесплатный': 4133, 'резаться': 4134, 'загруженность': 4135, 'чрезмерно': 4136, 'приветствоваться': 4137, 'банкетка': 4138, 'масштаб': 4139, 'вшить': 4140, 'рельс': 4141, 'предприятие': 4142, 'телеканал': 4143, 'неустойчивый': 4144, 'традиционный': 4145, 'фантик': 4146, 'дуля': 4147, 'городск': 4148, 'праздник': 4149, 'усложнить': 4150, 'повеселить': 4151, 'современность': 4152, 'изобилие': 4153, 'венера': 4154, 'глас': 4155, 'высоковольтный': 4156, 'казаться': 4157, 'разнообразить': 4158, 'мокрёхонький': 4159, 'привезти': 4160, 'стиральный': 4161, 'перо': 4162, 'заплакать': 4163, 'момент': 4164, 'отголосок': 4165, 'радушно': 4166, 'бальный': 4167, 'прилично': 4168, 'нарочитый': 4169, 'многонациональный': 4170, 'вилла': 4171, 'обходиться': 4172, 'шевелюра': 4173, 'перечный': 4174, 'обслуживание': 4175, 'обложить': 4176, 'вешание': 4177, 'сосед': 4178, 'перепроверять': 4179, 'налететь': 4180, 'вырезаться': 4181, 'беспардонно': 4182, 'перекусывать': 4183, 'забег': 4184, 'разбор': 4185, 'смять': 4186, 'замер': 4187, 'поступок': 4188, 'служащий': 4189, 'благоволить': 4190, 'альфа': 4191, 'швейный': 4192, 'отводиться': 4193, 'устный': 4194, 'андреевич': 4195, 'корзина': 4196, 'хижина': 4197, 'хлоп': 4198, 'высокий': 4199, 'клубок': 4200, 'полстакана': 4201, 'эксперт': 4202, 'реконструкция': 4203, 'румын': 4204, 'меняться': 4205, 'апатия': 4206, 'комковатый': 4207, 'распахнуть': 4208, 'мартовский': 4209, 'спартанский': 4210, 'америка': 4211, 'наклоняться': 4212, 'конкурс': 4213, 'давний': 4214, 'обоснованный': 4215, 'проинформировать': 4216, 'удовлетворение': 4217, 'рай': 4218, 'сап': 4219, 'положение': 4220, 'направить': 4221, 'подавлять': 4222, 'кузина': 4223, 'луковый': 4224, 'гудок': 4225, 'улисс': 4226, 'ввалиться': 4227, 'разумный': 4228, 'мандаринка': 4229, 'поскользнуться': 4230, 'повторно': 4231, 'головоломка': 4232, 'свысока': 4233, 'смолчать': 4234, 'посчастливиться': 4235, 'шумно': 4236, 'чудесный': 4237, 'белоснежный': 4238, 'мигом': 4239, 'ярко': 4240, 'соседний': 4241, 'прибор': 4242, 'валерий': 4243, 'свалиться': 4244, 'учуять': 4245, 'грязнуть': 4246, 'цыплёнок': 4247, 'прочистить': 4248, 'утрамбовываться': 4249, 'приходиться': 4250, 'серьёзный': 4251, 'ларчик': 4252, 'превосходство': 4253, 'забиться': 4254, 'неоправданный': 4255, 'барселонец': 4256, 'запечься': 4257, 'скот': 4258, 'законный': 4259, 'топот': 4260, 'тенёк': 4261, 'оцепить': 4262, 'демонстративный': 4263, 'произвести': 4264, 'величие': 4265, 'беспокойство': 4266, 'пастель': 4267, 'четырёхзвёздочный': 4268, 'успокаивать': 4269, 'замять': 4270, 'правильно': 4271, 'душонка': 4272, 'полуденный': 4273, 'раскладываться': 4274, 'астма': 4275, 'чудо': 4276, 'весна': 4277, 'неимоверный': 4278, 'вслед': 4279, 'замирать': 4280, 'креслице': 4281, 'живописный': 4282, 'прохожий': 4283, 'роба': 4284, 'владение': 4285, 'изучать': 4286, 'приключение': 4287, 'табачище': 4288, 'христианский': 4289, 'захлопнуться': 4290, 'специя': 4291, 'функционировать': 4292, 'поздно': 4293, 'решение': 4294, 'возвести': 4295, 'замолкать': 4296, 'семьдесят': 4297, 'дискомфорт': 4298, 'зубной': 4299, 'ёлка': 4300, 'коситься': 4301, 'наружный': 4302, 'запивать': 4303, 'произнести': 4304, 'случаем': 4305, 'марин': 4306, 'предубеждение': 4307, 'многоэтажка': 4308, 'настроить': 4309, 'шарм': 4310, 'грусть': 4311, 'распахиваться': 4312, 'казахстан': 4313, 'круча': 4314, 'метрополь': 4315, 'кадыка': 4316, 'джинсовый': 4317, 'пристальный': 4318, 'стираный': 4319, 'чудовищно': 4320, 'картонный': 4321, 'вовсю': 4322, 'неприступный': 4323, 'софия': 4324, 'клубника': 4325, 'земной': 4326, 'половник': 4327, 'сказка': 4328, 'малолюдный': 4329, 'овощной': 4330, 'погибать': 4331, 'всюду': 4332, 'искажённый': 4333, 'затемнение': 4334, 'сервировать': 4335, 'скобка': 4336, 'возвратить': 4337, 'терпеливый': 4338, 'антипод': 4339, 'продолжаться': 4340, 'желейный': 4341, 'плейер': 4342, 'звёздность': 4343, 'впитаться': 4344, 'фея': 4345, 'сдаться': 4346, 'переписать': 4347, 'надоедать': 4348, 'созерцать': 4349, 'субстанция': 4350, 'отираться': 4351, 'неожиданный': 4352, 'лапка': 4353, 'преступник': 4354, 'простыня': 4355, 'диван': 4356, 'жёсткий': 4357, 'гореть': 4358, 'прописка': 4359, 'вне': 4360, 'пристанище': 4361, 'перевод': 4362, 'уведомление': 4363, 'единица': 4364, 'врубить': 4365, 'гадать': 4366, 'негодование': 4367, 'европейский': 4368, 'маслина': 4369, 'упрыгать': 4370, 'суетливый': 4371, 'очаровательный': 4372, 'калитка': 4373, 'истребитель': 4374, 'палец': 4375, 'содрать': 4376, 'числиться': 4377, 'як': 4378, 'внешность': 4379, 'исчезнуть': 4380, 'судебный': 4381, 'аль': 4382, 'мясной': 4383, 'обжечься': 4384, 'выкрик': 4385, 'уснуть': 4386, 'подкатить': 4387, 'браво': 4388, 'вялый': 4389, 'незначительный': 4390, 'опасаться': 4391, 'непривередливый': 4392, 'накатать': 4393, 'мураш': 4394, 'черта': 4395, 'значительный': 4396, 'затекать': 4397, 'украсить': 4398, 'охота': 4399, 'первозданный': 4400, 'танец': 4401, 'адски': 4402, 'ной': 4403, 'расторопный': 4404, 'оный': 4405, 'скрип': 4406, 'партнёр': 4407, 'пельмень': 4408, 'допускать': 4409, 'ароматический': 4410, 'хлористый': 4411, 'неопытность': 4412, 'туризм': 4413, 'снятие': 4414, 'оповещать': 4415, 'человеколюбие': 4416, 'индивидуальный': 4417, 'наигранность': 4418, 'подпись': 4419, 'пересолить': 4420, 'шариат': 4421, 'достоинство': 4422, 'смениться': 4423, 'вскинуть': 4424, 'хладнокровие': 4425, 'свидетельствовать': 4426, 'ловиться': 4427, 'бритва': 4428, 'усугубляться': 4429, 'анти': 4430, 'лиственный': 4431, 'ждать': 4432, 'заплутать': 4433, 'сработать': 4434, 'модернизм': 4435, 'обмывка': 4436, 'полиэтиленовый': 4437, 'замыть': 4438, 'водитель': 4439, 'разум': 4440, 'недостойный': 4441, 'толчея': 4442, 'норвежский': 4443, 'запихнуть': 4444, 'первый': 4445, 'грязненький': 4446, 'русофобия': 4447, 'мысленный': 4448, 'зазор': 4449, 'ребёночек': 4450, 'обмылок': 4451, 'диспетчер': 4452, 'крабовый': 4453, 'покататься': 4454, 'замерять': 4455, 'проблема': 4456, 'заслон': 4457, 'пронести': 4458, 'поработать': 4459, 'страх': 4460, 'междугородний': 4461, 'населить': 4462, 'стремиться': 4463, 'стопочка': 4464, 'непрожитый': 4465, 'заварка': 4466, 'незавершённость': 4467, 'гулкий': 4468, 'вентилирование': 4469, 'толстенный': 4470, 'оркестр': 4471, 'почуять': 4472, 'ёмкость': 4473, 'апельсин': 4474, 'побеспокоить': 4475, 'анастасия': 4476, 'буква': 4477, 'затребовать': 4478, 'пятеро': 4479, 'йогурт': 4480, 'богатство': 4481, 'родитель': 4482, 'сотрудничать': 4483, 'лягушка': 4484, 'удаляться': 4485, 'наведываться': 4486, 'испытывать': 4487, 'билл': 4488, 'мзда': 4489, 'изложение': 4490, 'пересменка': 4491, 'респект': 4492, 'засунуть': 4493, 'озвучивать': 4494, 'желать': 4495, 'подтянуть': 4496, 'вынужденно': 4497, 'откровенно': 4498, 'приплюсовать': 4499, 'пищевой': 4500, 'планшетный': 4501, 'выкуп': 4502, 'ярд': 4503, 'осведомить': 4504, 'проложить': 4505, 'обходительный': 4506, 'придирка': 4507, 'смастерить': 4508, 'недопить': 4509, 'вели': 4510, 'котор': 4511, 'гласить': 4512, 'перегон': 4513, 'трогать': 4514, 'эксклюзив': 4515, 'недаром': 4516, 'несомненно': 4517, 'сдуреть': 4518, 'перестирывать': 4519, 'администраторша': 4520, 'нелюди': 4521, 'ушлый': 4522, 'неважный': 4523, 'щедрость': 4524, 'принципиально': 4525, 'манный': 4526, 'намёк': 4527, 'путаница': 4528, 'оздоровительный': 4529, 'кило': 4530, 'симптом': 4531, 'выходной': 4532, 'русь': 4533, 'москва': 4534, 'персонально': 4535, 'бесконечный': 4536, 'принести': 4537, 'свежий': 4538, 'расширить': 4539, 'закупочный': 4540, 'исправиться': 4541, 'усугубить': 4542, 'запретить': 4543, 'без': 4544, 'отгородить': 4545, 'горько': 4546, 'заблуждаться': 4547, 'гладь': 4548, 'практиковать': 4549, 'забродить': 4550, 'ползать': 4551, 'заказать': 4552, 'вызывающе': 4553, 'олимпиец': 4554, 'посудный': 4555, 'поднадоесть': 4556, 'передний': 4557, 'флакон': 4558, 'приспособиться': 4559, 'лягнуть': 4560, 'открываться': 4561, 'изнурять': 4562, 'затрата': 4563, 'поджимать': 4564, 'громоздкий': 4565, 'вилка': 4566, 'чистить': 4567, 'организованно': 4568, 'аварийный': 4569, 'номер': 4570, 'бубен': 4571, 'канал': 4572, 'каменоломня': 4573, 'непростой': 4574, 'жуткий': 4575, 'угловой': 4576, 'салатик': 4577, 'книжечка': 4578, 'пригодный': 4579, 'лето': 4580, 'явиться': 4581, 'церемония': 4582, 'заглядывать': 4583, 'шланг': 4584, 'привычка': 4585, 'продавить': 4586, 'растянуться': 4587, 'дождичек': 4588, 'портьера': 4589, 'общедоступный': 4590, 'проезжать': 4591, 'капустный': 4592, 'праздничный': 4593, 'поесть': 4594, 'судно': 4595, 'натыкать': 4596, 'огорчение': 4597, 'искупительный': 4598, 'интимный': 4599, 'омерзительно': 4600, 'жаркое': 4601, 'ихний': 4602, 'пустовать': 4603, 'обёртка': 4604, 'горизонтальный': 4605, 'назло': 4606, 'навести': 4607, 'бесплатно': 4608, 'кот': 4609, 'франшиза': 4610, 'пересечь': 4611, 'крахмальный': 4612, 'стесняться': 4613, 'терапия': 4614, 'морить': 4615, 'скульптура': 4616, 'травмироваться': 4617, 'вгонять': 4618, 'грибок': 4619, 'задевать': 4620, 'меблировать': 4621, 'наружи': 4622, 'неподготовленный': 4623, 'переноситься': 4624, 'удивительно': 4625, 'относиться': 4626, 'пул': 4627, 'заморочка': 4628, 'направиться': 4629, 'бизнесмен': 4630, 'гелиос': 4631, 'проявление': 4632, 'хам': 4633, 'выкатывать': 4634, 'факс': 4635, 'гетто': 4636, 'бишкекский': 4637, 'параметр': 4638, 'оплачивать': 4639, 'примыкание': 4640, 'оглядеть': 4641, 'миро': 4642, 'каша': 4643, 'стенной': 4644, 'перевернуться': 4645, 'рыжеть': 4646, 'улучшение': 4647, 'пчёлка': 4648, 'подтвердить': 4649, 'инфаркт': 4650, 'бродить': 4651, 'просить': 4652, 'различать': 4653, 'обтереть': 4654, 'покушать': 4655, 'природа': 4656, 'подзарядиться': 4657, 'немного': 4658, 'автостанция': 4659, 'электроснабжение': 4660, 'расти': 4661, 'униформа': 4662, 'повелеть': 4663, 'крыш': 4664, 'волнистый': 4665, 'море': 4666, 'мрачноватый': 4667, 'корзинка': 4668, 'раковина': 4669, 'зачаточный': 4670, 'мусульманин': 4671, 'сарафанный': 4672, 'восход': 4673, 'переморозить': 4674, 'подучиться': 4675, 'укатить': 4676, 'намекнуть': 4677, 'нужный': 4678, 'налиплый': 4679, 'напрямую': 4680, 'положить': 4681, 'объять': 4682, 'благодетельница': 4683, 'нанести': 4684, 'портативный': 4685, 'выпрямлять': 4686, 'пыльный': 4687, 'перепроверить': 4688, 'дополнительно': 4689, 'авеню': 4690, 'трудно': 4691, 'держать': 4692, 'жарить': 4693, 'пауза': 4694, 'пренебречь': 4695, 'вкусно': 4696, 'всемирный': 4697, 'получиться': 4698, 'неспокойный': 4699, 'вдаваться': 4700, 'напускной': 4701, 'обзорный': 4702, 'моральный': 4703, 'скорый': 4704, 'высыпаться': 4705, 'горло': 4706, 'милан': 4707, 'альтернативный': 4708, 'одурять': 4709, 'куча': 4710, 'клаустрофобия': 4711, 'принадлежащий': 4712, 'шустро': 4713, 'удерживаться': 4714, 'вонючка': 4715, 'потсдамский': 4716, 'береговой': 4717, 'тяжеленный': 4718, 'поручень': 4719, 'каталог': 4720, 'набирать': 4721, 'оглядываться': 4722, 'шпингалет': 4723, 'территория': 4724, 'зажать': 4725, 'женский': 4726, 'разбудить': 4727, 'онемелый': 4728, 'перестроить': 4729, 'водосточный': 4730, 'неловкий': 4731, 'мечтание': 4732, 'ощущаться': 4733, 'пошататься': 4734, 'буря': 4735, 'доплата': 4736, 'прямой': 4737, 'утварь': 4738, 'посмотреть': 4739, 'оптом': 4740, 'насмарку': 4741, 'кичливый': 4742, 'балльный': 4743, 'хотеться': 4744, 'неподражаемый': 4745, 'умалишённый': 4746, 'застрять': 4747, 'местонахождение': 4748, 'многоязычный': 4749, 'сбегать': 4750, 'уговорить': 4751, 'размазать': 4752, 'дотерпеть': 4753, 'полаяться': 4754, 'повеселиться': 4755, 'дешёвый': 4756, 'доп': 4757, 'долгожданный': 4758, 'подорожать': 4759, 'блок': 4760, 'хитросплетение': 4761, 'матерный': 4762, 'перетекать': 4763, 'экономить': 4764, 'аналогично': 4765, 'изобразить': 4766, 'неизбежно': 4767, 'забыть': 4768, 'жареный': 4769, 'горячее': 4770, 'многофункциональный': 4771, 'сколотить': 4772, 'гламурный': 4773, 'кирпич': 4774, 'зарабатывать': 4775, 'раскрываться': 4776, 'расселять': 4777, 'вмещаться': 4778, 'взыскательный': 4779, 'мочь': 4780, 'поддерживаться': 4781, 'притязательный': 4782, 'пугающе': 4783, 'спаржа': 4784, 'требование': 4785, 'лосьон': 4786, 'разноситься': 4787, 'саратов': 4788, 'пространство': 4789, 'использование': 4790, 'греческий': 4791, 'выбиваться': 4792, 'лесенка': 4793, 'микроволновый': 4794, 'нервозный': 4795, 'сохлый': 4796, 'огненный': 4797, 'неправильный': 4798, 'накладка': 4799, 'ненадёжный': 4800, 'клюв': 4801, 'недоступность': 4802, 'разморозить': 4803, 'изделие': 4804, 'избегание': 4805, 'расположение': 4806, 'отдыхать': 4807, 'арк': 4808, 'ладный': 4809, 'окупать': 4810, 'достоять': 4811, 'переносчик': 4812, 'канатный': 4813, 'подмерзать': 4814, 'обогреватель': 4815, 'прелость': 4816, 'маркировать': 4817, 'сертификация': 4818, 'занести': 4819, 'хохот': 4820, 'журчать': 4821, 'смольный': 4822, 'осознанно': 4823, 'темперамент': 4824, 'начальство': 4825, 'дальный': 4826, 'ультразвук': 4827, 'секретарша': 4828, 'восторг': 4829, 'выгуливать': 4830, 'стираться': 4831, 'рад': 4832, 'беззаконие': 4833, 'созвучно': 4834, 'попрыскать': 4835, 'скрутить': 4836, 'стоянка': 4837, 'одарённый': 4838, 'союзный': 4839, 'сосновый': 4840, 'запнуться': 4841, 'катастрофа': 4842, 'причёска': 4843, 'ретро': 4844, 'соус': 4845, 'болтать': 4846, 'общегражданский': 4847, 'людмила': 4848, 'подобраться': 4849, 'тыс': 4850, 'попасть': 4851, 'шар': 4852, 'прельстить': 4853, 'мифически': 4854, 'кушать': 4855, 'дебоширить': 4856, 'шампанское': 4857, 'вопрос': 4858, 'забавный': 4859, 'маркировка': 4860, 'облиться': 4861, 'жалование': 4862, 'кремовый': 4863, 'муж': 4864, 'устарелый': 4865, 'сынишка': 4866, 'приближаться': 4867, 'поле': 4868, 'черепаха': 4869, 'протёк': 4870, 'ориентир': 4871, 'больной': 4872, 'семейство': 4873, 'удосуживаться': 4874, 'столкновение': 4875, 'терять': 4876, 'видеозаписывающий': 4877, 'реклама': 4878, 'слоновий': 4879, 'трансферт': 4880, 'синтетический': 4881, 'приветствовать': 4882, 'кресло': 4883, 'эталонный': 4884, 'хранить': 4885, 'побывать': 4886, 'галстук': 4887, 'всунуть': 4888, 'маршрутный': 4889, 'османский': 4890, 'компакт': 4891, 'коричневый': 4892, 'возвратиться': 4893, 'предлог': 4894, 'отдаваться': 4895, 'буйство': 4896, 'доказательство': 4897, 'брайтон': 4898, 'заглушать': 4899, 'живот': 4900, 'курьёзный': 4901, 'вышеуказанный': 4902, 'хамка': 4903, 'стыдливо': 4904, 'выливаться': 4905, 'развлекательный': 4906, 'зарабатывание': 4907, 'доллар': 4908, 'сауна': 4909, 'ножной': 4910, 'монарх': 4911, 'тема': 4912, 'маршрут': 4913, 'строение': 4914, 'субъективно': 4915, 'обидный': 4916, 'выключатель': 4917, 'обвинение': 4918, 'электрический': 4919, 'увеличиваться': 4920, 'яйцо': 4921, 'мисс': 4922, 'командировать': 4923, 'тимур': 4924, 'физика': 4925, 'смак': 4926, 'лагерь': 4927, 'сдавить': 4928, 'духовка': 4929, 'краса': 4930, 'довестись': 4931, 'окончиться': 4932, 'аллен': 4933, 'задрипать': 4934, 'двадцатка': 4935, 'невымытый': 4936, 'постеле': 4937, 'пионерский': 4938, 'отгонять': 4939, 'акцент': 4940, 'наладка': 4941, 'неощипанный': 4942, 'обливать': 4943, 'проявиться': 4944, 'корректность': 4945, 'уход': 4946, 'протухший': 4947, 'мыло': 4948, 'верста': 4949, 'щека': 4950, 'настроиться': 4951, 'вкрутую': 4952, 'гостеприимный': 4953, 'грация': 4954, 'отваливать': 4955, 'летний': 4956, 'ценить': 4957, 'грубиянка': 4958, 'постоянно': 4959, 'досадный': 4960, 'щёлканье': 4961, 'подотчётный': 4962, 'небрезгливый': 4963, 'пос': 4964, 'заметать': 4965, 'противогаз': 4966, 'уставить': 4967, 'комплектация': 4968, 'заблаговременный': 4969, 'брак': 4970, 'клянчить': 4971, 'силь': 4972, 'стабильный': 4973, 'преувеличить': 4974, 'добираться': 4975, 'переперчить': 4976, 'поинтересоваться': 4977, 'сидячий': 4978, 'шумоизоляционный': 4979, 'оплошность': 4980, 'квадратный': 4981, 'нелогичный': 4982, 'видеотехника': 4983, 'окатить': 4984, 'пресловутый': 4985, 'нажива': 4986, 'регистрация': 4987, 'компаньон': 4988, 'миловидный': 4989, 'малость': 4990, 'фронт': 4991, 'зодчество': 4992, 'косметологический': 4993, 'переключаться': 4994, 'чехол': 4995, 'согласовывать': 4996, 'констатировать': 4997, 'здоровый': 4998, 'задымить': 4999, 'централизованный': 5000, 'заранее': 5001, 'халатность': 5002, 'получаться': 5003, 'выпуск': 5004, 'дозироваться': 5005, 'ковролин': 5006, 'вставление': 5007, 'стечь': 5008, 'дом': 5009, 'чёрный': 5010, 'накраситься': 5011, 'банда': 5012, 'мост': 5013, 'имидж': 5014, 'трансляция': 5015, 'закоренелый': 5016, 'багажник': 5017, 'поправиться': 5018, 'трен': 5019, 'трехразовый': 5020, 'заморить': 5021, 'очередь': 5022, 'словно': 5023, 'омлет': 5024, 'изменять': 5025, 'перекроить': 5026, 'скрываться': 5027, 'срубить': 5028, 'проследовать': 5029, 'армянин': 5030, 'вынуть': 5031, 'орать': 5032, 'скоростной': 5033, 'бензин': 5034, 'натянуть': 5035, 'слот': 5036, 'большо': 5037, 'очень': 5038, 'обращаться': 5039, 'эллинист': 5040, 'полно': 5041, 'отмена': 5042, 'велосипед': 5043, 'распашонка': 5044, 'графин': 5045, 'поварёшка': 5046, 'нежданный': 5047, 'напрягаться': 5048, 'га': 5049, 'мамка': 5050, 'подремать': 5051, 'разносить': 5052, 'кабаре': 5053, 'непритязательный': 5054, 'келья': 5055, 'отходить': 5056, 'предвзятый': 5057, 'свёкла': 5058, 'стратегически': 5059, 'крот': 5060, 'лимский': 5061, 'разъяснить': 5062, 'отменять': 5063, 'портал': 5064, 'положа': 5065, 'дополняться': 5066, 'централизованно': 5067, 'сфотографироваться': 5068, 'таракан': 5069, 'дуновение': 5070, 'промелькнуть': 5071, 'гнаться': 5072, 'литься': 5073, 'слать': 5074, 'полоса': 5075, 'намного': 5076, 'прага': 5077, 'превосходно': 5078, 'север': 5079, 'сумка': 5080, 'пылесос': 5081, 'растаять': 5082, 'обваливаться': 5083, 'зато': 5084, 'изумительный': 5085, 'обрубить': 5086, 'месть': 5087, 'гамбург': 5088, 'потрепать': 5089, 'ожидать': 5090, 'шанс': 5091, 'заключение': 5092, 'кучер': 5093, 'перечеркнуть': 5094, 'ох': 5095, 'шлепок': 5096, 'твин': 5097, 'подниматься': 5098, 'вразумительно': 5099, 'отменяться': 5100, 'чернота': 5101, 'свежачок': 5102, 'маргинальный': 5103, 'чело': 5104, 'вывести': 5105, 'минуточка': 5106, 'мать': 5107, 'неизвестность': 5108, 'наваливать': 5109, 'добросовестный': 5110, 'парфюмерный': 5111, 'натолкнуть': 5112, 'кальян': 5113, 'теплосеть': 5114, 'ускориться': 5115, 'уличный': 5116, 'хороший': 5117, 'добавиться': 5118, 'сопереживание': 5119, 'посреди': 5120, 'волос': 5121, 'тунец': 5122, 'охранник': 5123, 'наивно': 5124, 'регламентировать': 5125, 'макао': 5126, 'стричь': 5127, 'наказать': 5128, 'вдоль': 5129, 'буревестник': 5130, 'истрепать': 5131, 'открытость': 5132, 'специализированный': 5133, 'повозиться': 5134, 'спешить': 5135, 'эдакий': 5136, 'доступно': 5137, 'подбор': 5138, 'непроветриваемый': 5139, 'спроектированный': 5140, 'чаепитие': 5141, 'спасибо': 5142, 'лилипут': 5143, 'босой': 5144, 'печатать': 5145, 'применение': 5146, 'окупаться': 5147, 'примочка': 5148, 'тринадцатилетний': 5149, 'самолёт': 5150, 'сила': 5151, 'отклеиться': 5152, 'расплодить': 5153, 'записать': 5154, 'замереть': 5155, 'каждодневный': 5156, 'грузовик': 5157, 'низина': 5158, 'бесповоротно': 5159, 'неудовольствие': 5160, 'дохлый': 5161, 'расширяться': 5162, 'усилить': 5163, 'ти': 5164, 'развозка': 5165, 'происхождение': 5166, 'еле': 5167, 'шея': 5168, 'бокс': 5169, 'пекарный': 5170, 'безалаберный': 5171, 'беситься': 5172, 'наперекосяк': 5173, 'гроза': 5174, 'осознавать': 5175, 'раскупить': 5176, 'скоморох': 5177, 'халява': 5178, 'некого': 5179, 'коряга': 5180, 'непонятный': 5181, 'брезжить': 5182, 'затянуться': 5183, 'агрессивный': 5184, 'пожадничать': 5185, 'четверо': 5186, 'общепризнанный': 5187, 'покорно': 5188, 'гулянка': 5189, 'извозчик': 5190, 'ушиб': 5191, 'мерить': 5192, 'задеть': 5193, 'эпохальный': 5194, 'возмутиться': 5195, 'куличок': 5196, 'бес': 5197, 'кривляться': 5198, 'кабы': 5199, 'сатиновый': 5200, 'расценка': 5201, 'привкус': 5202, 'соблюдать': 5203, 'пинг': 5204, 'бессмысленный': 5205, 'превращать': 5206, 'освежить': 5207, 'юный': 5208, 'избирательно': 5209, 'замечать': 5210, 'слесарить': 5211, 'входить': 5212, 'магический': 5213, 'рядышком': 5214, 'отвлекаться': 5215, 'научный': 5216, 'андаманский': 5217, 'развешать': 5218, 'потащить': 5219, 'ахнуть': 5220, 'местный': 5221, 'елозить': 5222, 'затоптать': 5223, 'захватить': 5224, 'гоняться': 5225, 'реальный': 5226, 'вдоволь': 5227, 'несуществующий': 5228, 'пятнать': 5229, 'разочаровывать': 5230, 'кокосовый': 5231, 'толпа': 5232, 'выметать': 5233, 'цветочек': 5234, 'упор': 5235, 'засохнуть': 5236, 'зверь': 5237, 'нельзя': 5238, 'вывезти': 5239, 'вывешить': 5240, 'воплотить': 5241, 'перебиться': 5242, 'шифер': 5243, 'лейка': 5244, 'ящерка': 5245, 'тапочки': 5246, 'кожа': 5247, 'скопление': 5248, 'ремонтировать': 5249, 'право': 5250, 'соблазниться': 5251, 'справочник': 5252, 'бумага': 5253, 'дырчатый': 5254, 'задержать': 5255, 'оформляться': 5256, 'депозитный': 5257, 'гробик': 5258, 'премия': 5259, 'завянуть': 5260, 'горький': 5261, 'паз': 5262, 'азиа': 5263, 'бесшумный': 5264, 'выжиматься': 5265, 'вереница': 5266, 'добавление': 5267, 'стабильность': 5268, 'блюз': 5269, 'неверный': 5270, 'упростить': 5271, 'собачонка': 5272, 'дерьмо': 5273, 'ночка': 5274, 'складывание': 5275, 'сметана': 5276, 'маячить': 5277, 'лео': 5278, 'нарастать': 5279, 'сверлить': 5280, 'признание': 5281, 'смех': 5282, 'рюкзак': 5283, 'перебудить': 5284, 'незаметно': 5285, 'лепить': 5286, 'нескользящий': 5287, 'неуместно': 5288, 'отоспаться': 5289, 'снятой': 5290, 'судиться': 5291, 'злосчастный': 5292, 'отужинать': 5293, 'раковинный': 5294, 'виктор': 5295, 'забегаловка': 5296, 'куриный': 5297, 'классик': 5298, 'размещать': 5299, 'эксплуатировать': 5300, 'иконка': 5301, 'непредусмотрительный': 5302, 'комбинация': 5303, 'одолжение': 5304, 'восхождение': 5305, 'громогласный': 5306, 'глория': 5307, 'несъёмный': 5308, 'бессилие': 5309, 'полупустой': 5310, 'престиж': 5311, 'лампа': 5312, 'сандал': 5313, 'сейф': 5314, 'токио': 5315, 'глухомань': 5316, 'переплёт': 5317, 'племянник': 5318, 'слип': 5319, 'звуконепроницаемый': 5320, 'юмор': 5321, 'песочек': 5322, 'сновидение': 5323, 'огрызок': 5324, 'уменьшить': 5325, 'австралийский': 5326, 'свинтить': 5327, 'архаичный': 5328, 'кубарем': 5329, 'чертовски': 5330, 'дрель': 5331, 'путаный': 5332, 'колонка': 5333, 'немаловажный': 5334, 'драный': 5335, 'информированный': 5336, 'гармонировать': 5337, 'копеечка': 5338, 'наповал': 5339, 'аванс': 5340, 'пресс': 5341, 'небогатый': 5342, 'новшество': 5343, 'разочарованный': 5344, 'пистолет': 5345, 'горе': 5346, 'лозунг': 5347, 'юрист': 5348, 'потасовка': 5349, 'шероховатость': 5350, 'кваканье': 5351, 'поздравление': 5352, 'пресекать': 5353, 'зуб': 5354, 'равно': 5355, 'осквернить': 5356, 'отвратить': 5357, 'распрыскать': 5358, 'договорённость': 5359, 'юниона': 5360, 'высверливать': 5361, 'довольный': 5362, 'запашок': 5363, 'загаситься': 5364, 'травля': 5365, 'ладонь': 5366, 'засасывать': 5367, 'аттик': 5368, 'распланировать': 5369, 'морозно': 5370, 'электроника': 5371, 'сборище': 5372, 'тимченко': 5373, 'тупость': 5374, 'стёртый': 5375, 'фай': 5376, 'подонок': 5377, 'фейерверк': 5378, 'батончик': 5379, 'камамбер': 5380, 'недалеко': 5381, 'ровесник': 5382, 'сходный': 5383, 'помятый': 5384, 'убить': 5385, 'сыровато': 5386, 'кб': 5387, 'смириться': 5388, 'холя': 5389, 'размокать': 5390, 'отвратительный': 5391, 'пустячок': 5392, 'пнуть': 5393, 'перманентно': 5394, 'сень': 5395, 'насильно': 5396, 'больший': 5397, 'тандем': 5398, 'петушиться': 5399, 'оладушка': 5400, 'творог': 5401, 'откинуться': 5402, 'ругаться': 5403, 'наслаждаться': 5404, 'начислить': 5405, 'заколебать': 5406, 'втискиваться': 5407, 'сердито': 5408, 'употребляться': 5409, 'ресурс': 5410, 'многолетний': 5411, 'пахнуть': 5412, 'спускать': 5413, 'охлаждаться': 5414, 'вывод': 5415, 'именоваться': 5416, 'буковка': 5417, 'вонять': 5418, 'румыния': 5419, 'существование': 5420, 'свежеиспечённый': 5421, 'дефолт': 5422, 'прикосновение': 5423, 'разделить': 5424, 'предлагать': 5425, 'включить': 5426, 'яблочный': 5427, 'облагодетельствовать': 5428, 'заболеть': 5429, 'вышивка': 5430, 'случай': 5431, 'допуск': 5432, 'сутенёр': 5433, 'неспособный': 5434, 'образоваться': 5435, 'разглагольствовать': 5436, 'любовник': 5437, 'сушёный': 5438, 'настороженность': 5439, 'камедь': 5440, 'тыльный': 5441, 'классный': 5442, 'обедать': 5443, 'ала': 5444, 'посыльный': 5445, 'скользить': 5446, 'обожать': 5447, 'ласково': 5448, 'алгоритм': 5449, 'выбежать': 5450, 'спорткомплекс': 5451, 'колечко': 5452, 'двенадцать': 5453, 'переселять': 5454, 'удовлетворённость': 5455, 'язва': 5456, 'курсировать': 5457, 'дерзость': 5458, 'ускорить': 5459, 'твердоватый': 5460, 'накушаться': 5461, 'напрасно': 5462, 'высокопоставленный': 5463, 'интеллигентно': 5464, 'плавательный': 5465, 'компактный': 5466, 'осложнить': 5467, 'железка': 5468, 'буквально': 5469, 'ежесекундно': 5470, 'настольный': 5471, 'клумба': 5472, 'энергетика': 5473, 'склянка': 5474, 'берлин': 5475, 'привычно': 5476, 'палочка': 5477, 'металлоискатель': 5478, 'недопустимость': 5479, 'отругать': 5480, 'г': 5481, 'рассаживать': 5482, 'курага': 5483, 'стройплощадка': 5484, 'пыхтеть': 5485, 'нахватать': 5486, 'небезразличный': 5487, 'электроэнергия': 5488, 'неразбериха': 5489, 'искра': 5490, 'выручать': 5491, 'поход': 5492, 'расслабление': 5493, 'блеск': 5494, 'ясно': 5495, 'вспоминать': 5496, 'трамвайчик': 5497, 'поперечный': 5498, 'неудобство': 5499, 'разъезжать': 5500, 'раскрыть': 5501, 'систематически': 5502, 'пробежаться': 5503, 'видимость': 5504, 'армия': 5505, 'пастельный': 5506, 'сдавать': 5507, 'открывалка': 5508, 'приподняться': 5509, 'опухнуть': 5510, 'постоянный': 5511, 'разогревать': 5512, 'фильм': 5513, 'однокомнатный': 5514, 'жалко': 5515, 'цементный': 5516, 'ковш': 5517, 'неорганизованность': 5518, 'лачуга': 5519, 'загран': 5520, 'пресса': 5521, 'плюсовой': 5522, 'одевать': 5523, 'столовка': 5524, 'рассечение': 5525, 'превзойти': 5526, 'цыганка': 5527, 'мужичок': 5528, 'весомый': 5529, 'открыться': 5530, 'корм': 5531, 'стреляться': 5532, 'прибой': 5533, 'отвалить': 5534, 'близкие': 5535, 'колено': 5536, 'освежитель': 5537, 'залетать': 5538, 'ампир': 5539, 'ненадолго': 5540, 'посадка': 5541, 'надлежащий': 5542, 'природный': 5543, 'старомодный': 5544, 'запылить': 5545, 'смыло': 5546, 'помеха': 5547, 'надёжный': 5548, 'выцветший': 5549, 'сниться': 5550, 'шить': 5551, 'возыметь': 5552, 'тягать': 5553, 'урвать': 5554, 'почтовый': 5555, 'груда': 5556, 'европеизировать': 5557, 'новогодний': 5558, 'нерегулярно': 5559, 'изъявить': 5560, 'учёт': 5561, 'ветхость': 5562, 'целесообразный': 5563, 'хватать': 5564, 'автомобиль': 5565, 'распаковать': 5566, 'поблагодарить': 5567, 'трупик': 5568, 'прошить': 5569, 'делаться': 5570, 'крокус': 5571, 'противопожарный': 5572, 'фабра': 5573, 'полна': 5574, 'влажность': 5575, 'выпендреж': 5576, 'ежели': 5577, 'отзывчивость': 5578, 'подшивка': 5579, 'измазать': 5580, 'упитанный': 5581, 'везде': 5582, 'охлаждать': 5583, 'досушить': 5584, 'облом': 5585, 'такий': 5586, 'стоя': 5587, 'заселение': 5588, 'кругленький': 5589, 'обрабатывать': 5590, 'вегетарианский': 5591, 'посетительница': 5592, 'ламинировать': 5593, 'угомонить': 5594, 'подчёркивать': 5595, 'предстоять': 5596, 'глобус': 5597, 'психушка': 5598, 'инфекция': 5599, 'господин': 5600, 'кутерьма': 5601, 'фактура': 5602, 'крохотность': 5603, 'р': 5604, 'воспринять': 5605, 'сводиться': 5606, 'ос': 5607, 'бросаться': 5608, 'магнит': 5609, 'торговый': 5610, 'оптимистка': 5611, 'щедрый': 5612, 'умиротворённый': 5613, 'телефонный': 5614, 'норка': 5615, 'сковываться': 5616, 'храбро': 5617, 'памятник': 5618, 'мрачный': 5619, 'неуважительный': 5620, 'эффективно': 5621, 'крытый': 5622, 'провонять': 5623, 'помахать': 5624, 'привносить': 5625, 'выложить': 5626, 'правильный': 5627, 'утешение': 5628, 'крысиный': 5629, 'пассажирский': 5630, 'выясниться': 5631, 'гриб': 5632, 'фунт': 5633, 'квартирка': 5634, 'бегло': 5635, 'разводка': 5636, 'рижский': 5637, 'отвоёвывать': 5638, 'подогревать': 5639, 'скупиться': 5640, 'переоценить': 5641, 'подходить': 5642, 'знание': 5643, 'очки': 5644, 'одеться': 5645, 'серебряный': 5646, 'злоба': 5647, 'макияж': 5648, 'утешительный': 5649, 'вычет': 5650, 'плафон': 5651, 'перерыть': 5652, 'монах': 5653, 'цедить': 5654, 'откуда': 5655, 'верить': 5656, 'ввод': 5657, 'сомкнуть': 5658, 'выползать': 5659, 'чернила': 5660, 'фиолетовый': 5661, 'грибковый': 5662, 'чаёк': 5663, 'облицевать': 5664, 'возместить': 5665, 'безвозвратно': 5666, 'японский': 5667, 'проигнорировать': 5668, 'шведский': 5669, 'утюжок': 5670, 'плоский': 5671, 'кончина': 5672, 'подарочный': 5673, 'около': 5674, 'любитель': 5675, 'залп': 5676, 'относительно': 5677, 'отсутствуй': 5678, 'трезвон': 5679, 'балаган': 5680, 'полить': 5681, 'провайдер': 5682, 'заливать': 5683, 'прикрыть': 5684, 'косичка': 5685, 'бяка': 5686, 'критично': 5687, 'баранина': 5688, 'катер': 5689, 'потерпевший': 5690, 'отпустить': 5691, 'гей': 5692, 'вновь': 5693, 'пригодиться': 5694, 'подогреть': 5695, 'засорить': 5696, 'марина': 5697, 'подлежать': 5698, 'наугад': 5699, 'насчитывать': 5700, 'летать': 5701, 'швырять': 5702, 'ленинградский': 5703, 'гуманно': 5704, 'завязать': 5705, 'жирненький': 5706, 'застройка': 5707, 'барин': 5708, 'геометрический': 5709, 'гр': 5710, 'трактир': 5711, 'пойти': 5712, 'перекидывать': 5713, 'выдернуть': 5714, 'позволение': 5715, 'компетенция': 5716, 'обернуться': 5717, 'финал': 5718, 'полуфабрикат': 5719, 'чай': 5720, 'ответ': 5721, 'втора': 5722, 'гигиена': 5723, 'зонирование': 5724, 'мусорник': 5725, 'упомянуть': 5726, 'инклюзив': 5727, 'глохнуть': 5728, 'оскорбленный': 5729, 'кружочек': 5730, 'дозировать': 5731, 'кулинария': 5732, 'конфета': 5733, 'спортзал': 5734, 'анахронизм': 5735, 'отмыть': 5736, 'утерять': 5737, 'сочетать': 5738, 'миллиграмм': 5739, 'классика': 5740, 'холодина': 5741, 'надоедливый': 5742, 'облепить': 5743, 'морозильник': 5744, 'адский': 5745, 'попить': 5746, 'нагловатый': 5747, 'сыроватый': 5748, 'доставка': 5749, 'порода': 5750, 'флоренция': 5751, 'штанишки': 5752, 'соль': 5753, 'осмотр': 5754, 'стлать': 5755, 'влюбить': 5756, 'чувствительность': 5757, 'заслонить': 5758, 'непробиваемый': 5759, 'купать': 5760, 'акбар': 5761, 'предупредительность': 5762, 'новёхонький': 5763, 'парикмахер': 5764, 'очередной': 5765, 'дорогостоящий': 5766, 'символизировать': 5767, 'суета': 5768, 'холм': 5769, 'умилительный': 5770, 'видимо': 5771, 'эмират': 5772, 'объяснять': 5773, 'соблазнять': 5774, 'трюк': 5775, 'повернуть': 5776, 'собственно': 5777, 'неправда': 5778, 'душистый': 5779, 'нагревать': 5780, 'чур': 5781, 'миссия': 5782, 'рукотворный': 5783, 'могила': 5784, 'снижать': 5785, 'настать': 5786, 'цоканье': 5787, 'нигде': 5788, 'сбросить': 5789, 'изоляция': 5790, 'тестировать': 5791, 'растительность': 5792, 'разглядеть': 5793, 'топ': 5794, 'точить': 5795, 'сиеста': 5796, 'многое': 5797, 'аромат': 5798, 'купальный': 5799, 'укрываться': 5800, 'кристина': 5801, 'отродясь': 5802, 'расчистить': 5803, 'лень': 5804, 'использоваться': 5805, 'урегулирование': 5806, 'мим': 5807, 'александ': 5808, 'принцип': 5809, 'дышать': 5810, 'вонища': 5811, 'сетевой': 5812, 'приобретаться': 5813, 'подыскивать': 5814, 'байкал': 5815, 'мотивировать': 5816, 'ариец': 5817, 'семиэтажный': 5818, 'неприветливый': 5819, 'позабавить': 5820, 'мягкость': 5821, 'расчёт': 5822, 'утеплить': 5823, 'прикончить': 5824, 'николай': 5825, 'необычный': 5826, 'рвать': 5827, 'недёшево': 5828, 'зловеще': 5829, 'плыть': 5830, 'брежневский': 5831, 'дословно': 5832, 'кампания': 5833, 'ломоносовский': 5834, 'предать': 5835, 'раствориться': 5836, 'корень': 5837, 'половой': 5838, 'агрессия': 5839, 'фамилия': 5840, 'прецедент': 5841, 'переночевать': 5842, 'фломастер': 5843, 'набегать': 5844, 'победа': 5845, 'ограбление': 5846, 'выправить': 5847, 'башня': 5848, 'скульптор': 5849, 'треск': 5850, 'галтель': 5851, 'разбухнуть': 5852, 'разниться': 5853, 'шуруп': 5854, 'дирекция': 5855, 'мобильник': 5856, 'вмонтировать': 5857, 'питьевой': 5858, 'вытяжной': 5859, 'слушатель': 5860, 'обозвать': 5861, 'обвалить': 5862, 'клапан': 5863, 'неаккуратно': 5864, 'пообщаться': 5865, 'эмма': 5866, 'короб': 5867, 'задний': 5868, 'оформлять': 5869, 'удовольствие': 5870, 'измерение': 5871, 'бетон': 5872, 'изначально': 5873, 'переговорить': 5874, 'происшествие': 5875, 'подмосковье': 5876, 'потный': 5877, 'подсказать': 5878, 'каталонец': 5879, 'аэропорт': 5880, 'сумасшествие': 5881, 'шелуха': 5882, 'заспанный': 5883, 'вывесить': 5884, 'секретарь': 5885, 'клавиша': 5886, 'дюймовочка': 5887, 'шорты': 5888, 'справка': 5889, 'барьер': 5890, 'световой': 5891, 'кнопка': 5892, 'интерес': 5893, 'излёт': 5894, 'недобросовестный': 5895, 'объяснить': 5896, 'интерн': 5897, 'навешивание': 5898, 'спокойно': 5899, 'произойти': 5900, 'звон': 5901, 'хауз': 5902, 'ломиться': 5903, 'забирать': 5904, 'заглянуть': 5905, 'анкета': 5906, 'бронетехника': 5907, 'ощущать': 5908, 'разный': 5909, 'монпелье': 5910, 'маня': 5911, 'лишь': 5912, 'незаинтересованный': 5913, 'полотенц': 5914, 'вяло': 5915, 'жук': 5916, 'различный': 5917, 'фасоль': 5918, 'безналичный': 5919, 'изъять': 5920, 'отсутствие': 5921, 'совершить': 5922, 'изюм': 5923, 'жасмина': 5924, 'вернисаж': 5925, 'мазохист': 5926, 'действительность': 5927, 'зрелище': 5928, 'потолочный': 5929, 'пименов': 5930, 'убитый': 5931, 'куб': 5932, 'произносить': 5933, 'отметина': 5934, 'достирать': 5935, 'размахивать': 5936, 'сырой': 5937, 'восклицательный': 5938, 'пересылаться': 5939, 'аппарат': 5940, 'лифтовый': 5941, 'взбить': 5942, 'пуховик': 5943, 'аналог': 5944, 'поглазеть': 5945, 'шкаф': 5946, 'цилиндр': 5947, 'кондитерский': 5948, 'прогулять': 5949, 'непригодный': 5950, 'тойота': 5951, 'бестолк': 5952, 'подставлять': 5953, 'навес': 5954, 'рыженький': 5955, 'крючек': 5956, 'фирма': 5957, 'трамвай': 5958, 'южный': 5959, 'лей': 5960, 'закукарекать': 5961, 'основываться': 5962, 'позыв': 5963, 'поужинать': 5964, 'рассчитываться': 5965, 'усталость': 5966, 'включать': 5967, 'предварительный': 5968, 'выписать': 5969, 'сочинять': 5970, 'пирожное': 5971, 'помещаться': 5972, 'спец': 5973, 'сведение': 5974, 'происходить': 5975, 'фурнитура': 5976, 'базарчик': 5977, 'завыть': 5978, 'опускать': 5979, 'запомниться': 5980, 'потаскуха': 5981, 'настроение': 5982, 'непрактичный': 5983, 'вздохнуть': 5984, 'вызвать': 5985, 'зависимость': 5986, 'оба': 5987, 'трафик': 5988, 'носка': 5989, 'приколоться': 5990, 'школьник': 5991, 'сегодняшний': 5992, 'упасти': 5993, 'проезжий': 5994, 'прямо': 5995, 'добавлять': 5996, 'слёзно': 5997, 'взор': 5998, 'волчий': 5999, 'тип': 6000, 'попробовать': 6001, 'понятливый': 6002, 'холодильник': 6003, 'подлом': 6004, 'пометка': 6005, 'отечь': 6006, 'тухлость': 6007, 'пекло': 6008, 'встать': 6009, 'рёв': 6010, 'заводский': 6011, 'избавиться': 6012, 'щиколотка': 6013, 'тутти': 6014, 'реакция': 6015, 'поломка': 6016, 'рельеф': 6017, 'развитый': 6018, 'утвердительный': 6019, 'аки': 6020, 'расположить': 6021, 'близ': 6022, 'побелка': 6023, 'арена': 6024, 'сквозной': 6025, 'плоскость': 6026, 'балтика': 6027, 'врата': 6028, 'перечисляться': 6029, 'экзотично': 6030, 'навалить': 6031, 'вымостить': 6032, 'шаркать': 6033, 'ритуал': 6034, 'арендный': 6035, 'раскрутить': 6036, 'зарядный': 6037, 'газон': 6038, 'развязка': 6039, 'приличный': 6040, 'читалка': 6041, 'любопытствовать': 6042, 'наклонить': 6043, 'дыра': 6044, 'норма': 6045, 'извиняться': 6046, 'нарушить': 6047, 'крюк': 6048, 'шататься': 6049, 'показной': 6050, 'непрофессиональный': 6051, 'укомплектовать': 6052, 'ближний': 6053, 'дислокация': 6054, 'тушить': 6055, 'задираться': 6056, 'многоэтажный': 6057, 'экспериментальный': 6058, 'отсыреть': 6059, 'стамбульский': 6060, 'народонаселение': 6061, 'разочароваться': 6062, 'полноценно': 6063, 'подземный': 6064, 'лапша': 6065, 'огорчить': 6066, 'хвалёный': 6067, 'отпечаток': 6068, 'забросить': 6069, 'деревушка': 6070, 'умудриться': 6071, 'извинение': 6072, 'массовый': 6073, 'группа': 6074, 'повышение': 6075, 'заказчик': 6076, 'подробно': 6077, 'минутный': 6078, 'применяться': 6079, 'буквальный': 6080, 'внушить': 6081, 'усыпать': 6082, 'перегрузить': 6083, 'разрывать': 6084, 'прикольный': 6085, 'охладиться': 6086, 'ограничитель': 6087, 'дамский': 6088, 'приобрести': 6089, 'чрезмерный': 6090, 'цветовой': 6091, 'оттолкнуть': 6092, 'обнять': 6093, 'буянить': 6094, 'психбольница': 6095, 'сорт': 6096, 'настоящий': 6097, 'босфор': 6098, 'развозить': 6099, 'интенсивно': 6100, 'драматично': 6101, 'кафель': 6102, 'товарка': 6103, 'кромка': 6104, 'крыса': 6105, 'боб': 6106, 'фрукт': 6107, 'плечики': 6108, 'туннель': 6109, 'сухой': 6110, 'часок': 6111, 'комфортабельно': 6112, 'бесперебойный': 6113, 'недоваренный': 6114, 'удочка': 6115, 'возобладать': 6116, 'переместить': 6117, 'солнечно': 6118, 'расстроить': 6119, 'загон': 6120, 'божий': 6121, 'забраться': 6122, 'густав': 6123, 'переложить': 6124, 'одинокий': 6125, 'боженька': 6126, 'животное': 6127, 'втулка': 6128, 'преступный': 6129, 'прихожая': 6130, 'судный': 6131, 'раздражить': 6132, 'вентилировать': 6133, 'свиной': 6134, 'здоровье': 6135, 'свежеприготовленный': 6136, 'попрактиковаться': 6137, 'перелив': 6138, 'штора': 6139, 'фактор': 6140, 'достать': 6141, 'диктовать': 6142, 'радовать': 6143, 'коррида': 6144, 'кафетерий': 6145, 'подглядывать': 6146, 'запотевать': 6147, 'тупой': 6148, 'скрытый': 6149, 'категория': 6150, 'обнаглеть': 6151, 'официантка': 6152, 'капризничать': 6153, 'недомогание': 6154, 'приглянуться': 6155, 'кулёчек': 6156, 'блестящий': 6157, 'потенциал': 6158, 'кайма': 6159, 'проорать': 6160, 'горка': 6161, 'акт': 6162, 'освобождаться': 6163, 'висеть': 6164, 'несоизмеримый': 6165, 'двигать': 6166, 'захотеться': 6167, 'стация': 6168, 'метрдотель': 6169, 'понятие': 6170, 'неагрессивный': 6171, 'отдаление': 6172, 'лимонный': 6173, 'мыться': 6174, 'выкрикнуть': 6175, 'нежелание': 6176, 'ген': 6177, 'зима': 6178, 'вспять': 6179, 'отделяться': 6180, 'отовсюду': 6181, 'схватиться': 6182, 'молодость': 6183, 'хамам': 6184, 'овсянка': 6185, 'курьер': 6186, 'выскакивать': 6187, 'душевно': 6188, 'слой': 6189, 'остыть': 6190, 'тронуть': 6191, 'задвинуть': 6192, 'потенциальный': 6193, 'писулька': 6194, 'блюдечко': 6195, 'перечесть': 6196, 'война': 6197, 'забаррикадировать': 6198, 'вопиять': 6199, 'болт': 6200, 'финансирование': 6201, 'продемонстрировать': 6202, 'нелепость': 6203, 'материальный': 6204, 'довольствие': 6205, 'подпортить': 6206, 'промучиться': 6207, 'воспалиться': 6208, 'водяной': 6209, 'выяснение': 6210, 'мужской': 6211, 'издалёка': 6212, 'разломать': 6213, 'велеть': 6214, 'страховаться': 6215, 'бронироваться': 6216, 'сопка': 6217, 'контраст': 6218, 'луна': 6219, 'угол': 6220, 'загадка': 6221, 'односложно': 6222, 'толя': 6223, 'пренебрежительный': 6224, 'раздвигать': 6225, 'нетерпение': 6226, 'осознанный': 6227, 'удостоверять': 6228, 'земляк': 6229, 'чих': 6230, 'решительный': 6231, 'рухнуть': 6232, 'диско': 6233, 'монако': 6234, 'сложность': 6235, 'окончание': 6236, 'оказание': 6237, 'побла': 6238, 'водоворот': 6239, 'просохнуть': 6240, 'учить': 6241, 'мутно': 6242, 'уголь': 6243, 'игрушка': 6244, 'окошечко': 6245, 'заметка': 6246, 'торг': 6247, 'горстка': 6248, 'сыро': 6249, 'химия': 6250, 'сервант': 6251, 'годный': 6252, 'пьяненький': 6253, 'нос': 6254, 'удручить': 6255, 'разведывать': 6256, 'стульчак': 6257, 'настраивать': 6258, 'шампиньон': 6259, 'контролёр': 6260, 'винтовой': 6261, 'кисловодск': 6262, 'затхло': 6263, 'дрезден': 6264, 'глаженый': 6265, 'сопровождать': 6266, 'осуществляться': 6267, 'столько': 6268, 'холостяк': 6269, 'тамбур': 6270, 'таскать': 6271, 'выбирать': 6272, 'ступор': 6273, 'чуточку': 6274, 'каков': 6275, 'будда': 6276, 'неустанно': 6277, 'наблюдение': 6278, 'повинность': 6279, 'футуристический': 6280, 'личный': 6281, 'однокамерный': 6282, 'курочка': 6283, 'арендатор': 6284, 'тайком': 6285, 'бычок': 6286, 'гастрономический': 6287, 'утихомириться': 6288, 'саудовский': 6289, 'перегонять': 6290, 'скитаться': 6291, 'прикроватный': 6292, 'невозможность': 6293, 'препирательство': 6294, 'вышеперечисленный': 6295, 'захватывать': 6296, 'оправдаться': 6297, 'напичкать': 6298, 'досягаемость': 6299, 'разборка': 6300, 'надуть': 6301, 'поражающий': 6302, 'сибирский': 6303, 'бежевый': 6304, 'набиться': 6305, 'здание': 6306, 'фиксироваться': 6307, 'почта': 6308, 'риск': 6309, 'тель': 6310, 'отверстие': 6311, 'доступный': 6312, 'включиться': 6313, 'сенсор': 6314, 'удостоить': 6315, 'фри': 6316, 'листовой': 6317, 'вытяжка': 6318, 'пуля': 6319, 'закрепляться': 6320, 'нет': 6321, 'отличный': 6322, 'прислушаться': 6323, 'самоубийца': 6324, 'подвесить': 6325, 'гостеприимство': 6326, 'форсунка': 6327, 'пошаговый': 6328, 'бочком': 6329, 'осматриваться': 6330, 'торговец': 6331, 'отвлечение': 6332, 'позагорать': 6333, 'выступить': 6334, 'просьба': 6335, 'сурово': 6336, 'порвать': 6337, 'незачем': 6338, 'нарезать': 6339, 'простуда': 6340, 'устраиваться': 6341, 'многоножка': 6342, 'съезжаться': 6343, 'улетучиться': 6344, 'зелень': 6345, 'одеяло': 6346, 'примотать': 6347, 'купейный': 6348, 'разбиться': 6349, 'сорванец': 6350, 'вылететь': 6351, 'ростов': 6352, 'распитие': 6353, 'стабильно': 6354, 'распродажа': 6355, 'безусловно': 6356, 'словить': 6357, 'определиться': 6358, 'инна': 6359, 'типично': 6360, 'негуманный': 6361, 'нарушение': 6362, 'мясо': 6363, 'юмористический': 6364, 'квадрат': 6365, 'ограниченный': 6366, 'тревожный': 6367, 'нитка': 6368, 'шёлковый': 6369, 'сланцевый': 6370, 'иссякать': 6371, 'недружелюбно': 6372, 'иберия': 6373, 'захолустье': 6374, 'ухмыляться': 6375, 'разливаться': 6376, 'расколоть': 6377, 'сидя': 6378, 'исполнение': 6379, 'вмуровать': 6380, 'сконструировать': 6381, 'телевизионный': 6382, 'нагреть': 6383, 'придерживать': 6384, 'исходный': 6385, 'пролетарский': 6386, 'отбивать': 6387, 'исторически': 6388, 'хитрить': 6389, 'орешек': 6390, 'формироваться': 6391, 'оптовый': 6392, 'поселенец': 6393, 'неуважение': 6394, 'низенький': 6395, 'слив': 6396, 'обворовать': 6397, 'предупреждать': 6398, 'выселиться': 6399, 'помещение': 6400, 'бактерия': 6401, 'великое': 6402, 'отравить': 6403, 'намереваться': 6404, 'эргономичный': 6405, 'теряться': 6406, 'отобедать': 6407, 'лежак': 6408, 'ломаный': 6409, 'нежеланный': 6410, 'выигрывать': 6411, 'мило': 6412, 'штрих': 6413, 'угомониться': 6414, 'ориентироваться': 6415, 'приставать': 6416, 'адекватный': 6417, 'габарит': 6418, 'люк': 6419, 'кальдерон': 6420, 'спорт': 6421, 'пробраться': 6422, 'награда': 6423, 'кулон': 6424, 'обивка': 6425, 'необъективный': 6426, 'дол': 6427, 'исчерпать': 6428, 'державный': 6429, 'трёшка': 6430, 'джеймс': 6431, 'уста': 6432, 'раритетный': 6433, 'хронологический': 6434, 'наслать': 6435, 'созвониться': 6436, 'пунктик': 6437, 'скука': 6438, 'канун': 6439, 'дерзкий': 6440, 'лоб': 6441, 'американка': 6442, 'океанариум': 6443, 'видимый': 6444, 'заснять': 6445, 'замотаться': 6446, 'ответственно': 6447, 'ведомо': 6448, 'арбуз': 6449, 'рядовой': 6450, 'набухнуть': 6451, 'несолёный': 6452, 'вещица': 6453, 'лифт': 6454, 'вспучиваться': 6455, 'галактика': 6456, 'убытие': 6457, 'непозволительный': 6458, 'мелко': 6459, 'садовник': 6460, 'отрезок': 6461, 'разыскивать': 6462, 'посоветовать': 6463, 'созваниваться': 6464, 'алкоголь': 6465, 'струя': 6466, 'жилой': 6467, 'уворачиваться': 6468, 'оправдывать': 6469, 'шарахаться': 6470, 'сохраниться': 6471, 'главное': 6472, 'святой': 6473, 'дистанционно': 6474, 'спросить': 6475, 'амбре': 6476, 'равновесие': 6477, 'разводил': 6478, 'гнетущий': 6479, 'славянский': 6480, 'головной': 6481, 'позавчерашний': 6482, 'врасплох': 6483, 'слойка': 6484, 'набивка': 6485, 'финальный': 6486, 'гостиница': 6487, 'капать': 6488, 'дружелюбие': 6489, 'станок': 6490, 'доехать': 6491, 'реветь': 6492, 'усугублять': 6493, 'списаться': 6494, 'уклон': 6495, 'стюардесса': 6496, 'подгорелый': 6497, 'комок': 6498, 'независимый': 6499, 'буде': 6500, 'деньга': 6501, 'глазной': 6502, 'свежесть': 6503, 'инстанция': 6504, 'исчерпываться': 6505, 'понижение': 6506, 'отрубаться': 6507, 'резной': 6508, 'домодедовский': 6509, 'либо': 6510, 'мазь': 6511, 'старательный': 6512, 'кофеиновый': 6513, 'последствие': 6514, 'катить': 6515, 'разменять': 6516, 'джулия': 6517, 'подозревать': 6518, 'революция': 6519, 'налицо': 6520, 'продвижение': 6521, 'затянуть': 6522, 'пролить': 6523, 'объявить': 6524, 'руководствоваться': 6525, 'биль': 6526, 'факт': 6527, 'картофель': 6528, 'обитатель': 6529, 'казнить': 6530, 'электрод': 6531, 'доноситься': 6532, 'гидромассаж': 6533, 'печальный': 6534, 'задавать': 6535, 'волобуев': 6536, 'тридцать': 6537, 'означать': 6538, 'пренеприятный': 6539, 'проход': 6540, 'инспекционный': 6541, 'плавно': 6542, 'износ': 6543, 'модем': 6544, 'сад': 6545, 'поясница': 6546, 'артём': 6547, 'майкл': 6548, 'прекратить': 6549, 'непозволительно': 6550, 'узбек': 6551, 'подкупить': 6552, 'хвала': 6553, 'однак': 6554, 'пить': 6555, 'человеческий': 6556, 'создать': 6557, 'рассвет': 6558, 'свить': 6559, 'утро': 6560, 'преграждать': 6561, 'перетаскивание': 6562, 'перовой': 6563, 'обязаться': 6564, 'мотив': 6565, 'промышлять': 6566, 'полгода': 6567, 'специфичный': 6568, 'рассказать': 6569, 'простоватость': 6570, 'доступ': 6571, 'убеждаться': 6572, 'покраска': 6573, 'пошевелить': 6574, 'куль': 6575, 'прочтение': 6576, 'плавание': 6577, 'погашение': 6578, 'щебетать': 6579, 'запрещать': 6580, 'островок': 6581, 'подкупать': 6582, 'комнатный': 6583, 'стараться': 6584, 'ольга': 6585, 'вылезти': 6586, 'спор': 6587, 'выпивать': 6588, 'применимый': 6589, 'отреставрировать': 6590, 'хапуга': 6591, 'отлёт': 6592, 'мисочка': 6593, 'гасить': 6594, 'поднять': 6595, 'забывать': 6596, 'утром': 6597, 'анимация': 6598, 'отсылать': 6599, 'чайничек': 6600, 'ручка': 6601, 'внемлет': 6602, 'потребность': 6603, 'всячина': 6604, 'увядать': 6605, 'подвигнуть': 6606, 'эхо': 6607, 'британский': 6608, 'информационный': 6609, 'дожить': 6610, 'муравьиный': 6611, 'бессильный': 6612, 'раскинуть': 6613, 'морозец': 6614, 'съезжать': 6615, 'лицезреть': 6616, 'бренчать': 6617, 'потереть': 6618, 'необоснованно': 6619, 'мировой': 6620, 'безошибочно': 6621, 'узбекистан': 6622, 'выметаться': 6623, 'тотальный': 6624, 'бега': 6625, 'нравственность': 6626, 'вопреки': 6627, 'встряхивать': 6628, 'покатать': 6629, 'фантазийный': 6630, 'стечение': 6631, 'винт': 6632, 'цветной': 6633, 'луч': 6634, 'сколоть': 6635, 'извозиться': 6636, 'автобус': 6637, 'всевозможный': 6638, 'испачкать': 6639, 'дурь': 6640, 'кабак': 6641, 'лёд': 6642, 'крепкий': 6643, 'раскалить': 6644, 'добежать': 6645, 'не': 6646, 'сформироваться': 6647, 'нотариус': 6648, 'злость': 6649, 'чешский': 6650, 'насыпаться': 6651, 'неколько': 6652, 'отразить': 6653, 'зажигаться': 6654, 'искренний': 6655, 'пылевой': 6656, 'независимость': 6657, 'макароны': 6658, 'побор': 6659, 'сменить': 6660, 'впереди': 6661, 'подслушивать': 6662, 'приготовить': 6663, 'англ': 6664, 'вериться': 6665, 'штаны': 6666, 'покупатель': 6667, 'вазочка': 6668, 'гастарбайтер': 6669, 'стереть': 6670, 'вниз': 6671, 'очистка': 6672, 'чугунный': 6673, 'взвинтить': 6674, 'безнаказанность': 6675, 'покачать': 6676, 'признательный': 6677, 'редкостный': 6678, 'мечта': 6679, 'актив': 6680, 'кровопийца': 6681, 'постоян': 6682, 'паровой': 6683, 'реконструировать': 6684, 'конвой': 6685, 'технопарк': 6686, 'бессонница': 6687, 'отдалённо': 6688, 'легальный': 6689, 'бассейнов': 6690, 'интерьер': 6691, 'зацепить': 6692, 'пузырёк': 6693, 'вздуматься': 6694, 'предостерегать': 6695, 'оранжевый': 6696, 'пивной': 6697, 'уборка': 6698, 'упоминание': 6699, 'полюбить': 6700, 'достреливать': 6701, 'мул': 6702, 'вручать': 6703, 'дубовый': 6704, 'маникюрный': 6705, 'лидировать': 6706, 'счётчик': 6707, 'подсмеиваться': 6708, 'каска': 6709, 'разгрузка': 6710, 'ужин': 6711, 'малина': 6712, 'новосибирск': 6713, 'сандвич': 6714, 'удачный': 6715, 'вздох': 6716, 'пожить': 6717, 'делиться': 6718, 'медуза': 6719, 'дезинфекция': 6720, 'чужое': 6721, 'автозаводский': 6722, 'этаж': 6723, 'пшеница': 6724, 'панорамный': 6725, 'аут': 6726, 'присмотр': 6727, 'паноптикум': 6728, 'утвердить': 6729, 'ухудшить': 6730, 'дегустация': 6731, 'мыльце': 6732, 'зависать': 6733, 'многодетный': 6734, 'триповый': 6735, 'бурлить': 6736, 'террасный': 6737, 'корточки': 6738, 'дёргаться': 6739, 'обязательно': 6740, 'нестандартный': 6741, 'поролон': 6742, 'голень': 6743, 'дрога': 6744, 'обитание': 6745, 'бюст': 6746, 'пройтись': 6747, 'уйти': 6748, 'входящий': 6749, 'заявление': 6750, 'мамин': 6751, 'братислава': 6752, 'полчаса': 6753, 'анестезия': 6754, 'разом': 6755, 'ценность': 6756, 'брезгливость': 6757, 'сорваться': 6758, 'курево': 6759, 'жечь': 6760, 'нейтральный': 6761, 'потонуть': 6762, 'безумный': 6763, 'грязноватый': 6764, 'поздний': 6765, 'ухищряться': 6766, 'умелый': 6767, 'добавить': 6768, 'перечисленный': 6769, 'энд': 6770, 'дерзить': 6771, 'видеть': 6772, 'сбрасывать': 6773, 'индивидуальность': 6774, 'взимание': 6775, 'блокирование': 6776, 'оглохнуть': 6777, 'подыскать': 6778, 'зачерпывать': 6779, 'мнительный': 6780, 'действительно': 6781, 'прикрикнуть': 6782, 'кал': 6783, 'эротический': 6784, 'поучить': 6785, 'прошлогодний': 6786, 'штормить': 6787, 'направление': 6788, 'ожидаться': 6789, 'метрополитен': 6790, 'вдалеке': 6791, 'безлимитный': 6792, 'предстоящий': 6793, 'мадрид': 6794, 'подарочек': 6795, 'посвящаться': 6796, 'сарай': 6797, 'съездить': 6798, 'политика': 6799, 'лестничный': 6800, 'расставляться': 6801, 'немытый': 6802, 'биться': 6803, 'подлость': 6804, 'громыхать': 6805, 'присовокупить': 6806, 'сахара': 6807, 'расставаться': 6808, 'поразительный': 6809, 'придыхание': 6810, 'несогласие': 6811, 'проветривать': 6812, 'веб': 6813, 'нежелательный': 6814, 'чайник': 6815, 'суетиться': 6816, 'подсветить': 6817, 'районный': 6818, 'электроподстанция': 6819, 'каракатица': 6820, 'утомительно': 6821, 'солома': 6822, 'потыкать': 6823, 'романовский': 6824, 'домино': 6825, 'подыматься': 6826, 'досконально': 6827, 'слабо': 6828, 'бестактный': 6829, 'безразличный': 6830, 'смеяться': 6831, 'неда': 6832, 'отпускать': 6833, 'деликатес': 6834, 'ринг': 6835, 'автобусный': 6836, 'штопор': 6837, 'ум': 6838, 'стул': 6839, 'перьевой': 6840, 'выискивать': 6841, 'расстроиться': 6842, 'карабин': 6843, 'дотрагиваться': 6844, 'прибытие': 6845, 'сантиметровый': 6846, 'застареть': 6847, 'озаботиться': 6848, 'выдача': 6849, 'номинальный': 6850, 'пропитаться': 6851, 'кислинка': 6852, 'гомон': 6853, 'соединение': 6854, 'запись': 6855, 'воротник': 6856, 'ухаживать': 6857, 'задвигать': 6858, 'гостиная': 6859, 'сердце': 6860, 'коралл': 6861, 'перестать': 6862, 'муляжный': 6863, 'пошарить': 6864, 'шибко': 6865, 'преимущественно': 6866, 'перенаправить': 6867, 'прочувствовать': 6868, 'испоганить': 6869, 'удивиться': 6870, 'актёр': 6871, 'вслушиваться': 6872, 'злющий': 6873, 'село': 6874, 'постепенный': 6875, 'ужасать': 6876, 'чётный': 6877, 'демократично': 6878, 'бест': 6879, 'пивоварня': 6880, 'посещение': 6881, 'встретить': 6882, 'продление': 6883, 'экономно': 6884, 'направленность': 6885, 'унюхать': 6886, 'печать': 6887, 'продуваться': 6888, 'затея': 6889, 'модульный': 6890, 'молдаванин': 6891, 'игорь': 6892, 'подъехать': 6893, 'позиционирование': 6894, 'юнеско': 6895, 'завалиться': 6896, 'уединиться': 6897, 'синь': 6898, 'дневный': 6899, 'орган': 6900, 'печка': 6901, 'прискорбие': 6902, 'помои': 6903, 'самый': 6904, 'вена': 6905, 'булыжник': 6906, 'наценка': 6907, 'заделать': 6908, 'создание': 6909, 'распоясаться': 6910, 'актуальный': 6911, 'закрасить': 6912, 'вычурно': 6913, 'комната': 6914, 'ирландия': 6915, 'распоряжение': 6916, 'советский': 6917, 'отопление': 6918, 'тень': 6919, 'здравствуйте': 6920, 'резервация': 6921, 'всег': 6922, 'прибрежный': 6923, 'убогость': 6924, 'мансардный': 6925, 'бари': 6926, 'пятка': 6927, 'бесчисленный': 6928, 'приседать': 6929, 'гаджет': 6930, 'шенгенский': 6931, 'многочисленный': 6932, 'брякать': 6933, 'бывалый': 6934, 'семинар': 6935, 'пакистанец': 6936, 'тяжеловатый': 6937, 'микроавтобус': 6938, 'альбом': 6939, 'друга': 6940, 'оригинальность': 6941, 'несложно': 6942, 'скоромный': 6943, 'перегреваться': 6944, 'тонус': 6945, 'накричать': 6946, 'соня': 6947, 'трубопровод': 6948, 'пружинистый': 6949, 'отпор': 6950, 'инфраструктура': 6951, 'корытце': 6952, 'коммуникация': 6953, 'беречь': 6954, 'соблюдение': 6955, 'ахах': 6956, 'оптимизм': 6957, 'приветный': 6958, 'разгул': 6959, 'треснутый': 6960, 'подразумеваться': 6961, 'верх': 6962, 'умещаться': 6963, 'бутылка': 6964, 'вкатить': 6965, 'медицинский': 6966, 'полночь': 6967, 'каникулы': 6968, 'задаваться': 6969, 'профилактика': 6970, 'сверкать': 6971, 'прошествие': 6972, 'озеро': 6973, 'иметься': 6974, 'песня': 6975, 'пофигизм': 6976, 'являться': 6977, 'курить': 6978, 'обеспечить': 6979, 'подметание': 6980, 'малопонятный': 6981, 'пошутить': 6982, 'прожорливый': 6983, 'мгновенно': 6984, 'небыль': 6985, 'обрызгивать': 6986, 'мл': 6987, 'участь': 6988, 'перегар': 6989, 'комфортность': 6990, 'объяснимый': 6991, 'средний': 6992, 'пырнуть': 6993, 'пререкание': 6994, 'продолжить': 6995, 'пузатый': 6996, 'безлюдно': 6997, 'школа': 6998, 'длиться': 6999, 'коляска': 7000, 'желудок': 7001, 'неустойка': 7002, 'необъяснимый': 7003, 'визитка': 7004, 'приватный': 7005, 'увеличиться': 7006, 'юность': 7007, 'отменно': 7008, 'скверный': 7009, 'вправе': 7010, 'обзванивать': 7011, 'остывать': 7012, 'уплотнить': 7013, 'спаситель': 7014, 'человек': 7015, 'прослушать': 7016, 'повести': 7017, 'повреждение': 7018, 'сдвижной': 7019, 'счесть': 7020, 'глядеть': 7021, 'возвращение': 7022, 'шансонье': 7023, 'вадим': 7024, 'непрозрачный': 7025, 'универмаг': 7026, 'спасение': 7027, 'загадить': 7028, 'заливаться': 7029, 'пафос': 7030, 'газовый': 7031, 'булава': 7032, 'хуан': 7033, 'старить': 7034, 'убежище': 7035, 'быков': 7036, 'преодолевать': 7037, 'рановато': 7038, 'симка': 7039, 'ирина': 7040, 'мюнхен': 7041, 'бомба': 7042, 'накапливаться': 7043, 'волейбол': 7044, 'одноклассник': 7045, 'наступить': 7046, 'играться': 7047, 'футбольный': 7048, 'расцениваться': 7049, 'справа': 7050, 'колебание': 7051, 'аморфный': 7052, 'перламутровый': 7053, 'соответственно': 7054, 'удостовериться': 7055, 'багетовый': 7056, 'консультировать': 7057, 'измайловский': 7058, 'подтрепать': 7059, 'переулочек': 7060, 'доказательный': 7061, 'бдеть': 7062, 'дорогой': 7063, 'выехать': 7064, 'романтик': 7065, 'прорвать': 7066, 'переходящий': 7067, 'поприветствовать': 7068, 'бесконечно': 7069, 'решаться': 7070, 'выгнать': 7071, 'убогонький': 7072, 'запрашиваться': 7073, 'антураж': 7074, 'пол': 7075, 'сходить': 7076, 'окурок': 7077, 'наказание': 7078, 'интернациональный': 7079, 'архитектурный': 7080, 'стояк': 7081, 'неглаженый': 7082, 'потанцевать': 7083, 'ездить': 7084, 'охрана': 7085, 'наличный': 7086, 'пятизвёздочный': 7087, 'сытый': 7088, 'улететь': 7089, 'проблематично': 7090, 'осушение': 7091, 'поплутать': 7092, 'кочевать': 7093, 'конфисковать': 7094, 'совесть': 7095, 'четвер': 7096, 'приблизительно': 7097, 'посадить': 7098, 'прелый': 7099, 'валиться': 7100, 'оперативный': 7101, 'полезно': 7102, 'релаксация': 7103, 'готовность': 7104, 'обветшалость': 7105, 'запросто': 7106, 'молочка': 7107, 'мотать': 7108, 'поцарапать': 7109, 'жаркий': 7110, 'баловаться': 7111, 'суп': 7112, 'очистительный': 7113, 'сначала': 7114, 'чесать': 7115, 'холодить': 7116, 'периодически': 7117, 'сырок': 7118, 'усиленный': 7119, 'удаление': 7120, 'ячейка': 7121, 'лгать': 7122, 'сервис': 7123, 'превышать': 7124, 'маленький': 7125, 'заселённость': 7126, 'эскалатор': 7127, 'прокатиться': 7128, 'моторизированный': 7129, 'раздевалка': 7130, 'аскетизм': 7131, 'курильщик': 7132, 'мутить': 7133, 'заведомо': 7134, 'вложиться': 7135, 'девица': 7136, 'чулан': 7137, 'покашлять': 7138, 'бойница': 7139, 'сброс': 7140, 'малышка': 7141, 'отравлять': 7142, 'затычка': 7143, 'проблематика': 7144, 'прикрутить': 7145, 'желтоватый': 7146, 'растаскивать': 7147, 'блестяще': 7148, 'миф': 7149, 'гоночный': 7150, 'ночное': 7151, 'скучный': 7152, 'джинсы': 7153, 'отвод': 7154, 'бросок': 7155, 'разноплановость': 7156, 'шляпка': 7157, 'сговор': 7158, 'уборный': 7159, 'плоховато': 7160, 'заселить': 7161, 'несмотря': 7162, 'алый': 7163, 'аристократический': 7164, 'ответственный': 7165, 'аттракция': 7166, 'мадам': 7167, 'таможенный': 7168, 'инструктировать': 7169, 'резидент': 7170, 'бриз': 7171, 'перестраиваться': 7172, 'исполнительный': 7173, 'неприметный': 7174, 'обильно': 7175, 'езжать': 7176, 'квалифицировать': 7177, 'эргономика': 7178, 'сливаться': 7179, 'выявить': 7180, 'правление': 7181, 'домодедово': 7182, 'раздавить': 7183, 'ный': 7184, 'лох': 7185, 'мойщик': 7186, 'собираться': 7187, 'вывалиться': 7188, 'колотить': 7189, 'рекламация': 7190, 'дежурный': 7191, 'смутный': 7192, 'папочка': 7193, 'руль': 7194, 'раздражать': 7195, 'акула': 7196, 'процедура': 7197, 'пробел': 7198, 'перегорать': 7199, 'непролазный': 7200, 'стилизация': 7201, 'подогреваться': 7202, 'поругаться': 7203, 'придерживаться': 7204, 'петровско': 7205, 'переделать': 7206, 'запугивание': 7207, 'осилить': 7208, 'картинка': 7209, 'неполадка': 7210, 'избавить': 7211, 'разбирательство': 7212, 'стоп': 7213, 'обойтись': 7214, 'тихонечко': 7215, 'предусматривать': 7216, 'безумно': 7217, 'купе': 7218, 'владеть': 7219, 'сдерживаться': 7220, 'резвиться': 7221, 'электрик': 7222, 'необыкновенный': 7223, 'редуцировать': 7224, 'свинство': 7225, 'чашечка': 7226, 'порядочный': 7227, 'укатывать': 7228, 'полуобморочный': 7229, 'дотягивать': 7230, 'нехотя': 7231, 'подвергаться': 7232, 'платный': 7233, 'худо': 7234, 'метраж': 7235, 'рам': 7236, 'вредность': 7237, 'клевать': 7238, 'впервые': 7239, 'заботиться': 7240, 'булочная': 7241, 'девятиэтажный': 7242, 'ненавязчивый': 7243, 'назвать': 7244, 'сорвать': 7245, 'определение': 7246, 'отъехать': 7247, 'посовещаться': 7248, 'вмятина': 7249, 'основное': 7250, 'нейлоновый': 7251, 'рационально': 7252, 'создаваться': 7253, 'коммунизм': 7254, 'книжка': 7255, 'неглубокий': 7256, 'отвернуться': 7257, 'забегать': 7258, 'мурыжить': 7259, 'воитель': 7260, 'невский': 7261, 'полуторагодовалый': 7262, 'вика': 7263, 'добела': 7264, 'наоборот': 7265, 'столкнуть': 7266, 'утрачивать': 7267, 'кошмар': 7268, 'постель': 7269, 'внезапно': 7270, 'печально': 7271, 'дельта': 7272, 'сокрытый': 7273, 'медиум': 7274, 'ценник': 7275, 'херувим': 7276, 'скучать': 7277, 'айран': 7278, 'махровый': 7279, 'мумия': 7280, 'трус': 7281, 'собрать': 7282, 'матрасик': 7283, 'душить': 7284, 'мигалка': 7285, 'превосходный': 7286, 'прилететь': 7287, 'раритет': 7288, 'поведать': 7289, 'строить': 7290, 'спохватиться': 7291, 'зло': 7292, 'разнообразие': 7293, 'пьянка': 7294, 'мастерить': 7295, 'погнаться': 7296, 'китаец': 7297, 'депозит': 7298, 'луи': 7299, 'грязища': 7300, 'совершать': 7301, 'критичный': 7302, 'паркет': 7303, 'выяснить': 7304, 'золотой': 7305, 'пансионат': 7306, 'агентство': 7307, 'предъявить': 7308, 'задворки': 7309, 'вызванивать': 7310, 'обнажённый': 7311, 'двоиться': 7312, 'подмешивать': 7313, 'орфография': 7314, 'жарища': 7315, 'краситься': 7316, 'пилюля': 7317, 'переполненный': 7318, 'хлорный': 7319, 'подвальный': 7320, 'обуза': 7321, 'гладкий': 7322, 'пряничный': 7323, 'пересаливать': 7324, 'лечение': 7325, 'реставрация': 7326, 'серия': 7327, 'многолюдно': 7328, 'распылять': 7329, 'барак': 7330, 'ндс': 7331, 'подключение': 7332, 'обомлеть': 7333, 'стилизованность': 7334, 'объедение': 7335, 'комфорт': 7336, 'тропический': 7337, 'отравиться': 7338, 'приставной': 7339, 'достроить': 7340, 'подмести': 7341, 'развалюха': 7342, 'любопытный': 7343, 'целенаправленно': 7344, 'прогонять': 7345, 'загладить': 7346, 'покуда': 7347, 'поток': 7348, 'нахваливать': 7349, 'допоздна': 7350, 'ушной': 7351, 'морс': 7352, 'барселона': 7353, 'сердитый': 7354, 'предел': 7355, 'внушать': 7356, 'зебра': 7357, 'окружение': 7358, 'диванный': 7359, 'разнообразно': 7360, 'феня': 7361, 'бордюр': 7362, 'неопознанный': 7363, 'моргнуть': 7364, 'муза': 7365, 'полина': 7366, 'одежда': 7367, 'роса': 7368, 'налиться': 7369, 'выгодно': 7370, 'размеренно': 7371, 'повышаться': 7372, 'вычурный': 7373, 'характер': 7374, 'снова': 7375, 'стоячий': 7376, 'слезиться': 7377, 'кол': 7378, 'встретиться': 7379, 'бумажный': 7380, 'стекаться': 7381, 'всячески': 7382, 'банкет': 7383, 'предыдущий': 7384, 'нанимать': 7385, 'публиковать': 7386, 'рудимент': 7387, 'секундный': 7388, 'стыдить': 7389, 'речь': 7390, 'подножие': 7391, 'табор': 7392, 'стыд': 7393, 'настоять': 7394, 'подземельный': 7395, 'отключаться': 7396, 'уборщик': 7397, 'кишеть': 7398, 'видение': 7399, 'раздел': 7400, 'шов': 7401, 'невозмутимый': 7402, 'безалаберность': 7403, 'димитрий': 7404, 'благожелательный': 7405, 'волосяной': 7406, 'алкаш': 7407, 'халупа': 7408, 'неопытный': 7409, 'кодовый': 7410, 'славянка': 7411, 'полениться': 7412, 'перегородить': 7413, 'нормализоваться': 7414, 'отрубить': 7415, 'дремать': 7416, 'переиграть': 7417, 'тонкий': 7418, 'неудачно': 7419, 'болеть': 7420, 'сезонный': 7421, 'обляпать': 7422, 'перевозка': 7423, 'повторяться': 7424, 'сиять': 7425, 'вентиляция': 7426, 'малосимпатичный': 7427, 'карина': 7428, 'уединённость': 7429, 'течка': 7430, 'посёлок': 7431, 'театральный': 7432, 'совка': 7433, 'намывать': 7434, 'затрястись': 7435, 'нетрудно': 7436, 'профессиональный': 7437, 'банька': 7438, 'яркость': 7439, 'неуд': 7440, 'филёвский': 7441, 'собеседник': 7442, 'гранитный': 7443, 'высморкаться': 7444, 'вступить': 7445, 'комплекс': 7446, 'вексель': 7447, 'ингредиент': 7448, 'ширма': 7449, 'протолкнуться': 7450, 'вытащить': 7451, 'удачно': 7452, 'ледник': 7453, 'пригородный': 7454, 'странновато': 7455, 'привередничать': 7456, 'врываться': 7457, 'прокуренный': 7458, 'экспресс': 7459, 'ламповый': 7460, 'пошагать': 7461, 'попрошайка': 7462, 'люд': 7463, 'депрессия': 7464, 'назойливый': 7465, 'раскидать': 7466, 'давка': 7467, 'сливание': 7468, 'максимально': 7469, 'заморозить': 7470, 'насквозь': 7471, 'непреклонный': 7472, 'беременность': 7473, 'касательно': 7474, 'вышколить': 7475, 'побудка': 7476, 'затягивать': 7477, 'александр': 7478, 'прокурить': 7479, 'азия': 7480, 'посмешище': 7481, 'нормалёк': 7482, 'шейк': 7483, 'мощный': 7484, 'опорный': 7485, 'позавидовать': 7486, 'замусорить': 7487, 'перерасчёт': 7488, 'профсоюз': 7489, 'руина': 7490, 'коллега': 7491, 'авиабилет': 7492, 'изливать': 7493, 'квитанция': 7494, 'станица': 7495, 'обуславливаться': 7496, 'описываться': 7497, 'броситься': 7498, 'хорошег': 7499, 'разгромный': 7500, 'исследовать': 7501, 'хронический': 7502, 'чайный': 7503, 'микрофон': 7504, 'колотый': 7505, 'диагональ': 7506, 'окатиться': 7507, 'пятилетний': 7508, 'заряжать': 7509, 'руссо': 7510, 'принимать': 7511, 'гостиный': 7512, 'обстоять': 7513, 'юбка': 7514, 'китай': 7515, 'резонный': 7516, 'деструктивный': 7517, 'отлежаться': 7518, 'отличие': 7519, 'опоздание': 7520, 'разбавить': 7521, 'панцирь': 7522, 'савка': 7523, 'легко': 7524, 'гребной': 7525, 'думать': 7526, 'безработный': 7527, 'утречко': 7528, 'начальник': 7529, 'общий': 7530, 'километр': 7531, 'хлам': 7532, 'контрастировать': 7533, 'паучок': 7534, 'изменить': 7535, 'эгоист': 7536, 'вред': 7537, 'майка': 7538, 'гедонист': 7539, 'лаг': 7540, 'интересоваться': 7541, 'социальный': 7542, 'временный': 7543, 'добро': 7544, 'выбросить': 7545, 'сорняк': 7546, 'зерновой': 7547, 'завернуть': 7548, 'приходящий': 7549, 'светиться': 7550, 'дворник': 7551, 'опоздать': 7552, 'оторвать': 7553, 'слюни': 7554, 'тик': 7555, 'прежде': 7556, 'торный': 7557, 'ремонтный': 7558, 'ежевика': 7559, 'скучно': 7560, 'слежаться': 7561, 'перемыть': 7562, 'повергнуть': 7563, 'бардак': 7564, 'навязывание': 7565, 'флакончик': 7566, 'кадка': 7567, 'фортепьяно': 7568, 'долбить': 7569, 'двуспальный': 7570, 'приказный': 7571, 'перина': 7572, 'какао': 7573, 'сноб': 7574, 'музыкальный': 7575, 'наследовать': 7576, 'быстроходный': 7577, 'непростительно': 7578, 'хвост': 7579, 'употреблять': 7580, 'разбрызгиваться': 7581, 'простота': 7582, 'магазин': 7583, 'подняться': 7584, 'жопа': 7585, 'вмешиваться': 7586, 'континентальный': 7587, 'виктория': 7588, 'песочница': 7589, 'катастрофический': 7590, 'витать': 7591, 'оскорбить': 7592, 'водопад': 7593, 'доказывать': 7594, 'поцеловать': 7595, 'немножко': 7596, 'исходить': 7597, 'уплыть': 7598, 'ряд': 7599, 'вес': 7600, 'трапезничать': 7601, 'разговорчивый': 7602, 'сзади': 7603, 'нахождение': 7604, 'телефония': 7605, 'зашаркать': 7606, 'блеф': 7607, 'ненавидеть': 7608, 'ссылка': 7609, 'разведение': 7610, 'бек': 7611, 'старенький': 7612, 'кладбище': 7613, 'отзыв': 7614, 'покров': 7615, 'свалка': 7616, 'хвалебный': 7617, 'фаршированный': 7618, 'занавозить': 7619, 'интеллигентный': 7620, 'отделить': 7621, 'выжигать': 7622, 'слежка': 7623, 'монолит': 7624, 'выходец': 7625, 'систематический': 7626, 'отход': 7627, 'цветок': 7628, 'отозваться': 7629, 'загазовано': 7630, 'детишки': 7631, 'сума': 7632, 'навязчивый': 7633, 'дама': 7634, 'гамак': 7635, 'гордиться': 7636, 'застройщик': 7637, 'паспортный': 7638, 'изменяться': 7639, 'мозоль': 7640, 'грозиться': 7641, 'восвояси': 7642, 'постелька': 7643, 'балта': 7644, 'мазаться': 7645, 'процветать': 7646, 'сконцентрироваться': 7647, 'заголовок': 7648, 'растение': 7649, 'слоёный': 7650, 'соприкасаться': 7651, 'приводить': 7652, 'пассивно': 7653, 'свинья': 7654, 'пятнышко': 7655, 'водопроводный': 7656, 'основать': 7657, 'химикат': 7658, 'выжимать': 7659, 'светить': 7660, 'увернуться': 7661, 'насущный': 7662, 'осваивание': 7663, 'поохать': 7664, 'порадовал': 7665, 'прилепить': 7666, 'данные': 7667, 'невоспитанность': 7668, 'конкретный': 7669, 'деление': 7670, 'гастроном': 7671, 'водоросль': 7672, 'накупить': 7673, 'перекрасить': 7674, 'летучий': 7675, 'множество': 7676, 'обсуживать': 7677, 'число': 7678, 'стайка': 7679, 'иноземный': 7680, 'остров': 7681, 'прибавляться': 7682, 'подвесной': 7683, 'внесение': 7684, 'кристально': 7685, 'отговаривать': 7686, 'изодранный': 7687, 'достаточно': 7688, 'улочка': 7689, 'засечь': 7690, 'пассажир': 7691, 'потравить': 7692, 'грабёж': 7693, 'советски': 7694, 'прибыть': 7695, 'трюфель': 7696, 'опция': 7697, 'пристать': 7698, 'запорожье': 7699, 'ржание': 7700, 'персона': 7701, 'нрав': 7702, 'перепад': 7703, 'шкала': 7704, 'прибалтийский': 7705, 'отворачиваться': 7706, 'перерасти': 7707, 'ярус': 7708, 'согласный': 7709, 'утихать': 7710, 'никто': 7711, 'качественность': 7712, 'поворачиваться': 7713, 'час': 7714, 'инструкция': 7715, 'шуточка': 7716, 'самобытный': 7717, 'наслышан': 7718, 'отдых': 7719, 'комплемент': 7720, 'откровенный': 7721, 'елейный': 7722, 'уважаемый': 7723, 'разнообразный': 7724, 'неоновый': 7725, 'подселение': 7726, 'излюбить': 7727, 'администратор': 7728, 'двуместный': 7729, 'бестактность': 7730, 'творческий': 7731, 'подошва': 7732, 'чесночный': 7733, 'клубничный': 7734, 'осторожность': 7735, 'разговаривать': 7736, 'пионерлагерь': 7737, 'бесполезно': 7738, 'теплеть': 7739, 'тёпленький': 7740, 'тамошний': 7741, 'отчётливый': 7742, 'окроплять': 7743, 'шампунь': 7744, 'швеция': 7745, 'колоссальный': 7746, 'перевернуть': 7747, 'изранить': 7748, 'протираться': 7749, 'минимум': 7750, 'ст': 7751, 'хлев': 7752, 'подготовить': 7753, 'отпущение': 7754, 'сласть': 7755, 'загрузить': 7756, 'тащить': 7757, 'подозрительный': 7758, 'графика': 7759, 'съёмный': 7760, 'пробежка': 7761, 'простудиться': 7762, 'бортик': 7763, 'малинка': 7764, 'сторониться': 7765, 'любовь': 7766, 'мусульманский': 7767, 'чп': 7768, 'писатель': 7769, 'котёнок': 7770, 'отъезд': 7771, 'забить': 7772, 'русый': 7773, 'заштопать': 7774, 'обхитрить': 7775, 'еженедельно': 7776, 'смущать': 7777, 'наливаться': 7778, 'приоткрыться': 7779, 'состоять': 7780, 'клясться': 7781, 'ничтожно': 7782, 'подвиг': 7783, 'булочка': 7784, 'теневой': 7785, 'высококлассный': 7786, 'коллективный': 7787, 'коррупция': 7788, 'кетчуп': 7789, 'натянутый': 7790, 'бурда': 7791, 'трельяж': 7792, 'разительный': 7793, 'льготный': 7794, 'таиться': 7795, 'обсуждение': 7796, 'светило': 7797, 'узенький': 7798, 'перейти': 7799, 'прерывание': 7800, 'понт': 7801, 'язык': 7802, 'приглядеться': 7803, 'совместительство': 7804, 'пребыть': 7805, 'разрешить': 7806, 'проигрыватель': 7807, 'конгресс': 7808, 'цельный': 7809, 'шницель': 7810, 'размагничиваться': 7811, 'бурно': 7812, 'заменить': 7813, 'отлететь': 7814, 'почистить': 7815, 'электропроводка': 7816, 'камерный': 7817, 'контейнер': 7818, 'ярлычок': 7819, 'годиться': 7820, 'рассекатель': 7821, 'оцениваться': 7822, 'фамилья': 7823, 'радужно': 7824, 'шансон': 7825, 'затерянный': 7826, 'музейный': 7827, 'физический': 7828, 'соглашаться': 7829, 'увядший': 7830, 'списать': 7831, 'непорядочность': 7832, 'рация': 7833, 'напоминание': 7834, 'стопроцентный': 7835, 'имитировать': 7836, 'матрас': 7837, 'резервирование': 7838, 'сдвинуть': 7839, 'поплавать': 7840, 'браслет': 7841, 'греметь': 7842, 'поздравить': 7843, 'уговор': 7844, 'находка': 7845, 'разъяснять': 7846, 'заинтересованный': 7847, 'неспелый': 7848, 'завод': 7849, 'океанский': 7850, 'сообразительность': 7851, 'прикидывать': 7852, 'выпь': 7853, 'полминуты': 7854, 'скрепить': 7855, 'лесной': 7856, 'проведать': 7857, 'базар': 7858, 'формат': 7859, 'полбутылки': 7860, 'пошив': 7861, 'лить': 7862, 'грипповать': 7863, 'появиться': 7864, 'косо': 7865, 'представляться': 7866, 'топка': 7867, 'самодеятельность': 7868, 'ребёнок': 7869, 'авось': 7870, 'жест': 7871, 'наверняка': 7872, 'правый': 7873, 'соковыжималка': 7874, 'талант': 7875, 'недостача': 7876, 'пот': 7877, 'синтетик': 7878, 'ливень': 7879, 'захудалый': 7880, 'широкий': 7881, 'галочка': 7882, 'подъём': 7883, 'гостья': 7884, 'принцесса': 7885, 'транспортировка': 7886, 'пра': 7887, 'покончить': 7888, 'скачок': 7889, 'печёный': 7890, 'класть': 7891, 'выравнять': 7892, 'пример': 7893, 'перекрикивать': 7894, 'платяной': 7895, 'помощник': 7896, 'предложить': 7897, 'роскошный': 7898, 'сосредоточение': 7899, 'идея': 7900, 'передача': 7901, 'аллергия': 7902, 'звук': 7903, 'обшарпанность': 7904, 'приглушённо': 7905, 'разболтать': 7906, 'адаптироваться': 7907, 'ментол': 7908, 'отделка': 7909, 'влага': 7910, 'хлестать': 7911, 'колба': 7912, 'необыкновенно': 7913, 'кончать': 7914, 'неточность': 7915, 'обрушиться': 7916, 'образец': 7917, 'помнить': 7918, 'вылезать': 7919, 'изрядный': 7920, 'включаться': 7921, 'мозаика': 7922, 'порция': 7923, 'тоннель': 7924, 'западный': 7925, 'полотенце': 7926, 'скрыть': 7927, 'дно': 7928, 'понижаться': 7929, 'топчан': 7930, 'небесспорный': 7931, 'выбрасывать': 7932, 'расцеловать': 7933, 'принятие': 7934, 'требовать': 7935, 'клубный': 7936, 'гнилой': 7937, 'синий': 7938, 'кривиться': 7939, 'пожалуй': 7940, 'веда': 7941, 'тигровый': 7942, 'трип': 7943, 'обволакивающий': 7944, 'жаждать': 7945, 'истеричка': 7946, 'выше': 7947, 'литровый': 7948, 'танцевать': 7949, 'дурак': 7950, 'скудный': 7951, 'ловить': 7952, 'признать': 7953, 'подстанция': 7954, 'смешно': 7955, 'бегов': 7956, 'лихва': 7957, 'типаж': 7958, 'меридиан': 7959, 'обчистить': 7960, 'накладывать': 7961, 'блистать': 7962, 'неширокий': 7963, 'прочесть': 7964, 'вскр': 7965, 'семь': 7966, 'выучить': 7967, 'переломать': 7968, 'скрывать': 7969, 'протирать': 7970, 'склон': 7971, 'внушительный': 7972, 'естественный': 7973, 'неизгладимый': 7974, 'переводчик': 7975, 'масштабно': 7976, 'бела': 7977, 'телевидение': 7978, 'категоричный': 7979, 'надменность': 7980, 'пустяк': 7981, 'цокольный': 7982, 'пустячный': 7983, 'гарь': 7984, 'обезболивать': 7985, 'фрид': 7986, 'высадить': 7987, 'ухудшиться': 7988, 'немолодой': 7989, 'прошивать': 7990, 'да': 7991, 'умиротворяюще': 7992, 'скоротать': 7993, 'тропа': 7994, 'евросоюз': 7995, 'написанный': 7996, 'звонить': 7997, 'поверьте': 7998, 'дождик': 7999, 'выставить': 8000, 'соблаговолить': 8001, 'красть': 8002, 'подчёркиваться': 8003, 'табуретка': 8004, 'бут': 8005, 'предназначаться': 8006, 'леветь': 8007, 'аудиторский': 8008, 'бронь': 8009, 'гарантийный': 8010, 'вор': 8011, 'ложь': 8012, 'самостоятельно': 8013, 'запутанность': 8014, 'литература': 8015, 'недочёт': 8016, 'эрозия': 8017, 'цикл': 8018, 'уныние': 8019, 'вываливать': 8020, 'поранить': 8021, 'конденсат': 8022, 'виновный': 8023, 'матовый': 8024, 'усталый': 8025, 'высоко': 8026, 'негромко': 8027, 'пасс': 8028, 'покуривать': 8029, 'берег': 8030, 'отличать': 8031, 'случиться': 8032, 'переписка': 8033, 'слабоватый': 8034, 'химический': 8035, 'пройти': 8036, 'следовать': 8037, 'непререкаемый': 8038, 'неопрятность': 8039, 'логотип': 8040, 'приток': 8041, 'промежуток': 8042, 'аренда': 8043, 'обогнуть': 8044, 'смыв': 8045, 'неброский': 8046, 'малюсенький': 8047, 'одиночный': 8048, 'жёстко': 8049, 'натаять': 8050, 'пробуждение': 8051, 'ураганный': 8052, 'бездействовать': 8053, 'хаус': 8054, 'произношение': 8055, 'прогреться': 8056, 'неаккуратный': 8057, 'сослаться': 8058, 'молочник': 8059, 'укачивать': 8060, 'гулом': 8061, 'коллектор': 8062, 'мама': 8063, 'самооборона': 8064, 'длительно': 8065, 'обжарка': 8066, 'оставаться': 8067, 'упирать': 8068, 'проливаться': 8069, 'бланк': 8070, 'проваливаться': 8071, 'слизняк': 8072, 'штука': 8073, 'кронверкский': 8074, 'университетский': 8075, 'сторговаться': 8076, 'обозначать': 8077, 'поглощаться': 8078, 'губочка': 8079, 'превратность': 8080, 'перетерпеть': 8081, 'отдавать': 8082, 'подача': 8083, 'практически': 8084, 'неизбежный': 8085, 'сходиться': 8086, 'довести': 8087, 'признавать': 8088, 'летальный': 8089, 'лирика': 8090, 'сказываться': 8091, 'отутюжить': 8092, 'тест': 8093, 'трудный': 8094, 'немногий': 8095, 'феминизм': 8096, 'приглядывать': 8097, 'нужда': 8098, 'анализ': 8099, 'частый': 8100, 'протекать': 8101, 'квартира': 8102, 'киевский': 8103, 'неприличный': 8104, 'ом': 8105, 'ради': 8106, 'расстояние': 8107, 'прыткий': 8108, 'облагаться': 8109, 'умывальная': 8110, 'десятидневный': 8111, 'ударяться': 8112, 'верующий': 8113, 'прогнать': 8114, 'кофеин': 8115, 'предполагать': 8116, 'посудомоечный': 8117, 'небезопасно': 8118, 'отпадать': 8119, 'накануне': 8120, 'производить': 8121, 'срочный': 8122, 'груша': 8123, 'одень': 8124, 'высотка': 8125, 'понятный': 8126, 'зажраться': 8127, 'мушка': 8128, 'чистенький': 8129, 'нажимание': 8130, 'камбоджа': 8131, 'определённо': 8132, 'пробирать': 8133, 'заблудиться': 8134, 'нагуляться': 8135, 'доходить': 8136, 'красивенький': 8137, 'костёл': 8138, 'организатор': 8139, 'незнакомец': 8140, 'благодаря': 8141, 'работничек': 8142, 'угораздить': 8143, 'вай': 8144, 'требоваться': 8145, 'говядина': 8146, 'слезть': 8147, 'неоконченный': 8148, 'долговременный': 8149, 'знакомиться': 8150, 'устроенный': 8151, 'оптимальный': 8152, 'распространить': 8153, 'скандинавский': 8154, 'ошибка': 8155, 'нетребовательный': 8156, 'кропотливый': 8157, 'разрисовать': 8158, 'книга': 8159, 'закипание': 8160, 'коль': 8161, 'царить': 8162, 'разорвать': 8163, 'прогулочный': 8164, 'системный': 8165, 'скривить': 8166, 'клещ': 8167, 'бойлерная': 8168, 'трястись': 8169, 'прогуливаться': 8170, 'одинаково': 8171, 'кататься': 8172, 'вестибюль': 8173, 'закат': 8174, 'блаженный': 8175, 'понаехать': 8176, 'держаться': 8177, 'шишка': 8178, 'экологичность': 8179, 'госпожа': 8180, 'промедление': 8181, 'июль': 8182, 'обусловленный': 8183, 'оконный': 8184, 'клеветать': 8185, 'троить': 8186, 'прыгнуть': 8187, 'дозаправка': 8188, 'местоположение': 8189, 'пошатнуть': 8190, 'сосать': 8191, 'подцепиться': 8192, 'парадный': 8193, 'команда': 8194, 'обслуга': 8195, 'наглядность': 8196, 'тяжело': 8197, 'непокрытый': 8198, 'явление': 8199, 'открывание': 8200, 'невзгода': 8201, 'колбасный': 8202, 'атриум': 8203, 'управа': 8204, 'постоять': 8205, 'отслеживать': 8206, 'страшно': 8207, 'оргия': 8208, 'диспансер': 8209, 'мирный': 8210, 'боднуть': 8211, 'донестись': 8212, 'кость': 8213, 'подсыхать': 8214, 'средст': 8215, 'фото': 8216, 'высокопрофессиональный': 8217, 'коллизия': 8218, 'обручальный': 8219, 'облезлый': 8220, 'переплатить': 8221, 'выселить': 8222, 'гораздо': 8223, 'званый': 8224, 'идальго': 8225, 'глобально': 8226, 'поздоровиться': 8227, 'облупить': 8228, 'закрывать': 8229, 'повалить': 8230, 'стилизовать': 8231, 'труха': 8232, 'класс': 8233, 'огорошить': 8234, 'губный': 8235, 'располагать': 8236, 'изысканность': 8237, 'консьержка': 8238, 'радеть': 8239, 'хобби': 8240, 'совершенство': 8241, 'буть': 8242, 'компенсироваться': 8243, 'трапеза': 8244, 'недействительный': 8245, 'дотянуться': 8246, 'неопределённо': 8247, 'поднапрячься': 8248, 'загореть': 8249, 'вбить': 8250, 'поразительно': 8251, 'благородный': 8252, 'вафля': 8253, 'натяг': 8254, 'обломок': 8255, 'бакшиш': 8256, 'второсортный': 8257, 'просторно': 8258, 'пересадить': 8259, 'монохромный': 8260, 'беспроводный': 8261, 'розочка': 8262, 'концентрат': 8263, 'масляный': 8264, 'игрище': 8265, 'марафон': 8266, 'неинтересный': 8267, 'несправедливый': 8268, 'эра': 8269, 'улыбаться': 8270, 'задавить': 8271, 'грубиян': 8272, 'отгораживать': 8273, 'нетривиальный': 8274, 'ерунда': 8275, 'кажда': 8276, 'подтверждаться': 8277, 'электроприбор': 8278, 'песчинка': 8279, 'прошедший': 8280, 'обломать': 8281, 'репутация': 8282, 'охарактеризовать': 8283, 'уделить': 8284, 'обветшалый': 8285, 'ваучер': 8286, 'цинизм': 8287, 'незаконно': 8288, 'презентабельный': 8289, 'секунда': 8290, 'неужели': 8291, 'просушить': 8292, 'вешить': 8293, 'баскетбол': 8294, 'разрешаться': 8295, 'босиком': 8296, 'выходить': 8297, 'сварка': 8298, 'вдохновлять': 8299, 'эпопея': 8300, 'денежка': 8301, 'приравнивать': 8302, 'выматываться': 8303, 'пустынный': 8304, 'версия': 8305, 'фонд': 8306, 'каземат': 8307, 'мультимедиа': 8308, 'заводить': 8309, 'бесполезность': 8310, 'изменение': 8311, 'финиш': 8312, 'жалость': 8313, 'анкетирование': 8314, 'авив': 8315, 'оборудовать': 8316, 'эстетствовать': 8317, 'обвинить': 8318, 'корова': 8319, 'профукать': 8320, 'цивильно': 8321, 'сан': 8322, 'бибикать': 8323, 'неназойливый': 8324, 'тарелка': 8325, 'рваненький': 8326, 'капелька': 8327, 'набивать': 8328, 'сдаваться': 8329, 'фламенко': 8330, 'виртуоз': 8331, 'повергать': 8332, 'разложить': 8333, 'предприниматься': 8334, 'джина': 8335, 'рука': 8336, 'публичный': 8337, 'определённый': 8338, 'злополучный': 8339, 'выскабливать': 8340, 'демид': 8341, 'быстренько': 8342, 'уплатить': 8343, 'грудной': 8344, 'кирпичный': 8345, 'горный': 8346, 'вмиг': 8347, 'неповоротливый': 8348, 'утешиться': 8349, 'селиться': 8350, 'приглядываться': 8351, 'шестнадцатилетний': 8352, 'россиянка': 8353, 'надёжно': 8354, 'пребывать': 8355, 'ворсинка': 8356, 'засиживаться': 8357, 'чума': 8358, 'клоп': 8359, 'информировать': 8360, 'фортуна': 8361, 'совпадение': 8362, 'консьерж': 8363, 'приболеть': 8364, 'симпатично': 8365, 'детский': 8366, 'слева': 8367, 'популярность': 8368, 'любящий': 8369, 'салют': 8370, 'сглаживать': 8371, 'пристав': 8372, 'администрация': 8373, 'калинка': 8374, 'бредовый': 8375, 'баланда': 8376, 'поухаживать': 8377, 'поездить': 8378, 'фонтанный': 8379, 'крестовский': 8380, 'поездной': 8381, 'копеечный': 8382, 'нередкий': 8383, 'обаятельный': 8384, 'наметить': 8385, 'канава': 8386, 'представитель': 8387, 'издеваться': 8388, 'оканчиваться': 8389, 'клаус': 8390, 'проблеск': 8391, 'краткосрочный': 8392, 'навык': 8393, 'фотограф': 8394, 'доходный': 8395, 'замахать': 8396, 'упираться': 8397, 'избирательный': 8398, 'шакал': 8399, 'статья': 8400, 'навигатор': 8401, 'объехать': 8402, 'провести': 8403, 'разойтись': 8404, 'настоятельно': 8405, 'противно': 8406, 'серьёзно': 8407, 'трепетный': 8408, 'подразделение': 8409, 'разругаться': 8410, 'хлеб': 8411, 'триста': 8412, 'угрюмый': 8413, 'бахилы': 8414, 'закаливание': 8415, 'волнующий': 8416, 'кусок': 8417, 'точный': 8418, 'фуфло': 8419, 'новенький': 8420, 'годовщина': 8421, 'толпиться': 8422, 'многократно': 8423, 'свободный': 8424, 'рассчитывать': 8425, 'велодорожка': 8426, 'нерадивый': 8427, 'пьяница': 8428, 'набег': 8429, 'влияние': 8430, 'одинаковый': 8431, 'рассадник': 8432, 'разгораться': 8433, 'зарядиться': 8434, 'расклад': 8435, 'двушка': 8436, 'ювелирный': 8437, 'горьковский': 8438, 'интерпретация': 8439, 'замораживать': 8440, 'экспонат': 8441, 'прищепка': 8442, 'железо': 8443, 'деревянный': 8444, 'показательно': 8445, 'пристойный': 8446, 'пёс': 8447, 'приготовление': 8448, 'ветчина': 8449, 'похвалить': 8450, 'канцелярский': 8451, 'одетый': 8452, 'романтичный': 8453, 'убожество': 8454, 'превращаться': 8455, 'определить': 8456, 'отлетать': 8457, 'фасад': 8458, 'предвещать': 8459, 'фотоснимок': 8460, 'фанат': 8461, 'пасха': 8462, 'отображаться': 8463, 'шнырять': 8464, 'кекс': 8465, 'попутка': 8466, 'монстр': 8467, 'жуть': 8468, 'прожевать': 8469, 'брокер': 8470, 'взаимно': 8471, 'проваляться': 8472, 'гонка': 8473, 'ёж': 8474, 'справлять': 8475, 'расстройство': 8476, 'размешать': 8477, 'бекон': 8478, 'мымра': 8479, 'утеря': 8480, 'клеймо': 8481, 'нагонять': 8482, 'удалённый': 8483, 'слоняться': 8484, 'стеночка': 8485, 'немноголюдный': 8486, 'психованный': 8487, 'сообщество': 8488, 'перебрать': 8489, 'провалить': 8490, 'поджарить': 8491, 'оладья': 8492, 'мешать': 8493, 'прибывать': 8494, 'пользователь': 8495, 'застарелый': 8496, 'разболеться': 8497, 'пометить': 8498, 'первоначальный': 8499, 'отрицательный': 8500, 'потайной': 8501, 'опросить': 8502, 'дешёвенький': 8503, 'подделка': 8504, 'закуска': 8505, 'дыхание': 8506, 'душевой': 8507, 'польша': 8508, 'выясняться': 8509, 'катакомба': 8510, 'комплектность': 8511, 'истерично': 8512, 'хрусталь': 8513, 'засосать': 8514, 'вбежать': 8515, 'неметь': 8516, 'попилить': 8517, 'дополучать': 8518, 'нечего': 8519, 'линейка': 8520, 'андорра': 8521, 'полтора': 8522, 'заядлый': 8523, 'приём': 8524, 'оттереть': 8525, 'напрячь': 8526, 'согреться': 8527, 'челночник': 8528, 'образовать': 8529, 'приложение': 8530, 'сообразно': 8531, 'терпеливо': 8532, 'продавать': 8533, 'саша': 8534, 'экстравагантный': 8535, 'сладкий': 8536, 'субъективный': 8537, 'растянутый': 8538, 'плюшевый': 8539, 'завершить': 8540, 'писать': 8541, 'ремень': 8542, 'грамм': 8543, 'страдать': 8544, 'сварить': 8545, 'традиция': 8546, 'игра': 8547, 'ущерб': 8548, 'телескопический': 8549, 'номинальность': 8550, 'навесный': 8551, 'выть': 8552, 'рейс': 8553, 'корректный': 8554, 'субботний': 8555, 'гранить': 8556, 'минималистка': 8557, 'устарелость': 8558, 'надменный': 8559, 'сорочка': 8560, 'эллипс': 8561, 'прищемлять': 8562, 'мостик': 8563, 'сирийский': 8564, 'депрессивный': 8565, 'независимо': 8566, 'организация': 8567, 'подобрать': 8568, 'бахрома': 8569, 'удалиться': 8570, 'перекрикиваться': 8571, 'прохудиться': 8572, 'параллельно': 8573, 'зацементировать': 8574, 'нетрадиционный': 8575, 'демократичный': 8576, 'лавочка': 8577, 'диетолог': 8578, 'определять': 8579, 'заключительный': 8580, 'добротный': 8581, 'пересесть': 8582, 'спрятать': 8583, 'кавказка': 8584, 'хладнокровно': 8585, 'кувшинчик': 8586, 'сожаление': 8587, 'исправность': 8588, 'веять': 8589, 'веселиться': 8590, 'звено': 8591, 'страшненький': 8592, 'цитадель': 8593, 'одноместный': 8594, 'мытьё': 8595, 'прокормить': 8596, 'враждебный': 8597, 'намагничивание': 8598, 'отослать': 8599, 'лимитировать': 8600, 'сельдь': 8601, 'жмеринка': 8602, 'шпажка': 8603, 'пешком': 8604, 'отломать': 8605, 'испуг': 8606, 'городской': 8607, 'послеобеденный': 8608, 'вышесказанный': 8609, 'шум': 8610, 'лентяй': 8611, 'платёж': 8612, 'культурологический': 8613, 'подбирать': 8614, 'скрасить': 8615, 'золото': 8616, 'бильярд': 8617, 'неуютный': 8618, 'вопить': 8619, 'марокканец': 8620, 'бижутерия': 8621, 'верхний': 8622, 'тушка': 8623, 'бокал': 8624, 'поспешный': 8625, 'тусоваться': 8626, 'держатель': 8627, 'респектабельный': 8628, 'мотылёк': 8629, 'лекарство': 8630, 'разворачивать': 8631, 'балкон': 8632, 'воспитанный': 8633, 'скепсис': 8634, 'кровушка': 8635, 'стоять': 8636, 'реанимация': 8637, 'перебой': 8638, 'убеждение': 8639, 'благоустроенный': 8640, 'петрушка': 8641, 'освободиться': 8642, 'патиссон': 8643, 'удосужиться': 8644, 'вынос': 8645, 'объедаться': 8646, 'ток': 8647, 'бедный': 8648, 'отбить': 8649, 'метла': 8650, 'урегулировать': 8651, 'гамма': 8652, 'значит': 8653, 'дубай': 8654, 'бестактно': 8655, 'заявить': 8656, 'обижаться': 8657, 'мигать': 8658, 'обшивка': 8659, 'лотос': 8660, 'надменно': 8661, 'пионер': 8662, 'рябь': 8663, 'вставка': 8664, 'котлетка': 8665, 'ортопедический': 8666, 'шутка': 8667, 'ореол': 8668, 'наливать': 8669, 'магистраль': 8670, 'озвучивание': 8671, 'финансы': 8672, 'рекомендация': 8673, 'молодожён': 8674, 'предусмотреть': 8675, 'приписать': 8676, 'маять': 8677, 'плотно': 8678, 'обобщить': 8679, 'единообразный': 8680, 'климатический': 8681, 'шустрый': 8682, 'продувать': 8683, 'вкусный': 8684, 'припасти': 8685, 'влажный': 8686, 'грабитель': 8687, 'минус': 8688, 'паштет': 8689, 'приклеить': 8690, 'деть': 8691, 'автомагистраль': 8692, 'бледноватый': 8693, 'вылетать': 8694, 'сушить': 8695, 'чихать': 8696, 'строгий': 8697, 'заваривать': 8698, 'отделать': 8699, 'любопытство': 8700, 'дочитать': 8701, 'торговля': 8702, 'аптека': 8703, 'недопустимо': 8704, 'воодушевление': 8705, 'поизносить': 8706, 'поляк': 8707, 'воск': 8708, 'вытерпеть': 8709, 'отчасти': 8710, 'сильный': 8711, 'запустение': 8712, 'комплимент': 8713, 'размер': 8714, 'переставить': 8715, 'койка': 8716, 'золотистый': 8717, 'наезжий': 8718, 'достигать': 8719, 'автор': 8720, 'полуторка': 8721, 'причём': 8722, 'реликвия': 8723, 'пялиться': 8724, 'техперсонал': 8725, 'говориться': 8726, 'вина': 8727, 'трактор': 8728, 'исправный': 8729, 'банкомат': 8730, 'честь': 8731, 'магнитный': 8732, 'герметичность': 8733, 'плетёный': 8734, 'опросник': 8735, 'базилика': 8736, 'терраса': 8737, 'психика': 8738, 'плевать': 8739, 'курение': 8740, 'краситель': 8741, 'банан': 8742, 'лунка': 8743, 'порадоваться': 8744, 'вымыть': 8745, 'постсоветский': 8746, 'неприемлемый': 8747, 'подкачать': 8748, 'трехкамерный': 8749, 'взорваться': 8750, 'облегчать': 8751, 'кричащий': 8752, 'артерия': 8753, 'волновать': 8754, 'кубик': 8755, 'щёчка': 8756, 'кинескоп': 8757, 'резервуар': 8758, 'вытекать': 8759, 'гуд': 8760, 'космополит': 8761, 'палата': 8762, 'приложимый': 8763, 'кофеёк': 8764, 'храниться': 8765, 'компетентный': 8766, 'бордель': 8767, 'опечатать': 8768, 'успешный': 8769, 'капельница': 8770, 'балдеть': 8771, 'однократно': 8772, 'взбесить': 8773, 'ограничиться': 8774, 'модерновый': 8775, 'внутренне': 8776, 'суд': 8777, 'лезть': 8778, 'таять': 8779, 'мутация': 8780, 'пятибалльный': 8781, 'озеленение': 8782, 'кратко': 8783, 'уповать': 8784, 'персоналия': 8785, 'соломка': 8786, 'связаться': 8787, 'неестественно': 8788, 'наличник': 8789, 'упрямый': 8790, 'плотник': 8791, 'дарья': 8792, 'бессонный': 8793, 'желе': 8794, 'шёлк': 8795, 'разведка': 8796, 'гардероб': 8797, 'колос': 8798, 'негодующий': 8799, 'прокладка': 8800, 'несказанно': 8801, 'цербер': 8802, 'супруг': 8803, 'магнитная': 8804, 'обыденный': 8805, 'чередоваться': 8806, 'кипр': 8807, 'целоваться': 8808, 'болгарин': 8809, 'вусмерть': 8810, 'кома': 8811, 'поблуждать': 8812, 'заключаться': 8813, 'вояж': 8814, 'июньский': 8815, 'джентльмен': 8816, 'вызов': 8817, 'оштрафовать': 8818, 'донести': 8819, 'родственница': 8820, 'неуспешный': 8821, 'величество': 8822, 'фешенебельный': 8823, 'дотащить': 8824, 'ома': 8825, 'остановить': 8826, 'новомосковск': 8827, 'раскинуться': 8828, 'шевелиться': 8829, 'холоп': 8830, 'догадка': 8831, 'книзу': 8832, 'фантастический': 8833, 'снегопад': 8834, 'ополаскиватель': 8835, 'втиснуть': 8836, 'стюард': 8837, 'содействие': 8838, 'запятнать': 8839, 'командирование': 8840, 'призрачный': 8841, 'спасатель': 8842, 'уродский': 8843, 'обсудить': 8844, 'аэробус': 8845, 'тётка': 8846, 'поверхность': 8847, 'школьный': 8848, 'разлезаться': 8849, 'студент': 8850, 'пытать': 8851, 'застеклить': 8852, 'расстрел': 8853, 'маршал': 8854, 'мерзкий': 8855, 'развалиться': 8856, 'хлорирование': 8857, 'спот': 8858, 'устрашать': 8859, 'жесть': 8860, 'мильный': 8861, 'пучина': 8862, 'несравнимый': 8863, 'претензионный': 8864, 'непомерный': 8865, 'блинчик': 8866, 'пони': 8867, 'предлагаться': 8868, 'двор': 8869, 'переворачивать': 8870, 'роджер': 8871, 'русско': 8872, 'гуля': 8873, 'подворотня': 8874, 'ми': 8875, 'выложиться': 8876, 'нижегородский': 8877, 'звоночек': 8878, 'знаменитый': 8879, 'годовой': 8880, 'гул': 8881, 'заезд': 8882, 'цена': 8883, 'безопасность': 8884, 'напролёт': 8885, 'эвакуировать': 8886, 'застилать': 8887, 'пластмасса': 8888, 'рисковать': 8889, 'называть': 8890, 'вылазка': 8891, 'фински': 8892, 'неувязка': 8893, 'бирочка': 8894, 'небо': 8895, 'готический': 8896, 'понаблюдать': 8897, 'сносно': 8898, 'дин': 8899, 'обтянутый': 8900, 'трек': 8901, 'ссохнуться': 8902, 'двадцатилетний': 8903, 'блуждать': 8904, 'оренбург': 8905, 'возвышаться': 8906, 'окончательно': 8907, 'зимний': 8908, 'изнанка': 8909, 'подоконник': 8910, 'обнаружиться': 8911, 'соотечественник': 8912, 'постановление': 8913, 'компонент': 8914, 'сырость': 8915, 'падун': 8916, 'трёхмесячный': 8917, 'пребывание': 8918, 'могильный': 8919, 'закалённый': 8920, 'гава': 8921, 'термальный': 8922, 'финансовый': 8923, 'повар': 8924, 'мид': 8925, 'зачаровать': 8926, 'непромытый': 8927, 'твой': 8928, 'въезд': 8929, 'зашторить': 8930, 'сообразительный': 8931, 'заняться': 8932, 'эпоха': 8933, 'планктон': 8934, 'забежать': 8935, 'кузнец': 8936, 'графиня': 8937, 'заплыть': 8938, 'организм': 8939, 'вензель': 8940, 'мороженный': 8941, 'нужность': 8942, 'дощечка': 8943, 'инициатива': 8944, 'отдохнуть': 8945, 'размораживаться': 8946, 'нехватка': 8947, 'растопить': 8948, 'межкомнатный': 8949, 'смоленский': 8950, 'подруга': 8951, 'следование': 8952, 'отрегулировать': 8953, 'торопливый': 8954, 'хождение': 8955, 'швырнуть': 8956, 'иногда': 8957, 'свозить': 8958, 'наглухо': 8959, 'гребок': 8960, 'шоковый': 8961, 'спрашивать': 8962, 'детка': 8963, 'нижний': 8964, 'переход': 8965, 'пованивать': 8966, 'дух': 8967, 'назначать': 8968, 'посушить': 8969, 'фундамент': 8970, 'подобие': 8971, 'терпимо': 8972, 'разместить': 8973, 'стрясти': 8974, 'некий': 8975, 'истрепаться': 8976, 'динозавр': 8977, 'пик': 8978, 'двадцать': 8979, 'веселить': 8980, 'перекладывать': 8981, 'разряд': 8982, 'пение': 8983, 'стриптиз': 8984, 'серый': 8985, 'поржаветь': 8986, 'нейтрально': 8987, 'предъявлять': 8988, 'качество': 8989, 'сойти': 8990, 'проверяться': 8991, 'сосредоточить': 8992, 'любезность': 8993, 'единичный': 8994, 'сердечный': 8995, 'кусачий': 8996, 'проститутка': 8997, 'пустынно': 8998, 'сорок': 8999, 'групповой': 9000, 'оглушительно': 9001, 'научить': 9002, 'обращение': 9003, 'неудобный': 9004, 'опасно': 9005, 'волжский': 9006, 'кожура': 9007, 'мусорить': 9008, 'тёмный': 9009, 'подвижный': 9010, 'толща': 9011, 'адекватно': 9012, 'фреска': 9013, 'стащить': 9014, 'бестолковый': 9015, 'рубеж': 9016, 'колбаска': 9017, 'варена': 9018, 'предположить': 9019, 'компрессор': 9020, 'кронштейн': 9021, 'ядовитый': 9022, 'наврать': 9023, 'лечебный': 9024, 'проверить': 9025, 'несерьёзный': 9026, 'больша': 9027, 'щёточка': 9028, 'водосток': 9029, 'превосходить': 9030, 'давно': 9031, 'откликнуться': 9032, 'договорить': 9033, 'швабра': 9034, 'тотально': 9035, 'понимать': 9036, 'декор': 9037, 'цифра': 9038, 'неудивительный': 9039, 'прирасти': 9040, 'рубероидный': 9041, 'младший': 9042, 'подшутить': 9043, 'общеизвестный': 9044, 'немочь': 9045, 'завуалировать': 9046, 'увенчаться': 9047, 'речушка': 9048, 'девальвация': 9049, 'намучиться': 9050, 'надоесть': 9051, 'сетка': 9052, 'уникальный': 9053, 'коренной': 9054, 'рахат': 9055, 'безальтернативный': 9056, 'скопиться': 9057, 'безысходно': 9058, 'папка': 9059, 'маршрутка': 9060, 'разводить': 9061, 'прекрасный': 9062, 'истошный': 9063, 'выбить': 9064, 'русскоязычный': 9065, 'московский': 9066, 'стандарт': 9067, 'отёл': 9068, 'болтовня': 9069, 'зарядка': 9070, 'поднос': 9071, 'выудить': 9072, 'защёлка': 9073, 'глажка': 9074, 'французски': 9075, 'стиль': 9076, 'нищий': 9077, 'зарезервированный': 9078, 'утеха': 9079, 'салатный': 9080, 'мещанский': 9081, 'шток': 9082, 'медвежий': 9083, 'затеять': 9084, 'бедствие': 9085, 'поменять': 9086, 'поочерёдно': 9087, 'замерзать': 9088, 'пылесосить': 9089, 'подписать': 9090, 'сахар': 9091, 'наловить': 9092, 'возвращать': 9093, 'побыть': 9094, 'содержимое': 9095, 'панель': 9096, 'квалифицироваться': 9097, 'сгодиться': 9098, 'касаться': 9099, 'кисельный': 9100, 'недозревший': 9101, 'раскрытый': 9102, 'глухой': 9103, 'оценивать': 9104, 'затвердеть': 9105, 'деликатный': 9106, 'признак': 9107, 'неуместный': 9108, 'подержать': 9109, 'делишки': 9110, 'ибрагим': 9111, 'этикетка': 9112, 'эмигрант': 9113, 'индия': 9114, 'копирка': 9115, 'фата': 9116, 'круглосуточно': 9117, 'сельва': 9118, 'отвечать': 9119, 'подъёмник': 9120, 'негативный': 9121, 'заплесневелый': 9122, 'великолепно': 9123, 'меню': 9124, 'украшение': 9125, 'кошатина': 9126, 'лихой': 9127, 'изображение': 9128, 'близлежащий': 9129, 'нечисть': 9130, 'сыпь': 9131, 'вздремнуть': 9132, 'обменяться': 9133, 'прошивание': 9134, 'перелом': 9135, 'лист': 9136, 'житный': 9137, 'лекарственный': 9138, 'любопытно': 9139, 'переносный': 9140, 'незапланированный': 9141, 'соты': 9142, 'ворох': 9143, 'настраиваться': 9144, 'костюм': 9145, 'осиный': 9146, 'вытягивать': 9147, 'писк': 9148, 'пересаживаться': 9149, 'переплотить': 9150, 'неискренний': 9151, 'чрезвычайный': 9152, 'обмен': 9153, 'бельё': 9154, 'возращение': 9155, 'дек': 9156, 'кашка': 9157, 'жевать': 9158, 'двухгодовалый': 9159, 'однообразный': 9160, 'разразиться': 9161, 'ильич': 9162, 'попадание': 9163, 'оттенок': 9164, 'постоянство': 9165, 'возможный': 9166, 'жижа': 9167, 'акустический': 9168, 'вовремя': 9169, 'приноситься': 9170, 'непомерно': 9171, 'пара': 9172, 'недопонимание': 9173, 'галерея': 9174, 'телефон': 9175, 'собачина': 9176, 'подробность': 9177, 'укрыться': 9178, 'запрашивать': 9179, 'км': 9180, 'разрезание': 9181, 'потерпеть': 9182, 'дале': 9183, 'авторизация': 9184, 'картошка': 9185, 'сложный': 9186, 'дуршлаг': 9187, 'отражаться': 9188, 'отвратитель': 9189, 'вспомниться': 9190, 'раздаваться': 9191, 'повышенный': 9192, 'влюбляться': 9193, 'призрак': 9194, 'натрий': 9195, 'подарить': 9196, 'втирать': 9197, 'непродолжительный': 9198, 'именно': 9199, 'этика': 9200, 'нечеловеческий': 9201, 'сомневаться': 9202, 'вернуть': 9203, 'заряженность': 9204, 'мусорный': 9205, 'марка': 9206, 'мафия': 9207, 'морж': 9208, 'командировочный': 9209, 'престарелый': 9210, 'родственник': 9211, 'погодный': 9212, 'песок': 9213, 'фанатик': 9214, 'понять': 9215, 'отдельно': 9216, 'творожок': 9217, 'соизмеримый': 9218, 'убедиться': 9219, 'расписаться': 9220, 'беречься': 9221, 'лиссабон': 9222, 'зашкаливала': 9223, 'практика': 9224, 'поэкспериментировать': 9225, 'трансфер': 9226, 'письменный': 9227, 'неведомый': 9228, 'ливневый': 9229, 'опровергнуть': 9230, 'злоключение': 9231, 'ангельский': 9232, 'лазать': 9233, 'металл': 9234, 'мутный': 9235, 'мерка': 9236, 'пластика': 9237, 'кола': 9238, 'владыкино': 9239, 'форс': 9240, 'пожилой': 9241, 'подход': 9242, 'длительность': 9243, 'проникнуть': 9244, 'нарушать': 9245, 'качественно': 9246, 'президент': 9247, 'обещаться': 9248, 'очистный': 9249, 'затяжной': 9250, 'хр': 9251, 'благопристойность': 9252, 'значительно': 9253, 'запредельный': 9254, 'нулевой': 9255, 'выуживать': 9256, 'прислушиваться': 9257, 'оговориться': 9258, 'слух': 9259, 'узбекский': 9260, 'геолог': 9261, 'блокировка': 9262, 'роить': 9263, 'пустой': 9264, 'тройка': 9265, 'уродство': 9266, 'взнос': 9267, 'подушечка': 9268, 'сильно': 9269, 'маслить': 9270, 'невнимательный': 9271, 'немыслимо': 9272, 'забавно': 9273, 'посол': 9274, 'грузнуть': 9275, 'изгибать': 9276, 'организоваться': 9277, 'наличие': 9278, 'информирование': 9279, 'столик': 9280, 'потрепаться': 9281, 'узнать': 9282, 'разрезаться': 9283, 'засор': 9284, 'птичий': 9285, 'достоверный': 9286, 'деревяшка': 9287, 'башенный': 9288, 'крючков': 9289, 'недостаток': 9290, 'отделаться': 9291, 'переходить': 9292, 'двухкомнатный': 9293, 'продукт': 9294, 'сиротливый': 9295, 'ветреный': 9296, 'лук': 9297, 'нить': 9298, 'зеркальный': 9299, 'полупансион': 9300, 'рвань': 9301, 'водиться': 9302, 'срыв': 9303, 'тянутый': 9304, 'вышитый': 9305, 'разваливаться': 9306, 'автосалон': 9307, 'малайзия': 9308, 'влюбиться': 9309, 'пробираться': 9310, 'канитель': 9311, 'нагрев': 9312, 'оскорбление': 9313, 'носовой': 9314, 'панцирный': 9315, 'тормозной': 9316, 'девчонка': 9317, 'спальная': 9318, 'дождь': 9319, 'автоматически': 9320, 'приветливый': 9321, 'возрастать': 9322, 'портрет': 9323, 'кассир': 9324, 'империя': 9325, 'заинтересоваться': 9326, 'мямлить': 9327, 'заклеить': 9328, 'брать': 9329, 'капуста': 9330, 'утереть': 9331, 'разочарование': 9332, 'оскал': 9333, 'двигаться': 9334, 'вдобавок': 9335, 'предназначение': 9336, 'всесторонний': 9337, 'искусить': 9338, 'ратин': 9339, 'голубика': 9340, 'сотрясаться': 9341, 'уплотнять': 9342, 'расхватать': 9343, 'быстрота': 9344, 'эпизод': 9345, 'франк': 9346, 'вставать': 9347, 'необязательный': 9348, 'ютиться': 9349, 'вкатываться': 9350, 'отоваривать': 9351, 'спрос': 9352, 'взмывать': 9353, 'скамейка': 9354, 'гадёныш': 9355, 'бросание': 9356, 'одиночка': 9357, 'источник': 9358, 'грандиозный': 9359, 'тормозить': 9360, 'запредельно': 9361, 'гость': 9362, 'заколотить': 9363, 'тампон': 9364, 'путаться': 9365, 'врун': 9366, 'данте': 9367, 'двойня': 9368, 'сознательный': 9369, 'протиснуться': 9370, 'белка': 9371, 'вышеописанный': 9372, 'сбоку': 9373, 'кипячение': 9374, 'торт': 9375, 'некомпетентность': 9376, 'макет': 9377, 'сертификат': 9378, 'придел': 9379, 'стать': 9380, 'шпиль': 9381, 'запас': 9382, 'пустырь': 9383, 'зрелый': 9384, 'владимирович': 9385, 'министерство': 9386, 'брючный': 9387, 'шейка': 9388, 'воришка': 9389, 'страшноватый': 9390, 'курабье': 9391, 'зря': 9392, 'аппетит': 9393, 'оскомина': 9394, 'поберечь': 9395, 'охтинский': 9396, 'короткий': 9397, 'обман': 9398, 'индустрия': 9399, 'бармен': 9400, 'набрасываться': 9401, 'сопутствовать': 9402, 'таковой': 9403, 'антисанитария': 9404, 'старовато': 9405, 'затруднительно': 9406, 'заточить': 9407, 'гонконг': 9408, 'выпадать': 9409, 'отдалённость': 9410, 'морда': 9411, 'дубликат': 9412, 'сократить': 9413, 'загуляться': 9414, 'свёрнутый': 9415, 'напиться': 9416, 'бон': 9417, 'нестандарт': 9418, 'погрешность': 9419, 'закоулок': 9420, 'таиланд': 9421, 'технарь': 9422, 'пронзительный': 9423, 'ополоснуть': 9424, 'разделять': 9425, 'пресный': 9426, 'разделение': 9427, 'шумность': 9428, 'начинка': 9429, 'периферия': 9430, 'пал': 9431, 'услуга': 9432, 'дворец': 9433, 'тропинка': 9434, 'вареник': 9435, 'прочить': 9436, 'книжный': 9437, 'дырища': 9438, 'остаться': 9439, 'условный': 9440, 'похвастать': 9441, 'чеснок': 9442, 'цвета': 9443, 'случайно': 9444, 'негусто': 9445, 'промолчать': 9446, 'спица': 9447, 'открещиваться': 9448, 'продержать': 9449, 'среднее': 9450, 'обозначаться': 9451, 'беготня': 9452, 'турция': 9453, 'че': 9454, 'салатов': 9455, 'жилец': 9456, 'вежливый': 9457, 'учреждение': 9458, 'пластмассовый': 9459, 'бодро': 9460, 'активный': 9461, 'кавычка': 9462, 'обзываться': 9463, 'закодировать': 9464, 'новый': 9465, 'проём': 9466, 'накрутить': 9467, 'кучный': 9468, 'пух': 9469, 'грудь': 9470, 'преодолеть': 9471, 'брызгаться': 9472, 'переоборудоваться': 9473, 'локализация': 9474, 'отстой': 9475, 'пряник': 9476, 'заблокировать': 9477, 'радиатор': 9478, 'простаивать': 9479, 'нюанс': 9480, 'пятак': 9481, 'негигиеничный': 9482, 'немало': 9483, 'одолевать': 9484, 'изнашиваться': 9485, 'троечка': 9486, 'сложно': 9487, 'рита': 9488, 'плотный': 9489, 'прибывания': 9490, 'обустроить': 9491, 'сносный': 9492, 'опрокинуть': 9493, 'кожух': 9494, 'взвеситься': 9495, 'уползти': 9496, 'оплатить': 9497, 'английский': 9498, 'вдвоём': 9499, 'рисковый': 9500, 'выломать': 9501, 'воля': 9502, 'библиотека': 9503, 'узкий': 9504, 'жадность': 9505, 'козий': 9506, 'усердный': 9507, 'леонардо': 9508, 'чек': 9509, 'миска': 9510, 'барокко': 9511, 'свая': 9512, 'ностальгия': 9513, 'условие': 9514, 'окей': 9515, 'исправно': 9516, 'косметолог': 9517, 'скотч': 9518, 'бельишко': 9519, 'прогоняться': 9520, 'взрывной': 9521, 'шайка': 9522, 'бесперебойно': 9523, 'казань': 9524, 'перевязать': 9525, 'фестиваль': 9526, 'задержаться': 9527, 'досуг': 9528, 'прокатать': 9529, 'титан': 9530, 'передвигать': 9531, 'вымирать': 9532, 'феерия': 9533, 'удержать': 9534, 'разнополый': 9535, 'тысяча': 9536, 'коммуникабельный': 9537, 'односторонний': 9538, 'укус': 9539, 'сгонять': 9540, 'мистер': 9541, 'поезд': 9542, 'плевел': 9543, 'скачать': 9544, 'сложённый': 9545, 'наглость': 9546, 'уносный': 9547, 'гулять': 9548, 'котельник': 9549, 'тесный': 9550, 'ляп': 9551, 'перекусить': 9552, 'холостяцкий': 9553, 'вал': 9554, 'шоколад': 9555, 'натягивание': 9556, 'аудио': 9557, 'горевать': 9558, 'насмешить': 9559, 'потеря': 9560, 'чаемый': 9561, 'заказываться': 9562, 'сотрудник': 9563, 'отправление': 9564, 'многий': 9565, 'сыщик': 9566, 'разнокалиберный': 9567, 'умываться': 9568, 'презентация': 9569, 'искрить': 9570, 'совдеп': 9571, 'закусочный': 9572, 'неприятный': 9573, 'задувать': 9574, 'убавить': 9575, 'вспыхнуть': 9576, 'таймер': 9577, 'вега': 9578, 'всеобщий': 9579, 'обдув': 9580, 'гл': 9581, 'бутыль': 9582, 'грохнуться': 9583, 'гнать': 9584, 'конференц': 9585, 'вдыхание': 9586, 'идентификатор': 9587, 'перепрограммировать': 9588, 'козырь': 9589, 'екатеринбург': 9590, 'изумительно': 9591, 'вкладывать': 9592, 'супчик': 9593, 'астория': 9594, 'теплиться': 9595, 'население': 9596, 'ваш': 9597, 'пересылать': 9598, 'детище': 9599, 'взгрустнуться': 9600, 'отболеть': 9601, 'раздражительный': 9602, 'переспать': 9603, 'гуру': 9604, 'сель': 9605, 'подкрутить': 9606, 'цветущий': 9607, 'изредка': 9608, 'почаёвничать': 9609, 'задыхаться': 9610, 'аквариум': 9611, 'остов': 9612, 'перемагничивать': 9613, 'ироничный': 9614, 'гольф': 9615, 'французский': 9616, 'здравомыслящий': 9617, 'разбежаться': 9618, 'украина': 9619, 'умолять': 9620, 'складывать': 9621, 'плакать': 9622, 'млина': 9623, 'рассмотрение': 9624, 'патрон': 9625, 'сваливаться': 9626, 'отслоиться': 9627, 'локоть': 9628, 'отлить': 9629, 'приветливо': 9630, 'побулькать': 9631, 'впасть': 9632, 'гранада': 9633, 'доплатить': 9634, 'покорить': 9635, 'форменный': 9636, 'корт': 9637, 'вентилятор': 9638, 'налить': 9639, 'оригинально': 9640, 'воспеть': 9641, 'восприниматься': 9642, 'доложить': 9643, 'плутоватый': 9644, 'тонуть': 9645, 'черно': 9646, 'затяжка': 9647, 'вынимать': 9648, 'смешиваться': 9649, 'заведение': 9650, 'суша': 9651, 'резервный': 9652, 'очный': 9653, 'макаронный': 9654, 'зацепиться': 9655, 'неоценимый': 9656, 'доставлять': 9657, 'надстроить': 9658, 'ковыряться': 9659, 'вручить': 9660, 'пломба': 9661, 'сомнение': 9662, 'пощадить': 9663, 'ориентировать': 9664, 'подставка': 9665, 'хохотать': 9666, 'валюта': 9667, 'молочко': 9668, 'перекрытие': 9669, 'затаить': 9670, 'окунание': 9671, 'маньяк': 9672, 'престижный': 9673, 'манера': 9674, 'бренд': 9675, 'точнее': 9676, 'позор': 9677, 'изъян': 9678, 'сотый': 9679, 'занавесочка': 9680, 'стульчик': 9681, 'комплексовать': 9682, 'полдень': 9683, 'луис': 9684, 'дискриминация': 9685, 'мера': 9686, 'склеивать': 9687, 'грузиться': 9688, 'перекус': 9689, 'погулять': 9690, 'появляться': 9691, 'военный': 9692, 'кастрюля': 9693, 'тележка': 9694, 'смрадный': 9695, 'безалкогольный': 9696, 'комиссионный': 9697, 'электропривод': 9698, 'травиться': 9699, 'четырехместный': 9700, 'подхихикивать': 9701, 'испугать': 9702, 'облеплять': 9703, 'сдержаться': 9704, 'свежеть': 9705, 'секс': 9706, 'накопиться': 9707, 'подсунуть': 9708, 'миля': 9709, 'приесться': 9710, 'недовольно': 9711, 'дели': 9712, 'союз': 9713, 'сбоить': 9714, 'ойкать': 9715, 'корпус': 9716, 'начать': 9717, 'высушить': 9718, 'навезти': 9719, 'записывать': 9720, 'барс': 9721, 'опрятно': 9722, 'душегубка': 9723, 'потрясать': 9724, 'морочить': 9725, 'удавиться': 9726, 'незамедлительно': 9727, 'ласа': 9728, 'тушь': 9729, 'вдребезги': 9730, 'мент': 9731, 'столпиться': 9732, 'массимо': 9733, 'окончить': 9734, 'совершенно': 9735, 'подробный': 9736, 'показаться': 9737, 'неудовлетворительно': 9738, 'шарко': 9739, 'сохнуть': 9740, 'грубо': 9741, 'завораживать': 9742, 'играть': 9743, 'внимательный': 9744, 'бумажка': 9745, 'позитив': 9746, 'крайность': 9747, 'безумие': 9748, 'вишенка': 9749, 'выдумка': 9750, 'шторм': 9751, 'впечатлить': 9752, 'побегать': 9753, 'убеждать': 9754, 'акция': 9755, 'нарезвиться': 9756, 'тошнота': 9757, 'компания': 9758, 'разогнать': 9759, 'потеряться': 9760, 'предусмотрительно': 9761, 'пацан': 9762, 'издавать': 9763, 'прыщ': 9764, 'гурманский': 9765, 'обидеться': 9766, 'выкурить': 9767, 'обслуживать': 9768, 'рассыпать': 9769, 'приставка': 9770, 'однообразно': 9771, 'навалом': 9772, 'прибавка': 9773, 'крест': 9774, 'лёгкий': 9775, 'оп': 9776, 'протечь': 9777, 'небанальный': 9778, 'португалия': 9779, 'жать': 9780, 'рухлядь': 9781, 'повторный': 9782, 'открытка': 9783, 'длиннющий': 9784, 'буркнуть': 9785, 'проектировщик': 9786, 'пропустить': 9787, 'соответствие': 9788, 'недолговечный': 9789, 'подготовиться': 9790, 'сбиться': 9791, 'оптимист': 9792, 'намылить': 9793, 'кормёжка': 9794, 'тратиться': 9795, 'напрягать': 9796, 'ном': 9797, 'колокол': 9798, 'людный': 9799, 'ввысь': 9800, 'пармезан': 9801, 'поспасть': 9802, 'аккурат': 9803, 'реализовать': 9804, 'нумерация': 9805, 'разъединить': 9806, 'подружка': 9807, 'цельсий': 9808, 'пакет': 9809, 'син': 9810, 'топанье': 9811, 'гладилка': 9812, 'похлёбка': 9813, 'ввиду': 9814, 'инженер': 9815, 'просесть': 9816, 'наклонный': 9817, 'клиринг': 9818, 'авиа': 9819, 'нарочно': 9820, 'проверять': 9821, 'лепетать': 9822, 'хлябать': 9823, 'часовой': 9824, 'дворик': 9825, 'кроха': 9826, 'раздолье': 9827, 'выпучить': 9828, 'малозначительный': 9829, 'предпоследний': 9830, 'модель': 9831, 'птичка': 9832, 'крик': 9833, 'крошка': 9834, 'ассортимент': 9835, 'здорово': 9836, 'активирование': 9837, 'огорчиться': 9838, 'дрожать': 9839, 'раздумье': 9840, 'балл': 9841, 'изначальный': 9842, 'громкий': 9843, 'приучить': 9844, 'приятность': 9845, 'сотрудница': 9846, 'уважение': 9847, 'страничка': 9848, 'расположиться': 9849, 'странно': 9850, 'захлопнуть': 9851, 'мужик': 9852, 'колоритный': 9853, 'растрескаться': 9854, 'уморить': 9855, 'национальный': 9856, 'афиша': 9857, 'знаковый': 9858, 'палитра': 9859, 'мара': 9860, 'слон': 9861, 'прозвонить': 9862, 'дача': 9863, 'начислять': 9864, 'коммутатор': 9865, 'обсчитывать': 9866, 'побежать': 9867, 'содержать': 9868, 'кофеварка': 9869, 'горошек': 9870, 'жених': 9871, 'разделывать': 9872, 'щебетание': 9873, 'широченный': 9874, 'тарелочка': 9875, 'фонарик': 9876, 'поначалу': 9877, 'косметический': 9878, 'подтёк': 9879, 'наладиться': 9880, 'щелевой': 9881, 'символика': 9882, 'образование': 9883, 'издержка': 9884, 'наискосок': 9885, 'избушка': 9886, 'этап': 9887, 'диалог': 9888, 'нанду': 9889, 'поздороваться': 9890, 'средневековый': 9891, 'портфель': 9892, 'эстетика': 9893, 'провезти': 9894, 'значимый': 9895, 'малыш': 9896, 'закрытый': 9897, 'причитать': 9898, 'морвокзал': 9899, 'послевкусие': 9900, 'музей': 9901, 'ролик': 9902, 'подействовать': 9903, 'дорожить': 9904, 'капсула': 9905, 'непринуждённый': 9906, 'удлинитель': 9907, 'ладен': 9908, 'прилагать': 9909, 'продлять': 9910, 'запоминаться': 9911, 'обоюдный': 9912, 'горнолыжный': 9913, 'миллион': 9914, 'январь': 9915, 'специальный': 9916, 'бобик': 9917, 'пережиматься': 9918, 'поговорить': 9919, 'лошадь': 9920, 'вешать': 9921, 'алкогольный': 9922, 'украшательство': 9923, 'небрежный': 9924, 'сотня': 9925, 'вещать': 9926, 'пропадать': 9927, 'драма': 9928, 'пробочка': 9929, 'привидение': 9930, 'химчистка': 9931, 'абзац': 9932, 'пыльно': 9933, 'привереда': 9934, 'див': 9935, 'помойный': 9936, 'выдать': 9937, 'расширение': 9938, 'невысокий': 9939, 'жилище': 9940, 'лукума': 9941, 'какать': 9942, 'слякоть': 9943, 'закономерный': 9944, 'пропажа': 9945, 'хрупкий': 9946, 'единый': 9947, 'варение': 9948, 'декорировать': 9949, 'убывать': 9950, 'град': 9951, 'режим': 9952, 'муниципалитет': 9953, 'драчка': 9954, 'постельный': 9955, 'подхватить': 9956, 'звенеть': 9957, 'взыскать': 9958, 'круглый': 9959, 'самовольно': 9960, 'сенсорный': 9961, 'смыть': 9962, 'менеджерский': 9963, 'любительский': 9964, 'пещера': 9965, 'завершение': 9966, 'похвастаться': 9967, 'барачный': 9968, 'колхозник': 9969, 'завсегда': 9970, 'уступить': 9971, 'сверх': 9972, 'рядный': 9973, 'взобраться': 9974, 'улич': 9975, 'станция': 9976, 'улетать': 9977, 'обуваться': 9978, 'колорит': 9979, 'безнаказанно': 9980, 'заветный': 9981, 'неча': 9982, 'заправка': 9983, 'спускаться': 9984, 'потаскать': 9985, 'шорох': 9986, 'автостоянка': 9987, 'корридору': 9988, 'сектор': 9989, 'индиец': 9990, 'сестра': 9991, 'коллектив': 9992, 'целый': 9993, 'неясно': 9994, 'мочалка': 9995, 'против': 9996, 'кусаться': 9997, 'немедленно': 9998, 'попинать': 9999, 'русски': 10000, 'остро': 10001, 'столкнуться': 10002, 'западать': 10003, 'непросто': 10004, 'затмевать': 10005, 'нечистоты': 10006, 'волочь': 10007, 'ярлык': 10008, 'подмышка': 10009, 'отношение': 10010, 'инвойс': 10011, 'устлать': 10012, 'недовольный': 10013, 'бухгалтер': 10014, 'оперативно': 10015, 'секретность': 10016, 'поболтать': 10017, 'собственник': 10018, 'зашить': 10019, 'хреновый': 10020, 'скрадывать': 10021, 'шуровать': 10022, 'подкинуть': 10023, 'пережарить': 10024, 'бангкок': 10025, 'бельевая': 10026, 'пробивать': 10027, 'непрерывно': 10028, 'излишек': 10029, 'смолить': 10030, 'позвонить': 10031, 'намыться': 10032, 'молитва': 10033, 'холл': 10034, 'шезлонг': 10035, 'звуковой': 10036, 'невероятный': 10037, 'мешок': 10038, 'сполоснуть': 10039, 'испросить': 10040, 'очнуться': 10041, 'скворцовый': 10042, 'трещать': 10043, 'побить': 10044, 'радушие': 10045, 'рыться': 10046, 'переносить': 10047, 'задать': 10048, 'мастерская': 10049, 'выпилить': 10050, 'хором': 10051, 'сигналить': 10052, 'неизвестно': 10053, 'исполнить': 10054, 'освежать': 10055, 'вдвое': 10056, 'почтение': 10057, 'центровой': 10058, 'пропускание': 10059, 'врезаться': 10060, 'липкий': 10061, 'подрать': 10062, 'скромненький': 10063, 'трудовой': 10064, 'прожарка': 10065, 'региональный': 10066, 'грубить': 10067, 'контур': 10068, 'сталактит': 10069, 'избежание': 10070, 'анисовый': 10071, 'аннулировать': 10072, 'борт': 10073, 'напоследок': 10074, 'классификация': 10075, 'пожевать': 10076, 'просыхать': 10077, 'плата': 10078, 'колченогий': 10079, 'граница': 10080, 'мер': 10081, 'окрик': 10082, 'украинец': 10083, 'шведка': 10084, 'основательность': 10085, 'свита': 10086, 'тренажёр': 10087, 'регулировка': 10088, 'лосось': 10089, 'притом': 10090, 'джек': 10091, 'связывать': 10092, 'закрутить': 10093, 'вещь': 10094, 'налитой': 10095, 'чувствовать': 10096, 'бедняжка': 10097, 'пережаривать': 10098, 'недружественный': 10099, 'настоятельный': 10100, 'вооружиться': 10101, 'оксана': 10102, 'удобоваримый': 10103, 'отменный': 10104, 'выталкивать': 10105, 'осуждать': 10106, 'налегке': 10107, 'законопатить': 10108, 'подключаться': 10109, 'изящный': 10110, 'творожный': 10111, 'стык': 10112, 'личность': 10113, 'настенный': 10114, 'ледовый': 10115, 'расплакаться': 10116, 'кура': 10117, 'смешить': 10118, 'оргтехника': 10119, 'подносик': 10120, 'натыкаться': 10121, 'поплатиться': 10122, 'отрываться': 10123, 'запрограммировать': 10124, 'листок': 10125, 'сторожить': 10126, 'справедливость': 10127, 'грызня': 10128, 'возможность': 10129, 'целое': 10130, 'сантехник': 10131, 'намерить': 10132, 'словарный': 10133, 'ночничок': 10134, 'водица': 10135, 'мышонок': 10136, 'свадьба': 10137, 'туговато': 10138, 'перегреть': 10139, 'упаковать': 10140, 'приверженец': 10141, 'коридор': 10142, 'конурка': 10143, 'придумывать': 10144, 'едкий': 10145, 'русалка': 10146, 'олег': 10147, 'мимо': 10148, 'брокколи': 10149, 'ходуном': 10150, 'скромный': 10151, 'объезжать': 10152, 'потечь': 10153, 'толщина': 10154, 'феерический': 10155, 'череда': 10156, 'снос': 10157, 'жить': 10158, 'пожизненно': 10159, 'невообразимый': 10160, 'вскидка': 10161, 'гарантия': 10162, 'глубокий': 10163, 'обеспечиваться': 10164, 'фишка': 10165, 'сигарета': 10166, 'критиковать': 10167, 'затруднять': 10168, 'бинокль': 10169, 'намаз': 10170, 'опьянение': 10171, 'поиск': 10172, 'сладкоежка': 10173, 'ванная': 10174, 'немедленный': 10175, 'вселить': 10176, 'гарантировать': 10177, 'ремесленный': 10178, 'кибитка': 10179, 'поспорить': 10180, 'бампер': 10181, 'позорный': 10182, 'попросту': 10183, 'фарш': 10184, 'налог': 10185, 'грязно': 10186, 'пайка': 10187, 'накрыться': 10188, 'стажёрка': 10189, 'вокзальный': 10190, 'волшебно': 10191, 'секретариат': 10192, 'заплатить': 10193, 'гарантироваться': 10194, 'прикидка': 10195, 'парус': 10196, 'кастелянша': 10197, 'потребовать': 10198, 'гармоничный': 10199, 'пожаловаться': 10200, 'апатичный': 10201, 'вылиться': 10202, 'испортить': 10203, 'овощ': 10204, 'неопрятный': 10205, 'полный': 10206, 'насекомое': 10207, 'водка': 10208, 'пром': 10209, 'морально': 10210, 'рим': 10211, 'назначение': 10212, 'аханье': 10213, 'швартоваться': 10214, 'кока': 10215, 'садиться': 10216, 'парка': 10217, 'товарищ': 10218, 'монополия': 10219, 'законченный': 10220, 'транс': 10221, 'уделать': 10222, 'гноить': 10223, 'джем': 10224, 'зелёный': 10225, 'воровство': 10226, 'африканец': 10227, 'демонстрировать': 10228, 'испортиться': 10229, 'изрядно': 10230, 'задвигаться': 10231, 'негазированный': 10232, 'углубление': 10233, 'целость': 10234, 'лир': 10235, 'финляндия': 10236, 'отстойник': 10237, 'загружаться': 10238, 'фраза': 10239, 'манеж': 10240, 'тина': 10241, 'гоготать': 10242, 'отчаянный': 10243, 'пёстрый': 10244, 'явный': 10245, 'номерочка': 10246, 'закупить': 10247, 'изъясниться': 10248, 'сахарница': 10249, 'погружать': 10250, 'оса': 10251, 'залом': 10252, 'жидко': 10253, 'аптечка': 10254, 'благовоние': 10255, 'сериал': 10256, 'диего': 10257, 'разрядиться': 10258, 'запихивать': 10259, 'запчасть': 10260, 'кинотеатр': 10261, 'бок': 10262, 'вишнёвый': 10263, 'мякоть': 10264, 'лениться': 10265, 'чей': 10266, 'ч': 10267, 'мойка': 10268, 'рогалик': 10269, 'исцарапать': 10270, 'комп': 10271, 'гест': 10272, 'авторемонтный': 10273, 'снизу': 10274, 'булка': 10275, 'клюнуть': 10276, 'ощутимо': 10277, 'методика': 10278, 'гренка': 10279, 'швеллер': 10280, 'трубка': 10281, 'ценитель': 10282, 'вмешательство': 10283, 'победный': 10284, 'переезд': 10285, 'перемещаться': 10286, 'талантливый': 10287, 'отнимать': 10288, 'ваза': 10289, 'обретать': 10290, 'разговор': 10291, 'близко': 10292, 'оговорить': 10293, 'клоповник': 10294, 'изъясняться': 10295, 'оставлять': 10296, 'включая': 10297, 'половица': 10298, 'аскетичный': 10299, 'форма': 10300, 'взрыв': 10301, 'проигрывать': 10302, 'портиться': 10303, 'хамовато': 10304, 'затемно': 10305, 'мхатовский': 10306, 'кондитер': 10307, 'заговаривать': 10308, 'канатка': 10309, 'получение': 10310, 'поразмышлять': 10311, 'воскресение': 10312, 'паром': 10313, 'помочь': 10314, 'брюки': 10315, 'отлавливать': 10316, 'париться': 10317, 'ступать': 10318, 'барахло': 10319, 'предмет': 10320, 'прибаутка': 10321, 'основа': 10322, 'пятёрка': 10323, 'баск': 10324, 'подзывать': 10325, 'общительный': 10326, 'алан': 10327, 'аллергик': 10328, 'северный': 10329, 'болтунья': 10330, 'перпендикулярный': 10331, 'однако': 10332, 'скоро': 10333, 'башмачок': 10334, 'ложка': 10335, 'канат': 10336, 'банальный': 10337, 'воображение': 10338, 'площ': 10339, 'алла': 10340, 'украсть': 10341, 'решительно': 10342, 'капсульный': 10343, 'раздать': 10344, 'накипеть': 10345, 'наводка': 10346, 'половик': 10347, 'поминать': 10348, 'хитро': 10349, 'мозг': 10350, 'скреститься': 10351, 'соцреализм': 10352, 'оттого': 10353, 'откидной': 10354, 'закон': 10355, 'ударить': 10356, 'притирка': 10357, 'всероссийский': 10358, 'каталония': 10359, 'запомнить': 10360, 'булавка': 10361, 'предназначить': 10362, 'надавить': 10363, 'дипломный': 10364, 'тридцатый': 10365, 'выворачиваться': 10366, 'идеальный': 10367, 'нежели': 10368, 'розовый': 10369, 'случать': 10370, 'дружить': 10371, 'смотровой': 10372, 'набережная': 10373, 'безоговорочно': 10374, 'засесть': 10375, 'сумасшедший': 10376, 'выпить': 10377, 'оказаться': 10378, 'благодарность': 10379, 'звучный': 10380, 'номерной': 10381, 'надпись': 10382, 'временной': 10383, 'ди': 10384, 'беспричинно': 10385, 'выноситься': 10386, 'смягчить': 10387, 'проруха': 10388, 'пробиться': 10389, 'определяться': 10390, 'кустик': 10391, 'замёрзлый': 10392, 'регулировать': 10393, 'филателист': 10394, 'взятка': 10395, 'распорядиться': 10396, 'хлипкий': 10397, 'отрыжка': 10398, 'каталонский': 10399, 'роща': 10400, 'процветание': 10401, 'шеф': 10402, 'основательно': 10403, 'дискомфортный': 10404, 'познакомиться': 10405, 'сыграть': 10406, 'выкрасть': 10407, 'выселяться': 10408, 'квартирный': 10409, 'разгружаться': 10410, 'красоваться': 10411, 'плац': 10412, 'яркий': 10413, 'переорать': 10414, 'отстойный': 10415, 'широкополосный': 10416, 'юрий': 10417, 'очищаться': 10418, 'утолить': 10419, 'отремонтировать': 10420, 'расплачиваться': 10421, 'беззаботно': 10422, 'замучиться': 10423, 'обшарпать': 10424, 'гроб': 10425, 'знакомый': 10426, 'выговор': 10427, 'экзотический': 10428, 'впятером': 10429, 'продаваться': 10430, 'взлетать': 10431, 'путешествие': 10432, 'выбраться': 10433, 'жена': 10434, 'выставлять': 10435, 'отблагодарить': 10436, 'выключать': 10437, 'диагноз': 10438, 'мрачно': 10439, 'оказываться': 10440, 'игристый': 10441, 'художественный': 10442, 'виноград': 10443, 'таз': 10444, 'балдахин': 10445, 'плазма': 10446, 'петровский': 10447, 'подметать': 10448, 'выветриваться': 10449, 'заменитель': 10450, 'хилтон': 10451, 'говорить': 10452, 'дверца': 10453, 'нехороший': 10454, 'ранее': 10455, 'налаживаться': 10456, 'тыкать': 10457, 'умилить': 10458, 'резиденция': 10459, 'бетоноукладчик': 10460, 'боксёр': 10461, 'пыль': 10462, 'обеспечительный': 10463, 'маркетолог': 10464, 'боль': 10465, 'звезда': 10466, 'вековой': 10467, 'крепко': 10468, 'ошпариться': 10469, 'передвижение': 10470, 'вольный': 10471, 'заработать': 10472, 'окоченелый': 10473, 'расписываться': 10474, 'неделька': 10475, 'хлебный': 10476, 'неудовлетворение': 10477, 'репертуар': 10478, 'пугливый': 10479, 'регистрироваться': 10480, 'угрожать': 10481, 'выгул': 10482, 'пасся': 10483, 'малярный': 10484, 'мягкий': 10485, 'эффект': 10486, 'хлебобулочный': 10487, 'щёлкать': 10488, 'кремль': 10489, 'выкупить': 10490, 'электричка': 10491, 'дверь': 10492, 'толстовка': 10493, 'цепочка': 10494, 'вмещать': 10495, 'нагрузить': 10496, 'горох': 10497, 'приморский': 10498, 'гитарист': 10499, 'неопрятно': 10500, 'надежда': 10501, 'присмотреться': 10502, 'кризис': 10503, 'замазать': 10504, 'констанца': 10505, 'вручную': 10506, 'разъярённый': 10507, 'люба': 10508, 'неизвестный': 10509, 'понизить': 10510, 'написание': 10511, 'коктейль': 10512, 'зачастую': 10513, 'видать': 10514, 'богатеть': 10515, 'свет': 10516, 'причастность': 10517, 'ин': 10518, 'даваться': 10519, 'слабонервный': 10520, 'тронутый': 10521, 'лестница': 10522, 'пульман': 10523, 'угробить': 10524, 'картофельный': 10525, 'аритмия': 10526, 'тканевый': 10527, 'пополнить': 10528, 'карабкаться': 10529, 'невкусный': 10530, 'отдалить': 10531, 'допрос': 10532, 'давить': 10533, 'задумчивый': 10534, 'проспект': 10535, 'маловатый': 10536, 'голосистый': 10537, 'шкурка': 10538, 'регби': 10539, 'причал': 10540, 'скушать': 10541, 'дурацки': 10542, 'староватый': 10543, 'припугнуть': 10544, 'довершение': 10545, 'отрыть': 10546, 'заводиться': 10547, 'блистательный': 10548, 'длинный': 10549, 'градус': 10550, 'догадливый': 10551, 'омерзительный': 10552, 'тормоз': 10553, 'наобум': 10554, 'бильярдный': 10555, 'заученный': 10556, 'предостеречь': 10557, 'жутко': 10558, 'жестяной': 10559, 'вента': 10560, 'трезвый': 10561, 'старый': 10562, 'сухо': 10563, 'нырнуть': 10564, 'погудеть': 10565, 'последователь': 10566, 'некто': 10567, 'словакия': 10568, 'конфорка': 10569, 'прокиснуть': 10570, 'намагнитить': 10571, 'нелегальный': 10572, 'домашний': 10573, 'посменно': 10574, 'заманчивый': 10575, 'специалист': 10576, 'смешливый': 10577, 'снежок': 10578, 'непроницаемый': 10579, 'стажёр': 10580, 'сервироваться': 10581, 'пирог': 10582, 'сортир': 10583, 'чаровать': 10584, 'подытоживаться': 10585, 'выписка': 10586, 'перегораживать': 10587, 'задолго': 10588, 'подскользнуться': 10589, 'выступ': 10590, 'численный': 10591, 'нежаркий': 10592, 'разбег': 10593, 'волноваться': 10594, 'подсвечиваться': 10595, 'уважать': 10596, 'часик': 10597, 'ай': 10598, 'перетянуть': 10599, 'таксист': 10600, 'спонтанно': 10601, 'атрибутика': 10602, 'бессмысленно': 10603, 'расстаться': 10604, 'огибать': 10605, 'брызги': 10606, 'вагон': 10607, 'ночёвка': 10608, 'проконтролировать': 10609, 'проноситься': 10610, 'маразм': 10611, 'красота': 10612, 'двухуровневый': 10613, 'травма': 10614, 'марти': 10615, 'оазис': 10616, 'девять': 10617, 'фигурный': 10618, 'св': 10619, 'голландский': 10620, 'манипулировать': 10621, 'ой': 10622, 'авария': 10623, 'склад': 10624, 'привлечь': 10625, 'инвестировать': 10626, 'сфера': 10627, 'отделочный': 10628, 'сбивать': 10629, 'доукомплектовать': 10630, 'разрешиться': 10631, 'яхта': 10632, 'останкинский': 10633, 'полигон': 10634, 'частенько': 10635, 'корона': 10636, 'самоуправство': 10637, 'идентификация': 10638, 'сегмент': 10639, 'потеснить': 10640, 'чудесница': 10641, 'поговорка': 10642, 'молниеносно': 10643, 'работоспособность': 10644, 'наглядный': 10645, 'эдак': 10646, 'сингл': 10647, 'керамика': 10648, 'планк': 10649, 'буфетный': 10650, 'свеча': 10651, 'территориальный': 10652, 'искусственный': 10653, 'утка': 10654, 'перечёркивать': 10655, 'тенденция': 10656, 'управляться': 10657, 'план': 10658, 'хотеть': 10659, 'предвосхищать': 10660, 'старший': 10661, 'привет': 10662, 'подмелить': 10663, 'изобрести': 10664, 'битый': 10665, 'благодарный': 10666, 'мвд': 10667, 'норильск': 10668, 'мошенничество': 10669, 'заботить': 10670, 'касаемо': 10671, 'акробатический': 10672, 'выслушать': 10673, 'сказочно': 10674, 'загар': 10675, 'выкидывать': 10676, 'полнота': 10677, 'интерфейс': 10678, 'обманчивый': 10679, 'широкоугольный': 10680, 'мес': 10681, 'побриться': 10682, 'мармеладный': 10683, 'сотовый': 10684, 'подходящий': 10685, 'мартини': 10686, 'официант': 10687, 'искусство': 10688, 'фин': 10689, 'скамеечка': 10690, 'зоологический': 10691, 'известковый': 10692, 'нерадостный': 10693, 'основный': 10694, 'спасать': 10695, 'экспертиза': 10696, 'мышца': 10697, 'перешагивать': 10698, 'обогатиться': 10699, 'винишко': 10700, 'вообще': 10701, 'средиземноморский': 10702, 'специализироваться': 10703, 'акустика': 10704, 'развить': 10705, 'неисправность': 10706, 'перечитать': 10707, 'увиливать': 10708, 'столовая': 10709, 'недоразумение': 10710, 'ошибочно': 10711, 'радуга': 10712, 'автобусик': 10713, 'сознание': 10714, 'глубоко': 10715, 'хозяйственный': 10716, 'плаз': 10717, 'подогрев': 10718, 'тюбик': 10719, 'хлорка': 10720, 'лёжа': 10721, 'засилье': 10722, 'социально': 10723, 'щебет': 10724, 'конкретно': 10725, 'фотокамера': 10726, 'доисторический': 10727, 'уходить': 10728, 'рот': 10729, 'однообразность': 10730, 'ошпаривать': 10731, 'причинять': 10732, 'значиться': 10733, 'вверх': 10734, 'бабушкин': 10735, 'любительница': 10736, 'вырубать': 10737, 'искомое': 10738, 'неизменный': 10739, 'накрываться': 10740, 'фотографирование': 10741, 'заповедник': 10742, 'задание': 10743, 'протёртый': 10744, 'эксклюзивный': 10745, 'плавать': 10746, 'заштатный': 10747, 'восток': 10748, 'стерильность': 10749, 'автотрасса': 10750, 'врубать': 10751, 'ломать': 10752, 'убраться': 10753, 'шестилетний': 10754, 'лаконично': 10755, 'удаваться': 10756, 'преувеличивать': 10757, 'самодельный': 10758, 'подписывать': 10759, 'принудить': 10760, 'слюна': 10761, 'курорт': 10762, 'обветриться': 10763, 'кровососущий': 10764, 'докучать': 10765, 'поиздеваться': 10766, 'торшер': 10767, 'ценный': 10768, 'скрутка': 10769, 'разглаживать': 10770, 'доверять': 10771, 'завести': 10772, 'рискнуть': 10773, 'исчезновение': 10774, 'троп': 10775, 'негерметичный': 10776, 'пакетировать': 10777, 'шик': 10778, 'ель': 10779, 'распределить': 10780, 'расположенность': 10781, 'слететь': 10782, 'баснословный': 10783, 'вегетарианка': 10784, 'отказываться': 10785, 'безвыходность': 10786, 'противоположность': 10787, 'дважды': 10788, 'лояльность': 10789, 'красить': 10790, 'миновать': 10791, 'повеление': 10792, 'прохладно': 10793, 'солёный': 10794, 'нормаль': 10795, 'врач': 10796, 'замена': 10797, 'кг': 10798, 'невозможный': 10799, 'реагировать': 10800, 'мочить': 10801, 'кучерявый': 10802, 'обольщаться': 10803, 'тикать': 10804, 'затормозить': 10805, 'подключать': 10806, 'перебор': 10807, 'основание': 10808, 'автопробег': 10809, 'стекать': 10810, 'опрятный': 10811, 'восхитить': 10812, 'непорядочный': 10813, 'спасться': 10814, 'ша': 10815, 'воскр': 10816, 'полова': 10817, 'нелегко': 10818, 'пострадать': 10819, 'пьяцца': 10820, 'паровозик': 10821, 'правительство': 10822, 'профилакторий': 10823, 'ужасающий': 10824, 'непонимание': 10825, 'пивная': 10826, 'любим': 10827, 'рассмотреть': 10828, 'перепланировать': 10829, 'представление': 10830, 'посвятить': 10831, 'прозаичный': 10832, 'добывать': 10833, 'маврикий': 10834, 'кепка': 10835, 'дёрганый': 10836, 'единогласно': 10837, 'лужа': 10838, 'недельный': 10839, 'ресторанчик': 10840, 'акционер': 10841, 'убитость': 10842, 'просматриваться': 10843, 'бельгия': 10844, 'пригород': 10845, 'бедолага': 10846, 'выключиться': 10847, 'бескомпромиссно': 10848, 'смазать': 10849, 'гребешок': 10850, 'каста': 10851, 'технология': 10852, 'клеёнчатый': 10853, 'натягивать': 10854, 'подрядный': 10855, 'бочка': 10856, 'олицетворять': 10857, 'хладнокровный': 10858, 'развлекаловка': 10859, 'вьетнамка': 10860, 'вытаскивать': 10861, 'негодный': 10862, 'встроить': 10863, 'приносить': 10864, 'хвалить': 10865, 'успешность': 10866, 'послужить': 10867, 'нева': 10868, 'малокалорийный': 10869, 'порожек': 10870, 'беспощадный': 10871, 'копоть': 10872, 'каморка': 10873, 'цвести': 10874, 'смахивать': 10875, 'указ': 10876, 'прогнить': 10877, 'освобождать': 10878, 'копание': 10879, 'казанский': 10880, 'платиновый': 10881, 'швед': 10882, 'звучащий': 10883, 'стяжка': 10884, 'декорация': 10885, 'доклад': 10886, 'роскош': 10887, 'продлить': 10888, 'сигарный': 10889, 'помпезно': 10890, 'концепт': 10891, 'согласовать': 10892, 'подложка': 10893, 'стартовый': 10894, 'успеть': 10895, 'нерезкий': 10896, 'шоу': 10897, 'презентационный': 10898, 'вырезать': 10899, 'сожалеть': 10900, 'дверной': 10901, 'какофония': 10902, 'проинтегрировать': 10903, 'ярмарка': 10904, 'обследоваться': 10905, 'итальянск': 10906, 'писец': 10907, 'подбегать': 10908, 'снизойти': 10909, 'бамбук': 10910, 'насыщенность': 10911, 'кармашек': 10912, 'штришок': 10913, 'душный': 10914, 'мужчина': 10915, 'неглиже': 10916, 'предприимчивый': 10917, 'санкт': 10918, 'уточнить': 10919, 'походить': 10920, 'форель': 10921, 'яблочко': 10922, 'чартер': 10923, 'плевок': 10924, 'бесспорный': 10925, 'ручьём': 10926, 'известный': 10927, 'мрачность': 10928, 'нечёткий': 10929, 'концерт': 10930, 'эпоксидный': 10931, 'двухместный': 10932, 'гудеть': 10933, 'выдерживаться': 10934, 'борный': 10935, 'притык': 10936, 'свобода': 10937, 'обеднеть': 10938, 'иммигрант': 10939, 'арендовать': 10940, 'миссис': 10941, 'ранимый': 10942, 'справиться': 10943, 'светло': 10944, 'печёнка': 10945, 'низкокачественный': 10946, 'турецкий': 10947, 'фрагмент': 10948, 'двусторонний': 10949, 'неправый': 10950, 'пунктуальность': 10951, 'документация': 10952, 'сообщить': 10953, 'дурно': 10954, 'заменяться': 10955, 'кувшин': 10956, 'прибыль': 10957, 'класться': 10958, 'кухонька': 10959, 'барахлить': 10960, 'дремучий': 10961, 'инстинкт': 10962, 'выполнимый': 10963, 'одноимённый': 10964, 'похожий': 10965, 'формировать': 10966, 'сердиться': 10967, 'солянка': 10968, 'бутиловый': 10969, 'наполняться': 10970, 'хорошо': 10971, 'пересадочный': 10972, 'оттуда': 10973, 'скомпоновать': 10974, 'кладовая': 10975, 'риал': 10976, 'бесцельный': 10977, 'сенатский': 10978, 'прессовать': 10979, 'навсегда': 10980, 'перевалить': 10981, 'никакой': 10982, 'повелитель': 10983, 'расчётный': 10984, 'печень': 10985, 'раздеться': 10986, 'разбивать': 10987, 'гаденький': 10988, 'вложить': 10989, 'естественно': 10990, 'заселять': 10991, 'продукция': 10992, 'погрузиться': 10993, 'кабинка': 10994, 'шашлычный': 10995, 'нло': 10996, 'смерить': 10997, 'внимательность': 10998, 'отражать': 10999, 'нечестно': 11000, 'неохотный': 11001, 'вместительный': 11002, 'бедро': 11003, 'некорректно': 11004, 'штраф': 11005, 'констатация': 11006, 'дескать': 11007, 'огрызаться': 11008, 'выкладывать': 11009, 'взамен': 11010, 'непривычка': 11011, 'внешний': 11012, 'двойной': 11013, 'наличествовать': 11014, 'дипломатический': 11015, 'возить': 11016, 'невзирая': 11017, 'бессмысленность': 11018, 'застарелость': 11019, 'даром': 11020, 'дополнить': 11021, 'звукопроницаемость': 11022, 'доезжать': 11023, 'комильфо': 11024, 'покусать': 11025, 'мерцать': 11026, 'отпечататься': 11027, 'итак': 11028, 'польза': 11029, 'приобретение': 11030, 'недоумение': 11031, 'обслуживающий': 11032, 'марьино': 11033, 'навязать': 11034, 'переживание': 11035, 'ла': 11036, 'катастрофичный': 11037, 'белок': 11038, 'спать': 11039, 'вырубаться': 11040, 'помыться': 11041, 'крепление': 11042, 'лонжа': 11043, 'пятничный': 11044, 'беда': 11045, 'легенда': 11046, 'вкрапление': 11047, 'противоположно': 11048, 'разгонять': 11049, 'полотенца': 11050, 'хозяйский': 11051, 'исписать': 11052, 'возлюбить': 11053, 'велотренажёр': 11054, 'наладить': 11055, 'беспроблемный': 11056, 'обрабатываться': 11057, 'сортимент': 11058, 'претендент': 11059, 'мешочек': 11060, 'накопительный': 11061, 'проведение': 11062, 'долбёжка': 11063, 'пончик': 11064, 'времяпровождение': 11065, 'непрезентабельный': 11066, 'вносить': 11067, 'проводиться': 11068, 'пьеса': 11069, 'хаотичный': 11070, 'незатейливый': 11071, 'глушить': 11072, 'капризный': 11073, 'высветиться': 11074, 'десерт': 11075, 'рота': 11076, 'вымогание': 11077, 'дикарь': 11078, 'проживать': 11079, 'усеять': 11080, 'справляться': 11081, 'талон': 11082, 'птица': 11083, 'посередине': 11084, 'повоевать': 11085, 'работодатель': 11086, 'обсчёт': 11087, 'блендер': 11088, 'вить': 11089, 'подстаканник': 11090, 'замечание': 11091, 'тёртый': 11092, 'кофе': 11093, 'ритм': 11094, 'дошагать': 11095, 'заплевать': 11096, 'лена': 11097, 'подзабыть': 11098, 'парковка': 11099, 'переключить': 11100, 'заграницей': 11101, 'итог': 11102, 'всетаки': 11103, 'лечиться': 11104, 'нехитрый': 11105, 'красноречие': 11106, 'бас': 11107, 'одноразовый': 11108, 'достижимый': 11109, 'неограниченный': 11110, 'официальный': 11111, 'крашеный': 11112, 'тухнуть': 11113, 'смесь': 11114, 'полномочие': 11115, 'вперёд': 11116, 'буклет': 11117, 'сухарь': 11118, 'философски': 11119, 'полететь': 11120, 'потовыделение': 11121, 'раскидываться': 11122, 'дорожный': 11123, 'морской': 11124, 'буйный': 11125, 'непонимающий': 11126, 'корица': 11127, 'древний': 11128, 'пуф': 11129, 'автомашина': 11130, 'захлопываться': 11131, 'тонировка': 11132, 'духота': 11133, 'водонагреватель': 11134, 'дальний': 11135, 'раскладка': 11136, 'акцентировать': 11137, 'препятствие': 11138, 'моросить': 11139, 'просидеть': 11140, 'просмотр': 11141, 'подсаживаться': 11142, 'прихожанка': 11143, 'ослабление': 11144, 'выпивка': 11145, 'пластырь': 11146, 'важно': 11147, 'акцепт': 11148, 'намаяться': 11149, 'брюхо': 11150, 'ни': 11151, 'строго': 11152, 'любезничать': 11153, 'порубить': 11154, 'столица': 11155, 'презент': 11156, 'экран': 11157, 'прочь': 11158, 'прощальный': 11159, 'славиться': 11160, 'тайна': 11161, 'флаг': 11162, 'микро': 11163, 'сдвигать': 11164, 'отмыться': 11165, 'отходняк': 11166, 'одеваться': 11167, 'резюме': 11168, 'отметка': 11169, 'выполнить': 11170, 'всякий': 11171, 'обратить': 11172, 'звонкий': 11173, 'истощение': 11174, 'ручной': 11175, 'желательный': 11176, 'космос': 11177, 'ангина': 11178, 'комфортно': 11179, 'мгновение': 11180, 'напортачить': 11181, 'раскормить': 11182, 'закрывание': 11183, 'расстраиваться': 11184, 'управленческий': 11185, 'проездной': 11186, 'упоминать': 11187, 'запихать': 11188, 'гум': 11189, 'кидать': 11190, 'надвигаться': 11191, 'мягко': 11192, 'рафаэль': 11193, 'вначале': 11194, 'циновка': 11195, 'переговоры': 11196, 'отколоть': 11197, 'залазить': 11198, 'впредь': 11199, 'вкупе': 11200, 'киоск': 11201, 'справедливо': 11202, 'выраженный': 11203, 'олень': 11204, 'среагировать': 11205, 'блудить': 11206, 'добросовестно': 11207, 'линолеум': 11208, 'переться': 11209, 'зазвонить': 11210, 'отбойник': 11211, 'слежение': 11212, 'шипящий': 11213, 'накручивать': 11214, 'хитрость': 11215, 'неожиданно': 11216, 'появление': 11217, 'умереть': 11218, 'волочить': 11219, 'сосна': 11220, 'колочение': 11221, 'отместка': 11222, 'новость': 11223, 'весы': 11224, 'кратковременный': 11225, 'полый': 11226, 'свихнуться': 11227, 'никуда': 11228, 'маман': 11229, 'отснять': 11230, 'заря': 11231, 'резьба': 11232, 'контролироваться': 11233, 'лимонад': 11234, 'десятка': 11235, 'непрофессионал': 11236, 'пропускать': 11237, 'заслуга': 11238, 'азимут': 11239, 'эскортный': 11240, 'спереди': 11241, 'пятидневный': 11242, 'скаредный': 11243, 'заметить': 11244, 'улыбка': 11245, 'оконце': 11246, 'светлана': 11247, 'павильон': 11248, 'лакуна': 11249, 'чёрствый': 11250, 'полицейский': 11251, 'подбежать': 11252, 'конкуренция': 11253, 'админ': 11254, 'москитный': 11255, 'настороженный': 11256, 'согласие': 11257, 'душевность': 11258, 'прельщать': 11259, 'сдуваться': 11260, 'нестарый': 11261, 'неухоженный': 11262, 'выловить': 11263, 'частота': 11264, 'ищейка': 11265, 'суббота': 11266, 'подаваться': 11267, 'упаковка': 11268, 'огораживаться': 11269, 'буффало': 11270, 'ванна': 11271, 'носиться': 11272, 'удобство': 11273, 'бронирование': 11274, 'отложить': 11275, 'безответственный': 11276, 'вожделеть': 11277, 'божественный': 11278, 'начинаться': 11279, 'самовар': 11280, 'устранить': 11281, 'непрочный': 11282, 'трогательный': 11283, 'кукуруза': 11284, 'аллилуйя': 11285, 'приехать': 11286, 'жульничать': 11287, 'безобразно': 11288, 'связанный': 11289, 'отсюда': 11290, 'обить': 11291, 'махнуть': 11292, 'доить': 11293, 'филе': 11294, 'агар': 11295, 'найтись': 11296, 'модно': 11297, 'толстый': 11298, 'глазок': 11299, 'закутаться': 11300, 'кривая': 11301, 'юбилей': 11302, 'вертушка': 11303, 'караул': 11304, 'смехотворный': 11305, 'кусочек': 11306, 'попугайчик': 11307, 'скинуть': 11308, 'передавать': 11309, 'неактивный': 11310, 'вылавливать': 11311, 'калифорния': 11312, 'рассовываться': 11313, 'враньё': 11314, 'неохотно': 11315, 'проспать': 11316, 'стряхивать': 11317, 'робот': 11318, 'хранилище': 11319, 'смелость': 11320, 'протяжение': 11321, 'непременно': 11322, 'спецодежда': 11323, 'неискоренимый': 11324, 'ассорти': 11325, 'наполнить': 11326, 'добротно': 11327, 'намертво': 11328, 'ребятки': 11329, 'поднимать': 11330, 'безликий': 11331, 'выдавать': 11332, 'саранча': 11333, 'выгодный': 11334, 'завалить': 11335, 'блаженство': 11336, 'фойе': 11337, 'психануть': 11338, 'собственноручно': 11339, 'штамп': 11340, 'спроектировать': 11341, 'поджарка': 11342, 'придорожный': 11343, 'представленный': 11344, 'мелок': 11345, 'автомат': 11346, 'присвоить': 11347, 'вибрировать': 11348, 'ребята': 11349, 'семидесятый': 11350, 'побуждать': 11351, 'дурить': 11352, 'скудно': 11353, 'покраснеть': 11354, 'приоритетный': 11355, 'псих': 11356, 'переселяться': 11357, 'коммерческий': 11358, 'доставляться': 11359, 'индус': 11360, 'размышлять': 11361, 'достаток': 11362, 'коридорчик': 11363, 'шок': 11364, 'приёмчик': 11365, 'насос': 11366, 'перемешиваться': 11367, 'невнимательность': 11368, 'отвезти': 11369, 'искусать': 11370, 'привести': 11371, 'пинать': 11372, 'алекс': 11373, 'хватиться': 11374, 'модифицировать': 11375, 'осенний': 11376, 'осьминог': 11377, 'молиться': 11378, 'го': 11379, 'кожаный': 11380, 'коврик': 11381, 'лужица': 11382, 'аккуратный': 11383, 'затор': 11384, 'покурить': 11385, 'ободрать': 11386, 'намечать': 11387, 'ре': 11388, 'королева': 11389, 'подпол': 11390, 'индиго': 11391, 'задобрить': 11392, 'ужастик': 11393, 'ничегошеньки': 11394, 'незлобный': 11395, 'красться': 11396, 'атмосфера': 11397, 'бугор': 11398, 'карандаш': 11399, 'короче': 11400, 'взглянуть': 11401, 'рой': 11402, 'исламский': 11403, 'разнервничаться': 11404, 'сметать': 11405, 'богатый': 11406, 'прослеживаться': 11407, 'доработка': 11408, 'купол': 11409, 'испепелять': 11410, 'доедать': 11411, 'ветерок': 11412, 'падать': 11413, 'рацион': 11414, 'находиться': 11415, 'морковка': 11416, 'срастить': 11417, 'беспредел': 11418, 'посчитать': 11419, 'досушивать': 11420, 'думаться': 11421, 'обменный': 11422, 'обувной': 11423, 'загрязнить': 11424, 'крановый': 11425, 'побороть': 11426, 'юридический': 11427, 'допросить': 11428, 'основной': 11429, 'возиться': 11430, 'намочить': 11431, 'плакат': 11432, 'кузнечик': 11433, 'журналистка': 11434, 'беседа': 11435, 'щиток': 11436, 'судить': 11437, 'воробей': 11438, 'эстетично': 11439, 'возражение': 11440, 'электризоваться': 11441, 'шерстяной': 11442, 'прачечная': 11443, 'интуиция': 11444, 'бабулька': 11445, 'турфирма': 11446, 'восхищение': 11447, 'раздробить': 11448, 'заветренный': 11449, 'кривой': 11450, 'двинуться': 11451, 'травяной': 11452, 'позвать': 11453, 'наблюдаться': 11454, 'курительный': 11455, 'йог': 11456, 'битва': 11457, 'итоговый': 11458, 'солнышко': 11459, 'выгородить': 11460, 'долл': 11461, 'подпортиться': 11462, 'быт': 11463, 'базовый': 11464, 'запрыгнуть': 11465, 'скосить': 11466, 'обезопасить': 11467, 'департамент': 11468, 'чушь': 11469, 'мультик': 11470, 'налево': 11471, 'скандалить': 11472, 'обновлять': 11473, 'домофон': 11474, 'легендарный': 11475, 'мотоцикл': 11476, 'попортить': 11477, 'предвзятость': 11478, 'хозяйски': 11479, 'прачечный': 11480, 'блестеть': 11481, 'обходить': 11482, 'пускать': 11483, 'кипятить': 11484, 'абонемент': 11485, 'быльё': 11486, 'клок': 11487, 'уезжать': 11488, 'гурман': 11489, 'мансарда': 11490, 'суметь': 11491, 'очарование': 11492, 'всплывать': 11493, 'ощутимый': 11494, 'обстановка': 11495, 'выводиться': 11496, 'брейк': 11497, 'прогулка': 11498, 'отвести': 11499, 'фонтан': 11500, 'поделиться': 11501, 'отдельность': 11502, 'грудка': 11503, 'незваный': 11504, 'мадейра': 11505, 'лобковый': 11506, 'индифферентный': 11507, 'случайность': 11508, 'раздирать': 11509, 'вприпрыжку': 11510, 'насколько': 11511, 'восточный': 11512, 'невольно': 11513, 'неоднозначно': 11514, 'абсурдный': 11515, 'гадость': 11516, 'великобритания': 11517, 'куртка': 11518, 'развлекаться': 11519, 'голубеть': 11520, 'путать': 11521, 'бронировка': 11522, 'жизненно': 11523, 'дебетовый': 11524, 'рождество': 11525, 'иерусалим': 11526, 'пересечение': 11527, 'нотка': 11528, 'подоспеть': 11529, 'водный': 11530, 'авторский': 11531, 'привередливый': 11532, 'мода': 11533, 'культурно': 11534, 'наматывать': 11535, 'ночлег': 11536, 'мыш': 11537, 'пожарить': 11538, 'испытать': 11539, 'икра': 11540, 'печение': 11541, 'подмачивать': 11542, 'шереметьево': 11543, 'дочка': 11544, 'косточка': 11545, 'заедать': 11546, 'блиц': 11547, 'майн': 11548, 'рисовать': 11549, 'почувствовать': 11550, 'семантика': 11551, 'расплата': 11552, 'нанять': 11553, 'вышка': 11554, 'тайский': 11555, 'ля': 11556, 'приспособить': 11557, 'освоить': 11558, 'послышаться': 11559, 'дальность': 11560, 'обособленно': 11561, 'меря': 11562, 'проявлять': 11563, 'ранний': 11564, 'неохота': 11565, 'запах': 11566, 'ставень': 11567, 'кошелёк': 11568, 'сделан': 11569, 'разрекламировать': 11570, 'обделать': 11571, 'дать': 11572, 'отвращение': 11573, 'солдат': 11574, 'недолгий': 11575, 'испачкаться': 11576, 'суровый': 11577, 'чувство': 11578, 'ариадна': 11579, 'однажды': 11580, 'довольно': 11581, 'вместо': 11582, 'объятие': 11583, 'мешаться': 11584, 'неторопливо': 11585, 'пёсий': 11586, 'наедине': 11587, 'разрушение': 11588, 'пережить': 11589, 'стирать': 11590, 'фант': 11591, 'отделение': 11592, 'период': 11593, 'разогреть': 11594, 'запустить': 11595, 'советь': 11596, 'сворачиваться': 11597, 'трущоба': 11598, 'улаживание': 11599, 'всемирно': 11600, 'трое': 11601, 'освежительный': 11602, 'понравиться': 11603, 'фартук': 11604, 'глобальный': 11605, 'продумать': 11606, 'жало': 11607, 'обследовать': 11608, 'знающий': 11609, 'прилипала': 11610, 'звукоизоляционный': 11611, 'сопоставить': 11612, 'алтай': 11613, 'рынок': 11614, 'обсчитать': 11615, 'умеренный': 11616, 'бедноватый': 11617, 'шаткий': 11618, 'плазменный': 11619, 'сладость': 11620, 'окунуться': 11621, 'колонна': 11622, 'ужасный': 11623, 'раздаться': 11624, 'переодеваться': 11625, 'третий': 11626, 'весело': 11627, 'перегибать': 11628, 'обтрепать': 11629, 'скрипеть': 11630, 'пересидеть': 11631, 'доносить': 11632, 'озарять': 11633, 'христос': 11634, 'заболевание': 11635, 'попахивать': 11636, 'загорание': 11637, 'умный': 11638, 'убедить': 11639, 'натаскаться': 11640, 'укусить': 11641, 'срочно': 11642, 'въехать': 11643, 'полуоткрытый': 11644, 'салон': 11645, 'троллейбус': 11646, 'истекший': 11647, 'безупречно': 11648, 'спросонья': 11649, 'доработать': 11650, 'каюта': 11651, 'эмблема': 11652, 'познавать': 11653, 'педант': 11654, 'повестись': 11655, 'галдеть': 11656, 'временами': 11657, 'кв': 11658, 'вытирать': 11659, 'прятаться': 11660, 'восстание': 11661, 'закрасться': 11662, 'диванчик': 11663, 'поскрипывать': 11664, 'мусорщик': 11665, 'кивок': 11666, 'мах': 11667, 'дочерний': 11668, 'несчастие': 11669, 'неуважительно': 11670, 'ловля': 11671, 'верещать': 11672, 'соблазн': 11673, 'накрывать': 11674, 'фига': 11675, 'спустя': 11676, 'трамвайный': 11677, 'ходить': 11678, 'пользование': 11679, 'уважительно': 11680, 'проектировка': 11681, 'учтивый': 11682, 'лицо': 11683, 'выходиться': 11684, 'сдвинуться': 11685, 'биологический': 11686, 'докладывать': 11687, 'примесь': 11688, 'ната': 11689, 'челове': 11690, 'невдомёк': 11691, 'ноутбук': 11692, 'доступность': 11693, 'прийти': 11694, 'разряжаться': 11695, 'глазунья': 11696, 'риф': 11697, 'катя': 11698, 'индикатор': 11699, 'разрешение': 11700, 'норовить': 11701, 'рыло': 11702, 'нерегулируемый': 11703, 'порядковый': 11704, 'смельчак': 11705, 'скверик': 11706, 'раздражающий': 11707, 'разруха': 11708, 'заминаться': 11709, 'соскучиться': 11710, 'хворост': 11711, 'гран': 11712, 'улита': 11713, 'столичный': 11714, 'индустриальный': 11715, 'обучить': 11716, 'заслуженно': 11717, 'современный': 11718, 'нетерпеливый': 11719, 'чудовищный': 11720, 'реанимировать': 11721, 'польститься': 11722, 'ученик': 11723, 'переврать': 11724, 'блокировать': 11725, 'преградить': 11726, 'сальвадор': 11727, 'объявлять': 11728, 'подряд': 11729, 'ткань': 11730, 'ограждение': 11731, 'уменьшать': 11732, 'невидимка': 11733, 'пробегать': 11734, 'обострение': 11735, 'конфетка': 11736, 'дурацкий': 11737, 'начеку': 11738, 'артишок': 11739, 'скол': 11740, 'метод': 11741, 'второстепенный': 11742, 'раздражаться': 11743, 'будни': 11744, 'деревенский': 11745, 'нада': 11746, 'сковывать': 11747, 'откусить': 11748, 'парень': 11749, 'осмотреться': 11750, 'одинарный': 11751, 'уйма': 11752, 'туповато': 11753, 'запечатлеть': 11754, 'лоскуток': 11755, 'допроситься': 11756, 'туалет': 11757, 'рыбный': 11758, 'умывальник': 11759, 'высылать': 11760, 'навеять': 11761, 'секретный': 11762, 'напольный': 11763, 'деск': 11764, 'наплыв': 11765, 'настойчивость': 11766, 'дедушкин': 11767, 'засада': 11768, 'безупречный': 11769, 'давать': 11770, 'защитный': 11771, 'занавес': 11772, 'сладковатый': 11773, 'домик': 11774, 'мэн': 11775, 'вытереться': 11776, 'неслаженный': 11777, 'высоченный': 11778, 'помешать': 11779, 'представиться': 11780, 'салун': 11781, 'время': 11782, 'двоить': 11783, 'присылать': 11784, 'выгонять': 11785, 'табурет': 11786, 'затруднение': 11787, 'стаканчик': 11788, 'криминальный': 11789, 'готовиться': 11790, 'попросить': 11791, 'паршивый': 11792, 'размяться': 11793, 'демонстративно': 11794, 'расслоиться': 11795, 'командировка': 11796, 'работница': 11797, 'хотель': 11798, 'хозяин': 11799, 'сладкое': 11800, 'командирский': 11801, 'ополаскивание': 11802, 'завариваться': 11803, 'оформить': 11804, 'капсюльный': 11805, 'водоэмульсионка': 11806, 'мятный': 11807, 'запираться': 11808, 'приходить': 11809, 'автомобильный': 11810, 'тактичный': 11811, 'оторваться': 11812, 'подстилка': 11813, 'завсегдатай': 11814, 'продлеваться': 11815, 'ибо': 11816, 'калининград': 11817, 'обозначение': 11818, 'ползти': 11819, 'мина': 11820, 'знойно': 11821, 'докопаться': 11822, 'закончить': 11823, 'солдатский': 11824, 'мозаичный': 11825, 'фон': 11826, 'компьютер': 11827, 'путеводитель': 11828, 'перепрыгивать': 11829, 'корчить': 11830, 'низ': 11831, 'зеркало': 11832, 'бордовый': 11833, 'специально': 11834, 'люкс': 11835, 'стерильный': 11836, 'погодка': 11837, 'теннисный': 11838, 'хризантема': 11839, 'ева': 11840, 'закидывать': 11841, 'известь': 11842, 'разъезжаться': 11843, 'полуобнажённый': 11844, 'монументальный': 11845, 'красивый': 11846, 'стационарный': 11847, 'доплачивать': 11848, 'застилка': 11849, 'пропорционально': 11850, 'плывун': 11851, 'транзитный': 11852, 'милиция': 11853, 'внедорожник': 11854, 'размах': 11855, 'лесополоса': 11856, 'патологический': 11857, 'вынудить': 11858, 'прервать': 11859, 'шестнадцать': 11860, 'центральный': 11861, 'юлия': 11862, 'тухлый': 11863, 'ночник': 11864, 'незаменимый': 11865, 'ангара': 11866, 'мышь': 11867, 'итого': 11868, 'оплата': 11869, 'вытряхнуть': 11870, 'поискать': 11871, 'прогорклый': 11872, 'гуманитарный': 11873, 'клятвенно': 11874, 'коврижка': 11875, 'вставлять': 11876, 'негласный': 11877, 'раздор': 11878, 'ленивый': 11879, 'капитальный': 11880, 'громкость': 11881, 'циркуляр': 11882, 'труба': 11883, 'подтверждать': 11884, 'обидеть': 11885, 'убыток': 11886, 'мучной': 11887, 'судья': 11888, 'неуловимый': 11889, 'неудачный': 11890, 'телячий': 11891, 'универсам': 11892, 'двенадцатый': 11893, 'оформление': 11894, 'обременительный': 11895, 'достойный': 11896, 'венец': 11897, 'пресытиться': 11898, 'житейский': 11899, 'свыше': 11900, 'вызвонить': 11901, 'матрасный': 11902, 'промзона': 11903, 'ширпотреб': 11904, 'ядрёный': 11905, 'общаться': 11906, 'зацвести': 11907, 'гречка': 11908, 'ущербный': 11909, 'упросить': 11910, 'преодоление': 11911, 'дырка': 11912, 'поиграть': 11913, 'метр': 11914, 'просачиваться': 11915, 'остекление': 11916, 'обманный': 11917, 'жалоба': 11918, 'дуть': 11919, 'узковатый': 11920, 'вычеркнуть': 11921, 'обретаться': 11922, 'гобеленовый': 11923, 'непрофессионализм': 11924, 'камера': 11925, 'крокет': 11926, 'чиркать': 11927, 'засуетиться': 11928, 'бесперспективность': 11929, 'сигаретный': 11930, 'опасность': 11931, 'издевательски': 11932, 'створка': 11933, 'босяк': 11934, 'мизерно': 11935, 'отталкиваться': 11936, 'переубеждать': 11937, 'дубайский': 11938, 'ответвление': 11939, 'густо': 11940, 'поделить': 11941, 'модерн': 11942, 'дичь': 11943, 'приняться': 11944, 'славно': 11945, 'транскрипция': 11946, 'вздутие': 11947, 'эстетически': 11948, 'перец': 11949, 'скооперироваться': 11950, 'пообедать': 11951, 'антон': 11952, 'оказывать': 11953, 'разгар': 11954, 'умножить': 11955, 'директор': 11956, 'оглянуться': 11957, 'нестись': 11958, 'двигатель': 11959, 'небоскрёб': 11960, 'выглянуть': 11961, 'проблемный': 11962, 'разочаровать': 11963, 'владимир': 11964, 'способность': 11965, 'чудной': 11966, 'однозначно': 11967, 'бало': 11968, 'витрина': 11969, 'обалденный': 11970, 'заправить': 11971, 'умно': 11972, 'объявление': 11973, 'месса': 11974, 'душка': 11975, 'индийский': 11976, 'баритон': 11977, 'воровать': 11978, 'ухватить': 11979, 'судоходный': 11980, 'горизонт': 11981, 'обороняться': 11982, 'отжигать': 11983, 'отличай': 11984, 'ком': 11985, 'блёклый': 11986, 'присваивание': 11987, 'сооружение': 11988, 'надевание': 11989, 'скотский': 11990, 'прудить': 11991, 'вышеупомянутый': 11992, 'перестирать': 11993, 'вырабатывать': 11994, 'замаскировать': 11995, 'перемещать': 11996, 'ава': 11997, 'езда': 11998, 'напрасный': 11999, 'тверская': 12000, 'указание': 12001, 'щёлка': 12002, 'бесить': 12003, 'долька': 12004, 'американец': 12005, 'соседство': 12006, 'закрепить': 12007, 'зиять': 12008, 'пепельница': 12009, 'падение': 12010, 'ахмед': 12011, 'безразличие': 12012, 'нажать': 12013, 'рф': 12014, 'полка': 12015, 'разносол': 12016, 'незадачливый': 12017, 'вполголоса': 12018, 'банально': 12019, 'дивный': 12020, 'продолжительность': 12021, 'голубой': 12022, 'сущий': 12023, 'письменно': 12024, 'средиземный': 12025, 'мирить': 12026, 'выдержка': 12027, 'перезвонить': 12028, 'пила': 12029, 'недвижимость': 12030, 'популярно': 12031, 'выливать': 12032, 'градусный': 12033, 'влажно': 12034, 'задвижка': 12035, 'антони': 12036, 'гречневый': 12037, 'моющий': 12038, 'иранский': 12039, 'сочувствовать': 12040, 'марксистский': 12041, 'участок': 12042, 'давность': 12043, 'листва': 12044, 'веяние': 12045, 'голова': 12046, 'слышать': 12047, 'выдаваться': 12048, 'раздача': 12049, 'утопать': 12050, 'проект': 12051, 'вонзиться': 12052, 'балеарский': 12053, 'приуменьшение': 12054, 'слитный': 12055, 'особо': 12056, 'посетовать': 12057, 'тост': 12058, 'текстильщик': 12059, 'разбить': 12060, 'неисправный': 12061, 'неучтённый': 12062, 'портье': 12063, 'сломя': 12064, 'эталон': 12065, 'электричество': 12066, 'стекло': 12067, 'спаньё': 12068, 'изыск': 12069, 'колючий': 12070, 'барн': 12071, 'умница': 12072, 'беспокойно': 12073, 'загнуть': 12074, 'предбанник': 12075, 'мусоросборник': 12076, 'променад': 12077, 'донизу': 12078, 'закусочная': 12079, 'простирать': 12080, 'тюрьма': 12081, 'латексный': 12082, 'поодаль': 12083, 'здоровенный': 12084, 'неблагоприятный': 12085, 'активность': 12086, 'сюита': 12087, 'мб': 12088, 'додумать': 12089, 'ехать': 12090, 'здравствуй': 12091, 'освободить': 12092, 'судьба': 12093, 'солидно': 12094, 'отнести': 12095, 'расправить': 12096, 'бессмертный': 12097, 'умеренно': 12098, 'привилегия': 12099, 'витраж': 12100, 'незадолго': 12101, 'преобладать': 12102, 'порошок': 12103, 'реалия': 12104, 'переступить': 12105, 'авто': 12106, 'рост': 12107, 'кайфовать': 12108, 'сохранить': 12109, 'разбросать': 12110, 'прослезиться': 12111, 'вселиться': 12112, 'крайний': 12113, 'сбой': 12114, 'окружить': 12115, 'косметика': 12116, 'вино': 12117, 'знак': 12118, 'безопасно': 12119, 'известность': 12120, 'внятно': 12121, 'финский': 12122, 'делить': 12123, 'бриллиантовый': 12124, 'теперешний': 12125, 'захламить': 12126, 'функционально': 12127, 'ножка': 12128, 'уязвимый': 12129, 'преподать': 12130, 'критический': 12131, 'чётко': 12132, 'начхать': 12133, 'сухофрукты': 12134, 'отнять': 12135, 'расхватываться': 12136, 'поза': 12137, 'ухмыльнуться': 12138, 'попрощаться': 12139, 'бенедикт': 12140, 'китайский': 12141, 'положительный': 12142, 'просиживать': 12143, 'упаковочка': 12144, 'винсент': 12145, 'досыта': 12146, 'мужичка': 12147, 'остерегаться': 12148, 'склеп': 12149, 'смрад': 12150, 'встреча': 12151, 'выпечка': 12152, 'окрасить': 12153, 'участвовать': 12154, 'проходная': 12155, 'козырять': 12156, 'спуститься': 12157, 'совсем': 12158, 'наружу': 12159, 'приподнять': 12160, 'например': 12161, 'вдогонку': 12162, 'выкрутить': 12163, 'сексуальный': 12164, 'рассвести': 12165, 'тора': 12166, 'наведение': 12167, 'русский': 12168, 'азиат': 12169, 'устроить': 12170, 'сверление': 12171, 'мол': 12172, 'способ': 12173, 'слышь': 12174, 'прямоугольный': 12175, 'заверить': 12176, 'паштетный': 12177, 'совет': 12178, 'копна': 12179, 'мс': 12180, 'поляков': 12181, 'прихватить': 12182, 'молодой': 12183, 'простенький': 12184, 'жужжать': 12185, 'благополучно': 12186, 'страз': 12187, 'помощь': 12188, 'установка': 12189, 'оборона': 12190, 'племянница': 12191, 'решить': 12192, 'музыкант': 12193, 'тягость': 12194, 'пивко': 12195, 'проветривание': 12196, 'приниматься': 12197, 'предпочитать': 12198, 'базарный': 12199, 'невыносимый': 12200, 'аутентичный': 12201, 'тетрадочка': 12202, 'функция': 12203, 'отдушина': 12204, 'прерываться': 12205, 'пролив': 12206, 'мерный': 12207, 'выдёргивать': 12208, 'обливаться': 12209, 'стойка': 12210, 'оккупировать': 12211, 'церемонно': 12212, 'интервал': 12213, 'пробить': 12214, 'акустик': 12215, 'евгения': 12216, 'конкурентный': 12217, 'городище': 12218, 'отомстить': 12219, 'акционный': 12220, 'газель': 12221, 'кулинарный': 12222, 'колбаса': 12223, 'острый': 12224, 'ценовой': 12225, 'оттаять': 12226, 'пенька': 12227, 'белорус': 12228, 'житие': 12229, 'ритмичный': 12230, 'посему': 12231, 'адрес': 12232, 'мыть': 12233, 'некрасиво': 12234, 'жильё': 12235, 'вещевой': 12236, 'вероятный': 12237, 'засадить': 12238, 'вылить': 12239, 'разукрасить': 12240, 'потёк': 12241, 'бесшумно': 12242, 'скрыться': 12243, 'проводной': 12244, 'бочковый': 12245, 'скатываться': 12246, 'крепиться': 12247, 'мероприятие': 12248, 'регистр': 12249, 'складываться': 12250, 'щель': 12251, 'пропить': 12252, 'схватить': 12253, 'немногочисленный': 12254, 'разъём': 12255, 'неумение': 12256, 'барабан': 12257, 'маскировать': 12258, 'память': 12259, 'смотаться': 12260, 'мочёный': 12261, 'гниль': 12262, 'опустошать': 12263, 'каменный': 12264, 'невкусно': 12265, 'шумовой': 12266, 'смущение': 12267, 'арбат': 12268, 'исполняться': 12269, 'египет': 12270, 'рассохнуться': 12271, 'танечка': 12272, 'благословить': 12273, 'браковать': 12274, 'максим': 12275, 'комнатёнка': 12276, 'масштабный': 12277, 'свободно': 12278, 'питательный': 12279, 'заскочить': 12280, 'агрессивно': 12281, 'ощущение': 12282, 'покачиваться': 12283, 'гладильный': 12284, 'кошачий': 12285, 'свинский': 12286, 'введение': 12287, 'удовлетворяться': 12288, 'подкладывать': 12289, 'вентиль': 12290, 'девочка': 12291, 'воочию': 12292, 'редкость': 12293, 'зловещий': 12294, 'выветриться': 12295, 'формула': 12296, 'спуск': 12297, 'откликаться': 12298, 'кстат': 12299, 'чересчур': 12300, 'одностворчатый': 12301, 'импровизированный': 12302, 'бесподобный': 12303, 'расписывать': 12304, 'дотошность': 12305, 'уверенный': 12306, 'утречком': 12307, 'воспитание': 12308, 'взвод': 12309, 'неулыбчивый': 12310, 'невозможно': 12311, 'расписка': 12312, 'прилежащий': 12313, 'парочка': 12314, 'бук': 12315, 'выговаривать': 12316, 'бусы': 12317, 'вчера': 12318, 'приятель': 12319, 'акцизный': 12320, 'неспешно': 12321, 'захотеть': 12322, 'наклеить': 12323, 'автострада': 12324, 'задержка': 12325, 'комета': 12326, 'кругом': 12327, 'орало': 12328, 'истый': 12329, 'неплохой': 12330, 'уместно': 12331, 'смертный': 12332, 'позориться': 12333, 'булла': 12334, 'настройка': 12335, 'заказ': 12336, 'отвлечься': 12337, 'ближ': 12338, 'тон': 12339, 'забывчивый': 12340, 'галдёж': 12341, 'убогий': 12342, 'сточить': 12343, 'конечный': 12344, 'запускать': 12345, 'прайс': 12346, 'персиковый': 12347, 'стол': 12348, 'пузырь': 12349, 'брызгать': 12350, 'уныло': 12351, 'кормить': 12352, 'насчёт': 12353, 'подкачка': 12354, 'напутать': 12355, 'законопослушный': 12356, 'оттиск': 12357, 'путём': 12358, 'пестрить': 12359, 'зверёк': 12360, 'экскурсионный': 12361, 'чипсы': 12362, 'обилие': 12363, 'обсуждать': 12364, 'поселение': 12365, 'раздолбить': 12366, 'сочный': 12367, 'посольство': 12368, 'водянистый': 12369, 'жалюзи': 12370, 'оглушительный': 12371, 'нержавейка': 12372, 'завидеть': 12373, 'наймит': 12374, 'знать': 12375, 'просмотреть': 12376, 'перерасход': 12377, 'оригинальный': 12378, 'мелкий': 12379, 'приглушать': 12380, 'неспешный': 12381, 'солнце': 12382, 'здравый': 12383, 'ворота': 12384, 'отчитывать': 12385, 'гавань': 12386, 'разъехаться': 12387, 'оператор': 12388, 'харчевня': 12389, 'мобильный': 12390, 'плюшкин': 12391, 'неправомерный': 12392, 'угощение': 12393, 'бонн': 12394, 'ругательство': 12395, 'огурец': 12396, 'напрямик': 12397, 'ларёк': 12398, 'перебить': 12399, 'лебедь': 12400, 'указатель': 12401, 'избыток': 12402, 'подтвердиться': 12403, 'разливать': 12404, 'центр': 12405, 'протянуть': 12406, 'пополниться': 12407, 'разработать': 12408, 'нахамить': 12409, 'распаляться': 12410, 'послушать': 12411, 'зажим': 12412, 'остановка': 12413, 'заочный': 12414, 'проверка': 12415, 'разочаровываться': 12416, 'приближение': 12417, 'спортплощадка': 12418, 'умудряться': 12419, 'проделать': 12420, 'быдло': 12421, 'поместить': 12422, 'харч': 12423, 'выделять': 12424, 'взвесить': 12425, 'ящерица': 12426, 'слом': 12427, 'эксперимент': 12428, 'натали': 12429, 'нелепый': 12430, 'насыщенный': 12431, 'причитаться': 12432, 'резкий': 12433, 'пятиминутный': 12434, 'повязка': 12435, 'вход': 12436, 'известно': 12437, 'фрикаделька': 12438, 'свойство': 12439, 'шевчук': 12440, 'томат': 12441, 'капкан': 12442, 'слышный': 12443, 'второе': 12444, 'наплевать': 12445, 'гигантский': 12446, 'брошюра': 12447, 'парикмахерская': 12448, 'браун': 12449, 'крепчать': 12450, 'самостоятельный': 12451, 'размеренный': 12452, 'мучить': 12453, 'стеснение': 12454, 'вытрясти': 12455, 'перевешивать': 12456, 'извещать': 12457, 'растрепать': 12458, 'затратить': 12459, 'перекантоваться': 12460, 'колёсико': 12461, 'исключительный': 12462, 'учёба': 12463, 'незрелый': 12464, 'подохнуть': 12465, 'удивительный': 12466, 'павелецкий': 12467, 'резиновый': 12468, 'колокольня': 12469, 'гуляние': 12470, 'пачечка': 12471, 'нудистский': 12472, 'заборчик': 12473, 'пятиэтажный': 12474, 'тональный': 12475, 'полуподвальный': 12476, 'загружать': 12477, 'замкнутый': 12478, 'править': 12479, 'исключение': 12480, 'неаппетитный': 12481, 'позволить': 12482, 'уступка': 12483, 'отмахнуться': 12484, 'беременный': 12485, 'посредством': 12486, 'россия': 12487, 'тротуар': 12488, 'шлёпать': 12489, 'поживиться': 12490, 'загород': 12491, 'расхваливать': 12492, 'пододеяльник': 12493, 'уверенно': 12494, 'выплыть': 12495, 'готовка': 12496, 'еврейский': 12497, 'узнавать': 12498, 'взбудораживать': 12499, 'знакомить': 12500, 'глава': 12501, 'решиться': 12502, 'развернуться': 12503, 'пояснительный': 12504, 'отделять': 12505, 'задрать': 12506, 'комфортабельный': 12507, 'допотопный': 12508, 'проба': 12509, 'мармелад': 12510, 'гостевой': 12511, 'разок': 12512, 'сжирать': 12513, 'витой': 12514, 'мор': 12515, 'нереспектабельный': 12516, 'мучительный': 12517, 'пишущий': 12518, 'впечатлять': 12519, 'неподчинение': 12520, 'безвоздушный': 12521, 'автовокзал': 12522, 'пианист': 12523, 'упреждать': 12524, 'мальский': 12525, 'сердечко': 12526, 'объедок': 12527, 'матч': 12528, 'расстилаться': 12529, 'снимка': 12530, 'порознь': 12531, 'нежный': 12532, 'ленточка': 12533, 'дак': 12534, 'хота': 12535, 'боксёрский': 12536, 'перечислить': 12537, 'припекать': 12538, 'регулятор': 12539, 'простоватый': 12540, 'далек': 12541, 'пропасть': 12542, 'плитка': 12543, 'пьяный': 12544, 'густой': 12545, 'заманить': 12546, 'допустить': 12547, 'бра': 12548, 'завлечь': 12549, 'совместить': 12550, 'обиженный': 12551, 'позиция': 12552, 'ледяной': 12553, 'зрение': 12554, 'хрен': 12555, 'чреватый': 12556, 'обоняние': 12557, 'стронуть': 12558, 'прийтись': 12559, 'молочный': 12560, 'отрицательно': 12561, 'бар': 12562, 'рукомойник': 12563, 'провиниться': 12564, 'врем': 12565, 'карманный': 12566, 'обеспечивать': 12567, 'древность': 12568, 'выхлопной': 12569, 'бурый': 12570, 'редко': 12571, 'обиход': 12572, 'жрать': 12573, 'тент': 12574, 'стадион': 12575, 'полвторого': 12576, 'нередко': 12577, 'выстроить': 12578, 'болячка': 12579, 'кривить': 12580, 'скромность': 12581, 'закупка': 12582, 'субъект': 12583, 'годность': 12584, 'очищение': 12585, 'попытаться': 12586, 'четвёртый': 12587, 'наглый': 12588, 'оглушать': 12589, 'дежурить': 12590, 'загораживать': 12591, 'марш': 12592, 'уладить': 12593, 'прилипать': 12594, 'поверить': 12595, 'международный': 12596, 'планировка': 12597, 'кальмар': 12598, 'несильно': 12599, 'ободок': 12600, 'труд': 12601, 'кабинет': 12602, 'пальчик': 12603, 'открыто': 12604, 'подобный': 12605, 'проводка': 12606, 'потрескаться': 12607, 'копаться': 12608, 'сингапур': 12609, 'стамбул': 12610, 'пруд': 12611, 'плохо': 12612, 'данный': 12613, 'указать': 12614, 'событие': 12615, 'пузырный': 12616, 'гостеприимно': 12617, 'отстать': 12618, 'прогрев': 12619, 'игнорировать': 12620, 'загранпаспорт': 12621, 'установить': 12622, 'пригореть': 12623, 'поощрить': 12624, 'затаскивать': 12625, 'наверху': 12626, 'сток': 12627, 'круиз': 12628, 'феррари': 12629, 'привыкать': 12630, 'форум': 12631, 'англичанин': 12632, 'зловонный': 12633, 'царицыно': 12634, 'брачный': 12635, 'заселиться': 12636, 'позариться': 12637, 'снежный': 12638, 'ход': 12639, 'особый': 12640, 'перевалочный': 12641, 'аксель': 12642, 'металлический': 12643, 'веселие': 12644, 'расс': 12645, 'опера': 12646, 'душевая': 12647, 'слабить': 12648, 'спортсмен': 12649, 'порой': 12650, 'цыган': 12651, 'тостер': 12652, 'омрачиться': 12653, 'выписываться': 12654, 'чрезвычайно': 12655, 'облагородить': 12656, 'побрезговать': 12657, 'напевать': 12658, 'негостеприимный': 12659, 'цинично': 12660, 'останавливаться': 12661, 'оформиться': 12662, 'крем': 12663, 'приговаривать': 12664, 'пообещать': 12665, 'прорваться': 12666, 'просечь': 12667, 'ответвляться': 12668, 'плюшка': 12669, 'нещадно': 12670, 'своеобразно': 12671, 'значение': 12672, 'своевременный': 12673, 'умолчание': 12674, 'распаковываться': 12675, 'финн': 12676, 'обломаться': 12677, 'разглаживание': 12678, 'лестный': 12679, 'насытиться': 12680, 'втык': 12681, 'поворотный': 12682, 'управиться': 12683, 'айвовый': 12684, 'переписывать': 12685, 'зазрение': 12686, 'патон': 12687, 'мрамор': 12688, 'файл': 12689, 'некачественный': 12690, 'злоупотреблять': 12691, 'тусклый': 12692, 'профиль': 12693, 'колодезный': 12694, 'наклон': 12695, 'уделяться': 12696, 'пандус': 12697, 'оказать': 12698, 'недожаренный': 12699, 'детство': 12700, 'политься': 12701, 'порт': 12702, 'филигран': 12703, 'сталинский': 12704, 'предпринимать': 12705, 'дочь': 12706, 'ия': 12707, 'жестикулировать': 12708, 'хаос': 12709, 'высотный': 12710, 'унять': 12711, 'устойчивый': 12712, 'соответствующе': 12713, 'москвич': 12714, 'полюбовно': 12715, 'привязать': 12716, 'кредитка': 12717, 'вынужденный': 12718, 'подвал': 12719, 'намудрить': 12720, 'налётом': 12721, 'арестовать': 12722, 'комментарий': 12723, 'завет': 12724, 'поменяться': 12725, 'выпасть': 12726, 'однодневка': 12727, 'застраиваться': 12728, 'спагетти': 12729, 'неравенство': 12730, 'комнатушка': 12731, 'сунуть': 12732, 'сидеть': 12733, 'песочный': 12734, 'опаска': 12735, 'загорелый': 12736, 'снотворный': 12737, 'убранство': 12738, 'жительство': 12739, 'минералка': 12740, 'вплотную': 12741, 'переполнить': 12742, 'подмыться': 12743, 'грустный': 12744, 'ухоженна': 12745, 'кроватка': 12746, 'сбрасываться': 12747, 'роспись': 12748, 'зазывать': 12749, 'брошюрка': 12750, 'намеренно': 12751, 'тренажёрный': 12752, 'поступить': 12753, 'умение': 12754, 'глушитель': 12755, 'щёлочка': 12756, 'семейный': 12757, 'курсовой': 12758, 'неоспоримый': 12759, 'терминал': 12760, 'дозатор': 12761, 'узко': 12762, 'сформировать': 12763, 'небольшой': 12764, 'кровать': 12765, 'гранатовый': 12766, 'шарканье': 12767, 'худой': 12768, 'наплыть': 12769, 'прилетать': 12770, 'компоновка': 12771, 'выделить': 12772, 'баламутиться': 12773, 'желание': 12774, 'простор': 12775, 'гневно': 12776, 'опустелый': 12777, 'шанель': 12778, 'шутить': 12779, 'турбаза': 12780, 'челнок': 12781, 'усиливаться': 12782, 'переполняться': 12783, 'пропитываться': 12784, 'затылок': 12785, 'полусидеть': 12786, 'мучение': 12787, 'масть': 12788, 'наполнитель': 12789, 'спутница': 12790, 'инвалидный': 12791, 'пересилить': 12792, 'законодательный': 12793, 'сарказм': 12794, 'носок': 12795, 'поликлиника': 12796, 'носильщик': 12797, 'участие': 12798, 'пошатываться': 12799, 'одобрение': 12800, 'съедобный': 12801, 'склонный': 12802, 'впоследствии': 12803, 'йорк': 12804, 'полосный': 12805, 'умирать': 12806, 'равнодушный': 12807, 'позволительный': 12808, 'порезать': 12809, 'уволиться': 12810, 'ссадина': 12811, 'потрясти': 12812, 'дырявый': 12813, 'зачатьевский': 12814, 'экономность': 12815, 'рудый': 12816, 'панк': 12817, 'беспричинный': 12818, 'разгром': 12819, 'подстилать': 12820, 'шипеть': 12821, 'невидимый': 12822, 'живо': 12823, 'решать': 12824, 'тщательный': 12825, 'запечь': 12826, 'разбитый': 12827, 'списание': 12828, 'завывать': 12829, 'нора': 12830, 'жизнедеятельность': 12831, 'учиться': 12832, 'унизительно': 12833, 'заполняться': 12834, 'хрюкать': 12835, 'прижимать': 12836, 'косяк': 12837, 'прибывание': 12838, 'абсолютно': 12839, 'умелец': 12840, 'машинка': 12841, 'садить': 12842, 'нечасто': 12843, 'потёртость': 12844, 'подкрашивать': 12845, 'прохлада': 12846, 'весить': 12847, 'француженка': 12848, 'объём': 12849, 'неподъёмный': 12850, 'высказывание': 12851, 'отправка': 12852, 'советовать': 12853, 'табакерка': 12854, 'молельная': 12855, 'дождливый': 12856, 'бежать': 12857, 'сочетаться': 12858, 'распилить': 12859, 'шоколадный': 12860, 'кап': 12861, 'хрустеть': 12862, 'радушный': 12863, 'чадо': 12864, 'слушать': 12865, 'печаль': 12866, 'магнитить': 12867, 'объективно': 12868, 'несоответствующий': 12869, 'нажиться': 12870, 'дружелюбный': 12871, 'смердеть': 12872, 'уважительный': 12873, 'построить': 12874, 'сопровождаться': 12875, 'великий': 12876, 'изготовить': 12877, 'бодрый': 12878, 'шу': 12879, 'драйв': 12880, 'заливный': 12881, 'направляться': 12882, 'замёрзнуть': 12883, 'лениво': 12884, 'медленно': 12885, 'зашкаливать': 12886, 'индейка': 12887, 'продолжиться': 12888, 'несметный': 12889, 'лишиться': 12890, 'напряжение': 12891, 'номинально': 12892, 'смотреть': 12893, 'давид': 12894, 'удовлетворять': 12895, 'неосвещённый': 12896, 'своеобразный': 12897, 'сара': 12898, 'серенький': 12899, 'троечный': 12900, 'платформа': 12901, 'цвет': 12902, 'мокрица': 12903, 'смертельно': 12904, 'умилять': 12905, 'опытный': 12906, 'пухлый': 12907, 'качаться': 12908, 'функциональный': 12909, 'драконий': 12910, 'согласно': 12911, 'притягивать': 12912, 'пикник': 12913, 'тело': 12914, 'неспортивный': 12915, 'норматив': 12916, 'кан': 12917, 'контролировать': 12918, 'зарасти': 12919, 'отписаться': 12920, 'дискуссия': 12921, 'ожирение': 12922, 'сплетня': 12923, 'чистка': 12924, 'комментатор': 12925, 'переедание': 12926, 'матерчатый': 12927, 'описать': 12928, 'ас': 12929, 'улучшаться': 12930, 'карма': 12931, 'увы': 12932, 'всплыть': 12933, 'лживый': 12934, 'мольба': 12935, 'старинка': 12936, 'разношёрстный': 12937, 'натравить': 12938, 'консультирование': 12939, 'нарекание': 12940, 'вымогательство': 12941, 'невозмутимо': 12942, 'стройка': 12943, 'подчиняться': 12944, 'вид': 12945, 'париж': 12946, 'нотация': 12947, 'оживлённо': 12948, 'невыразительный': 12949, 'запасть': 12950, 'соевый': 12951, 'подстраховаться': 12952, 'полотно': 12953, 'лампочка': 12954, 'осознать': 12955, 'восхитительный': 12956, 'тональность': 12957, 'предупреждение': 12958, 'поддаться': 12959, 'фотографировать': 12960, 'сто': 12961, 'страховка': 12962, 'пафосно': 12963, 'прилечь': 12964, 'обновить': 12965, 'убиться': 12966, 'уплывать': 12967, 'резка': 12968, 'менеджер': 12969, 'уведомлять': 12970, 'пусто': 12971, 'извлечение': 12972, 'владелица': 12973, 'покопаться': 12974, 'подсветка': 12975, 'пришибить': 12976, 'выплёскиваться': 12977, 'продовольствие': 12978, 'сестрёнка': 12979, 'вкусить': 12980, 'корридора': 12981, 'участник': 12982, 'скорректировать': 12983, 'канализационный': 12984, 'выкрасить': 12985, 'заправляться': 12986, 'двойка': 12987, 'пудра': 12988, 'мучиться': 12989, 'цирк': 12990, 'покупка': 12991, 'выключить': 12992, 'ясный': 12993, 'пищать': 12994, 'безобидный': 12995, 'рассмешить': 12996, 'религия': 12997, 'академия': 12998, 'тоскливый': 12999, 'обивочный': 13000, 'прохождение': 13001, 'март': 13002, 'заносчивый': 13003, 'выносливый': 13004, 'громадный': 13005, 'неформальный': 13006, 'побрести': 13007, 'выполнять': 13008, 'однообразие': 13009, 'тройник': 13010, 'баран': 13011, 'свести': 13012, 'тянуть': 13013, 'неоспоримо': 13014, 'перелагать': 13015, 'герметик': 13016, 'уложиться': 13017, 'прикрывать': 13018, 'маршировать': 13019, 'микроб': 13020, 'высказывать': 13021, 'завязка': 13022, 'перспектива': 13023, 'пенал': 13024, 'фрагментарный': 13025, 'байка': 13026, 'тоня': 13027, 'сбить': 13028, 'развести': 13029, 'экскурсовод': 13030, 'претендовать': 13031, 'полпути': 13032, 'неположенный': 13033, 'предложение': 13034, 'цент': 13035, 'ограничиваться': 13036, 'поскупиться': 13037, 'ширина': 13038, 'образовываться': 13039, 'предварительно': 13040, 'год': 13041, 'формальность': 13042, 'километровый': 13043, 'помин': 13044, 'устранять': 13045, 'спирт': 13046, 'уловить': 13047, 'миг': 13048, 'диарея': 13049, 'альберт': 13050, 'бродяга': 13051, 'рыбалка': 13052, 'выгрузка': 13053, 'сморкание': 13054, 'ругать': 13055, 'устно': 13056, 'макаров': 13057, 'планировать': 13058, 'сидение': 13059, 'серный': 13060, 'жигулёвский': 13061, 'бесполезный': 13062, 'общественный': 13063, 'расслабленно': 13064, 'замарать': 13065, 'электроплита': 13066, 'свих': 13067, 'проливать': 13068, 'прожектор': 13069, 'фактический': 13070, 'уголовный': 13071, 'ноль': 13072, 'ватный': 13073, 'бритвенный': 13074, 'мусор': 13075, 'рейсовый': 13076, 'язвительный': 13077, 'термометр': 13078, 'общежитие': 13079, 'крах': 13080, 'выселение': 13081, 'нимало': 13082, 'поносить': 13083, 'волынский': 13084, 'пюре': 13085, 'неловко': 13086, 'курс': 13087, 'полость': 13088, 'внятный': 13089, 'именитый': 13090, 'выражать': 13091, 'обладать': 13092, 'подносить': 13093, 'сотка': 13094, 'жизнь': 13095, 'приготовиться': 13096, 'барселонский': 13097, 'садовый': 13098, 'раздолбать': 13099, 'скукота': 13100, 'декларироваться': 13101, 'като': 13102, 'несостоявшийся': 13103, 'выделяться': 13104, 'отдирать': 13105, 'стилевой': 13106, 'менеджмент': 13107, 'возмущение': 13108, 'передатчик': 13109, 'будапешт': 13110, 'останкино': 13111, 'стеклянный': 13112, 'закончиться': 13113, 'общеевропейский': 13114, 'католический': 13115, 'понос': 13116, 'толочься': 13117, 'мусоровоз': 13118, 'этажный': 13119, 'штучка': 13120, 'модный': 13121, 'карниз': 13122, 'зонт': 13123, 'история': 13124, 'пропылесосить': 13125, 'англия': 13126, 'принять': 13127, 'регламент': 13128, 'порез': 13129, 'снабжать': 13130, 'тренинг': 13131, 'максимальный': 13132, 'залезть': 13133, 'великолепный': 13134, 'совокупляться': 13135, 'ненормальный': 13136, 'сомнительный': 13137, 'истина': 13138, 'сочи': 13139, 'датчик': 13140, 'удовлетвориться': 13141, 'посменный': 13142, 'простр': 13143, 'обругивать': 13144, 'чудовище': 13145, 'ватт': 13146, 'бета': 13147, 'зимой': 13148, 'мрак': 13149, 'реактивный': 13150, 'десяток': 13151, 'опасный': 13152, 'оценить': 13153, 'переплачивать': 13154, 'хруст': 13155, 'кабельный': 13156, 'горочка': 13157, 'тверской': 13158, 'вешалка': 13159, 'беспомощность': 13160, 'раздвижной': 13161, 'нетронутый': 13162, 'паркинг': 13163, 'совпадать': 13164, 'ух': 13165, 'лететь': 13166, 'будка': 13167, 'прожить': 13168, 'сом': 13169, 'разрешать': 13170, 'расходиться': 13171, 'прореха': 13172, 'бистро': 13173, 'вышестоящий': 13174, 'правоохранительный': 13175, 'расслышать': 13176, 'мусороуборочный': 13177, 'безукоризненно': 13178, 'стилистика': 13179, 'замыкание': 13180, 'латинский': 13181, 'смешивать': 13182, 'шифоньер': 13183, 'квалификация': 13184, 'горячий': 13185, 'бритьё': 13186, 'порошковый': 13187, 'постучаться': 13188, 'напрокат': 13189, 'асфальтировать': 13190, 'основательный': 13191, 'приемлемый': 13192, 'придирчивый': 13193, 'подновить': 13194, 'рожок': 13195, 'признаться': 13196, 'склока': 13197, 'прострация': 13198, 'запросить': 13199, 'мулла': 13200, 'хлорировать': 13201, 'рассказ': 13202, 'пассек': 13203, 'освещённость': 13204, 'размагнититься': 13205, 'берлинский': 13206, 'декоративный': 13207, 'двухлетний': 13208, 'попариться': 13209, 'сеточный': 13210, 'поливать': 13211, 'потратиться': 13212, 'катастрофически': 13213, 'яблоко': 13214, 'проникнуться': 13215, 'тесть': 13216, 'воспользоваться': 13217, 'выскочить': 13218, 'наталкивать': 13219, 'вкусненький': 13220, 'идиотский': 13221, 'стихать': 13222, 'добавляться': 13223, 'текущий': 13224, 'салатовый': 13225, 'висячий': 13226, 'засомневаться': 13227, 'сырь': 13228, 'отстирываться': 13229, 'парить': 13230, 'король': 13231, 'цепь': 13232, 'мошеннический': 13233, 'схлынуть': 13234, 'посуда': 13235, 'линия': 13236, 'подселить': 13237, 'оливье': 13238, 'цунами': 13239, 'отъявленный': 13240, 'подстолье': 13241, 'алексей': 13242, 'протереться': 13243, 'баночка': 13244, 'лопасть': 13245, 'припять': 13246, 'восприятие': 13247, 'затаскать': 13248, 'вытираться': 13249, 'наводнить': 13250, 'отдать': 13251, 'пемза': 13252, 'засекать': 13253, 'проесть': 13254, 'рисовый': 13255, 'шагать': 13256, 'пеший': 13257, 'непостижимо': 13258, 'выкачать': 13259, 'нововведение': 13260, 'втроём': 13261, 'колодец': 13262, 'стряхнуть': 13263, 'называться': 13264, 'объективный': 13265, 'увести': 13266, 'экономичный': 13267, 'проветриться': 13268, 'амулет': 13269, 'стружка': 13270, 'празднование': 13271, 'настрой': 13272, 'цивилизованный': 13273, 'эксцесс': 13274, 'непривычный': 13275, 'дребезжание': 13276, 'послеполуденный': 13277, 'лажа': 13278, 'позволять': 13279, 'постесняться': 13280, 'чужой': 13281, 'четырёхдневный': 13282, 'послать': 13283, 'пустить': 13284, 'пакистанский': 13285, 'нестыковка': 13286, 'соревнование': 13287, 'необычность': 13288, 'необходимый': 13289, 'строиться': 13290, 'категорический': 13291, 'вещичка': 13292, 'обыкновенно': 13293, 'мандарин': 13294, 'запутаться': 13295, 'сплошной': 13296, 'уведомить': 13297, 'насосный': 13298, 'раздобыть': 13299, 'перекинуться': 13300, 'всерьёз': 13301, 'тщетный': 13302, 'правда': 13303, 'расслабиться': 13304, 'трюмо': 13305, 'издаваться': 13306, 'низкочастотный': 13307, 'мгла': 13308, 'двухъярусный': 13309, 'обучение': 13310, 'прощаться': 13311, 'гирлянда': 13312, 'ошибаться': 13313, 'супермаркет': 13314, 'ростковый': 13315, 'вымаливать': 13316, 'подстерегать': 13317, 'кровь': 13318, 'беспокоиться': 13319, 'потянуть': 13320, 'намокнуть': 13321, 'выдвинуть': 13322, 'вытворять': 13323, 'тупеть': 13324, 'оскорблять': 13325, 'айя': 13326, 'б': 13327, 'плавить': 13328, 'овальный': 13329, 'месить': 13330, 'пушнина': 13331, 'дракон': 13332, 'африка': 13333, 'визит': 13334, 'покатиться': 13335, 'работа': 13336, 'улыбчивый': 13337, 'морковь': 13338, 'плескаться': 13339, 'равнодушие': 13340, 'перекосить': 13341, 'тревога': 13342, 'насадка': 13343, 'полвека': 13344, 'захлебнуться': 13345, 'настаивать': 13346, 'лгун': 13347, 'обувать': 13348, 'майский': 13349, 'психовать': 13350, 'пегас': 13351, 'разить': 13352, 'брюссель': 13353, 'просвечивать': 13354, 'реально': 13355, 'щетина': 13356, 'николаевич': 13357, 'пультовый': 13358, 'юноша': 13359, 'обязательство': 13360, 'интерьерном': 13361, 'металлург': 13362, 'начальный': 13363, 'безукоризненный': 13364, 'вломиться': 13365, 'интеллигентность': 13366, 'аравия': 13367, 'рекламировать': 13368, 'поддаваться': 13369, 'ярославский': 13370, 'безнаказанный': 13371, 'приноровиться': 13372, 'слыхивать': 13373, 'подчинённый': 13374, 'аликанте': 13375, 'проклясть': 13376, 'сломаться': 13377, 'отретушировать': 13378, 'внимательно': 13379, 'калькулятор': 13380, 'вряд': 13381, 'твориться': 13382, 'краска': 13383, 'натирать': 13384, 'возрасти': 13385, 'рулон': 13386, 'ненадёжно': 13387, 'слега': 13388, 'сыпаться': 13389, 'перекочевать': 13390, 'дыня': 13391, 'сравниться': 13392, 'инспектор': 13393, 'бизнес': 13394, 'гардина': 13395, 'опустеть': 13396, 'октябрьский': 13397, 'фу': 13398, 'умиление': 13399, 'гнильё': 13400, 'запорный': 13401, 'схожий': 13402, 'уступать': 13403, 'рентабельный': 13404, 'наводить': 13405, 'визг': 13406, 'гневный': 13407, 'снег': 13408, 'перестукиваться': 13409, 'лодка': 13410, 'абсурдность': 13411, 'каждый': 13412, 'аэробный': 13413, 'иголка': 13414, 'вылизать': 13415, 'прикладывать': 13416, 'стремление': 13417, 'привязаться': 13418, 'ниоткуда': 13419, 'название': 13420, 'шипение': 13421, 'нагой': 13422, 'турнир': 13423, 'старт': 13424, 'простецкий': 13425, 'жестокий': 13426, 'понимание': 13427, 'модернизированный': 13428, 'хохма': 13429, 'умопомрачительный': 13430, 'писаться': 13431, 'кавказ': 13432, 'сметание': 13433, 'снобизм': 13434, 'несуразный': 13435, 'чемодан': 13436, 'присутствие': 13437, 'сша': 13438, 'расширять': 13439, 'открывашка': 13440, 'богиня': 13441, 'унизительный': 13442, 'раскладывать': 13443, 'потолкаться': 13444, 'дополна': 13445, 'сесть': 13446, 'йоркширский': 13447, 'змеевик': 13448, 'лишить': 13449, 'грань': 13450, 'вооружённый': 13451, 'гриль': 13452, 'баг': 13453, 'расслабить': 13454, 'отельчик': 13455, 'необозначенный': 13456, 'ценообразование': 13457, 'исполнять': 13458, 'район': 13459, 'заметный': 13460, 'возмутительный': 13461, 'воз': 13462, 'кошка': 13463, 'битком': 13464, 'милостивый': 13465, 'удобным': 13466, 'пересмотр': 13467, 'пиво': 13468, 'ода': 13469, 'приглашать': 13470, 'жадничать': 13471, 'река': 13472, 'донельзя': 13473, 'задеваться': 13474, 'бой': 13475, 'сигара': 13476, 'умыкнуть': 13477, 'негативно': 13478, 'рассадить': 13479, 'отвязать': 13480, 'вовсе': 13481, 'вырез': 13482, 'радиус': 13483, 'несколько': 13484, 'многоразовый': 13485, 'запотеть': 13486, 'иметь': 13487, 'привлекательно': 13488, 'нараспашку': 13489, 'гладиться': 13490, 'соединять': 13491, 'партитура': 13492, 'плинтус': 13493, 'прекратиться': 13494, 'трамбовка': 13495, 'логика': 13496, 'расписной': 13497, 'необязательно': 13498, 'н': 13499, 'распаковывать': 13500, 'нелепо': 13501, 'грустноватый': 13502, 'отталкивать': 13503, 'кабина': 13504, 'ксения': 13505, 'поваляться': 13506, 'китайско': 13507, 'лотерея': 13508, 'загородить': 13509, 'выбегать': 13510, 'санитарный': 13511, 'хол': 13512, 'вырвать': 13513, 'персик': 13514, 'запутанно': 13515, 'жара': 13516, 'переделка': 13517, 'лувр': 13518, 'зазорный': 13519, 'промокнуть': 13520, 'вечерком': 13521, 'русскоговорящий': 13522, 'клочок': 13523, 'отравление': 13524, 'ладан': 13525, 'консервант': 13526, 'неотзывчивый': 13527, 'выдавливаться': 13528, 'перманентный': 13529, 'плотность': 13530, 'отлучиться': 13531, 'крепостной': 13532, 'возглас': 13533, 'терпкий': 13534, 'разобрать': 13535, 'заночевать': 13536, 'отправлять': 13537, 'пас': 13538, 'забеспокоиться': 13539, 'ухо': 13540, 'помада': 13541, 'претенциозный': 13542, 'продолжительный': 13543, 'скамья': 13544, 'неразумный': 13545, 'неопределённый': 13546, 'дар': 13547, 'непонятно': 13548, 'излишний': 13549, 'растворимый': 13550, 'шикарной': 13551, 'круговой': 13552, 'жеманный': 13553, 'деформировать': 13554, 'кофта': 13555, 'питься': 13556, 'учитывать': 13557, 'трёхлетний': 13558, 'днище': 13559, 'нелепица': 13560, 'напоминать': 13561, 'сама': 13562, 'жалобно': 13563, 'па': 13564, 'сок': 13565, 'чикс': 13566, 'произноситься': 13567, 'промыть': 13568, 'баклажка': 13569, 'вероятность': 13570, 'компьютерный': 13571, 'апрель': 13572, 'штукатурка': 13573, 'жевательный': 13574, 'категорически': 13575, 'букет': 13576, 'состояться': 13577, 'овсяный': 13578, 'повторить': 13579, 'цейлон': 13580, 'перечень': 13581, 'зам': 13582, 'репетировать': 13583, 'оптимально': 13584, 'паренёк': 13585, 'прикоснуться': 13586, 'времяпрепровождение': 13587, 'рулетка': 13588, 'равный': 13589, 'празднество': 13590, 'интеллектуальный': 13591, 'высохнуть': 13592, 'восьмой': 13593, 'ветхий': 13594, 'офис': 13595, 'немыслимый': 13596, 'тщательно': 13597, 'шедевр': 13598, 'неуравновешенный': 13599, 'хай': 13600, 'нипочём': 13601, 'сочувствие': 13602, 'рюш': 13603, 'родник': 13604, 'удобно': 13605, 'пилить': 13606, 'оговаривать': 13607, 'прогадать': 13608, 'волна': 13609, 'волосок': 13610, 'борис': 13611, 'тюремный': 13612, 'токсикоз': 13613, 'тяжко': 13614, 'фекалия': 13615, 'разблокировать': 13616, 'гарри': 13617, 'вплоть': 13618, 'размещение': 13619, 'межа': 13620, 'национальность': 13621, 'никита': 13622, 'воспринимать': 13623, 'отобрать': 13624, 'зарегистрировать': 13625, 'наезжать': 13626, 'примечательно': 13627, 'трансакция': 13628, 'вымотать': 13629, 'дребезжать': 13630, 'последний': 13631, 'чистоплотный': 13632, 'бора': 13633, 'копчёный': 13634, 'бонус': 13635, 'консулат': 13636, 'выпроводить': 13637, 'убивать': 13638, 'собутыльник': 13639, 'сковорода': 13640, 'строительство': 13641, 'проехать': 13642, 'планшет': 13643, 'заплатка': 13644, 'настелить': 13645, 'твердить': 13646, 'грязнющий': 13647, 'подкрасить': 13648, 'темноватый': 13649, 'приписывать': 13650, 'зубочистка': 13651, 'табло': 13652, 'присоединить': 13653, 'уменьшиться': 13654, 'разгрузить': 13655, 'перекинуть': 13656, 'дозвониться': 13657, 'поручение': 13658, 'метаться': 13659, 'алоэ': 13660, 'догулять': 13661, 'зенит': 13662, 'внимание': 13663, 'усреднить': 13664, 'докупать': 13665, 'целевой': 13666, 'гостиничный': 13667, 'экономный': 13668, 'билет': 13669, 'доверие': 13670, 'буйствовать': 13671, 'окончательный': 13672, 'заряд': 13673, 'высаживать': 13674, 'уильям': 13675, 'выезжать': 13676, 'отвесный': 13677, 'приравниваться': 13678, 'просторный': 13679, 'честность': 13680, 'извести': 13681, 'питер': 13682, 'увезти': 13683, 'присниться': 13684, 'некачественно': 13685, 'скучноватый': 13686, 'отговорить': 13687, 'бинт': 13688, 'лай': 13689, 'мелочь': 13690, 'логичный': 13691, 'насторожить': 13692, 'бюро': 13693, 'кипение': 13694, 'отказаться': 13695, 'знаменитость': 13696, 'изумить': 13697, 'искупать': 13698, 'тряпочка': 13699, 'покрывало': 13700, 'след': 13701, 'пиковый': 13702, 'задаток': 13703, 'задушить': 13704, 'сточный': 13705, 'зашарпать': 13706, 'смелый': 13707, 'поношенность': 13708, 'жемчужина': 13709, 'такси': 13710, 'угадываться': 13711, 'предполагаться': 13712, 'рубенс': 13713, 'пробурчать': 13714, 'томатный': 13715, 'прыгать': 13716, 'вбивать': 13717, 'дура': 13718, 'трап': 13719, 'авиарейс': 13720, 'палатка': 13721, 'кухонный': 13722, 'сосуществовать': 13723, 'жабка': 13724, 'джаз': 13725, 'прижиматься': 13726, 'орт': 13727, 'освежиться': 13728, 'эмоциональный': 13729, 'щелчок': 13730, 'минарет': 13731, 'подтекать': 13732, 'толкание': 13733, 'разноцветный': 13734, 'наклониться': 13735, 'доброжелательный': 13736, 'починка': 13737, 'долетать': 13738, 'меркнуть': 13739, 'особенно': 13740, 'челябинск': 13741, 'полудохлый': 13742, 'осторожный': 13743, 'коридорный': 13744, 'болезненно': 13745, 'заначка': 13746, 'выселять': 13747, 'неладный': 13748, 'бутылочка': 13749, 'избаловать': 13750, 'занимательный': 13751, 'втридорога': 13752, 'выжать': 13753, 'некондиционный': 13754, 'бесчестный': 13755, 'вахтёрша': 13756, 'звонок': 13757, 'проходиться': 13758, 'перегородка': 13759, 'загажена': 13760, 'насмерть': 13761, 'доводиться': 13762, 'замучить': 13763, 'топор': 13764, 'халтурить': 13765, 'лепестковый': 13766, 'экзотика': 13767, 'стасик': 13768, 'ведать': 13769, 'паспорт': 13770, 'зачёт': 13771, 'описание': 13772, 'плечо': 13773, 'боязнь': 13774, 'п': 13775, 'фанерный': 13776, 'синева': 13777, 'огонь': 13778, 'дворовый': 13779, 'булочный': 13780, 'шестидесятый': 13781, 'бурный': 13782, 'утомиться': 13783, 'столб': 13784, 'пристань': 13785, 'насмотреться': 13786, 'влезать': 13787, 'кислый': 13788, 'берн': 13789, 'прибыток': 13790, 'дихлофос': 13791, 'гарнир': 13792, 'пересластить': 13793, 'холодноватый': 13794, 'завернуться': 13795, 'наплевательство': 13796, 'чудный': 13797, 'детективный': 13798, 'некомфортный': 13799, 'разорваться': 13800, 'несомненный': 13801, 'роллер': 13802, 'негрязный': 13803, 'жидкий': 13804, 'полоска': 13805, 'трава': 13806, 'вица': 13807, 'перевес': 13808, 'подвох': 13809, 'обнаружение': 13810, 'подцепить': 13811, 'бешеный': 13812, 'конфликтный': 13813, 'чувствоваться': 13814, 'поселить': 13815, 'услышать': 13816, 'ленин': 13817, 'расположенный': 13818, 'царапина': 13819, 'биде': 13820, 'наступать': 13821, 'невнимательно': 13822, 'миленький': 13823, 'рассматривать': 13824, 'дорожка': 13825, 'обыскивать': 13826, 'монумент': 13827, 'благодарить': 13828, 'ошеломительный': 13829, 'совещание': 13830, 'пляжный': 13831, 'пачка': 13832, 'кредит': 13833, 'восторгаться': 13834, 'беговой': 13835, 'пятно': 13836, 'умыться': 13837, 'натоптать': 13838, 'матрац': 13839, 'отладить': 13840, 'кабачок': 13841, 'конюшня': 13842, 'тотчас': 13843, 'непринципиально': 13844, 'рвотный': 13845, 'полчище': 13846, 'несуразно': 13847, 'примерно': 13848, 'мощность': 13849, 'надуманный': 13850, 'ежедневный': 13851, 'довод': 13852, 'мистический': 13853, 'умысел': 13854, 'помотаться': 13855, 'поиметь': 13856, 'слабоумный': 13857, 'снегоуборочный': 13858, 'сравнимый': 13859, 'сворачивать': 13860, 'подышать': 13861, 'прежний': 13862, 'продолжать': 13863, 'журнальный': 13864, 'оное': 13865, 'морфей': 13866, 'чудно': 13867, 'путник': 13868, 'взвешивать': 13869, 'обуться': 13870, 'рыжий': 13871, 'маскироваться': 13872, 'полноценный': 13873, 'отодвинуть': 13874, 'прихлопнуть': 13875, 'екатерина': 13876, 'трубный': 13877, 'наутро': 13878, 'плесень': 13879, 'недостроенный': 13880, 'спелый': 13881, 'наезд': 13882, 'некомпетентный': 13883, 'усиление': 13884, 'королевство': 13885, 'общение': 13886, 'шнур': 13887, 'дюйм': 13888, 'упокоиться': 13889, 'мизерный': 13890, 'рекламироваться': 13891, 'поперёк': 13892, 'блюдце': 13893, 'иначе': 13894, 'изображать': 13895, 'помечать': 13896, 'налюбоваться': 13897, 'обобщать': 13898, 'нечистый': 13899, 'спрайт': 13900, 'краткий': 13901, 'резина': 13902, 'оговорка': 13903, 'завершать': 13904, 'тумба': 13905, 'отстаивание': 13906, 'дон': 13907, 'получить': 13908, 'девиз': 13909, 'вызывающий': 13910, 'должное': 13911, 'ломтик': 13912, 'пётр': 13913, 'фильтр': 13914, 'покрывать': 13915, 'выползти': 13916, 'зона': 13917, 'старьё': 13918, 'отказать': 13919, 'наскоро': 13920, 'клетка': 13921, 'дяденька': 13922, 'промышленник': 13923, 'стильный': 13924, 'праздновать': 13925, 'туча': 13926, 'круп': 13927, 'потребление': 13928, 'переставать': 13929, 'завтрак': 13930, 'лжец': 13931, 'тесновато': 13932, 'маленько': 13933, 'продуть': 13934, 'нехорошо': 13935, 'пружинка': 13936, 'заяц': 13937, 'взимать': 13938, 'протечка': 13939, 'вызыв': 13940, 'ситуация': 13941, 'перемигиваться': 13942, 'дикий': 13943, 'складный': 13944, 'замечательный': 13945, 'ер': 13946, 'перекладина': 13947, 'разориться': 13948, 'преувеличение': 13949, 'охи': 13950, 'подсвечивать': 13951, 'вымогатель': 13952, 'кстати': 13953, 'парижанка': 13954, 'интенсивный': 13955, 'обосновывать': 13956, 'стресс': 13957, 'проточный': 13958, 'включение': 13959, 'шарахнуться': 13960, 'грубоватый': 13961, 'отчётливо': 13962, 'серпантин': 13963, 'переживать': 13964, 'перемотать': 13965, 'большой': 13966, 'капюшон': 13967, 'давиться': 13968, 'обучаться': 13969, 'кружиться': 13970, 'обмотать': 13971, 'экспериментировать': 13972, 'система': 13973, 'заботливо': 13974, 'припустить': 13975, 'антенна': 13976, 'путь': 13977, 'сократиться': 13978, 'поддерживать': 13979, 'вблизи': 13980, 'гвоздь': 13981, 'ржавчина': 13982, 'пьянить': 13983, 'египетский': 13984, 'испанский': 13985, 'шокировать': 13986, 'расставлять': 13987, 'поглядеть': 13988, 'снизить': 13989, 'диоген': 13990, 'клерк': 13991, 'придать': 13992, 'полуостров': 13993, 'милость': 13994, 'оливковый': 13995, 'бранденбургский': 13996, 'пункт': 13997, 'хитроумный': 13998, 'спешка': 13999, 'отражённый': 14000, 'запудрить': 14001, 'бабка': 14002, 'шоссе': 14003, 'нота': 14004, 'спасаться': 14005, 'напрочь': 14006, 'альтернатива': 14007, 'студенческий': 14008, 'пришлёпнуть': 14009, 'следующий': 14010, 'сволочь': 14011, 'просыпаться': 14012, 'пять': 14013, 'совокупность': 14014, 'нагреватель': 14015, 'испариться': 14016, 'истерически': 14017, 'обречь': 14018, 'взорвать': 14019, 'завысить': 14020, 'райский': 14021, 'лор': 14022, 'отправляться': 14023, 'строка': 14024, 'запарковаться': 14025, 'незнакомый': 14026, 'затихнуть': 14027, 'керамический': 14028, 'супер': 14029, 'недоработка': 14030, 'клеточка': 14031, 'кровяной': 14032, 'помойка': 14033, 'упражняться': 14034, 'ступенька': 14035, 'ткнуть': 14036, 'рассудок': 14037, 'облупиться': 14038, 'выцыганить': 14039, 'отбойный': 14040, 'стая': 14041, 'соотноситься': 14042, 'продолжение': 14043, 'отыскать': 14044, 'пушка': 14045, 'арка': 14046, 'обновиться': 14047, 'медик': 14048, 'обитаемый': 14049, 'зарплата': 14050, 'пятикратный': 14051, 'докупить': 14052, 'удивлённый': 14053, 'попадать': 14054, 'вливание': 14055, 'вписать': 14056, 'последующий': 14057, 'сознательно': 14058, 'бетономешалка': 14059, 'боковой': 14060, 'безвыходный': 14061, 'культура': 14062, 'аккуратность': 14063, 'муха': 14064, 'прозвучать': 14065, 'подросток': 14066, 'оперный': 14067, 'сарагоса': 14068, 'коллекционировать': 14069, 'шуба': 14070, 'ницца': 14071, 'складировать': 14072, 'дизайнер': 14073, 'позавтракать': 14074, 'атмосферный': 14075, 'оханье': 14076, 'утонуть': 14077, 'любезный': 14078, 'оправдание': 14079, 'отсекать': 14080, 'создавать': 14081, 'неторопливый': 14082, 'одобрить': 14083, 'парковаться': 14084, 'нерв': 14085, 'свалить': 14086, 'покер': 14087, 'клопиный': 14088, 'джунгли': 14089, 'домой': 14090, 'получать': 14091, 'примирить': 14092, 'камин': 14093, 'старичок': 14094, 'попадаться': 14095, 'изысканный': 14096, 'марк': 14097, 'разлиться': 14098, 'зайти': 14099, 'калибр': 14100, 'аккомпанемент': 14101, 'бронировать': 14102, 'крылышко': 14103, 'наспех': 14104, 'приоткрыть': 14105, 'сдуть': 14106, 'лимон': 14107, 'слушаться': 14108, 'оголить': 14109, 'шумен': 14110, 'невоспитанный': 14111, 'спецобслуживание': 14112, 'прогноз': 14113, 'расшибить': 14114, 'гинеколог': 14115, 'профессионал': 14116, 'ботать': 14117, 'потеплеть': 14118, 'сгрызть': 14119, 'заплыв': 14120, 'удерживать': 14121, 'утащить': 14122, 'экстерьер': 14123, 'лаконичность': 14124, 'предположительно': 14125, 'иностранный': 14126, 'лимонов': 14127, 'довольствоваться': 14128, 'разлетаться': 14129, 'мотаться': 14130, 'скупой': 14131, 'коннект': 14132, 'экспрессивный': 14133, 'покачаться': 14134, 'выгружать': 14135, 'твёрдый': 14136, 'китаянка': 14137, 'регистрационный': 14138, 'дозваться': 14139, 'батон': 14140, 'авиалиния': 14141, 'разрядить': 14142, 'вроде': 14143, 'противостоять': 14144, 'жутковатый': 14145, 'нога': 14146, 'знакомство': 14147, 'доска': 14148, 'трясти': 14149, 'угоститься': 14150, 'объясняться': 14151, 'оторопь': 14152, 'усмотрение': 14153, 'фанера': 14154, 'ранение': 14155, 'снижаться': 14156, 'просрочить': 14157, 'стальной': 14158, 'обычный': 14159, 'абстрагироваться': 14160, 'животинка': 14161, 'конфуз': 14162, 'путешествовать': 14163, 'блондин': 14164, 'скутер': 14165, 'поклонник': 14166, 'срастись': 14167, 'европеец': 14168, 'соседский': 14169, 'затрапезный': 14170, 'кофейный': 14171, 'спутниковый': 14172, 'платочек': 14173, 'отпуск': 14174, 'рекламный': 14175, 'лишаться': 14176, 'выдел': 14177, 'зашибиться': 14178, 'преподносить': 14179, 'ален': 14180, 'болгарка': 14181, 'счёт': 14182, 'дезинфицировать': 14183, 'аром': 14184, 'хохлушка': 14185, 'агрегат': 14186, 'традиционно': 14187, 'стенать': 14188, 'подогнать': 14189, 'клёвый': 14190, 'прожог': 14191, 'впрямь': 14192, 'читатель': 14193, 'детсад': 14194, 'квт': 14195, 'кипятильник': 14196, 'эконом': 14197, 'трепать': 14198, 'отличительный': 14199, 'штат': 14200, 'дополнительный': 14201, 'экстренный': 14202, 'подарок': 14203, 'сонный': 14204, 'выражение': 14205, 'прошлый': 14206, 'акробат': 14207, 'неудобно': 14208, 'предпочтительный': 14209, 'исход': 14210, 'недостижимый': 14211, 'франс': 14212, 'гора': 14213, 'язычный': 14214, 'отчитать': 14215, 'ягода': 14216, 'пианино': 14217, 'утаскивать': 14218, 'сквозняк': 14219, 'служить': 14220, 'раскраска': 14221, 'обесточить': 14222, 'крохотный': 14223, 'петух': 14224, 'тумбочка': 14225, 'типичный': 14226, 'степень': 14227, 'наскучить': 14228, 'сквозить': 14229, 'конкурент': 14230, 'самолётный': 14231, 'освещаться': 14232, 'эмаль': 14233, 'покидать': 14234, 'нагреваться': 14235, 'стыдно': 14236, 'папайя': 14237, 'середина': 14238, 'песнопение': 14239, 'питать': 14240, 'воздержаться': 14241, 'засылаться': 14242, 'бабочка': 14243, 'задубеть': 14244, 'разговорник': 14245, 'лубянка': 14246, 'надорвать': 14247, 'вахта': 14248, 'буёк': 14249, 'требовательно': 14250, 'недешёвый': 14251, 'топать': 14252, 'лес': 14253, 'кинг': 14254, 'донимать': 14255, 'хит': 14256, 'стыковка': 14257, 'припоздниться': 14258, 'прогревать': 14259, 'недоступный': 14260, 'драгоценность': 14261, 'фоновый': 14262, 'преимущество': 14263, 'передохнуть': 14264, 'болгария': 14265, 'манить': 14266, 'бытовой': 14267, 'гвоздик': 14268, 'переть': 14269, 'июнь': 14270, 'подгулять': 14271, 'бровь': 14272, 'нечётный': 14273, 'щипчики': 14274, 'полезность': 14275, 'работоспособный': 14276, 'облегчение': 14277, 'расправлять': 14278, 'засовывание': 14279, 'бесперспективный': 14280, 'мадлен': 14281, 'лезвие': 14282, 'пустота': 14283, 'вполне': 14284, 'выживание': 14285, 'док': 14286, 'заблаговременно': 14287, 'извиниться': 14288, 'скорость': 14289, 'бессовестный': 14290, 'кровный': 14291, 'одиночество': 14292, 'ящичек': 14293, 'вечеро': 14294, 'смыслить': 14295, 'существующий': 14296, 'пружинный': 14297, 'подобать': 14298, 'прокомпостировать': 14299, 'мычать': 14300, 'черногория': 14301, 'изучение': 14302, 'контактировать': 14303, 'лохмотья': 14304, 'стихия': 14305, 'православный': 14306, 'будний': 14307, 'дружно': 14308, 'способный': 14309, 'чень': 14310, 'паб': 14311, 'кивать': 14312, 'сориентировать': 14313, 'шрифт': 14314, 'мелковатый': 14315, 'помидор': 14316, 'магнолия': 14317, 'запинаться': 14318, 'слизь': 14319, 'дедукция': 14320, 'курица': 14321, 'пересадка': 14322, 'завтра': 14323, 'исправлять': 14324, 'молния': 14325, 'стеклить': 14326, 'заварочный': 14327, 'рюкзачок': 14328, 'отвозить': 14329, 'закрыться': 14330, 'свидетель': 14331, 'вычислить': 14332, 'безрезультатно': 14333, 'южанин': 14334, 'тюлений': 14335, 'топтаться': 14336, 'уткнуться': 14337, 'дебет': 14338, 'оплачиваться': 14339, 'отойти': 14340, 'сойтись': 14341, 'неразбавленный': 14342, 'шлейф': 14343, 'окно': 14344, 'срам': 14345, 'минуть': 14346, 'зараза': 14347, 'покрутить': 14348, 'ракушка': 14349, 'максимум': 14350, 'плетение': 14351, 'наматрасник': 14352, 'честной': 14353, 'мо': 14354, 'свисать': 14355, 'просунуться': 14356, 'несчётный': 14357, 'омывать': 14358, 'аплодисменты': 14359, 'лама': 14360, 'вьющийся': 14361, 'укладывать': 14362, 'поверхностно': 14363, 'соответственный': 14364, 'толкнуть': 14365, 'оскорбительно': 14366, 'амбарный': 14367, 'захолустный': 14368, 'прикраса': 14369, 'шлем': 14370, 'претензия': 14371, 'вверху': 14372, 'нежилой': 14373, 'яз': 14374, 'семит': 14375, 'набегаться': 14376, 'несравненный': 14377, 'соревноваться': 14378, 'наволочка': 14379, 'консульство': 14380, 'вонючий': 14381, 'пуск': 14382, 'усердие': 14383, 'разрушить': 14384, 'экспо': 14385, 'запрос': 14386, 'расстилание': 14387, 'прогреть': 14388, 'услужливый': 14389, 'купальник': 14390, 'электрокар': 14391, 'глупость': 14392, 'неимоверно': 14393, 'припарковаться': 14394, 'обрядный': 14395, 'вырубить': 14396, 'инспекция': 14397, 'десять': 14398, 'кипяточек': 14399, 'облезть': 14400, 'сплошь': 14401, 'ватка': 14402, 'подъездный': 14403, 'селить': 14404, 'живность': 14405, 'отвратно': 14406, 'подловить': 14407, 'трёхдневный': 14408, 'процесс': 14409, 'неправдоподобный': 14410, 'асфальт': 14411, 'родина': 14412, 'обратно': 14413, 'девятый': 14414, 'беспрерывно': 14415, 'разблокированный': 14416, 'достраивать': 14417, 'софийский': 14418, 'полевой': 14419, 'достаться': 14420, 'сочетание': 14421, 'постучать': 14422, 'обрывок': 14423, 'дань': 14424, 'трансатлантический': 14425, 'погода': 14426, 'преподнести': 14427, 'совместный': 14428, 'наобещать': 14429, 'анохин': 14430, 'итальянский': 14431, 'коробить': 14432, 'безвкусно': 14433, 'лазурно': 14434, 'гордо': 14435, 'тошнить': 14436, 'оговариваться': 14437, 'корить': 14438, 'одело': 14439, 'извещение': 14440, 'лягушатник': 14441, 'карда': 14442, 'столпотворение': 14443, 'таджик': 14444, 'мелочиться': 14445, 'ночлежка': 14446, 'присесть': 14447, 'чековый': 14448, 'цезарь': 14449, 'яуза': 14450, 'посещать': 14451, 'содержание': 14452, 'мёд': 14453, 'приземлиться': 14454, 'отпасть': 14455, 'оплошать': 14456, 'технический': 14457, 'очко': 14458, 'крупно': 14459, 'поддувать': 14460, 'кит': 14461, 'динамо': 14462, 'граничить': 14463, 'осень': 14464, 'навещать': 14465, 'отбирать': 14466, 'межсезонье': 14467, 'каменка': 14468, 'удовлетворительно': 14469, 'шашлычок': 14470, 'нашествие': 14471, 'больничный': 14472, 'разминка': 14473, 'плач': 14474, 'запахнуть': 14475, 'устареть': 14476, 'придумать': 14477, 'отварить': 14478, 'затрудняться': 14479, 'симпозиум': 14480, 'призыв': 14481, 'ватрушка': 14482, 'скончаться': 14483, 'вестись': 14484, 'подпереть': 14485, 'лабиринт': 14486, 'заразиться': 14487, 'география': 14488, 'феноменальный': 14489, 'перевезти': 14490, 'некогда': 14491, 'облапошить': 14492, 'тренировка': 14493, 'издёргать': 14494, 'причинить': 14495, 'вытирание': 14496, 'повариха': 14497, 'сезон': 14498, 'мазут': 14499, 'хранение': 14500, 'веселеть': 14501, 'крошечный': 14502, 'подселиться': 14503, 'неровный': 14504, 'ответственность': 14505, 'туристический': 14506, 'жидкость': 14507, 'фантастически': 14508, 'скумбрия': 14509, 'копейка': 14510, 'банкетный': 14511, 'заселяться': 14512, 'рукав': 14513, 'конкурентоспособный': 14514, 'отвязаться': 14515, 'вылет': 14516, 'стабилизировать': 14517, 'мотор': 14518, 'подключиться': 14519, 'замусолить': 14520, 'кислятина': 14521, 'травить': 14522, 'бокальчик': 14523, 'платье': 14524, 'неделя': 14525, 'терморегулятор': 14526, 'горничная': 14527, 'кафе': 14528, 'должный': 14529, 'пренебрегать': 14530, 'дописать': 14531, 'четвёрка': 14532, 'налезть': 14533, 'пробка': 14534, 'замашка': 14535, 'подёргать': 14536, 'второй': 14537, 'настояние': 14538, 'барашек': 14539, 'наряду': 14540, 'стон': 14541, 'обобрать': 14542, 'подготовка': 14543, 'гаркнуть': 14544, 'цепляться': 14545, 'останки': 14546, 'граффити': 14547, 'прохаживаться': 14548, 'спалиться': 14549, 'параллель': 14550, 'пола': 14551, 'конференция': 14552, 'запущенность': 14553, 'федерация': 14554, 'переписываться': 14555, 'последовать': 14556, 'работник': 14557, 'цивилизация': 14558, 'закрываться': 14559, 'цветочный': 14560, 'вок': 14561, 'очерк': 14562, 'туго': 14563, 'расселение': 14564, 'идиотизм': 14565, 'экономический': 14566, 'обложка': 14567, 'пи': 14568, 'бояться': 14569, 'костыль': 14570, 'купаться': 14571, 'закачать': 14572, 'мир': 14573, 'новинка': 14574, 'озарение': 14575, 'бережный': 14576, 'массаж': 14577, 'здешний': 14578, 'получасовой': 14579, 'ничто': 14580, 'подписаться': 14581, 'холодный': 14582, 'заикнуться': 14583, 'рабочий': 14584, 'имхо': 14585, 'снаряд': 14586, 'сделать': 14587, 'мошка': 14588, 'залив': 14589, 'двухспальный': 14590, 'наличные': 14591, 'высыхать': 14592, 'новаторский': 14593, 'незакреплённый': 14594, 'симпатичный': 14595, 'вороватый': 14596, 'штрафовать': 14597, 'электропередача': 14598, 'придраться': 14599, 'уронить': 14600, 'суточный': 14601, 'обветрить': 14602, 'наждачный': 14603, 'сравнение': 14604, 'пользоваться': 14605, 'договорный': 14606, 'корка': 14607, 'зашкаленный': 14608, 'беларусь': 14609, 'оригинал': 14610, 'выставка': 14611, 'недопустимый': 14612, 'попроситься': 14613, 'интеллигенция': 14614, 'поколоть': 14615, 'останавливать': 14616, 'гиена': 14617, 'грозить': 14618, 'обделить': 14619, 'пост': 14620, 'воспитаться': 14621, 'террариум': 14622, 'гель': 14623, 'шестой': 14624, 'застать': 14625, 'выборочно': 14626, 'ограничить': 14627, 'полагаться': 14628, 'проходить': 14629, 'вель': 14630, 'вытертый': 14631, 'спрятаться': 14632, 'наверно': 14633, 'встроенный': 14634, 'вымазать': 14635, 'кафельный': 14636, 'охраняться': 14637, 'досидеть': 14638, 'находить': 14639, 'звониться': 14640, 'утвердительно': 14641, 'доходчиво': 14642, 'заканчиваться': 14643, 'проблематичный': 14644, 'скала': 14645, 'бучить': 14646, 'избежать': 14647, 'поварской': 14648, 'выводить': 14649, 'огромный': 14650, 'малосолёный': 14651, 'перекрикивание': 14652, 'порча': 14653, 'бирка': 14654, 'стереться': 14655, 'сущность': 14656, 'трон': 14657, 'адресат': 14658, 'прелестный': 14659, 'шестиэтажный': 14660, 'смываться': 14661, 'самоудовлетворение': 14662, 'обставить': 14663, 'укромный': 14664, 'взыскивать': 14665, 'конфиденциальность': 14666, 'задача': 14667, 'авангардный': 14668, 'нона': 14669, 'средина': 14670, 'чинно': 14671, 'владислав': 14672, 'обрисовать': 14673, 'вздутый': 14674, 'веник': 14675, 'э': 14676, 'забираться': 14677, 'потягивать': 14678, 'часы': 14679, 'немаленький': 14680, 'напоказ': 14681, 'срабатывать': 14682, 'пополам': 14683, 'ахи': 14684, 'перегнуть': 14685, 'особа': 14686, 'восполнять': 14687, 'серьга': 14688, 'премиальный': 14689, 'круг': 14690, 'пристройка': 14691, 'затянутый': 14692, 'дисконт': 14693, 'утянуть': 14694, 'суматоха': 14695, 'наличность': 14696, 'посредственный': 14697, 'испугаться': 14698, 'грошовый': 14699, 'почернеть': 14700, 'разница': 14701, 'морковный': 14702, 'рассказывать': 14703, 'нести': 14704, 'стелла': 14705, 'функциональность': 14706, 'придираться': 14707, 'малый': 14708, 'сгладить': 14709, 'недоплатить': 14710, 'каление': 14711, 'май': 14712, 'айсберг': 14713, 'хлынуть': 14714, 'увозить': 14715, 'нижележащий': 14716, 'обжигаться': 14717, 'обрадовать': 14718, 'зрительный': 14719, 'измениться': 14720, 'чертовый': 14721, 'неограниченно': 14722, 'истеричный': 14723, 'малышок': 14724, 'приступить': 14725, 'больница': 14726, 'впечатление': 14727, 'апофеоз': 14728, 'поразить': 14729, 'сборщик': 14730, 'непривлекательный': 14731, 'отловить': 14732, 'особенность': 14733, 'пастись': 14734, 'понизиться': 14735, 'символичный': 14736, 'приточный': 14737, 'просто': 14738, 'пролететь': 14739, 'самоуважение': 14740, 'созывать': 14741, 'предъявление': 14742, 'уживаться': 14743, 'шарить': 14744, 'маломощный': 14745, 'смещение': 14746, 'обратиться': 14747, 'бобовый': 14748, 'неквалифицированный': 14749, 'выстирать': 14750, 'упорство': 14751, 'мери': 14752, 'камень': 14753, 'газета': 14754, 'ворчать': 14755, 'содрогание': 14756, 'прошедшее': 14757, 'регулярно': 14758, 'жизненный': 14759, 'мельком': 14760, 'отчий': 14761, 'месячный': 14762, 'апогей': 14763, 'критически': 14764, 'критика': 14765, 'выглядывать': 14766, 'сервиз': 14767, 'децибел': 14768, 'высоковатый': 14769, 'улетучиваться': 14770, 'олимпийский': 14771, 'кружок': 14772, 'ответить': 14773, 'миллиард': 14774, 'шоколадка': 14775, 'допустимый': 14776, 'барабанный': 14777, 'ненарочно': 14778, 'прятать': 14779, 'исправимый': 14780, 'артист': 14781, 'сарайный': 14782, 'кружка': 14783, 'размывать': 14784, 'конёк': 14785, 'почитать': 14786, 'компенсировать': 14787, 'превосходящий': 14788, 'безнадёжный': 14789, 'надземный': 14790, 'занавесь': 14791, 'напрашиваться': 14792, 'молчание': 14793, 'заказной': 14794, 'инструктор': 14795, 'невзрачный': 14796, 'наземный': 14797, 'завозить': 14798, 'рыба': 14799, 'отметить': 14800, 'производиться': 14801, 'сберечь': 14802, 'рояль': 14803, 'придавать': 14804, 'полиция': 14805, 'рубильник': 14806, 'притон': 14807, 'подавить': 14808, 'шерсть': 14809, 'полбеды': 14810, 'казнь': 14811, 'монолитный': 14812, 'упустить': 14813, 'выставочный': 14814, 'заблагорассудиться': 14815, 'приедаться': 14816, 'метка': 14817, 'термостат': 14818, 'выгружаться': 14819, 'безлюдный': 14820, 'улюлюкать': 14821, 'массово': 14822, 'казино': 14823, 'пахать': 14824, 'косой': 14825, 'опротестование': 14826, 'призма': 14827, 'стопка': 14828, 'либеральный': 14829, 'исполнитель': 14830, 'попасться': 14831, 'прибираться': 14832, 'лишать': 14833, 'гном': 14834, 'предстать': 14835, 'вьетнам': 14836, 'дожидаться': 14837, 'мастер': 14838, 'томиться': 14839, 'контактный': 14840, 'шикарно': 14841, 'практиковаться': 14842, 'переехать': 14843, 'компенсация': 14844, 'батарея': 14845, 'хмурый': 14846, 'бутерброд': 14847, 'нож': 14848, 'козявка': 14849, 'промёрзнуть': 14850, 'поблизости': 14851, 'лимит': 14852, 'посторонний': 14853, 'конец': 14854, 'немощный': 14855, 'надеяться': 14856, 'номерок': 14857, 'боязно': 14858, 'годичный': 14859, 'подливать': 14860, 'удивить': 14861, 'озвучить': 14862, 'далее': 14863, 'фабрика': 14864, 'блевать': 14865, 'бублик': 14866, 'просматривать': 14867, 'залежь': 14868, 'трата': 14869, 'добродушно': 14870, 'необузданный': 14871, 'перелёт': 14872, 'угощать': 14873, 'раздвинуть': 14874, 'пробыть': 14875, 'смешанный': 14876, 'едва': 14877, 'катышек': 14878, 'твёрдость': 14879, 'отстегнуться': 14880, 'кпсс': 14881, 'зарегистрироваться': 14882, 'сперва': 14883, 'дедушка': 14884, 'ликвидировать': 14885, 'заниматься': 14886, 'увидеть': 14887, 'весенний': 14888, 'перекрыть': 14889, 'купиться': 14890, 'найти': 14891, 'беженец': 14892, 'фотоаппарат': 14893, 'возобновить': 14894, 'убедительно': 14895, 'мм': 14896, 'урываться': 14897, 'присоединиться': 14898, 'фен': 14899, 'спиртной': 14900, 'передвигаться': 14901, 'жизнерадостный': 14902, 'согнуться': 14903, 'велодром': 14904, 'ненужный': 14905, 'подъезжать': 14906, 'газ': 14907, 'обязанность': 14908, 'плёнка': 14909, 'тусовка': 14910, 'италия': 14911, 'теоретически': 14912, 'опасение': 14913, 'загнать': 14914, 'мебель': 14915, 'потухать': 14916, 'далеко': 14917, 'дамочка': 14918, 'незнание': 14919, 'отапливать': 14920, 'забор': 14921, 'переселение': 14922, 'шёпот': 14923, 'назад': 14924, 'возвратный': 14925, 'тур': 14926, 'отстираться': 14927, 'аккорд': 14928, 'сланец': 14929, 'давление': 14930, 'открыть': 14931, 'подобострастие': 14932, 'уносить': 14933, 'отклеиваться': 14934, 'пластик': 14935, 'гудение': 14936, 'предоставляться': 14937, 'аккуратненький': 14938, 'прибирать': 14939, 'лупа': 14940, 'шпаклёвка': 14941, 'андрей': 14942, 'чувствительный': 14943, 'энергия': 14944, 'куст': 14945, 'добиться': 14946, 'отдел': 14947, 'горничный': 14948, 'облюбовать': 14949, 'заполонить': 14950, 'новостной': 14951, 'согреть': 14952, 'ночевать': 14953, 'вправо': 14954, 'очаровать': 14955, 'каталанский': 14956, 'запечатать': 14957, 'отчётность': 14958, 'ковшик': 14959, 'разъяснение': 14960, 'дубль': 14961, 'арнольд': 14962, 'пожелать': 14963, 'козлов': 14964, 'недавно': 14965, 'слить': 14966, 'заходить': 14967, 'примечательный': 14968, 'концептуально': 14969, 'хватить': 14970, 'сувенирный': 14971, 'шоколадница': 14972, 'раненый': 14973, 'ирландский': 14974, 'приграничный': 14975, 'выставляться': 14976, 'денис': 14977, 'въезжать': 14978, 'странность': 14979, 'месяц': 14980, 'заработок': 14981, 'отсталый': 14982, 'съехаться': 14983, 'ужасно': 14984, 'штанга': 14985, 'скверна': 14986, 'сера': 14987, 'подсобка': 14988, 'колебаться': 14989, 'набор': 14990, 'лежачий': 14991, 'закругляться': 14992, 'дарить': 14993, 'сохранение': 14994, 'денежный': 14995, 'слегка': 14996, 'сафари': 14997, 'выезд': 14998, 'усатый': 14999, 'ложа': 15000, 'зонтик': 15001, 'римский': 15002, 'добиваться': 15003, 'закатать': 15004, 'переместиться': 15005, 'латный': 15006, 'удалённость': 15007, 'сучение': 15008, 'палас': 15009, 'накидка': 15010, 'программировать': 15011, 'бесцеремонно': 15012, 'ежегодно': 15013, 'страница': 15014, 'валентина': 15015, 'сбор': 15016, 'разительно': 15017, 'бегство': 15018, 'одолеть': 15019, 'неблагоустроенный': 15020, 'акцентироваться': 15021, 'загс': 15022, 'жир': 15023, 'заполнение': 15024, 'липучка': 15025, 'недоверие': 15026, 'вложение': 15027, 'весть': 15028, 'расхвалить': 15029, 'отрезать': 15030, 'дезинформация': 15031, 'исключать': 15032, 'патио': 15033, 'рваться': 15034, 'крутить': 15035, 'вышеизложенный': 15036, 'лысый': 15037, 'плюнуть': 15038, 'кошечка': 15039, 'подолгу': 15040, 'замешкаться': 15041, 'удар': 15042, 'убирать': 15043, 'голый': 15044, 'совмещение': 15045, 'непрерывный': 15046, 'обидно': 15047, 'нарастить': 15048, 'монетка': 15049, 'поверка': 15050, 'вместе': 15051, 'мастика': 15052, 'завышенный': 15053, 'мажор': 15054, 'мёрзлый': 15055, 'ленинский': 15056, 'извилистый': 15057, 'отсечение': 15058, 'нудист': 15059, 'символ': 15060, 'иностранец': 15061, 'макс': 15062, 'опираться': 15063, 'вписаться': 15064, 'кастрюлька': 15065, 'акклиматизация': 15066, 'мчаться': 15067, 'устройство': 15068, 'генератор': 15069, 'газа': 15070, 'казус': 15071, 'индивидуально': 15072, 'невнятный': 15073, 'порог': 15074, 'романтический': 15075, 'поспешить': 15076, 'подмазать': 15077, 'выбрать': 15078, 'сложено': 15079, 'кошмарно': 15080, 'одеон': 15081, 'кипеть': 15082, 'поросёнок': 15083, 'тенерифе': 15084, 'турник': 15085, 'грызло': 15086, 'рецепция': 15087, 'рисунок': 15088, 'одеть': 15089, 'убрать': 15090, 'будущее': 15091, 'придача': 15092, 'нестрашно': 15093, 'коптить': 15094, 'эко': 15095, 'расход': 15096, 'незащищённый': 15097, 'малое': 15098, 'подтопить': 15099, 'обесцветить': 15100, 'лютовать': 15101, 'формальный': 15102, 'роман': 15103, 'расселить': 15104, 'ронять': 15105, 'испражнение': 15106, 'заглушить': 15107, 'обегать': 15108, 'вентиляционный': 15109, 'фи': 15110, 'восьмидесятый': 15111, 'засыпать': 15112, 'тесноватый': 15113, 'захлопывать': 15114, 'болтаться': 15115, 'издать': 15116, 'догадаться': 15117, 'нащупать': 15118, 'благополучие': 15119, 'тренировать': 15120, 'выпирать': 15121, 'сломанный': 15122, 'зависимый': 15123, 'телодвижение': 15124, 'статуэтка': 15125, 'баловать': 15126, 'работать': 15127, 'притеснение': 15128, 'подсознательно': 15129, 'высококвалифицированный': 15130, 'привязывать': 15131, 'правильность': 15132, 'полюбиться': 15133, 'нуль': 15134, 'защищать': 15135, 'перегореть': 15136, 'приветствие': 15137, 'старинный': 15138, 'окружать': 15139, 'спороть': 15140, 'род': 15141, 'мороз': 15142, 'дистанция': 15143, 'припомнить': 15144, 'топтание': 15145, 'субботник': 15146, 'таращиться': 15147, 'выторговать': 15148, 'болотце': 15149, 'давнишний': 15150, 'забивание': 15151, 'разблокировка': 15152, 'менять': 15153, 'понести': 15154, 'бросить': 15155, 'повлиять': 15156, 'локальный': 15157, 'бастовать': 15158, 'радостно': 15159, 'паршивость': 15160, 'восстановление': 15161, 'привыкнуть': 15162, 'разрушать': 15163, 'брежнев': 15164, 'примерный': 15165, 'соответствовать': 15166, 'полмира': 15167, 'изломанный': 15168, 'воплощение': 15169, 'лоджия': 15170, 'мотоциклист': 15171, 'приглушить': 15172, 'нестерпимый': 15173, 'являть': 15174, 'иллюзия': 15175, 'отстаивать': 15176, 'настойчивый': 15177, 'пописать': 15178, 'недоесть': 15179, 'ангар': 15180, 'прожигать': 15181, 'ручонка': 15182, 'осветить': 15183, 'резаный': 15184, 'бороться': 15185, 'иной': 15186, 'разумно': 15187, 'вымывать': 15188, 'прачка': 15189, 'конвейер': 15190, 'образный': 15191, 'мерзость': 15192, 'привилегированный': 15193, 'пансион': 15194, 'попытка': 15195, 'граф': 15196, 'подытоживать': 15197, 'деталька': 15198, 'просовываться': 15199, 'опускаться': 15200, 'сопоставимый': 15201, 'резковатый': 15202, 'трубочка': 15203, 'забивать': 15204, 'смеситель': 15205, 'звёздный': 15206, 'особь': 15207, 'полезть': 15208, 'задаться': 15209, 'единственный': 15210, 'отборный': 15211, 'договор': 15212, 'сглупить': 15213, 'вечером': 15214, 'медлительный': 15215, 'самообслуживание': 15216, 'приделать': 15217, 'скатерть': 15218, 'монета': 15219, 'разлить': 15220, 'напор': 15221, 'восполнить': 15222, 'парный': 15223, 'отель': 15224, 'уд': 15225, 'температура': 15226, 'дельный': 15227, 'аккуратно': 15228, 'помереть': 15229, 'замшелый': 15230, 'неприлично': 15231, 'троица': 15232, 'восхищать': 15233, 'ладошка': 15234, 'засчитать': 15235, 'переодеться': 15236, 'зала': 15237, 'полкомнаты': 15238, 'пустеть': 15239, 'сородич': 15240, 'перерыв': 15241, 'скрашивать': 15242, 'ненадоедливый': 15243, 'двухнедельный': 15244, 'сокращаться': 15245, 'тварь': 15246, 'вязать': 15247, 'партнёрский': 15248, 'уборщица': 15249, 'потормошить': 15250, 'мокрый': 15251, 'выключаться': 15252, 'публика': 15253, 'сервер': 15254, 'тётя': 15255, 'генеральный': 15256, 'фальшиво': 15257, 'восприимчивый': 15258, 'сложить': 15259, 'шикануть': 15260, 'предоставлять': 15261, 'фотография': 15262, 'доесть': 15263, 'отвал': 15264, 'плацкарта': 15265, 'вторичный': 15266, 'музычка': 15267, 'повестить': 15268, 'раскататься': 15269, 'изобиловать': 15270, 'окрестность': 15271, 'крикливый': 15272, 'померить': 15273, 'собо': 15274, 'проводы': 15275, 'полупрозрачный': 15276, 'новотёл': 15277, 'зачётный': 15278, 'распечатывать': 15279, 'магазинный': 15280, 'продуктовый': 15281, 'кладовка': 15282, 'недружелюбный': 15283, 'влево': 15284, 'ужас': 15285, 'привод': 15286, 'вскоре': 15287, 'инструмент': 15288, 'али': 15289, 'твёрдо': 15290, 'кишмя': 15291, 'кольцевой': 15292, 'старина': 15293, 'забытый': 15294, 'влезть': 15295, 'кубический': 15296, 'обед': 15297, 'винегрет': 15298, 'ирак': 15299, 'англичанка': 15300, 'известить': 15301, 'дрожь': 15302, 'вкрутить': 15303, 'урок': 15304, 'существо': 15305, 'отправиться': 15306, 'бетонный': 15307, 'пружинить': 15308, 'карло': 15309, 'обеденный': 15310, 'застелить': 15311, 'хлопоты': 15312, 'сваляться': 15313, 'баба': 15314, 'витражный': 15315, 'ограничение': 15316, 'семья': 15317, 'поправить': 15318, 'поместиться': 15319, 'выглядеть': 15320, 'стандартизировать': 15321, 'наполнять': 15322, 'ушат': 15323, 'физически': 15324, 'рассеивать': 15325, 'направо': 15326, 'деваться': 15327, 'молодец': 15328, 'продлиться': 15329, 'жема': 15330, 'угадать': 15331, 'иллюстрировать': 15332, 'одиннадцатилетний': 15333, 'стимул': 15334, 'губка': 15335, 'смочь': 15336, 'сверху': 15337, 'встречаться': 15338, 'прискорбный': 15339, 'покой': 15340, 'дайвинг': 15341, 'выпрашивать': 15342, 'благо': 15343, 'продуманно': 15344, 'звереть': 15345, 'изголодаться': 15346, 'копирование': 15347, 'крючок': 15348, 'закладывать': 15349, 'сантехнический': 15350, 'неприглядный': 15351, 'сливочный': 15352, 'связываться': 15353, 'загрузиться': 15354, 'дотронуться': 15355, 'несусветный': 15356, 'сёмга': 15357, 'лежанка': 15358, 'пища': 15359, 'напутствие': 15360, 'необъятный': 15361, 'лазурный': 15362, 'циркуляция': 15363, 'хамски': 15364, 'мёрзнуть': 15365, 'столешница': 15366, 'выпытывать': 15367, 'бешенство': 15368, 'застояться': 15369, 'скачивать': 15370, 'контроль': 15371, 'пт': 15372, 'огонёк': 15373, 'унести': 15374, 'несимпатичный': 15375, 'давящий': 15376, 'винить': 15377, 'близость': 15378, 'сытно': 15379, 'производство': 15380, 'миграционный': 15381, 'увеличивать': 15382, 'помощница': 15383, 'петь': 15384, 'пряжа': 15385, 'шикарный': 15386, 'молить': 15387, 'старомодность': 15388, 'сторона': 15389, 'соображать': 15390, 'универсальный': 15391, 'огнетушитель': 15392, 'предоплата': 15393, 'экземпляр': 15394, 'набить': 15395, 'обваливать': 15396, 'малютка': 15397, 'голландия': 15398, 'персонаж': 15399, 'довезти': 15400, 'привлекательность': 15401, 'перепаковаться': 15402, 'активировать': 15403, 'коста': 15404, 'ворсистый': 15405, 'чаевой': 15406, 'гастрономия': 15407, 'дворцовый': 15408, 'режимный': 15409, 'отклонение': 15410, 'хоккей': 15411, 'риторический': 15412, 'грамотный': 15413, 'неиспользованный': 15414, 'растерять': 15415, 'спинка': 15416, 'песчаный': 15417, 'набитый': 15418, 'перетряхивать': 15419, 'величать': 15420, 'бычков': 15421, 'осыпаться': 15422, 'сайда': 15423, 'леди': 15424, 'замотать': 15425, 'недооценить': 15426, 'зоопарк': 15427, 'перевал': 15428, 'водочка': 15429, 'цыганский': 15430, 'элегантность': 15431, 'сакура': 15432, 'электронный': 15433, 'некоторый': 15434, 'вместиться': 15435, 'нина': 15436, 'указываться': 15437, 'сдвигание': 15438, 'переименовать': 15439, 'сдвоить': 15440, 'спид': 15441, 'купель': 15442, 'триумфальный': 15443, 'любой': 15444, 'сгрести': 15445, 'танцор': 15446, 'морозильный': 15447, 'художник': 15448, 'детально': 15449, 'смена': 15450, 'простить': 15451, 'разговорный': 15452, 'неоднократный': 15453, 'бульвар': 15454, 'слякотный': 15455, 'позвоночник': 15456, 'понестись': 15457, 'соединить': 15458, 'тихонько': 15459, 'вегетарианец': 15460, 'привозный': 15461, 'подголовник': 15462, 'дешевый': 15463, 'пальто': 15464, 'межличностный': 15465, 'дёготь': 15466, 'недоставать': 15467, 'предаваться': 15468, 'абсолютный': 15469, 'марлевый': 15470, 'эль': 15471, 'прощание': 15472, 'рассудительный': 15473, 'ипподром': 15474, 'западня': 15475, 'отвратный': 15476, 'лиана': 15477, 'характерный': 15478, 'манипуляция': 15479, 'безотносительно': 15480, 'избранный': 15481, 'цивилизовать': 15482, 'бодрствовать': 15483, 'нечто': 15484, 'кошмарный': 15485, 'сетование': 15486, 'упасть': 15487, 'окраина': 15488, 'веранда': 15489, 'подать': 15490, 'выгородка': 15491, 'кафедральный': 15492, 'скажем': 15493, 'графа': 15494, 'тяп': 15495, 'сканировать': 15496, 'неявка': 15497, 'умиротворять': 15498, 'бездельник': 15499, 'ненамного': 15500, 'заоблачный': 15501, 'ям': 15502, 'запалить': 15503, 'укутывание': 15504, 'привязь': 15505, 'уверение': 15506, 'спрашиваться': 15507, 'волхв': 15508, 'голод': 15509, 'пластилиновый': 15510, 'спустить': 15511, 'имя': 15512, 'засаленный': 15513, 'рублёвый': 15514, 'ахти': 15515, 'адаптировать': 15516, 'классический': 15517, 'прошлое': 15518, 'драгоценный': 15519, 'устроиться': 15520, 'рефлекс': 15521, 'крикнуть': 15522, 'уголок': 15523, 'посадочный': 15524, 'шуметь': 15525, 'раздельно': 15526, 'перемешивание': 15527, 'угнетающе': 15528, 'представить': 15529, 'приляпать': 15530, 'кондиционер': 15531, 'разжиться': 15532, 'фиксировать': 15533, 'погоня': 15534, 'кино': 15535, 'вскрыть': 15536, 'неидеальный': 15537, 'обширный': 15538, 'франция': 15539, 'кавказский': 15540, 'вымотаться': 15541, 'поверхностный': 15542, 'явно': 15543, 'выколачивание': 15544, 'светонепроницаемый': 15545, 'хлопнуть': 15546, 'недопонять': 15547, 'шапочка': 15548, 'бирманка': 15549, 'безысходность': 15550, 'храп': 15551, 'пирожок': 15552, 'обитать': 15553, 'перепродавать': 15554, 'экстремальный': 15555, 'истечение': 15556, 'пригласить': 15557, 'сдувать': 15558, 'регистратор': 15559, 'ведущий': 15560, 'обновление': 15561, 'коробка': 15562, 'рейхстаг': 15563, 'поездка': 15564, 'навязывать': 15565, 'саранский': 15566, 'наслаждение': 15567, 'жжение': 15568, 'затруднительный': 15569, 'рекомендовать': 15570, 'платок': 15571, 'четвереньки': 15572, 'записаться': 15573, 'присущий': 15574, 'кума': 15575, 'краб': 15576, 'удорожание': 15577, 'бат': 15578, 'сервировочный': 15579, 'плутать': 15580, 'деградировать': 15581, 'полумесяц': 15582, 'кокнуться': 15583, 'неподалёку': 15584, 'зажигать': 15585, 'отрицать': 15586, 'расточительство': 15587, 'проснуться': 15588, 'непривычно': 15589, 'канделябр': 15590, 'контингент': 15591, 'шарф': 15592, 'маруся': 15593, 'теплота': 15594, 'закусить': 15595, 'нацелить': 15596, 'особняк': 15597, 'покорять': 15598, 'наравне': 15599, 'реальность': 15600, 'чемпионат': 15601, 'сутки': 15602, 'гладить': 15603, 'вписываться': 15604, 'многократный': 15605, 'блин': 15606, 'азиатский': 15607, 'ржавенький': 15608, 'россиянин': 15609, 'гомосексуальный': 15610, 'иисус': 15611, 'живой': 15612, 'отрабатывать': 15613, 'макулатура': 15614, 'авиатор': 15615, 'крым': 15616, 'головка': 15617, 'блокироваться': 15618, 'перевесить': 15619, 'дизайн': 15620, 'суховатый': 15621, 'благородно': 15622, 'подрасти': 15623, 'постирать': 15624, 'подлёт': 15625, 'тоска': 15626, 'недоуменный': 15627, 'сваливать': 15628, 'греция': 15629, 'рюмочка': 15630, 'утверждение': 15631, 'мудрено': 15632, 'спичечный': 15633, 'брелок': 15634, 'предпочтение': 15635, 'чудить': 15636, 'пополнение': 15637, 'минимально': 15638, 'туристский': 15639, 'возвращаться': 15640, 'вслух': 15641, 'теребить': 15642, 'выразить': 15643, 'усмешка': 15644, 'гром': 15645, 'протискиваться': 15646, 'активированный': 15647, 'спастись': 15648, 'культовый': 15649, 'вокруг': 15650, 'согнать': 15651, 'отмываться': 15652, 'фарс': 15653, 'шапка': 15654, 'мужеский': 15655, 'порадовать': 15656, 'упереться': 15657, 'провожать': 15658, 'кампус': 15659, 'затемнить': 15660, 'открытый': 15661, 'размен': 15662, 'источать': 15663, 'фикция': 15664, 'составлять': 15665, 'сушка': 15666, 'выключение': 15667, 'развод': 15668, 'спадать': 15669, 'самара': 15670, 'забрызгивать': 15671, 'литр': 15672, 'ладить': 15673, 'новодевичий': 15674, 'плиточный': 15675, 'атрибут': 15676, 'смартфон': 15677, 'линк': 15678, 'м': 15679, 'безуспешный': 15680, 'питание': 15681, 'обезвредить': 15682, 'зажмуриться': 15683, 'отдраить': 15684, 'неуправляемый': 15685, 'скрестись': 15686, 'пижамный': 15687, 'настучать': 15688, 'ткнуться': 15689, 'неполный': 15690, 'выполняться': 15691, 'разгрузочный': 15692, 'царапать': 15693, 'чернокожий': 15694, 'ядерный': 15695, 'дель': 15696, 'любоваться': 15697, 'приветственный': 15698, 'приезд': 15699, 'отвлекать': 15700, 'потерянный': 15701, 'христофор': 15702, 'относительный': 15703, 'добраться': 15704, 'креветка': 15705, 'табличка': 15706, 'объездить': 15707, 'мальчик': 15708, 'плачевно': 15709, 'лечь': 15710, 'статуя': 15711, 'нету': 15712, 'голубь': 15713, 'интонация': 15714, 'кед': 15715, 'вывоз': 15716, 'реабилитационный': 15717, 'запоздание': 15718, 'нелюбезный': 15719, 'минутка': 15720, 'наложить': 15721, 'горазд': 15722, 'кончаться': 15723, 'внести': 15724, 'обменник': 15725, 'директриса': 15726, 'ужинать': 15727, 'организовать': 15728, 'вывешивать': 15729, 'здоровяк': 15730, 'впритирку': 15731, 'элементарный': 15732, 'монотонный': 15733, 'переливаться': 15734, 'гражданин': 15735, 'автопрокат': 15736, 'вкус': 15737, 'улучшать': 15738, 'покрыть': 15739, 'вождение': 15740, 'однотипный': 15741, 'обижать': 15742, 'порасти': 15743, 'читаться': 15744, 'покорёжить': 15745, 'благосклонный': 15746, 'облако': 15747, 'создаться': 15748, 'совковый': 15749, 'позиционировать': 15750, 'карманник': 15751, 'предписание': 15752, 'санаторий': 15753, 'известие': 15754, 'заезжать': 15755, 'верно': 15756, 'красиво': 15757, 'тихо': 15758, 'мяч': 15759, 'тоненький': 15760, 'уширение': 15761, 'лопатка': 15762, 'нездоровый': 15763, 'индуист': 15764, 'фантастика': 15765, 'просветлённый': 15766, 'листочек': 15767, 'хромать': 15768, 'бодун': 15769, 'апартамент': 15770, 'хлопья': 15771, 'колыхаться': 15772, 'хлебнуть': 15773, 'бездушный': 15774, 'кашель': 15775, 'неровность': 15776, 'предотвратить': 15777, 'хозяйство': 15778, 'слушательница': 15779, 'заметно': 15780, 'разодрать': 15781, 'багажный': 15782, 'зашуметь': 15783, 'относить': 15784, 'киви': 15785, 'руб': 15786, 'подвеска': 15787, 'германия': 15788, 'откушать': 15789, 'прощать': 15790, 'наименование': 15791, 'ошмёток': 15792, 'двоякий': 15793, 'банкнот': 15794, 'навигация': 15795, 'благополучный': 15796, 'загорать': 15797, 'обнаружить': 15798, 'штык': 15799, 'тепловой': 15800, 'расторопность': 15801, 'пена': 15802, 'наизусть': 15803, 'остаток': 15804, 'чтение': 15805, 'ээ': 15806, 'лагуна': 15807, 'прыщик': 15808, 'дезинфектор': 15809, 'метро': 15810, 'запирать': 15811, 'особенный': 15812, 'пук': 15813, 'переступать': 15814, 'запастись': 15815, 'напев': 15816, 'увешать': 15817, 'презирать': 15818, 'доплывать': 15819, 'переделывать': 15820, 'низковата': 15821, 'мокро': 15822, 'брр': 15823, 'кардинальный': 15824, 'рано': 15825, 'насаждение': 15826, 'оснастить': 15827, 'страсть': 15828, 'тяга': 15829, 'прорезать': 15830, 'благоухание': 15831, 'республика': 15832, 'завестись': 15833, 'пластинка': 15834, 'сугубо': 15835, 'неприкрытый': 15836, 'иллюминация': 15837, 'присутствовать': 15838, 'образовывать': 15839, 'продержаться': 15840, 'хамский': 15841, 'прогнозировать': 15842, 'футболка': 15843, 'люлька': 15844, 'страховой': 15845, 'волшебный': 15846, 'сжалиться': 15847, 'практичность': 15848, 'противоречие': 15849, 'дима': 15850, 'город': 15851, 'белый': 15852, 'воспоминание': 15853, 'валет': 15854, 'привязываться': 15855, 'выполнение': 15856, 'правота': 15857, 'опаздывать': 15858, 'чесоточный': 15859, 'трасса': 15860, 'смывать': 15861, 'закутка': 15862, 'светомузыкальный': 15863, 'ремонт': 15864, 'пересчитать': 15865, 'злачный': 15866, 'транспортный': 15867, 'давненько': 15868, 'обворожительный': 15869, 'неудача': 15870, 'спотыкаться': 15871, 'накопить': 15872, 'сфотографировать': 15873, 'бытность': 15874, 'колокольчик': 15875, 'неимение': 15876, 'вифлеемский': 15877, 'типовой': 15878, 'привлекательный': 15879, 'верхушка': 15880, 'сентябрь': 15881, 'жандармский': 15882, 'конфликт': 15883, 'утекать': 15884, 'симбиоз': 15885, 'протирка': 15886, 'палау': 15887, 'влететь': 15888, 'течь': 15889, 'разновидность': 15890, 'убедительный': 15891, 'посылать': 15892, 'старик': 15893, 'разрезать': 15894, 'папа': 15895, 'обыкновенный': 15896, 'благоухать': 15897, 'заварить': 15898, 'коробочка': 15899, 'пускай': 15900, 'атлантида': 15901, 'именовать': 15902, 'полоток': 15903, 'муравейник': 15904, 'оббить': 15905, 'стереосистема': 15906, 'фужер': 15907, 'многоквартирный': 15908, 'хельсинки': 15909, 'кава': 15910, 'обещать': 15911, 'отвлечь': 15912, 'почему': 15913, 'хамить': 15914, 'задёрнуть': 15915, 'обводный': 15916, 'кредитный': 15917, 'заслать': 15918, 'шлагбаум': 15919, 'противоположный': 15920, 'утомительный': 15921, 'составить': 15922, 'контрастный': 15923, 'нарезка': 15924, 'выплюнуть': 15925, 'настаивание': 15926, 'швыряться': 15927, 'заворачиваться': 15928, 'сжимание': 15929, 'чумовой': 15930, 'ароматный': 15931, 'скупость': 15932, 'наполнение': 15933, 'нагладить': 15934, 'рождение': 15935, 'зигзаг': 15936, 'исследование': 15937, 'отбивной': 15938, 'нацистский': 15939, 'выступление': 15940, 'сантехника': 15941, 'усилие': 15942, 'скрепка': 15943, 'орда': 15944, 'ржавый': 15945, 'безобразный': 15946, 'разуметься': 15947, 'доливать': 15948, 'нерешение': 15949, 'обустройство': 15950, 'сразить': 15951, 'сдохнуть': 15952, 'клоака': 15953, 'пререкаться': 15954, 'помять': 15955, 'присохнуть': 15956, 'плеснуть': 15957, 'набрести': 15958, 'угроза': 15959, 'переводить': 15960, 'гнить': 15961, 'прокуренность': 15962, 'выброситься': 15963, 'понижать': 15964, 'поверх': 15965, 'удалять': 15966, 'поддон': 15967, 'пытка': 15968, 'повстречать': 15969, 'стакан': 15970, 'творчество': 15971, 'рискованно': 15972, 'транзит': 15973, 'герой': 15974, 'общегородской': 15975, 'выгореть': 15976, 'объективность': 15977, 'аппетитный': 15978, 'выдвижной': 15979, 'сублимировать': 15980, 'выдержать': 15981, 'му': 15982, 'тряпичный': 15983, 'повесть': 15984, 'засоряться': 15985, 'начальственный': 15986, 'мёртвый': 15987, 'прочий': 15988, 'подъезд': 15989, 'передвижной': 15990, 'вчерашний': 15991, 'повесить': 15992, 'тёплый': 15993, 'техник': 15994, 'помогать': 15995, 'ожидание': 15996, 'безделушка': 15997, 'водоём': 15998, 'крыша': 15999, 'доверенный': 16000, 'входной': 16001, 'неосторожность': 16002, 'кольцо': 16003, 'заменять': 16004, 'читаемый': 16005, 'прикипеть': 16006, 'многомесячный': 16007, 'подозвать': 16008, 'натяжка': 16009, 'разовый': 16010, 'комично': 16011, 'чистый': 16012, 'выстраиваться': 16013, 'задница': 16014, 'эспланада': 16015, 'несолидно': 16016, 'требовательный': 16017, 'изъесть': 16018, 'встречать': 16019, 'использовать': 16020, 'ял': 16021, 'прибавиться': 16022, 'возможно': 16023, 'сомнительно': 16024, 'помывка': 16025, 'описывать': 16026, 'стадия': 16027, 'средник': 16028, 'прилавок': 16029, 'разуваться': 16030, 'упаковывать': 16031, 'затруднить': 16032, 'отреагировать': 16033, 'стрела': 16034, 'возникновение': 16035, 'укладываться': 16036, 'оживлённый': 16037, 'выделиться': 16038, 'сергей': 16039, 'штатный': 16040, 'приложить': 16041, 'импортный': 16042, 'подозрение': 16043, 'почесаться': 16044, 'фактически': 16045, 'дёрнуть': 16046, 'незакрытый': 16047, 'делегат': 16048, 'сулейман': 16049, 'бедненький': 16050, 'объяснительный': 16051, 'обойти': 16052, 'ажиотаж': 16053, 'вламываться': 16054, 'учитываться': 16055, 'голодный': 16056, 'перепутать': 16057, 'изумление': 16058, 'беспорядок': 16059, 'планирование': 16060, 'уединение': 16061, 'пусть': 16062, 'состариться': 16063, 'действительный': 16064, 'дырочка': 16065, 'уезд': 16066, 'плеханов': 16067, 'визуально': 16068, 'чип': 16069, 'перестелить': 16070, 'ореховый': 16071, 'душок': 16072, 'десертный': 16073, 'пытливый': 16074, 'причинный': 16075, 'подумать': 16076, 'пепси': 16077, 'тужить': 16078, 'отбывать': 16079, 'лад': 16080, 'откудова': 16081, 'ботанический': 16082, 'бледно': 16083, 'отличаться': 16084, 'минеральный': 16085, 'полуподвал': 16086, 'воткнуться': 16087, 'опустить': 16088, 'гусь': 16089, 'дыбом': 16090, 'благовещенск': 16091, 'потихоньку': 16092, 'актуально': 16093, 'глюк': 16094, 'налаживать': 16095, 'подвернуться': 16096, 'просыпать': 16097, 'дисплей': 16098, 'пальмовый': 16099, 'коснуться': 16100, 'стойкий': 16101, 'закипать': 16102, 'зил': 16103, 'пропитать': 16104, 'соглашение': 16105, 'сплёвывать': 16106, 'неубедительно': 16107, 'хм': 16108, 'бред': 16109, 'вечерний': 16110, 'угореть': 16111, 'подклеить': 16112, 'каноэ': 16113, 'тухлятина': 16114, 'молодёжь': 16115, 'залезать': 16116, 'состояние': 16117, 'сет': 16118, 'испытание': 16119, 'рыбка': 16120, 'аналогия': 16121, 'объёмность': 16122, 'отбросить': 16123, 'проигрыш': 16124, 'наготове': 16125, 'согласование': 16126, 'недовольство': 16127, 'провал': 16128, 'стычка': 16129, 'переходник': 16130, 'голословный': 16131, 'ополоснуться': 16132, 'оставить': 16133, 'преддверие': 16134, 'большегруз': 16135, 'выкрикивать': 16136, 'отдёргивать': 16137, 'прибить': 16138, 'бывать': 16139, 'подвести': 16140, 'шпон': 16141, 'наглядно': 16142, 'мгу': 16143, 'значить': 16144, 'устоять': 16145, 'безэмоциональный': 16146, 'зябко': 16147, 'заставить': 16148, 'прописать': 16149, 'настоятель': 16150, 'авансом': 16151, 'ошибочный': 16152, 'одеколон': 16153, 'место': 16154, 'гуща': 16155, 'бытовка': 16156, 'углевод': 16157, 'сморкаться': 16158, 'анна': 16159, 'горбушка': 16160, 'некрасивый': 16161, 'вливать': 16162, 'мечеть': 16163, 'спорный': 16164, 'перенабрать': 16165, 'запланировать': 16166, 'нарядить': 16167, 'впустить': 16168, 'пополняться': 16169, 'катать': 16170, 'свернуть': 16171, 'изнурительный': 16172, 'ступа': 16173, 'справить': 16174, 'навевать': 16175, 'екатерининский': 16176, 'ехидно': 16177, 'переключатель': 16178, 'масло': 16179, 'необработанный': 16180, 'вредный': 16181, 'младенец': 16182, 'неприятность': 16183, 'расхлябать': 16184, 'премудрость': 16185, 'ага': 16186, 'прилегать': 16187, 'прохлаждать': 16188, 'наносить': 16189, 'мертвенность': 16190, 'отстоять': 16191, 'кушетка': 16192, 'государственный': 16193, 'следствие': 16194, 'глубина': 16195, 'парижский': 16196, 'раздельность': 16197, 'каблук': 16198, 'памятный': 16199, 'таки': 16200, 'внизу': 16201, 'вращаться': 16202, 'продовольственный': 16203, 'вышвырнуть': 16204, 'нагадить': 16205, 'пилотаж': 16206, 'сторонний': 16207, 'передать': 16208, 'эстрада': 16209, 'взбодриться': 16210, 'дерево': 16211, 'толкучка': 16212, 'близкий': 16213, 'бравировать': 16214, 'открывать': 16215, 'бывало': 16216, 'распространять': 16217, 'политический': 16218, 'концепция': 16219, 'столетие': 16220, 'грязь': 16221, 'незаинтересованность': 16222, 'острота': 16223, 'приобретать': 16224, 'подгореть': 16225, 'велосипедный': 16226, 'тара': 16227, 'застирать': 16228, 'турист': 16229, 'дизайнерский': 16230, 'уделять': 16231, 'обильный': 16232, 'пальма': 16233, 'остроумие': 16234, 'танцующий': 16235, 'старшеклассник': 16236, 'ступить': 16237, 'хаотично': 16238, 'догнать': 16239, 'радиостанция': 16240, 'душ': 16241, 'заявлять': 16242, 'вычесть': 16243, 'ухудшение': 16244, 'светильник': 16245, 'обозримый': 16246, 'заинтересовать': 16247, 'буратино': 16248, 'грохотать': 16249, 'преступление': 16250, 'зазывала': 16251, 'огрызнуться': 16252, 'вознаграждение': 16253, 'насладиться': 16254, 'помпезный': 16255, 'упругий': 16256, 'сб': 16257, 'комочек': 16258, 'заехать': 16259, 'стукнуть': 16260, 'смело': 16261, 'гладко': 16262, 'отслуживать': 16263, 'кой': 16264, 'похоронный': 16265, 'участливый': 16266, 'пружина': 16267, 'упущение': 16268, 'кража': 16269, 'среди': 16270, 'восхитительно': 16271, 'вместить': 16272, 'лечить': 16273, 'застирывать': 16274, 'исключить': 16275, 'диапазон': 16276, 'отчёт': 16277, 'бри': 16278, 'перегруз': 16279, 'задорный': 16280, 'член': 16281, 'чашка': 16282, 'тишина': 16283, 'программа': 16284, 'косить': 16285, 'терпение': 16286, 'каре': 16287, 'дерматолог': 16288, 'пока': 16289, 'зазывание': 16290, 'ан': 16291, 'среднестатистический': 16292, 'тупить': 16293, 'кучка': 16294, 'ставить': 16295, 'последовательно': 16296, 'чутко': 16297, 'обстоятельство': 16298, 'ключик': 16299, 'офигеть': 16300, 'поп': 16301, 'ор': 16302, 'мохнатый': 16303, 'имущество': 16304, 'предостаточно': 16305, 'циркулировать': 16306, 'щедро': 16307, 'отскочить': 16308, 'воодушевлённый': 16309, 'улыбочка': 16310, 'специфика': 16311, 'прокуривать': 16312, 'будущий': 16313, 'предотвращать': 16314, 'повал': 16315, 'постой': 16316, 'собака': 16317, 'запарковать': 16318, 'аннулирование': 16319, 'поднести': 16320, 'белизна': 16321, 'сверяться': 16322, 'мало': 16323, 'выкручиваться': 16324, 'дичать': 16325, 'выражаться': 16326, 'отработать': 16327, 'ау': 16328, 'привокзальный': 16329, 'прадед': 16330, 'валун': 16331, 'примкнуть': 16332, 'толком': 16333, 'плов': 16334, 'наткнуться': 16335, 'заголосить': 16336, 'покои': 16337, 'мерси': 16338, 'рядом': 16339, 'вечеринка': 16340, 'нация': 16341, 'спальня': 16342, 'бить': 16343, 'проломить': 16344, 'непристойный': 16345, 'торопиться': 16346, 'письмо': 16347, 'насыпать': 16348, 'ударять': 16349, 'отъезжать': 16350, 'обыкновение': 16351, 'надзиратель': 16352, 'испить': 16353, 'незаслуженно': 16354, 'затрудниться': 16355, 'строгость': 16356, 'возмущать': 16357, 'высококачественный': 16358, 'банкротство': 16359, 'немец': 16360, 'схема': 16361, 'скрипучий': 16362, 'удача': 16363, 'подлый': 16364, 'тушёный': 16365, 'залётный': 16366, 'беспрестанно': 16367, 'евро': 16368, 'жарка': 16369, 'толкатель': 16370, 'аксессуар': 16371, 'затихать': 16372, 'нальчик': 16373, 'увеличение': 16374, 'читать': 16375, 'простенько': 16376, 'резинка': 16377, 'слёт': 16378, 'элементарно': 16379, 'романтично': 16380, 'рыжеволосый': 16381, 'заполняемость': 16382, 'туповатый': 16383, 'никчёмный': 16384, 'предпринять': 16385, 'приоритет': 16386, 'пк': 16387, 'смысл': 16388, 'картон': 16389, 'тонировать': 16390, 'важный': 16391, 'куба': 16392, 'побеспокоиться': 16393, 'углубляться': 16394, 'золочёный': 16395, 'толк': 16396, 'занятие': 16397, 'семеро': 16398, 'карбонар': 16399, 'потоп': 16400, 'поэтому': 16401, 'запоздалый': 16402, 'бабушка': 16403, 'исходящий': 16404, 'плюхнуть': 16405, 'обувь': 16406, 'рыночный': 16407, 'структура': 16408, 'неплотно': 16409, 'хоп': 16410, 'отпираться': 16411, 'санда': 16412, 'испечь': 16413, 'мотоциклет': 16414, 'эквивалент': 16415, 'подавно': 16416, 'бунгало': 16417, 'уметь': 16418, 'среда': 16419, 'неверно': 16420, 'разозлить': 16421, 'пирожковый': 16422, 'недорогой': 16423, 'секундочка': 16424, 'отступление': 16425, 'путешественник': 16426, 'сравнивать': 16427, 'сориентироваться': 16428, 'свист': 16429, 'неоднозначный': 16430, 'зловоние': 16431, 'транзакция': 16432, 'договариваться': 16433, 'касса': 16434, 'несварение': 16435, 'сталкиваться': 16436, 'вездесущий': 16437, 'обменять': 16438, 'крутой': 16439, 'надумать': 16440, 'минимальный': 16441, 'впритык': 16442, 'свидетельство': 16443, 'старое': 16444, 'обратный': 16445, 'переключение': 16446, 'ушатый': 16447, 'отчитаться': 16448, 'петля': 16449, 'поутру': 16450, 'нажраться': 16451, 'своевременно': 16452, 'почасовой': 16453, 'табак': 16454, 'смутиться': 16455, 'морозить': 16456, 'ложный': 16457, 'соответствующий': 16458}\n"
     ]
    }
   ],
   "source": [
    "with open('datasets/vocabulary_4.json', 'r') as f:\n",
    "    tok = json.load(f)\n",
    "    print(len(tok), tok)"
   ]
  },
  {
   "cell_type": "code",
   "execution_count": null,
   "id": "4fec47f5-3a25-484b-b569-90d718e75571",
   "metadata": {},
   "outputs": [],
   "source": []
  },
  {
   "cell_type": "code",
   "execution_count": null,
   "id": "7517eee5-fd9f-4383-bc75-0230ad9db97e",
   "metadata": {},
   "outputs": [],
   "source": []
  },
  {
   "cell_type": "markdown",
   "id": "fe58fd98-53dc-4190-8a0e-cb7f0262fc82",
   "metadata": {},
   "source": [
    "# Test"
   ]
  },
  {
   "cell_type": "code",
   "execution_count": 17,
   "id": "6c599b53-e841-4e22-bb15-bece149b5b10",
   "metadata": {},
   "outputs": [
    {
     "data": {
      "text/html": [
       "<div>\n",
       "<style scoped>\n",
       "    .dataframe tbody tr th:only-of-type {\n",
       "        vertical-align: middle;\n",
       "    }\n",
       "\n",
       "    .dataframe tbody tr th {\n",
       "        vertical-align: top;\n",
       "    }\n",
       "\n",
       "    .dataframe thead th {\n",
       "        text-align: right;\n",
       "    }\n",
       "</style>\n",
       "<table border=\"1\" class=\"dataframe\">\n",
       "  <thead>\n",
       "    <tr style=\"text-align: right;\">\n",
       "      <th></th>\n",
       "      <th>score</th>\n",
       "      <th>text</th>\n",
       "    </tr>\n",
       "  </thead>\n",
       "  <tbody>\n",
       "    <tr>\n",
       "      <th>0</th>\n",
       "      <td>1</td>\n",
       "      <td>При бронировпнии отеля за два дня цена была 78...</td>\n",
       "    </tr>\n",
       "    <tr>\n",
       "      <th>1</th>\n",
       "      <td>1</td>\n",
       "      <td>При заезде мы не успели поменять валюту и нам ...</td>\n",
       "    </tr>\n",
       "    <tr>\n",
       "      <th>2</th>\n",
       "      <td>1</td>\n",
       "      <td>В моем номере был сильный запах сигарет, я про...</td>\n",
       "    </tr>\n",
       "    <tr>\n",
       "      <th>3</th>\n",
       "      <td>1</td>\n",
       "      <td>нет русскоговорящий персонал , завтрак не вкус...</td>\n",
       "    </tr>\n",
       "    <tr>\n",
       "      <th>4</th>\n",
       "      <td>1</td>\n",
       "      <td>шумная дискотека под окнами до 00:30 в 5:27 на...</td>\n",
       "    </tr>\n",
       "    <tr>\n",
       "      <th>...</th>\n",
       "      <td>...</td>\n",
       "      <td>...</td>\n",
       "    </tr>\n",
       "    <tr>\n",
       "      <th>93</th>\n",
       "      <td>5</td>\n",
       "      <td>Мелкие проблемы были быстро решены\\n\\n</td>\n",
       "    </tr>\n",
       "    <tr>\n",
       "      <th>94</th>\n",
       "      <td>5</td>\n",
       "      <td>Отель расположен в удачном месте. 3 минуты пеш...</td>\n",
       "    </tr>\n",
       "    <tr>\n",
       "      <th>95</th>\n",
       "      <td>5</td>\n",
       "      <td>Отличный отель!Понравился абсолютно во всем.Од...</td>\n",
       "    </tr>\n",
       "    <tr>\n",
       "      <th>96</th>\n",
       "      <td>5</td>\n",
       "      <td>Уют, тишина, хорошее местоположение.</td>\n",
       "    </tr>\n",
       "    <tr>\n",
       "      <th>97</th>\n",
       "      <td>5</td>\n",
       "      <td>Вид из окна на стену соседнего здания, но на 1...</td>\n",
       "    </tr>\n",
       "  </tbody>\n",
       "</table>\n",
       "<p>98 rows × 2 columns</p>\n",
       "</div>"
      ],
      "text/plain": [
       "    score                                               text\n",
       "0       1  При бронировпнии отеля за два дня цена была 78...\n",
       "1       1  При заезде мы не успели поменять валюту и нам ...\n",
       "2       1  В моем номере был сильный запах сигарет, я про...\n",
       "3       1  нет русскоговорящий персонал , завтрак не вкус...\n",
       "4       1  шумная дискотека под окнами до 00:30 в 5:27 на...\n",
       "..    ...                                                ...\n",
       "93      5             Мелкие проблемы были быстро решены\\n\\n\n",
       "94      5  Отель расположен в удачном месте. 3 минуты пеш...\n",
       "95      5  Отличный отель!Понравился абсолютно во всем.Од...\n",
       "96      5               Уют, тишина, хорошее местоположение.\n",
       "97      5  Вид из окна на стену соседнего здания, но на 1...\n",
       "\n",
       "[98 rows x 2 columns]"
      ]
     },
     "execution_count": 17,
     "metadata": {},
     "output_type": "execute_result"
    }
   ],
   "source": [
    "test_df = pd.read_excel('datasets/booking_ds.xlsx')\n",
    "test_df"
   ]
  },
  {
   "cell_type": "code",
   "execution_count": 18,
   "id": "d808339d-7337-4a91-8333-f32bd47a45b2",
   "metadata": {},
   "outputs": [],
   "source": [
    "test_score = test_df.score.tolist()\n",
    "test_text = test_df.text.tolist()"
   ]
  },
  {
   "cell_type": "code",
   "execution_count": 19,
   "id": "c69592e5-1a9f-46f8-ba85-9b074e410de9",
   "metadata": {},
   "outputs": [],
   "source": [
    "pred = predict(test_text)"
   ]
  },
  {
   "cell_type": "code",
   "execution_count": 20,
   "id": "8660b850-f7e7-448d-9477-5e2701ad186a",
   "metadata": {},
   "outputs": [],
   "source": [
    "acc = []\n",
    "for i, j in zip(test_score, pred):\n",
    "    if i==j:\n",
    "        acc.append(1)\n",
    "    else:\n",
    "        acc.append(0)"
   ]
  },
  {
   "cell_type": "code",
   "execution_count": 21,
   "id": "e1f0466f-9b9f-40d7-bb10-75f102783f03",
   "metadata": {},
   "outputs": [
    {
     "data": {
      "text/plain": [
       "0.8367346938775511"
      ]
     },
     "execution_count": 21,
     "metadata": {},
     "output_type": "execute_result"
    }
   ],
   "source": [
    "sum(acc)/len(pred)"
   ]
  },
  {
   "cell_type": "code",
   "execution_count": 22,
   "id": "e85bc5a0-b98a-4c0f-af2f-1b210042f363",
   "metadata": {},
   "outputs": [
    {
     "name": "stdout",
     "output_type": "stream",
     "text": [
      "1 Комнаты маленькие семейные номера без окон, метро рядом шумно, не очень удобная локация , не очень вкусный завтрак в целом повторно не приеду\n",
      "1 Очень очень долго ждать лифт\n",
      "1 Чистота. Не убираются нормально. Тяп-ляп.\n",
      "1 Плохое расположение для туризма - неудобная пешая доступность.\n",
      "1 Выбрала этот отельдля размещения с друьями, так как впервые были тут с мужем и всё понравлось. Выбирала из-за завтраков. но прогадала. Завтраки испротились. в первые день было очень скудно, мне было стыдно перед друзьями, второй день было лучше. Если пойдёте на ужин, готовьте тысяч 6000р на двоих с бокалом вина, это оч дорого для ресторана в отеле. Покушайте где-то рядом, там у вокзала есть хороший ресторан. До центра можно добраться на автобусе или такси.\n",
      "1 Завтрак! который начинается с 9 (!!!) утра. Отель в городе у автовокзала Ортачала, в котором завтрак с 9 утра - это полный бред. Мой автобус, например, уезжал в 8-30 утра. Я заплатил 170 GEL за ночь за бронирование с завтраком, в итоге переночевал и уехал голодным. Я и подумать не мог, что завтрак может начинаться с 9 утра. При этом варианта проживания при бронировании БЕЗ ЗАВТРАКА не было. Сообщений о том, что завтрак начинается так поздно - тоже.\n",
      "1 Вида из окна нет. Цена завышена для данного номера и отеля\n",
      "1 за эти деньги можно было снять нормальный отель в центре. это не отель, это апарт отель!\n",
      "1 Отель находится в жилом доме, все еще много мест, которые строятся. На фотографиях было много еды, но по факту в баре можно заказать только напитки. Добираться до центра довольно долго (около часа с пробками). Мне кажется, есть несоответствие цена/качество.\n",
      "1 На 5 звезд тянет с натяжкой. Такси от отеля поймать сложно. Персонал оставляет желать лучшего. Обратная связь никакая.\n",
      "1 Прачечная не вовремя отдавала вещи. И так было 2 раза. Часто не докладывали полотенца в номер.\n",
      "1 Месторасположение вообще не понравилось. Можно доехать на автобусе до метро 2 остановки, но чтоб с метро вернуться в отель, только на такси. Пешком не дойти. Рядом нет нормальных магазинов, аптек, ресторанов, только в отеле совсем маленький. Рядом с отелем делать нечего, вокруг стройка, с утра этот шум, около бассейна все слышно. Не понравилась громкая музыка с бассейна до часа ночи, спать невозможно, при том что жили на 12 этаже, а бассейн был на 3 этаже. То что пишут об отеле, да, он чистый, красивый, новый,но расположение перечеркивает все его достоинства.\n",
      "5 Отличный отель за эти деньги 🔥 брали завтрак+ужин, очень удобно то, что ужин в любое время 👍🏼 Приходи хоть в 14:00, хоть 21:00 ) Номера чистые, убирали каждый день 👌🏼\n",
      "5 Нормальный отель, есть бассейн с морской водой, правда находится под автомобильной дорогой, так что загорая дышишь выхлопными газами. Номера чистые, большие, с кондиционером, летом не будет жарко, а вот в феврале довольно холодно. Есть холодильник, воду приносят. Туалетные принадлежности прикручены к стенам, полотенца чистые. Постельное белье чистое. Уборка каждый день, смена полотенец каждый день, смены белья не было, но и особо не нужно было.\n",
      "5 Номер был небольшой, но видимо за эти деньги больше не полагалось.. Завтраки приличные, без изыска, но съедобны. Персонал очень душевный, внимательный, спасибо им. Но их работа не определяет ценовую категорию, ведь денег за вежливость и добродушие не берут. Так что то, что люди в отеле, с которыми мы контактировали оставили хорошее впечатление, это никак не отражается на сервисе и экономике услуг, это нам повезло. На самом деле именно человеческие отношения красят наш отдых.. так что некоторые негативы самоликвидировались желанием помочь со стороны персонала.\n",
      "5 \n",
      "\n",
      "Хорошее расположение. Приветливый персонал\n",
      "\n",
      "Что не понравилось?\n",
      "\n",
      "Нет шторок на кроватях в общих номерах. Кровати шатаются. Стоит бойлер и не хватает горячей воды в душе.\n",
      "\n"
     ]
    }
   ],
   "source": [
    "for i, text, score in zip(acc, test_text, test_score):\n",
    "    if i == 0:\n",
    "        print(score, text)"
   ]
  },
  {
   "cell_type": "code",
   "execution_count": null,
   "id": "73da06bc-55d1-4dec-80e8-2b62f21d70fc",
   "metadata": {},
   "outputs": [],
   "source": []
  }
 ],
 "metadata": {
  "kernelspec": {
   "display_name": "Python 3 (ipykernel)",
   "language": "python",
   "name": "python3"
  },
  "language_info": {
   "codemirror_mode": {
    "name": "ipython",
    "version": 3
   },
   "file_extension": ".py",
   "mimetype": "text/x-python",
   "name": "python",
   "nbconvert_exporter": "python",
   "pygments_lexer": "ipython3",
   "version": "3.10.12"
  },
  "widgets": {
   "application/vnd.jupyter.widget-state+json": {
    "state": {},
    "version_major": 2,
    "version_minor": 0
   }
  }
 },
 "nbformat": 4,
 "nbformat_minor": 5
}
