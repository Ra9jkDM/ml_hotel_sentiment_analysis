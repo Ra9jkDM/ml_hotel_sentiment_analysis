{
 "cells": [
  {
   "cell_type": "code",
   "execution_count": 52,
   "id": "ea915990-05a7-4d19-b20f-dd5ed16171ef",
   "metadata": {},
   "outputs": [],
   "source": [
    "import numpy as np\n",
    "import pandas as pd\n",
    "\n",
    "import torch\n",
    "import torch.nn as nn\n",
    "from torch.nn import Embedding, LSTM, Linear\n",
    "from torch.utils.data.sampler import WeightedRandomSampler\n",
    "from torch.utils.data import TensorDataset, DataLoader, Dataset\n",
    "from sklearn.preprocessing import OneHotEncoder\n",
    "from sklearn.model_selection import train_test_split\n",
    "from sklearn import metrics\n",
    "\n",
    "import seaborn as sns\n",
    "import matplotlib.pyplot as plt\n",
    "\n",
    "from random import shuffle\n",
    "\n",
    "import re\n",
    "import pymorphy2\n",
    "\n",
    "import time\n",
    "\n",
    "import json\n",
    "\n",
    "from tqdm import tqdm"
   ]
  },
  {
   "cell_type": "code",
   "execution_count": null,
   "id": "f872c86d-3edf-4168-8739-6f856c22aa32",
   "metadata": {},
   "outputs": [],
   "source": []
  },
  {
   "cell_type": "code",
   "execution_count": 2,
   "id": "114e494d-e3e0-4aa0-840d-50912fb4f270",
   "metadata": {},
   "outputs": [],
   "source": [
    "device = torch.device(\"cuda\") if torch.cuda.is_available() else torch.device(\"cpu\")"
   ]
  },
  {
   "cell_type": "markdown",
   "id": "e3e1f4b4-82d3-4459-97b5-ad2b4826d1f4",
   "metadata": {},
   "source": [
    "# Загрузка датасета"
   ]
  },
  {
   "cell_type": "code",
   "execution_count": 4,
   "id": "f9022591-e8dc-4d7b-a3f8-ee736dec1d21",
   "metadata": {},
   "outputs": [
    {
     "data": {
      "text/html": [
       "<div>\n",
       "<style scoped>\n",
       "    .dataframe tbody tr th:only-of-type {\n",
       "        vertical-align: middle;\n",
       "    }\n",
       "\n",
       "    .dataframe tbody tr th {\n",
       "        vertical-align: top;\n",
       "    }\n",
       "\n",
       "    .dataframe thead th {\n",
       "        text-align: right;\n",
       "    }\n",
       "</style>\n",
       "<table border=\"1\" class=\"dataframe\">\n",
       "  <thead>\n",
       "    <tr style=\"text-align: right;\">\n",
       "      <th></th>\n",
       "      <th>Общая оценка</th>\n",
       "      <th>Цена/качество</th>\n",
       "      <th>Расположение</th>\n",
       "      <th>Качество сна</th>\n",
       "      <th>Номера</th>\n",
       "      <th>Чистота</th>\n",
       "      <th>Обслуживание</th>\n",
       "      <th>Текст отзыва</th>\n",
       "    </tr>\n",
       "  </thead>\n",
       "  <tbody>\n",
       "    <tr>\n",
       "      <th>0</th>\n",
       "      <td>4</td>\n",
       "      <td>4.0</td>\n",
       "      <td>4.0</td>\n",
       "      <td>5.0</td>\n",
       "      <td>4.0</td>\n",
       "      <td>4.0</td>\n",
       "      <td>5.0</td>\n",
       "      <td>Очень достойный отель с прекрасными номерами, ...</td>\n",
       "    </tr>\n",
       "    <tr>\n",
       "      <th>1</th>\n",
       "      <td>4</td>\n",
       "      <td>NaN</td>\n",
       "      <td>3.0</td>\n",
       "      <td>NaN</td>\n",
       "      <td>NaN</td>\n",
       "      <td>4.0</td>\n",
       "      <td>4.0</td>\n",
       "      <td>Остановились в Барселоне проездом, т.к. нужно ...</td>\n",
       "    </tr>\n",
       "    <tr>\n",
       "      <th>2</th>\n",
       "      <td>4</td>\n",
       "      <td>3.0</td>\n",
       "      <td>3.0</td>\n",
       "      <td>5.0</td>\n",
       "      <td>5.0</td>\n",
       "      <td>3.0</td>\n",
       "      <td>4.0</td>\n",
       "      <td>Типичная сетевая гостиница. Главный плюс-шикар...</td>\n",
       "    </tr>\n",
       "    <tr>\n",
       "      <th>3</th>\n",
       "      <td>1</td>\n",
       "      <td>NaN</td>\n",
       "      <td>NaN</td>\n",
       "      <td>NaN</td>\n",
       "      <td>2.0</td>\n",
       "      <td>1.0</td>\n",
       "      <td>1.0</td>\n",
       "      <td>Начнем с того, что в этом отеле не берут деньг...</td>\n",
       "    </tr>\n",
       "    <tr>\n",
       "      <th>4</th>\n",
       "      <td>5</td>\n",
       "      <td>NaN</td>\n",
       "      <td>NaN</td>\n",
       "      <td>NaN</td>\n",
       "      <td>NaN</td>\n",
       "      <td>NaN</td>\n",
       "      <td>NaN</td>\n",
       "      <td>Отель находится в отдалении от центра,но пешко...</td>\n",
       "    </tr>\n",
       "    <tr>\n",
       "      <th>...</th>\n",
       "      <td>...</td>\n",
       "      <td>...</td>\n",
       "      <td>...</td>\n",
       "      <td>...</td>\n",
       "      <td>...</td>\n",
       "      <td>...</td>\n",
       "      <td>...</td>\n",
       "      <td>...</td>\n",
       "    </tr>\n",
       "    <tr>\n",
       "      <th>57199</th>\n",
       "      <td>5</td>\n",
       "      <td>4.0</td>\n",
       "      <td>4.0</td>\n",
       "      <td>5.0</td>\n",
       "      <td>5.0</td>\n",
       "      <td>4.0</td>\n",
       "      <td>5.0</td>\n",
       "      <td>Для нас было плюсом, что в этом отеле можно ос...</td>\n",
       "    </tr>\n",
       "    <tr>\n",
       "      <th>57200</th>\n",
       "      <td>5</td>\n",
       "      <td>5.0</td>\n",
       "      <td>4.0</td>\n",
       "      <td>5.0</td>\n",
       "      <td>5.0</td>\n",
       "      <td>5.0</td>\n",
       "      <td>5.0</td>\n",
       "      <td>Очень понравился отель.Хорошие номера с кухней...</td>\n",
       "    </tr>\n",
       "    <tr>\n",
       "      <th>57201</th>\n",
       "      <td>5</td>\n",
       "      <td>5.0</td>\n",
       "      <td>4.0</td>\n",
       "      <td>5.0</td>\n",
       "      <td>5.0</td>\n",
       "      <td>5.0</td>\n",
       "      <td>4.0</td>\n",
       "      <td>В Петербурге бываю очень часто, поэтому появле...</td>\n",
       "    </tr>\n",
       "    <tr>\n",
       "      <th>57202</th>\n",
       "      <td>5</td>\n",
       "      <td>5.0</td>\n",
       "      <td>5.0</td>\n",
       "      <td>5.0</td>\n",
       "      <td>5.0</td>\n",
       "      <td>5.0</td>\n",
       "      <td>5.0</td>\n",
       "      <td>Изумительное место! Я просто не ожидала такого...</td>\n",
       "    </tr>\n",
       "    <tr>\n",
       "      <th>57203</th>\n",
       "      <td>4</td>\n",
       "      <td>4.0</td>\n",
       "      <td>5.0</td>\n",
       "      <td>5.0</td>\n",
       "      <td>5.0</td>\n",
       "      <td>5.0</td>\n",
       "      <td>5.0</td>\n",
       "      <td>Останавливались в этом отеле в августе 2013, р...</td>\n",
       "    </tr>\n",
       "  </tbody>\n",
       "</table>\n",
       "<p>57204 rows × 8 columns</p>\n",
       "</div>"
      ],
      "text/plain": [
       "       Общая оценка  Цена/качество  Расположение  Качество сна  Номера  \\\n",
       "0                 4            4.0           4.0           5.0     4.0   \n",
       "1                 4            NaN           3.0           NaN     NaN   \n",
       "2                 4            3.0           3.0           5.0     5.0   \n",
       "3                 1            NaN           NaN           NaN     2.0   \n",
       "4                 5            NaN           NaN           NaN     NaN   \n",
       "...             ...            ...           ...           ...     ...   \n",
       "57199             5            4.0           4.0           5.0     5.0   \n",
       "57200             5            5.0           4.0           5.0     5.0   \n",
       "57201             5            5.0           4.0           5.0     5.0   \n",
       "57202             5            5.0           5.0           5.0     5.0   \n",
       "57203             4            4.0           5.0           5.0     5.0   \n",
       "\n",
       "       Чистота  Обслуживание  \\\n",
       "0          4.0           5.0   \n",
       "1          4.0           4.0   \n",
       "2          3.0           4.0   \n",
       "3          1.0           1.0   \n",
       "4          NaN           NaN   \n",
       "...        ...           ...   \n",
       "57199      4.0           5.0   \n",
       "57200      5.0           5.0   \n",
       "57201      5.0           4.0   \n",
       "57202      5.0           5.0   \n",
       "57203      5.0           5.0   \n",
       "\n",
       "                                            Текст отзыва  \n",
       "0      Очень достойный отель с прекрасными номерами, ...  \n",
       "1      Остановились в Барселоне проездом, т.к. нужно ...  \n",
       "2      Типичная сетевая гостиница. Главный плюс-шикар...  \n",
       "3      Начнем с того, что в этом отеле не берут деньг...  \n",
       "4      Отель находится в отдалении от центра,но пешко...  \n",
       "...                                                  ...  \n",
       "57199  Для нас было плюсом, что в этом отеле можно ос...  \n",
       "57200  Очень понравился отель.Хорошие номера с кухней...  \n",
       "57201  В Петербурге бываю очень часто, поэтому появле...  \n",
       "57202  Изумительное место! Я просто не ожидала такого...  \n",
       "57203  Останавливались в этом отеле в августе 2013, р...  \n",
       "\n",
       "[57204 rows x 8 columns]"
      ]
     },
     "execution_count": 4,
     "metadata": {},
     "output_type": "execute_result"
    }
   ],
   "source": [
    "train_df = pd.read_csv('datasets/Training_data_marked.csv')\n",
    "test_df = pd.read_csv('datasets/Test_data_marked.csv')\n",
    "df = pd.concat([train_df, test_df], ignore_index=True)\n",
    "df"
   ]
  },
  {
   "cell_type": "code",
   "execution_count": 5,
   "id": "ddca17e2-d55c-479e-ba31-9eec0c2af1e2",
   "metadata": {},
   "outputs": [
    {
     "name": "stdout",
     "output_type": "stream",
     "text": [
      "<class 'pandas.core.frame.DataFrame'>\n",
      "RangeIndex: 57204 entries, 0 to 57203\n",
      "Data columns (total 2 columns):\n",
      " #   Column  Non-Null Count  Dtype \n",
      "---  ------  --------------  ----- \n",
      " 0   score   57204 non-null  int64 \n",
      " 1   text    57053 non-null  object\n",
      "dtypes: int64(1), object(1)\n",
      "memory usage: 893.9+ KB\n"
     ]
    }
   ],
   "source": [
    "df = df.rename(columns={'Текст отзыва': 'text', 'Общая оценка': 'score'})\n",
    "df = df[['score', 'text']]\n",
    "df.info()"
   ]
  },
  {
   "cell_type": "code",
   "execution_count": 6,
   "id": "c3c337e2-fd3b-4d61-9cea-a1477a7b9041",
   "metadata": {},
   "outputs": [],
   "source": [
    "df.dropna(inplace=True)\n",
    "df.drop_duplicates(inplace=True)"
   ]
  },
  {
   "cell_type": "code",
   "execution_count": 7,
   "id": "6e335d62-2e9c-4161-a965-9b20f70f1e2a",
   "metadata": {},
   "outputs": [
    {
     "name": "stdout",
     "output_type": "stream",
     "text": [
      "<class 'pandas.core.frame.DataFrame'>\n",
      "Index: 57039 entries, 0 to 57203\n",
      "Data columns (total 2 columns):\n",
      " #   Column  Non-Null Count  Dtype \n",
      "---  ------  --------------  ----- \n",
      " 0   score   57039 non-null  int64 \n",
      " 1   text    57039 non-null  object\n",
      "dtypes: int64(1), object(1)\n",
      "memory usage: 1.3+ MB\n"
     ]
    }
   ],
   "source": [
    "df.info()"
   ]
  },
  {
   "cell_type": "code",
   "execution_count": 8,
   "id": "e98c452a-b033-45c3-80c9-dcd0693b4219",
   "metadata": {},
   "outputs": [],
   "source": [
    "def draw_statistics(df):\n",
    "    x = df.groupby(by='score').count()\n",
    "    plt.pie(x['text'], labels=x.index,  autopct='%.1f')\n",
    "    plt.title('Соотношение оценок в коментариях')\n",
    "    print(x['text'])"
   ]
  },
  {
   "cell_type": "code",
   "execution_count": 9,
   "id": "289301f4-c020-4f1d-a9e2-b4a7314e5a04",
   "metadata": {},
   "outputs": [
    {
     "name": "stdout",
     "output_type": "stream",
     "text": [
      "score\n",
      "1     1452\n",
      "2     2026\n",
      "3     6356\n",
      "4    18208\n",
      "5    28997\n",
      "Name: text, dtype: int64\n"
     ]
    },
    {
     "data": {
      "image/png": "[encoded data removed]",
      "text/plain": [
       "<Figure size 640x480 with 1 Axes>"
      ]
     },
     "metadata": {},
     "output_type": "display_data"
    }
   ],
   "source": [
    "draw_statistics(df)"
   ]
  },
  {
   "cell_type": "markdown",
   "id": "c74f371a-7a0e-42c2-b865-41de465b3d0a",
   "metadata": {},
   "source": [
    "# Просмотр отзывов"
   ]
  },
  {
   "cell_type": "code",
   "execution_count": 9,
   "id": "a6e04b4c-5c3a-4103-97bc-197734eb0622",
   "metadata": {},
   "outputs": [],
   "source": [
    "def get_reviews(score, len_):\n",
    "    idx = list(df[df['score'] == score].index)\n",
    "    shuffle(idx)\n",
    "    return list(df['text'][idx[:len_]])"
   ]
  },
  {
   "cell_type": "code",
   "execution_count": 16,
   "id": "5364a64b-ef44-43e0-93d6-3785a5ed3c54",
   "metadata": {},
   "outputs": [
    {
     "name": "stdout",
     "output_type": "stream",
     "text": [
      "Оценка: 1 ['Каждый кубический сантиметр воздуха в отеле пропитан невыносимой наимерзейшей вонью кошачьей, пёсьей, волчьей, медвежьей и слоновьей ссанины. Чтобы получилось уснуть, пришлось курить в номере - только так запах прятался на несколько минут. И это не смотря на расположение кровати прямо рядом с открытым настежь окном.Есть множество и других огромнейших минусов, но они все меркнут в сравнении с вонью.', 'Останавливались в отеле вдвоем с мужем в июне 2014 года. Заказали номер как было заявлено на сайте высшей категории. Сразу напрягло, что номер оказался напротив лифта и был смежным (видимо он подразумевался как двухкомнатный, просто дверь во вторую комнату закрывается на ключ). Как по заказу в этот смежный номер поселили семейную пару с маленьким ребенком, который конечно плакал по ночам, ломился в эту закрытую дверь в коридоре и просыпался в пять утра. Но на все это можно было бы закрыть глаза, у нас тоже были маленькие дети, закрывали поплотнее дверь в прихожую и спали. Самое неприятное произошло, когда вечером мы отправились на ужин в ресторан в отеле. Обслуживали нас долго и часа через два, когда мы вернулись в номер, обнаружили что у нас из сумок вытащили три телефона. Мой Samsung Galaxy S4, мужа iPhone 5s (и третий у нас был как запасной вариант старенький sony). Естественно, обратились на ресепшн, там вызвали полицию. Полиция приехала, посмотрела на замок в номере (замок электронный ключ), взяли какую-то распечатку с замка, показали нам что в период пока мы были в ресторане наш замок не открывался, дали какую -то бумажку с номером заявления в полицию и уехали. И все!! Самое интересное, что в номере не предусмотрено сейфа и во всем отеле не оказалось ни одной камеры! Безопасность постояльцев на высоте!!!! И самое неприятное в этой истории, что персонал отеля даже НЕ ПОПЫТАЛСЯ принести нам свои извинения!! Пожелали спокойной ночи! Последние сутки гуляли по Берлину со всеми более менее ценными вещами и сумками. В Берлине бываем часто, но такое себе даже представить не могли! Так что если у Вас есть ценные вещи не советую выбирать этот отель. Наталья С.', 'Я никогда не буду останавливаться в этом отеле. Мы приехали в Ivbergs Hotel по случаю празднования 31 декабря.Обслуживание было плохим, парень на стойке регистрации сказал, что он разрежет мою немецкую банковскую карточку, все это меня очень и очень раздражало. От администрации было очень трудно получить хоть какую-то достоверную информацию.Цены??? Забудьте! Нам пришлось заплатить 200 евро всего лишь за одну ночь, чрезвычайно дорого только из-за того, что это было 31 декабря!Номер был большой и чистый, с большим балконом и прекрасным видом, но далеко от всех мест, и смотреть было нечего.Кроме того, лифт был настолько медленный, что по лестнице подняться на 4-й этаж можно в три раза быстрее.Может нам просто не повезло, так как другие люди оценили этот отель на 5 звезд. Но это именно мой опыт.']\n",
      "\n",
      "Оценка: 2 ['Очень маленький отель, всего 4 номера на этаже два из которых выходят на сторону рынка Banzaan. От рынка круглые сутки невыносимый запах, балкон не открыть, приходится находиться в номере с постоянно включенным кондиционером. Несмотря на закрытый балкон, очень сильная слышимость с улицы, в том числе от стадиона Bangla Boxing который находится прямо через дорогу. Плюс ко всему муравьи, которых по-началу не очень заметно, но вскоре они начинают ползать повсюду в больших количествах. Бассейн на крыше площадью метра 2 и 2 лежака у него, на фото кажется большим, но это не так. Пляжных полотенец и фена нет.Персонал дружелюбный, но плохо говорят по английски. завтраки по меню, выбрать есть из чего и довольно сытно.', 'В отеле бронировал номер на одного. Основное, что не понравилось - комната очень маленькая, чувствуешь себя как в коробке, но ванная комната достаточно большая. Уборка ничего, но не всегда идеальна: у меня, например, забывали в номере белье, которое меняли. Завтрак неплох, фруктов нет, в остальном достаточно стандартен, кофе отличный. Место, где проводят завтраки небольшое, без окон и стоит постоянный гул. Wi-Fi не особо комфортен, такое впечатление, что стоит ограничение трафик, посмотреть кино онлайн достаточно сложно. Расположение хорошее, хоть и не в центре, но до основных достопримечательностей можно дойти пешком. С учетом того, что в Барселоне отели сами по себе дороже, чем в остальной Испании, цена все же завышена для такого номера, соотношение цена/качество на мой взгляд плохо. Для одного отель не рекомендую.', 'Кроме отличного расположения и вежливого персонала плюсов у отеля вспомнить не могу.Были здесь в декабре, и было ОЧЕНЬ, ОЧЕНЬ, ОЧЕНЬ холодно. В номере из отопления кондиционер с функцией нагрева воздуха и тоненькие одеялки. Мой спутник простыл и спасался только горячим чаем. Слава богу, останавливались там только на одну ночь, поэтому кое-как дотерпев в десяти кофтах под одеялом до шести утра, пулей бросились в ванную и прочь из отеля. Завтрак катастрофически никакой.Оформление забавное, да: всё в рюшах, розочках и перламутровых переливах.']\n",
      "\n",
      "Оценка: 3 ['Отель претендует на элитный городской отель. Но он находится далеко от метро, соответственно вы постоянно будете стоять в пробках. Окна в отеле не открываются, поэтому если вам случайно жарко или душно, то исправить эту ситуацию будет сложно. Плюс ко всему платные завтраки. Единственный большой плюс - это красивый вид на мост через Босфор.', 'Мои отзывы основаны на реальных события, пишется по существу, только про отель, не сотрудничаю с владельцами! Отель Deevana Patong полностью соответсвует заявленной категории и звёздам! Двухместный Номер: чистый, не большой по размерам, огромная большая кровать, чистое постальное белье, подушки мягкие, кондиционер новый, современный, имеется телевизор, сейф, холодильник, это ПЛЮС, две бутылки воды в стекле ПЛЮС, освещенность номера средняя, это МИНУС.Ванная: огромная большая ванная комната, душ, раковина, унитаз чистый! Освещенность в норме, количество полотенец не достаточно для 3 звёзд, это МИНУС, имеется маленькие шампуни и гели это ПЛЮС. Завтра: хороший ПЛЮС. Отель на 3 линии от моря, это большой минус, идти минут 10; пляжные полотенца имеется выдаются бесплатно на ресшепшене. Имеется бесплатный WIFI. Программа РеВизорро рекомендует отель Deevana Patong на острове Пхукет!', 'Пришлось провести 2 дня в отеле Годунов по служебным делам. Заказ осуществлялся онлайн, бронь сохранилась, в этом проблем не было. При вселении в первый номер оказалось, что в нем отсутствуют холодильник, кондиционеры не работают по всему отелю, окно не закрывается, номер трудно назвать номером, два шага в ширину и три в длину к чести персонала, просьба поменять номер нашла отклик и новый номер с холодильником, но без кондиционера был предоставлен через 15 минут. Завтрак вполне съедобный, персонал отзывчивый, относительно чисто, но Лена Летучая была бы в восторге Все испортило отсутствие вентиляции и кондиционирования причем как обещал персонал в течение нескольких недель и только ночью при открытых окнах имелось ощущение комфорта Близость к центру в данном случае решает и было жалко наших забугорных гостей, бегавших по этажу в поисках хотя бы вентилятора ']\n",
      "\n",
      "Оценка: 4 ['Останавливались с женой на неделю в этом отеле, никаких претензий нет. Вкусные завтраки, удобная большая кровать, убирали каждый день. Очень удобное расположение в центре. Отель очень достойный, рекомендую. ', 'Очень достойный отель за понятные деньги почти в центре. Доброжелательный персонал, хорошие номера, удобная кровать. Из минусов: 1. Очень дорогой завтрак 790 рублей, сам завтрак неплохой, но мало выпечки, только круассаны и еще что-то2. Крайне ограниченный выбор рускоязычных ТВ каналов (первый, Россия, спорт, мультфильмы, еще пару). Но даже эти не всегда ловили сигнал и не показывали. ТВЦ нет и это в Москве)!3. Для того чтобы приоткрыть окно надо встать на стол, по крайней мере у меня по другому не получилось. Стол продвинут вплотную к окну и дотянуться до ручки окна невозможно Но в номерах очень тихо, номер был с видом на Москва сити, несколько раз поздно вечером выходила на улицу непосредствтвенно напротив вокзала, ни поездов ни их объявлений не слышно. Плохо что нет кулеров, хотя бутылку 0,5 воды в номер ставят, проблемы с теплой водой. Рекомендуют идти в бар, но иногда ночью нужно развести лекарство и бывает проблематично ехать на 5 этаж в бар отеля Novotel и потом с кипятком подниматься в лифте к себе в номер. В целом отель рекомендую', 'Хороший отель с точки зрения соотношения цена-качество. Что касается расположения - от метро недалеко, но до ближайшей достопримечательности (Триумфальной арки) идти пешком минут 30. А вообще район, в котором расположен отель, очень спокойный и приятный. Вокруг много кафе, супермаркет.Номера чистые, но малюсенькие, заходишь - сразу кровать, а туалет с ванной тоже практически у кровати. Слышимость ужасная. Такое ощущение, что в одной квартире со всем отелем живешь. Обслуживание очень хорошее, персонал вежливый и готовый помочь.']\n",
      "\n",
      "Оценка: 5 ['В этот отель мы приехали в октябре по совету моей подруги. И действительно он в реальности оказался превосходным.Конечно же это очень удобное расположение относительно всех важных объектов культурного и исторического значения . Остановка трамвая находится в 2-х минутах ходьбы, но мы редко пользовались транспортом, так как все необходимое: рынки, магазины и красивые парковые зоны находятся в шаговой доступности.Сам отель оставляет очень благоприятное впечатление. Здесь царит поистине камерная обстановка: приглушённый свет, тёплая подсветка на картинах панно и в витринах, удачно продуманное зонирование - все это создаёт ощущение уюта и комфорта.Особо хочу обратить внимание на персонал отеля. Во- первых сразу бросается в глаза это безупречная дисциплина - каждый на своём месте четко и профессионально выполняет свою работу. Любой вопрос или просьба выполняется мгновенно. Такое ощущение что твои желания предугадывают. Такое отношение очень редко я наблюдала в других отелях.Очень порадовало меня обслуживание в ресторане. Еда очень вкусная и разнообразная. На завтрак подают кроме многочисленной закуски и овощей несколько видов горячего помимо традиционных омлетов и большой выбор десертов варенья и даже сотовый мёд!!!! Приятным и неожиданным сюрпризом оказалось то что в стоимость включён не только завтрак но и обед причём с весьма удобным временем с 14-00 до 18-00, то есть если вы не успели пообедать в городе, то можно приехать в отель где вас будет ждать горячий вкусный ужин, а это согласитесь очень важно для нас уставших путешественников. Кстати также замечу что в ресторане работают очень услужливые и аккуратно с иголочки одетые официанты, очень мне понравилось их деликатное и вежливое обслуживание.Ну и конечно же главный менеджер этого отеля Жанна! Вот поистине настоящее лицо отеля - милая обаятельная очень симпатичная женщина и при этом настоящий профессионал - чётко грамотно и быстро выполняет свои обязанности. Приезжая за границу все мы чувствуем немно неуютно в чужом городе и как хорошо когда рядом оказывается человек который помогает снять все проблемы на бытовом уровне, подскажет как сориентироваться в незнакомом городе и поможет с выбором достопримечательностей. Вот к счастью таким человеком и оказалась Жанна - она для нас была как путеводная звезда! Я думаю, что благодаря ее профессиональным качествам весь персонал отеля работает как хорошо отлаженный механизм. Ну кроме всего прочего всегда приятно когда в отеле есть русскоговорящий персонал. Это очень большой бонус для отеля.Как это не странно, но моя первая поездка в Стамбул оставила благоприятное впечатление ещё и потому что я остановилась в этом отеле.Всем очень советую ,обязательно, если соберётесь в Стамбул, то только в этот отель. А я на следущий год точно приеду и остановлюсь в этом отеле. Приятных вам путешествий.', 'Ездила в Берлин в первый раз (в июне 2014), причем в гордом одиночестве. Хотелось погулять, посмотреть город, проникнутся его духом и, конечно, отдохнуть.Очень понравилось расположение отеля. Рядом с центральным вокзалом, музейным островом, госпиталем Шарите. По центральной части восточного Берлина можно ходить пешком, совсем рядом Рейхстаг Бранденбургские ворота. Жила в одноместном номере. Вид был на внутренний двор. Очень уютно, вечером и ночью поют соловьи. На улице всё время была дикая жира (+35-40), но отсутствие кондиционера не мешало, потому что окна были во двор и всегда можно было проветрить номер.Спасибо большое всему персоналу за уют и помощь. В гостинице работают русскоязычные администраторы и это особенно приятно))Еще совершенно незабываемо было завтракать на крыше) Обязательно вернусь сюда с семьей)))', 'Всем привет! Отдыхали парой с супругой на юбилей свадьбы с 19-23.07 в отеле. Очень понравилось. Уютно, спокойно, месторасположение тоже отличное! Персонал очень дружелюбный и общительный. На русском язвке можно общаться с привлекательной общительной девушкой по имени Хадиджа. Ей отдельный привет и спаибо за помощь в иныормации!!!']\n",
      "\n"
     ]
    }
   ],
   "source": [
    "for i in range(1, 6):\n",
    "    print('Оценка:', i, get_reviews(i, 3), end='\\n\\n')"
   ]
  },
  {
   "cell_type": "markdown",
   "id": "4fb499e8-d080-4fef-825d-900a8a024175",
   "metadata": {},
   "source": [
    "# Балансировка данных"
   ]
  },
  {
   "cell_type": "code",
   "execution_count": 11,
   "id": "31d399e8-5660-44e7-ae33-50af3d0dc318",
   "metadata": {},
   "outputs": [
    {
     "data": {
      "text/plain": [
       "([1452, 2026, 6356, 18208, 28997], 3478, 1739.0)"
      ]
     },
     "execution_count": 11,
     "metadata": {},
     "output_type": "execute_result"
    }
   ],
   "source": [
    "s = [len(df[df['score']==i]) for i in range(1, 6)]\n",
    "s, s[0]+s[1], (s[0]+s[1])/2"
   ]
  },
  {
   "cell_type": "code",
   "execution_count": 12,
   "id": "3a5ed63e-9afb-4422-9fde-f385ecddf34d",
   "metadata": {},
   "outputs": [],
   "source": [
    "df_b = pd.concat([df[df['score']==i][:s[0]] for i in range(1, 6) if i != 3])"
   ]
  },
  {
   "cell_type": "code",
   "execution_count": 13,
   "id": "cf2666d9-0dca-41a5-9f3f-d9b1c6ab08ff",
   "metadata": {},
   "outputs": [
    {
     "name": "stdout",
     "output_type": "stream",
     "text": [
      "score\n",
      "1    1452\n",
      "2    1452\n",
      "4    1452\n",
      "5    1452\n",
      "Name: text, dtype: int64\n"
     ]
    },
    {
     "data": {
      "image/png": "[encoded data removed]",
      "text/plain": [
       "<Figure size 640x480 with 1 Axes>"
      ]
     },
     "metadata": {},
     "output_type": "display_data"
    }
   ],
   "source": [
    "draw_statistics(df_b)"
   ]
  },
  {
   "cell_type": "markdown",
   "id": "6ec57803-46d5-411c-8899-d9394f936b0d",
   "metadata": {},
   "source": [
    "# Обработка текста"
   ]
  },
  {
   "cell_type": "code",
   "execution_count": 12,
   "id": "ca4795da-0be7-4737-b975-ffa9f5e42f23",
   "metadata": {},
   "outputs": [],
   "source": [
    "def clear_text(text):\n",
    "    text = re.sub('((www\\.[^\\s]+)|(https?://[^\\s]+))', 'URL', text) # Удаление ссылок\n",
    "    text = re.sub('\"[\\S]+\"', '', text) # Удаление названий. Пример: \"ООО ...\"\n",
    "    text = text.lower().replace(\"ё\", \"е\")\n",
    "\n",
    "    for i in list('.?!()') + ['...']:\n",
    "        text = text.replace(i, ' ') # В конце строки часто не ставят пробелов\n",
    "        # из-за этого после обработки два слова склеиваются и перестают нести смысловую нагрузку для сети\n",
    "    \n",
    "    symbols = re.findall(\"[а-я\\s]\", text) # Оставляем только буквы\n",
    "    text = ''.join(symbols)\n",
    "    text = re.sub(' +', ' ', text) # Оставляем между словами 1 пробел\n",
    "    return text.strip()"
   ]
  },
  {
   "cell_type": "code",
   "execution_count": 13,
   "id": "ec5c4739-ee2c-4d00-8184-f43351e86561",
   "metadata": {},
   "outputs": [],
   "source": [
    "morph = pymorphy2.MorphAnalyzer(lang='ru')\n",
    "\n",
    "def stemming(text):\n",
    "    text = text.split()\n",
    "    new_text = []\n",
    "\n",
    "    for i in text:\n",
    "        tmp = morph.parse(i)[0]\n",
    "        if not 'UNKN' in tmp.tag: # Если слово написано с ошибкой или несуществующее слово\n",
    "            new_text.append(tmp.normal_form)\n",
    "    \n",
    "    return ' '.join(new_text)"
   ]
  },
  {
   "cell_type": "code",
   "execution_count": 8,
   "id": "eb454fc3-3036-4193-a022-bdb22f6cc057",
   "metadata": {},
   "outputs": [],
   "source": [
    "def preprocess_text(text):\n",
    "    text = clear_text(text)\n",
    "    text = stemming(text)\n",
    "    return text"
   ]
  },
  {
   "cell_type": "code",
   "execution_count": 38,
   "id": "8b2330c6-c234-47c5-b31b-6a9457741410",
   "metadata": {},
   "outputs": [
    {
     "name": "stdout",
     "output_type": "stream",
     "text": [
      "Остановились в Барселоне проездом, т.к. нужно было посетить консульство РФ. Расположение, для посещения консульства - неплохо, дошли до него пешком (хотя идти пришлось минут 25 и в горку). Сама гостиница - достаточно хороша, завтрак - замечательный. В гостинице подземная парковка - заезжать туда нужно сразу, хотя она и рядом с главным входом (погуглите стрит вью) и на самый нижний уровень. У нас машина высокая (2м), но потолки парковки достаточно высокие и проблемы не было. Оттуда с вещами на лифте - в лобби. Есть достаточно простенький но функциональный спорт зал. Номера - нормальные, в принципе все понравилось.\n",
      "\n",
      "остановиться в барселона проезд так к нужно быть посетить консульство рф расположение для посещение консульство неплохо дойти до он пешком хотя идти прийтись минута и в горка сам гостиница достаточно хороший завтрак замечательный в гостиница подземный парковка заезжать туда нужно сразу хотя она и рядом с главный вход погуглита стрит вить и на самый нижний уровень у мы машина высокий м но потолок парковка достаточно высокий и проблема не быть оттуда с вещь на лифт в лобби есть достаточно простенький но функциональный спорт зал номер нормальный в принцип всё понравиться\n"
     ]
    }
   ],
   "source": [
    "i = 1\n",
    "print(df_b['text'][i], end='\\n\\n')\n",
    "print(preprocess_text(df_b['text'][i]))"
   ]
  },
  {
   "cell_type": "code",
   "execution_count": 17,
   "id": "2968c00f-201c-4f73-b6ae-275a067fc473",
   "metadata": {},
   "outputs": [],
   "source": [
    "df_pre = df_b.copy()\n",
    "df_pre['text'] = df_pre['text'].map(lambda x: preprocess_text(x))"
   ]
  },
  {
   "cell_type": "code",
   "execution_count": 18,
   "id": "0d511665-fe0f-42ce-877f-a89b9e4e7c3e",
   "metadata": {},
   "outputs": [],
   "source": [
    "df_pre.to_csv('datasets/preprocess_ds.csv')"
   ]
  },
  {
   "cell_type": "code",
   "execution_count": 88,
   "id": "9afc8fb7-3f23-4002-a396-c9e5d0c9ebee",
   "metadata": {},
   "outputs": [],
   "source": [
    "df_pre =  pd.read_csv('datasets/preprocess_ds.csv', index_col=0)"
   ]
  },
  {
   "cell_type": "code",
   "execution_count": 22,
   "id": "2d80a6c1-cb11-4375-ba50-9a2aa6654603",
   "metadata": {},
   "outputs": [],
   "source": [
    "df_pre['text'] = df_pre['text'].map(lambda x: str(x))"
   ]
  },
  {
   "cell_type": "markdown",
   "id": "64c7991e-0c3c-4970-80d9-89ecd288d084",
   "metadata": {},
   "source": [
    "# Токенизация"
   ]
  },
  {
   "cell_type": "code",
   "execution_count": 23,
   "id": "c3196597-ce5f-420a-9bc5-8e11535f5e4f",
   "metadata": {},
   "outputs": [
    {
     "name": "stdout",
     "output_type": "stream",
     "text": [
      "Количество токенов: 22687\n"
     ]
    }
   ],
   "source": [
    "unique_words = set(' '.join(df_pre['text']).split())\n",
    "tokens = {value: key for key, value in enumerate(unique_words, start=1)}\n",
    "print('Количество токенов:', len(tokens))"
   ]
  },
  {
   "cell_type": "code",
   "execution_count": 24,
   "id": "601dbe3b-fc10-4538-ac01-b8de077cb347",
   "metadata": {},
   "outputs": [],
   "source": [
    "with open('datasets/vocabulary.json', 'w') as f:\n",
    "    json.dump(tokens, f)"
   ]
  },
  {
   "cell_type": "code",
   "execution_count": null,
   "id": "de252d4f-1280-4392-a59b-8e1627d18d01",
   "metadata": {},
   "outputs": [],
   "source": [
    "with open('datasets/vocabulary.json', 'r') as f:\n",
    "    tokens = json.load(f)"
   ]
  },
  {
   "cell_type": "code",
   "execution_count": 10,
   "id": "c1a46a94-3089-4f78-97a8-cd5841cb9d74",
   "metadata": {},
   "outputs": [],
   "source": [
    "def text2numbers(text, dict_): \n",
    "    text = text.split()\n",
    "    sequence = []\n",
    "\n",
    "    for i in text:\n",
    "        if i in dict_.keys():\n",
    "            sequence.append(dict_[i])\n",
    "\n",
    "    return sequence"
   ]
  },
  {
   "cell_type": "code",
   "execution_count": 9,
   "id": "44604c9a-0742-4f76-b74e-38ae6966b9dc",
   "metadata": {},
   "outputs": [],
   "source": [
    "def texts2tokens(row):\n",
    "    return [text2numbers(i, dict_=tokens) for i in row]"
   ]
  },
  {
   "cell_type": "code",
   "execution_count": 27,
   "id": "ceaceca0-b78d-4d66-a497-6958134c478f",
   "metadata": {},
   "outputs": [],
   "source": [
    "texts = texts2tokens(df_pre['text'])"
   ]
  },
  {
   "cell_type": "markdown",
   "id": "3a9b0c05-c903-4ce2-ba62-7739eced42b4",
   "metadata": {},
   "source": [
    "## Преобразовываем тексты к одной длине"
   ]
  },
  {
   "cell_type": "code",
   "execution_count": 28,
   "id": "68addc3c-391a-4d80-8846-cd11656164f1",
   "metadata": {},
   "outputs": [
    {
     "name": "stdout",
     "output_type": "stream",
     "text": [
      "Количество слов:\n",
      "Min: 1\n",
      "Max: 1623\n",
      "Mean: 104.70609504132231\n",
      "Median: 74.0\n"
     ]
    }
   ],
   "source": [
    "text_len = [len(i) for i in texts]\n",
    "\n",
    "print('Количество слов:')\n",
    "print('Min:', np.min(text_len))\n",
    "print('Max:', np.max(text_len))\n",
    "print('Mean:', np.mean(text_len))\n",
    "print('Median:', np.median(text_len))"
   ]
  },
  {
   "cell_type": "code",
   "execution_count": 15,
   "id": "e08d1f24-be68-48a2-befb-784c2499a9a5",
   "metadata": {},
   "outputs": [],
   "source": [
    "def set_text_len(texts, max_len):\n",
    "    array = np.zeros([len(texts), max_len])\n",
    "\n",
    "    i = 0\n",
    "    for value in texts:\n",
    "        tmp = max_len-len(value)\n",
    "        tmp = tmp if tmp > 0 else 0\n",
    "\n",
    "        text = np.concatenate((value[:max_len], np.zeros(tmp)))\n",
    "        array[i] = text\n",
    "        i+=1\n",
    "\n",
    "    return array "
   ]
  },
  {
   "cell_type": "code",
   "execution_count": 30,
   "id": "11e31c97-c243-4c03-a88f-4e19425e6206",
   "metadata": {},
   "outputs": [
    {
     "data": {
      "text/plain": [
       "(5808, 80)"
      ]
     },
     "execution_count": 30,
     "metadata": {},
     "output_type": "execute_result"
    }
   ],
   "source": [
    "max_len = 80\n",
    "texts_same_len = set_text_len(texts, max_len)\n",
    "\n",
    "texts_same_len.shape"
   ]
  },
  {
   "cell_type": "code",
   "execution_count": 31,
   "id": "35833623-fb56-48d3-9368-815754ad3ce8",
   "metadata": {},
   "outputs": [],
   "source": [
    "np.save('datasets/texts_same_len.npy', texts_same_len)"
   ]
  },
  {
   "cell_type": "code",
   "execution_count": 25,
   "id": "d71164b8-97c8-46a6-b182-792fa799895c",
   "metadata": {},
   "outputs": [],
   "source": [
    "texts_same_len = np.load('datasets/texts_same_len.npy')"
   ]
  },
  {
   "cell_type": "markdown",
   "id": "c937a3d8-11c2-4eaf-befb-5a0cadfbb60f",
   "metadata": {},
   "source": [
    "## Преобразование результирующей колонки"
   ]
  },
  {
   "cell_type": "code",
   "execution_count": 32,
   "id": "911045bd-f7fa-47dc-ba75-39abbe0503af",
   "metadata": {},
   "outputs": [
    {
     "data": {
      "text/plain": [
       "array([1, 2, 4, 5])"
      ]
     },
     "execution_count": 32,
     "metadata": {},
     "output_type": "execute_result"
    }
   ],
   "source": [
    "df_pre['score'].unique()"
   ]
  },
  {
   "cell_type": "code",
   "execution_count": 90,
   "id": "a57e2b3c-d848-40a6-bb08-4bc01e2a5c27",
   "metadata": {},
   "outputs": [],
   "source": [
    "def rules(row):\n",
    "    score = row['score']\n",
    "    new_score = -1\n",
    "\n",
    "    if score in [4, 5]:\n",
    "        new_score = 5 # Положительные\n",
    "    elif score in [1, 2]:\n",
    "        new_score = 1 # Отрицательные\n",
    "\n",
    "\n",
    "    row['score'] = new_score\n",
    "    return row\n",
    "\n",
    "def merge_categories(df):\n",
    "    return df.apply(rules, axis=1)"
   ]
  },
  {
   "cell_type": "code",
   "execution_count": 91,
   "id": "af4065dc-5cee-4f87-805f-5d6aa8e9b7b1",
   "metadata": {},
   "outputs": [],
   "source": [
    "df_pre = merge_categories(df_pre)"
   ]
  },
  {
   "cell_type": "code",
   "execution_count": 92,
   "id": "06ef751a-5819-47dc-848c-6baabde2dd41",
   "metadata": {},
   "outputs": [
    {
     "name": "stdout",
     "output_type": "stream",
     "text": [
      "Категории:\n",
      "[array([1, 5])]\n",
      "\n",
      "Отрицательные\t 1 [[1. 0.]]\n",
      "Положительные\t 5 [[0. 1.]]\n"
     ]
    }
   ],
   "source": [
    "score_enc = OneHotEncoder(handle_unknown='ignore')\n",
    "X = df_pre['score'].to_numpy().reshape(-1, 1)\n",
    "\n",
    "unique_items = np.unique(X).reshape(-1, 1)\n",
    "score_enc.fit(unique_items)\n",
    "\n",
    "print('Категории:', score_enc.categories_, sep='\\n')\n",
    "print()\n",
    "for i, desc in zip(score_enc.categories_[0], ['Отрицательные\\t', 'Положительные\\t']):\n",
    "    print(desc, i, score_enc.transform(np.array([i]).reshape(-1, 1)).toarray())"
   ]
  },
  {
   "cell_type": "code",
   "execution_count": 36,
   "id": "1e46c35a-0dcb-47f5-9852-439ab812608c",
   "metadata": {},
   "outputs": [],
   "source": [
    "def score_one_hot_encoder(row):\n",
    "    array = row.to_numpy().reshape(-1, 1)\n",
    "    return score_enc.transform(array).toarray()"
   ]
  },
  {
   "cell_type": "code",
   "execution_count": 37,
   "id": "998047f3-60ab-494e-a46d-f731ebfe0ab7",
   "metadata": {},
   "outputs": [],
   "source": [
    "score = score_one_hot_encoder(df_pre['score'])"
   ]
  },
  {
   "cell_type": "code",
   "execution_count": 38,
   "id": "6d2cf549-913b-4586-bb2d-32bc31bae5a1",
   "metadata": {},
   "outputs": [],
   "source": [
    "np.save('datasets/score.npy', score)"
   ]
  },
  {
   "cell_type": "code",
   "execution_count": 24,
   "id": "aecc7bf0-05cc-4b6e-95d5-5d997c87795c",
   "metadata": {},
   "outputs": [],
   "source": [
    "score = np.load('datasets/score.npy')"
   ]
  },
  {
   "cell_type": "markdown",
   "id": "5d3efd8c-98f8-4aba-b605-e95fdd1baf70",
   "metadata": {},
   "source": [
    "# Создание DataLoader"
   ]
  },
  {
   "cell_type": "code",
   "execution_count": 26,
   "id": "c2a79e3d-892a-4cd7-a5a9-c2f7de028920",
   "metadata": {},
   "outputs": [],
   "source": [
    "class TextDataset(Dataset):\n",
    "    def __init__(self, X, y):\n",
    "        self.X = X\n",
    "        self.y = y\n",
    "\n",
    "    def __len__(self):\n",
    "        return len(self.y)\n",
    "\n",
    "    def __getitem__(self, idx):\n",
    "        return torch.IntTensor(self.X[idx]), torch.IntTensor([self.y[idx]])"
   ]
  },
  {
   "cell_type": "code",
   "execution_count": 40,
   "id": "5a0712b0-4295-41ea-9e8a-4a132d1bf3c7",
   "metadata": {},
   "outputs": [
    {
     "data": {
      "text/plain": [
       "5808"
      ]
     },
     "execution_count": 40,
     "metadata": {},
     "output_type": "execute_result"
    }
   ],
   "source": [
    "len(score)"
   ]
  },
  {
   "cell_type": "code",
   "execution_count": 27,
   "id": "6c1036ae-8283-414c-bd57-af758052e80d",
   "metadata": {},
   "outputs": [
    {
     "name": "stdout",
     "output_type": "stream",
     "text": [
      "Data (5800, 2) (5800, 80)\n"
     ]
    }
   ],
   "source": [
    "len_ = 8\n",
    "\n",
    "if len_ != 0:\n",
    "    train_score = score[:-len_]\n",
    "    train_texts_same_len = texts_same_len[:-len_]\n",
    "else:\n",
    "    train_score = score\n",
    "    train_texts_same_len = texts_same_len\n",
    "\n",
    "print('Data', train_score.shape, train_texts_same_len.shape)"
   ]
  },
  {
   "cell_type": "code",
   "execution_count": 28,
   "id": "22eb4306-f9f0-4fe2-8431-2bf8c9967343",
   "metadata": {},
   "outputs": [
    {
     "data": {
      "text/plain": [
       "(4640, 1160)"
      ]
     },
     "execution_count": 28,
     "metadata": {},
     "output_type": "execute_result"
    }
   ],
   "source": [
    "X_train, X_test, y_train, y_test = train_test_split(train_texts_same_len, train_score, test_size=0.20, random_state=87)\n",
    "len(X_train), len(X_test)"
   ]
  },
  {
   "cell_type": "code",
   "execution_count": 29,
   "id": "88d99548-ca03-45e3-bc8f-d92c185cd679",
   "metadata": {},
   "outputs": [],
   "source": [
    "batch_size = 20\n",
    "\n",
    "train = TextDataset(X_train, y_train)\n",
    "test = TextDataset(X_test, y_test)\n",
    "\n",
    "train_loader = DataLoader(train,  batch_size=batch_size, shuffle=True)\n",
    "test_loader = DataLoader(test, batch_size=batch_size, shuffle=True)"
   ]
  },
  {
   "cell_type": "code",
   "execution_count": 45,
   "id": "2a48d418-06bb-4c2b-a27a-c2a04a2168be",
   "metadata": {},
   "outputs": [
    {
     "data": {
      "text/plain": [
       "(torch.Size([80]), torch.Size([1, 2]), tensor([[1, 0]], dtype=torch.int32))"
      ]
     },
     "execution_count": 45,
     "metadata": {},
     "output_type": "execute_result"
    }
   ],
   "source": [
    "x, y = next(iter(train))\n",
    "x.shape, y.shape, y #, x"
   ]
  },
  {
   "cell_type": "code",
   "execution_count": 46,
   "id": "2b2a8795-90f4-4302-b6fd-3fae5a6a83eb",
   "metadata": {},
   "outputs": [
    {
     "data": {
      "text/plain": [
       "(torch.Size([20, 80]), torch.Size([20, 1, 2]))"
      ]
     },
     "execution_count": 46,
     "metadata": {},
     "output_type": "execute_result"
    }
   ],
   "source": [
    "x, y = next(iter(train_loader))\n",
    "x.shape, y.shape"
   ]
  },
  {
   "cell_type": "markdown",
   "id": "4ae4ce8a-c2a9-4f6a-b2ef-bf7089475b09",
   "metadata": {},
   "source": [
    "# Создание модели"
   ]
  },
  {
   "cell_type": "code",
   "execution_count": 3,
   "id": "bbe7b307-ab74-4ab2-b0a0-fb53c0bc3d6f",
   "metadata": {},
   "outputs": [],
   "source": [
    "class LSTM(nn.Module):\n",
    "    def __init__(self, input_size, embedding_dim, hidden_size, output_size):\n",
    "        super(LSTM, self).__init__()\n",
    "        self.hidden_size = hidden_size\n",
    "        self.output_size = output_size\n",
    "        \n",
    "        self.embedding = Embedding(input_size, embedding_dim)\n",
    "        self.lstm = nn.LSTM(embedding_dim, hidden_size, num_layers=2, batch_first=True, dropout=0.25)\n",
    "        self.fc = Linear(hidden_size, output_size)\n",
    "        self.sig = nn.Sigmoid()\n",
    "\n",
    "    def forward(self, text):\n",
    "        embedded = self.embedding(text)\n",
    "        output, (hidden, cell) = self.lstm(embedded)\n",
    "\n",
    "        output = self.fc(output[:, -1, :])\n",
    "        output = self.sig(output).reshape(-1, 1, self.output_size)\n",
    "       \n",
    "        return output"
   ]
  },
  {
   "cell_type": "code",
   "execution_count": 95,
   "id": "cdf60bfe-e606-4d83-a597-269b5093dd60",
   "metadata": {},
   "outputs": [
    {
     "data": {
      "text/plain": [
       "tensor([[ 0.9233, -0.2279, -0.3224],\n",
       "        [ 1.4868,  0.8123,  0.2109],\n",
       "        [ 0.1834,  0.0880,  0.3074],\n",
       "        [ 0.9233, -0.2279, -0.3224]], grad_fn=<EmbeddingBackward0>)"
      ]
     },
     "execution_count": 95,
     "metadata": {},
     "output_type": "execute_result"
    }
   ],
   "source": [
    "e = Embedding(10, 3)\n",
    "e(torch.IntTensor([1, 2, 3, 1]))"
   ]
  },
  {
   "cell_type": "code",
   "execution_count": 52,
   "id": "b064ad43-7692-44ce-98fd-c96b8057bd08",
   "metadata": {},
   "outputs": [
    {
     "name": "stdout",
     "output_type": "stream",
     "text": [
      "LSTM(\n",
      "  (embedding): Embedding(22688, 256)\n",
      "  (lstm): LSTM(256, 512, num_layers=2, batch_first=True, dropout=0.25)\n",
      "  (fc): Linear(in_features=512, out_features=2, bias=True)\n",
      "  (sig): Sigmoid()\n",
      ")\n"
     ]
    }
   ],
   "source": [
    "model = LSTM(input_size=len(tokens) + 1,\n",
    "            embedding_dim=256,\n",
    "            hidden_size=512,\n",
    "            output_size=2\n",
    ")\n",
    "\n",
    "model = model.to(device)\n",
    "optimizer = torch.optim.Adam(model.parameters(), lr=0.001)\n",
    "loss_fn = nn.BCELoss()\n",
    "\n",
    "print(model)"
   ]
  },
  {
   "cell_type": "code",
   "execution_count": 4,
   "id": "e051e929-f47b-49ff-a4d4-720761f4a95f",
   "metadata": {},
   "outputs": [],
   "source": [
    "def accuracy(model, data_loader, device):\n",
    "    correct = 0\n",
    "    \n",
    "    with torch.no_grad():\n",
    "        for i, (X, y) in enumerate(data_loader):\n",
    "            X = X.to(device)\n",
    "            y = y.float().to(device)\n",
    "            outputs = model(X)\n",
    "\n",
    "            for pred, target in zip(outputs, y):\n",
    "                correct += pred.argmax() == target.argmax()\n",
    "                \n",
    "        total = len(data_loader) * data_loader.batch_size\n",
    "        print(total, correct)\n",
    "    return correct.float()/total * 100 "
   ]
  },
  {
   "cell_type": "code",
   "execution_count": 50,
   "id": "999094b2-d7be-42eb-a33a-c5ed2c0210f6",
   "metadata": {},
   "outputs": [],
   "source": [
    "def train(model, epochs = 10, prefix='e'):\n",
    "    start = time.time()\n",
    "    acc_score = {'train': [], 'test': []}\n",
    "    \n",
    "    for epoch in range(epochs):\n",
    "        model.train()\n",
    "        for i, data in enumerate(tqdm(train_loader)):\n",
    "            text, labels = data\n",
    "            text = text.to(device)\n",
    "            labels = labels.to(device)\n",
    "    \n",
    "        \n",
    "            optimizer.zero_grad()\n",
    "            outputs = model(text)\n",
    "            loss = loss_fn(outputs, labels.float())\n",
    "            loss.backward()\n",
    "            optimizer.step()\n",
    "\n",
    "        torch.save(model, f'models/{prefix}{epoch}_lstm.pt')\n",
    "    \n",
    "        with torch.set_grad_enabled(False):\n",
    "            train_acc = accuracy(model, train_loader, device)\n",
    "            test_acc = accuracy(model, test_loader, device)\n",
    "            \n",
    "            acc_score['train'].append(train_acc)\n",
    "            acc_score['test'].append(test_acc)\n",
    "            \n",
    "            tqdm.write(f'Train accuracy: {train_acc:.2f}%')\n",
    "            tqdm.write(f'Test accuracy: {test_acc:.2f}%')\n",
    "   \n",
    "        \n",
    "    print(f'Total time: {(time.time() - start)/60:.2f} min')\n",
    "    print(f'Test accuracy: {accuracy(model, test_loader, device):.2f}%')\n",
    "\n",
    "    return acc_score"
   ]
  },
  {
   "cell_type": "code",
   "execution_count": 53,
   "id": "83f0f1c1-188a-484c-b8bc-b01510027721",
   "metadata": {},
   "outputs": [
    {
     "name": "stderr",
     "output_type": "stream",
     "text": [
      "100%|█████████████████████████████████████████| 232/232 [00:07<00:00, 32.17it/s]\n"
     ]
    },
    {
     "name": "stdout",
     "output_type": "stream",
     "text": [
      "4640 tensor(2734, device='cuda:0')\n",
      "1160 tensor(685, device='cuda:0')\n",
      "Train accuracy: 58.92%\n",
      "Test accuracy: 59.05%\n"
     ]
    },
    {
     "name": "stderr",
     "output_type": "stream",
     "text": [
      "100%|█████████████████████████████████████████| 232/232 [00:06<00:00, 33.46it/s]\n"
     ]
    },
    {
     "name": "stdout",
     "output_type": "stream",
     "text": [
      "4640 tensor(2911, device='cuda:0')\n",
      "1160 tensor(723, device='cuda:0')\n",
      "Train accuracy: 62.74%\n",
      "Test accuracy: 62.33%\n"
     ]
    },
    {
     "name": "stderr",
     "output_type": "stream",
     "text": [
      "100%|█████████████████████████████████████████| 232/232 [00:06<00:00, 33.45it/s]\n"
     ]
    },
    {
     "name": "stdout",
     "output_type": "stream",
     "text": [
      "4640 tensor(3336, device='cuda:0')\n",
      "1160 tensor(834, device='cuda:0')\n",
      "Train accuracy: 71.90%\n",
      "Test accuracy: 71.90%\n"
     ]
    },
    {
     "name": "stderr",
     "output_type": "stream",
     "text": [
      "100%|█████████████████████████████████████████| 232/232 [00:06<00:00, 33.42it/s]\n"
     ]
    },
    {
     "name": "stdout",
     "output_type": "stream",
     "text": [
      "4640 tensor(4031, device='cuda:0')\n",
      "1160 tensor(982, device='cuda:0')\n",
      "Train accuracy: 86.88%\n",
      "Test accuracy: 84.66%\n"
     ]
    },
    {
     "name": "stderr",
     "output_type": "stream",
     "text": [
      "100%|█████████████████████████████████████████| 232/232 [00:06<00:00, 33.27it/s]\n"
     ]
    },
    {
     "name": "stdout",
     "output_type": "stream",
     "text": [
      "4640 tensor(4265, device='cuda:0')\n",
      "1160 tensor(1020, device='cuda:0')\n",
      "Train accuracy: 91.92%\n",
      "Test accuracy: 87.93%\n"
     ]
    },
    {
     "name": "stderr",
     "output_type": "stream",
     "text": [
      "100%|█████████████████████████████████████████| 232/232 [00:06<00:00, 33.39it/s]\n"
     ]
    },
    {
     "name": "stdout",
     "output_type": "stream",
     "text": [
      "4640 tensor(4338, device='cuda:0')\n",
      "1160 tensor(1027, device='cuda:0')\n",
      "Train accuracy: 93.49%\n",
      "Test accuracy: 88.53%\n"
     ]
    },
    {
     "name": "stderr",
     "output_type": "stream",
     "text": [
      "100%|█████████████████████████████████████████| 232/232 [00:06<00:00, 33.37it/s]\n"
     ]
    },
    {
     "name": "stdout",
     "output_type": "stream",
     "text": [
      "4640 tensor(4410, device='cuda:0')\n",
      "1160 tensor(1046, device='cuda:0')\n",
      "Train accuracy: 95.04%\n",
      "Test accuracy: 90.17%\n"
     ]
    },
    {
     "name": "stderr",
     "output_type": "stream",
     "text": [
      "100%|█████████████████████████████████████████| 232/232 [00:07<00:00, 32.98it/s]\n"
     ]
    },
    {
     "name": "stdout",
     "output_type": "stream",
     "text": [
      "4640 tensor(4466, device='cuda:0')\n",
      "1160 tensor(1040, device='cuda:0')\n",
      "Train accuracy: 96.25%\n",
      "Test accuracy: 89.66%\n"
     ]
    },
    {
     "name": "stderr",
     "output_type": "stream",
     "text": [
      "100%|█████████████████████████████████████████| 232/232 [00:06<00:00, 33.30it/s]\n"
     ]
    },
    {
     "name": "stdout",
     "output_type": "stream",
     "text": [
      "4640 tensor(4524, device='cuda:0')\n",
      "1160 tensor(1060, device='cuda:0')\n",
      "Train accuracy: 97.50%\n",
      "Test accuracy: 91.38%\n"
     ]
    },
    {
     "name": "stderr",
     "output_type": "stream",
     "text": [
      "100%|█████████████████████████████████████████| 232/232 [00:06<00:00, 33.30it/s]\n"
     ]
    },
    {
     "name": "stdout",
     "output_type": "stream",
     "text": [
      "4640 tensor(4537, device='cuda:0')\n",
      "1160 tensor(1056, device='cuda:0')\n",
      "Train accuracy: 97.78%\n",
      "Test accuracy: 91.03%\n",
      "Total time: 1.70 min\n",
      "1160 tensor(1058, device='cuda:0')\n",
      "Test accuracy: 91.21%\n"
     ]
    }
   ],
   "source": [
    "acc_score = train(model)"
   ]
  },
  {
   "cell_type": "code",
   "execution_count": 54,
   "id": "52f60635-381c-45d9-9158-1eff69605f14",
   "metadata": {},
   "outputs": [],
   "source": [
    "def to_list(tensors):\n",
    "    return [i.cpu().item() for i in tensors]"
   ]
  },
  {
   "cell_type": "code",
   "execution_count": 55,
   "id": "e60f97f3-4fa9-447d-a15b-c8c967197506",
   "metadata": {},
   "outputs": [
    {
     "data": {
      "text/plain": [
       "Text(0.5, 1.0, 'Accuracy')"
      ]
     },
     "execution_count": 55,
     "metadata": {},
     "output_type": "execute_result"
    },
    {
     "data": {
      "image/png": "[encoded data removed]",
      "text/plain": [
       "<Figure size 640x480 with 1 Axes>"
      ]
     },
     "metadata": {},
     "output_type": "display_data"
    }
   ],
   "source": [
    "train = to_list(acc_score['train'])\n",
    "test = to_list(acc_score['test'])\n",
    "\n",
    "plt.plot(train, label = 'Train')\n",
    "plt.plot(test, label = 'Test')\n",
    "plt.legend()\n",
    "plt.title('Accuracy')"
   ]
  },
  {
   "cell_type": "code",
   "execution_count": 59,
   "id": "c52e7e97-3f71-488f-823a-83c52b91863c",
   "metadata": {},
   "outputs": [],
   "source": [
    "with open('datasets/acc.json', 'w') as f:\n",
    "    json.dump({'train': train, 'test': test}, f)"
   ]
  },
  {
   "cell_type": "code",
   "execution_count": 5,
   "id": "02ccc4bc-201d-4f68-ad54-5c5c67d81931",
   "metadata": {},
   "outputs": [
    {
     "data": {
      "text/plain": [
       "LSTM(\n",
       "  (embedding): Embedding(22688, 256)\n",
       "  (lstm): LSTM(256, 512, num_layers=2, batch_first=True, dropout=0.25)\n",
       "  (fc): Linear(in_features=512, out_features=2, bias=True)\n",
       "  (sig): Sigmoid()\n",
       ")"
      ]
     },
     "execution_count": 5,
     "metadata": {},
     "output_type": "execute_result"
    }
   ],
   "source": [
    "model1 = torch.load('models/e6_lstm.pt', weights_only=False)\n",
    "model1.eval()"
   ]
  },
  {
   "cell_type": "code",
   "execution_count": 6,
   "id": "54a7b156-9e33-4289-95f8-276ae9bd8712",
   "metadata": {},
   "outputs": [],
   "source": [
    "tokens = {}\n",
    "with open('datasets/vocabulary.json', 'r') as f:\n",
    "    tokens = json.load(f)\n",
    "\n",
    "def predict(texts):\n",
    "    texts = [preprocess_text(i) for i in texts]\n",
    "    num_text = texts2tokens(texts)\n",
    "    max_len = [len(i) for i in num_text]\n",
    "    same_shape = set_text_len(num_text, max(max_len))\n",
    "    tensors = torch.IntTensor(same_shape).to(device)\n",
    "\n",
    "    pred = []\n",
    "    for i in model1(tensors):\n",
    "        tmp = i.cpu().argmax()\n",
    "        # print(tmp)\n",
    "        tmp = 5 if tmp == 1 else 1\n",
    "        pred.append(tmp)\n",
    "    \n",
    "    return pred"
   ]
  },
  {
   "cell_type": "code",
   "execution_count": 22,
   "id": "13e7279e-6a00-49c2-8365-61fccb645f91",
   "metadata": {},
   "outputs": [
    {
     "data": {
      "text/plain": [
       "[5, 1, 1, 1, 1, 1, 5]"
      ]
     },
     "execution_count": 22,
     "metadata": {},
     "output_type": "execute_result"
    }
   ],
   "source": [
    "predict(['хороший отель, но есть нюансы', 'очень шумно на улице не возможно спать по ночам', \n",
    "         'плохой отель', 'На весь отель 3 или 4 фена, которые надо просить на ресепшене,\\\n",
    "         если успеешь. Это очень странно. Забирайте с вечера, если нужен вам.',\n",
    "        'очень не понравилось, что время бежит чертовски быстро. И приближение рабочих дней крайне не понравилось!',\n",
    "        '\"Я останавливался в этом отеле на выходные, и, к сожалению, мой опыт был далеко не положительным. Номер\\\n",
    "        оказался грязным, с пылью на мебели и неубранной ванной. Персонал был не очень дружелюбным и не реагировал\\\n",
    "        на наши просьбы. Завтрак тоже разочаровал: еда была холодной и не свежей. Я не рекомендую этот отель, так \\\n",
    "        как за такие деньги можно найти гораздо лучшие варианты.', 'Я провел замечательные дни в этом отеле! Номер \\\n",
    "        был чистым и уютным, с прекрасным видом на город. Персонал был очень вежливым и отзывчивым, всегда готов\\\n",
    "        помочь. Завтрак был разнообразным и вкусным, особенно понравились свежие булочки и кофе. Я обязательно\\\n",
    "        вернусь сюда снова и рекомендую всем, кто ищет комфортное место для отдыха!'])"
   ]
  },
  {
   "cell_type": "code",
   "execution_count": 38,
   "id": "415d0c89-e774-4687-8f2d-844ad632f517",
   "metadata": {},
   "outputs": [],
   "source": [
    "def get_pred_y(model, data_loader, device):\n",
    "    outputs = []\n",
    "    correct = []\n",
    "    \n",
    "    with torch.no_grad():\n",
    "        for i, (X, y) in enumerate(data_loader):\n",
    "            X = X.to(device)\n",
    "            outputs.extend(model(X))\n",
    "            correct.extend(y)\n",
    "\n",
    "    outputs = [i.cpu().argmax().item() for i in outputs]\n",
    "    correct = [i.cpu().argmax().item() for i in correct]\n",
    "    \n",
    "    return outputs, correct "
   ]
  },
  {
   "cell_type": "code",
   "execution_count": 50,
   "id": "7e70ee27-9aa5-443d-890f-aa929ece46eb",
   "metadata": {},
   "outputs": [
    {
     "name": "stdout",
     "output_type": "stream",
     "text": [
      "Model accuracy = 90.26%\n",
      "\n",
      "Classification Report:\n",
      "              precision    recall  f1-score   support\n",
      "\n",
      "           0       0.87      0.95      0.91       593\n",
      "           1       0.95      0.85      0.90       567\n",
      "\n",
      "    accuracy                           0.90      1160\n",
      "   macro avg       0.91      0.90      0.90      1160\n",
      "weighted avg       0.91      0.90      0.90      1160\n",
      "\n"
     ]
    }
   ],
   "source": [
    "predicted, y_test = get_pred_y(model1, test_loader, device)\n",
    "\n",
    "accuracy_score = metrics.accuracy_score(predicted, y_test)\n",
    "\n",
    "print(f'Model accuracy = {accuracy_score*100:4.2f}%\\n')\n",
    "print('Classification Report:')\n",
    "print(metrics.classification_report(y_test, predicted))"
   ]
  },
  {
   "cell_type": "code",
   "execution_count": 69,
   "id": "b777300a-2713-4ea0-883a-5805499e2c43",
   "metadata": {},
   "outputs": [
    {
     "data": {
      "text/plain": [
       "Text(0.5, 1.0, 'Confusion Matrix')"
      ]
     },
     "execution_count": 69,
     "metadata": {},
     "output_type": "execute_result"
    },
    {
     "data": {
      "image/png": "[encoded data removed]",
      "text/plain": [
       "<Figure size 640x480 with 2 Axes>"
      ]
     },
     "metadata": {},
     "output_type": "display_data"
    }
   ],
   "source": [
    "cm = pd.DataFrame(metrics.confusion_matrix(y_test, predicted))\n",
    "sns.heatmap(cm, annot=True, annot_kws={\"size\": 20}, fmt='.0f')\n",
    "plt.title('Confusion Matrix')"
   ]
  },
  {
   "cell_type": "code",
   "execution_count": 73,
   "id": "87512cf6-c756-46e2-8897-84e2acbc5d02",
   "metadata": {},
   "outputs": [
    {
     "data": {
      "text/plain": [
       "(np.int64(28), np.int64(482))"
      ]
     },
     "execution_count": 73,
     "metadata": {},
     "output_type": "execute_result"
    }
   ],
   "source": [
    "cm[1][0], cm[1][1]"
   ]
  },
  {
   "cell_type": "code",
   "execution_count": 86,
   "id": "ebf342c2-fc64-4f19-8015-ae4475704e4b",
   "metadata": {},
   "outputs": [
    {
     "data": {
      "image/png": "[encoded data removed]",
      "text/plain": [
       "<Figure size 640x480 with 1 Axes>"
      ]
     },
     "metadata": {},
     "output_type": "display_data"
    }
   ],
   "source": [
    "#  TPR = TP/(TP+FN)\n",
    "# FPR = FP/(FP+TN)\n",
    "\n",
    "tpr = cm[0][0]/(cm[0][0]+cm[0][1])\n",
    "fpr = cm[1][0]/(cm[1][0]+cm[1][1])\n",
    "\n",
    "\n",
    "fpr, tpr, thresholds = metrics.roc_curve(y_test, predicted) \n",
    "roc_auc = metrics.auc(fpr, tpr)\n",
    "\n",
    "plt.figure()  \n",
    "plt.plot(fpr, tpr, label='ROC curve (area = %0.2f)' % roc_auc)\n",
    "plt.plot([0, 1], [0, 1], 'k--', label='No Skill')\n",
    "plt.xlim([0.0, 1.0])\n",
    "plt.ylim([0.0, 1.05])\n",
    "plt.xlabel('False Positive Rate')\n",
    "plt.ylabel('True Positive Rate')\n",
    "plt.title('ROC Curve')\n",
    "plt.legend()\n",
    "plt.show()"
   ]
  }
 ],
 "metadata": {
  "kernelspec": {
   "display_name": "Python 3 (ipykernel)",
   "language": "python",
   "name": "python3"
  },
  "language_info": {
   "codemirror_mode": {
    "name": "ipython",
    "version": 3
   },
   "file_extension": ".py",
   "mimetype": "text/x-python",
   "name": "python",
   "nbconvert_exporter": "python",
   "pygments_lexer": "ipython3",
   "version": "3.10.12"
  },
  "widgets": {
   "application/vnd.jupyter.widget-state+json": {
    "state": {},
    "version_major": 2,
    "version_minor": 0
   }
  }
 },
 "nbformat": 4,
 "nbformat_minor": 5
}
