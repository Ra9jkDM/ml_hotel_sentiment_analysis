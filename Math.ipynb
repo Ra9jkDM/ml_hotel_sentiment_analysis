{
 "cells": [
  {
   "cell_type": "code",
   "execution_count": 1,
   "id": "75dc8eb8-ae73-4a08-a133-6ed395ee9a4a",
   "metadata": {},
   "outputs": [],
   "source": [
    "import numpy as np\n",
    "import torch\n",
    "from torch.nn import LSTM"
   ]
  },
  {
   "cell_type": "code",
   "execution_count": 2,
   "id": "d10c26c8-bd00-4789-9e18-fce8481b7f67",
   "metadata": {},
   "outputs": [
    {
     "data": {
      "text/plain": [
       "'2.4.1+cu121'"
      ]
     },
     "execution_count": 2,
     "metadata": {},
     "output_type": "execute_result"
    }
   ],
   "source": [
    "torch.__version__"
   ]
  },
  {
   "cell_type": "code",
   "execution_count": null,
   "id": "d65ad4c6-db28-48d9-9822-2a44d9b7ad2c",
   "metadata": {},
   "outputs": [],
   "source": []
  },
  {
   "cell_type": "code",
   "execution_count": 3,
   "id": "92a3ff1d-cae9-48c5-9011-8234d5f37fa5",
   "metadata": {},
   "outputs": [],
   "source": [
    "def to_parameter(array):\n",
    "    return torch.nn.Parameter(torch.Tensor(array))"
   ]
  },
  {
   "cell_type": "code",
   "execution_count": null,
   "id": "17f73d29-ef5f-4b0a-8af0-cce20adad726",
   "metadata": {},
   "outputs": [],
   "source": []
  },
  {
   "cell_type": "code",
   "execution_count": 4,
   "id": "25948691-6e05-4c9e-8ab8-38bb77be01bb",
   "metadata": {},
   "outputs": [],
   "source": [
    "lstm = LSTM(2, 4, 1)"
   ]
  },
  {
   "cell_type": "code",
   "execution_count": 5,
   "id": "39e78ad0-1542-4e21-8195-f2c65786b747",
   "metadata": {},
   "outputs": [],
   "source": [
    "def round_up_params(param):\n",
    "    x = param.data.numpy().tolist()\n",
    "\n",
    "    result = []\n",
    "    for n in x:\n",
    "        tmp = [int(i*100) / 100 for i in n]\n",
    "        result.append(tmp)\n",
    "    \n",
    "    return result"
   ]
  },
  {
   "cell_type": "code",
   "execution_count": 7,
   "id": "5e116320-fcaa-4569-8ade-8b38ebed4324",
   "metadata": {},
   "outputs": [
    {
     "data": {
      "text/plain": [
       "[[0.08, 0.43, 0.07, -0.09],\n",
       " [-0.09, 0.15, -0.47, -0.15],\n",
       " [-0.3, 0.15, -0.49, 0.4],\n",
       " [0.38, 0.33, 0.0, -0.41],\n",
       " [-0.2, -0.01, -0.33, -0.04],\n",
       " [0.2, 0.16, 0.0, 0.24],\n",
       " [0.48, 0.2, -0.25, -0.25],\n",
       " [-0.16, -0.37, -0.28, 0.31],\n",
       " [0.15, 0.11, -0.02, 0.24],\n",
       " [0.17, -0.37, -0.45, 0.47],\n",
       " [-0.42, 0.09, -0.26, 0.21],\n",
       " [-0.48, 0.0, -0.01, 0.28],\n",
       " [0.25, -0.03, 0.45, 0.22],\n",
       " [0.16, -0.28, -0.33, -0.11],\n",
       " [0.05, -0.43, 0.21, 0.19],\n",
       " [0.4, 0.33, -0.24, -0.15]]"
      ]
     },
     "execution_count": 7,
     "metadata": {},
     "output_type": "execute_result"
    }
   ],
   "source": [
    "round_up_params(lstm.weight_hh_l0)"
   ]
  },
  {
   "cell_type": "code",
   "execution_count": 9,
   "id": "a4424882-611e-4b93-bfef-d54bb47d6f4b",
   "metadata": {},
   "outputs": [],
   "source": [
    "# Set weights and bias\n",
    "x = np.array([0.5, 0.1])\n",
    "h0 = np.array([-0.5, 0.18, 0.11, -0.06])\n",
    "c0 = np.array([-0.47,  0.32, -0.76,  0.47])\n",
    "\n",
    "lstm.weight_ih_l0 = to_parameter([[-0.36, 0.03],\n",
    "                                 [-0.17, -0.08],\n",
    "                                 [0.43, 0.19],\n",
    "                                 [-0.22, 0.33],\n",
    "                                 [-0.46, 0.0],\n",
    "                                 [-0.09, -0.25],\n",
    "                                 [0.09, 0.3],\n",
    "                                 [-0.43, -0.07],\n",
    "                                 [-0.03, 0.37],\n",
    "                                 [-0.32, -0.35],\n",
    "                                 [-0.22, -0.46],\n",
    "                                 [-0.02, 0.19],\n",
    "                                 [-0.4, 0.22],\n",
    "                                 [0.08, -0.44],\n",
    "                                 [-0.35, -0.13],\n",
    "                                 [-0.15, -0.47]])\n",
    "lstm.weight_hh_l0 = to_parameter([[-0.47, 0.16, -0.18, -0.28],\n",
    "                                 [0.45, -0.29, -0.43, -0.01],\n",
    "                                 [0.04, -0.44, 0.02, -0.02],\n",
    "                                 [-0.35, 0.15, -0.41, -0.07],\n",
    "                                 [0.1, -0.19, -0.24, 0.45],\n",
    "                                 [0.08, -0.13, -0.05, 0.38],\n",
    "                                 [-0.22, 0.36, 0.43, 0.11],\n",
    "                                 [0.31, 0.01, -0.41, -0.11],\n",
    "                                 [-0.22, -0.38, -0.44, -0.48],\n",
    "                                 [0.09, -0.36, -0.35, 0.05],\n",
    "                                 [0.05, -0.26, 0.24, -0.17],\n",
    "                                 [-0.05, 0.16, 0.3, 0.09],\n",
    "                                 [0.2, 0.45, 0.07, -0.08],\n",
    "                                 [0.12, 0.41, 0.45, -0.24],\n",
    "                                 [-0.39, 0.12, 0.0, 0.25],\n",
    "                                 [-0.02, 0.47, 0.05, -0.43]])\n",
    "\n",
    "lstm.bias_hh_l0 = to_parameter([-0.44,  0.15, -0.12,  0.35, -0.13, -0.18, -0.44, -0.47,\n",
    "                                 0.01,  0.17,  0.18, -0.23, -0.32, -0.19,  0.05,  0.14])\n",
    "lstm.bias_ih_l0 = to_parameter([ 0.47,  0.2,  0.23, -0.24,  0.02, -0.28, -0.32,  0.01,\n",
    "                                -0.42,  0.29, 0.46,  0.12,  0.45, -0.41,  0.30,  0.11])"
   ]
  },
  {
   "cell_type": "code",
   "execution_count": 10,
   "id": "838663be-5286-42f0-a2b5-530422cff3c9",
   "metadata": {},
   "outputs": [
    {
     "data": {
      "text/plain": [
       "(Parameter containing:\n",
       " tensor([[-0.3600,  0.0300],\n",
       "         [-0.1700, -0.0800],\n",
       "         [ 0.4300,  0.1900],\n",
       "         [-0.2200,  0.3300],\n",
       "         [-0.4600,  0.0000],\n",
       "         [-0.0900, -0.2500],\n",
       "         [ 0.0900,  0.3000],\n",
       "         [-0.4300, -0.0700],\n",
       "         [-0.0300,  0.3700],\n",
       "         [-0.3200, -0.3500],\n",
       "         [-0.2200, -0.4600],\n",
       "         [-0.0200,  0.1900],\n",
       "         [-0.4000,  0.2200],\n",
       "         [ 0.0800, -0.4400],\n",
       "         [-0.3500, -0.1300],\n",
       "         [-0.1500, -0.4700]], requires_grad=True),\n",
       " Parameter containing:\n",
       " tensor([ 0.4700,  0.2000,  0.2300, -0.2400,  0.0200, -0.2800, -0.3200,  0.0100,\n",
       "         -0.4200,  0.2900,  0.4600,  0.1200,  0.4500, -0.4100,  0.3000,  0.1100],\n",
       "        requires_grad=True))"
      ]
     },
     "execution_count": 10,
     "metadata": {},
     "output_type": "execute_result"
    }
   ],
   "source": [
    "lstm.weight_ih_l0, lstm.bias_ih_l0"
   ]
  },
  {
   "cell_type": "code",
   "execution_count": 13,
   "id": "2486bd14-25e4-47c0-8c5f-d757d5e0db34",
   "metadata": {},
   "outputs": [
    {
     "name": "stdout",
     "output_type": "stream",
     "text": [
      "\\left\\lbrack\\begin{matrix}-0.130&-0.180&-0.440&-0.470\\\\\\end{matrix}\\right\\rbrack\n",
      "\\left\\lbrack\\begin{bmatrix}0.1&-0.19&-0.24&0.45\\\\0.08&-0.13&-0.05&0.38\\\\-0.22&0.36&0.43&0.11\\\\0.31&0.01&-0.41&-0.11\\\\\\end{bmatrix}\\rbrack\\right\n"
     ]
    }
   ],
   "source": [
    "def to_la_1d(array):\n",
    "    array = [f'{i:.3f}' for i in array]\n",
    "    mas = r\"&\".join(array)\n",
    "    \n",
    "    return r\"\\left\\lbrack\\begin{matrix}\"+mas+r\"\\\\\\end{matrix}\\right\\rbrack\"\n",
    "\n",
    "def to_la_nd(array):\n",
    "    j=[]\n",
    "    for i in array:\n",
    "        j.append(list(map(str, i)))\n",
    "\n",
    "    result = r\"\"\n",
    "    for i in j:\n",
    "        result+= r\"&\".join(i) + r\"\\\\\"\n",
    "\n",
    "    return r\"\\left\\lbrack\\begin{bmatrix}\"+result+r\"\\end{bmatrix}\\rbrack\\right\"\n",
    "\n",
    "    \n",
    "\n",
    "print(to_la_1d( [-0.13, -0.18, -0.44, -0.47]))\n",
    "print(to_la_nd([[ 0.1,-0.19 ,-0.24,0.45]\n",
    ",[ 0.08, -0.13 ,-0.05,0.38]\n",
    ",[-0.22,0.36,0.43,0.11]\n",
    ",[ 0.31,0.01 ,-0.41, -0.11]]))"
   ]
  },
  {
   "cell_type": "code",
   "execution_count": 14,
   "id": "ba3ac6c5-a78e-44d1-a9b2-b764093663ea",
   "metadata": {},
   "outputs": [
    {
     "name": "stdout",
     "output_type": "stream",
     "text": [
      "Input: (2,) [0.5 0.1]\n",
      "h0: (4,) [-0.5   0.18  0.11 -0.06]\n",
      "c0 (4,) [-0.47  0.32 -0.76  0.47]\n",
      "LSTM\n",
      "Out: torch.Size([1, 4]) tensor([[-0.1701,  0.0613, -0.0330,  0.0715]], grad_fn=<SqueezeBackward1>)\n",
      "hn: torch.Size([1, 4]) tensor([[-0.1701,  0.0613, -0.0330,  0.0715]], grad_fn=<SqueezeBackward1>)\n",
      "cn torch.Size([1, 4]) tensor([[-0.3651,  0.1665, -0.0560,  0.1277]], grad_fn=<SqueezeBackward1>)\n"
     ]
    }
   ],
   "source": [
    "print('Input:', x.shape, x)\n",
    "print('h0:', h0.shape, h0)\n",
    "print('c0', c0.shape, c0)\n",
    "\n",
    "print('LSTM')\n",
    "output, (hn, cn) = lstm(torch.Tensor(x).reshape(1, -1), \n",
    "                        (torch.Tensor(h0).reshape(1, -1), torch.Tensor(c0).reshape(1, -1)))\n",
    "print('Out:', output.shape, output)\n",
    "print('hn:', hn.shape, hn)\n",
    "print('cn', cn.shape, cn)"
   ]
  },
  {
   "cell_type": "code",
   "execution_count": null,
   "id": "b825e9a3-9ce6-4ba6-9fe3-df7173bc7fe7",
   "metadata": {},
   "outputs": [],
   "source": []
  },
  {
   "cell_type": "code",
   "execution_count": 15,
   "id": "26184fb1-5836-4935-bd61-0f14b7a40f77",
   "metadata": {},
   "outputs": [],
   "source": [
    "def sigmoid(x):\n",
    "    return 1/(1 + np.exp(-1 * x))"
   ]
  },
  {
   "cell_type": "code",
   "execution_count": 17,
   "id": "59e876b7-d81d-4008-8825-16c4dbe69139",
   "metadata": {},
   "outputs": [
    {
     "name": "stdout",
     "output_type": "stream",
     "text": [
      "Bias ih: (16,) [ 0.47  0.2   0.23 -0.24  0.02 -0.28 -0.32  0.01 -0.42  0.29  0.46  0.12\n",
      "  0.45 -0.41  0.3   0.11]\n",
      "\n",
      "Bias: (4, 4) [[ 0.47  0.2   0.23 -0.24]\n",
      " [ 0.02 -0.28 -0.32  0.01]\n",
      " [-0.42  0.29  0.46  0.12]\n",
      " [ 0.45 -0.41  0.3   0.11]]\n"
     ]
    }
   ],
   "source": [
    "ih = lstm.state_dict()['weight_ih_l0'].numpy()\n",
    "hh = lstm.state_dict()['weight_hh_l0'].numpy()\n",
    "\n",
    "W = np.array(np.split(ih, 4))\n",
    "W1 = np.array(np.split(hh, 4))\n",
    "\n",
    "bias_ih = lstm.state_dict()['bias_ih_l0'].numpy()\n",
    "bias_hh = lstm.state_dict()['bias_hh_l0'].numpy()\n",
    "\n",
    "b = np.array(np.split(bias_ih, 4))\n",
    "b1 = np.array(np.split(bias_hh, 4))\n",
    "\n",
    "print('Bias ih:', bias_ih.shape, bias_ih, end='\\n\\n')\n",
    "print('Bias:', b.shape, b)"
   ]
  },
  {
   "cell_type": "code",
   "execution_count": 22,
   "id": "c45738f3-70e6-45ab-a559-1bf6d30b42bd",
   "metadata": {},
   "outputs": [
    {
     "name": "stdout",
     "output_type": "stream",
     "text": [
      "[-0.17009832  0.06127686 -0.0329758   0.07150263] tensor([[-0.1701,  0.0613, -0.0330,  0.0715]], grad_fn=<SqueezeBackward1>)\n"
     ]
    }
   ],
   "source": [
    "i = sigmoid((W[0] @ x)+b[0] + (W1[0] @ h0)+b1[0])\n",
    "f = sigmoid((W[1] @ x)+b[1] + (W1[1] @ h0)+b1[1])\n",
    "g = np.tanh((W[2] @ x)+b[2] + (W1[2] @ h0)+b1[2])\n",
    "o = sigmoid((W[3] @ x)+b[3] + (W1[3] @ h0)+b1[3])\n",
    "c = f * c0 + i * g\n",
    "h = o * np.tanh(c)\n",
    "print(h, output)"
   ]
  },
  {
   "cell_type": "code",
   "execution_count": null,
   "id": "a26a3205-b9e5-43ea-8739-51099ed24f22",
   "metadata": {},
   "outputs": [],
   "source": []
  },
  {
   "cell_type": "code",
   "execution_count": null,
   "id": "52873716-46fb-4a74-9b7b-b3cc9af0525d",
   "metadata": {},
   "outputs": [],
   "source": []
  },
  {
   "cell_type": "code",
   "execution_count": 23,
   "id": "1c3c45f2-da49-49ad-9a5b-7436a99ce8c6",
   "metadata": {},
   "outputs": [
    {
     "name": "stdout",
     "output_type": "stream",
     "text": [
      "Params\n",
      "W [[[-0.36  0.03]\n",
      "  [-0.17 -0.08]\n",
      "  [ 0.43  0.19]\n",
      "  [-0.22  0.33]]\n",
      "\n",
      " [[-0.46  0.  ]\n",
      "  [-0.09 -0.25]\n",
      "  [ 0.09  0.3 ]\n",
      "  [-0.43 -0.07]]\n",
      "\n",
      " [[-0.03  0.37]\n",
      "  [-0.32 -0.35]\n",
      "  [-0.22 -0.46]\n",
      "  [-0.02  0.19]]\n",
      "\n",
      " [[-0.4   0.22]\n",
      "  [ 0.08 -0.44]\n",
      "  [-0.35 -0.13]\n",
      "  [-0.15 -0.47]]]\n",
      "W1 [[[-0.47  0.16 -0.18 -0.28]\n",
      "  [ 0.45 -0.29 -0.43 -0.01]\n",
      "  [ 0.04 -0.44  0.02 -0.02]\n",
      "  [-0.35  0.15 -0.41 -0.07]]\n",
      "\n",
      " [[ 0.1  -0.19 -0.24  0.45]\n",
      "  [ 0.08 -0.13 -0.05  0.38]\n",
      "  [-0.22  0.36  0.43  0.11]\n",
      "  [ 0.31  0.01 -0.41 -0.11]]\n",
      "\n",
      " [[-0.22 -0.38 -0.44 -0.48]\n",
      "  [ 0.09 -0.36 -0.35  0.05]\n",
      "  [ 0.05 -0.26  0.24 -0.17]\n",
      "  [-0.05  0.16  0.3   0.09]]\n",
      "\n",
      " [[ 0.2   0.45  0.07 -0.08]\n",
      "  [ 0.12  0.41  0.45 -0.24]\n",
      "  [-0.39  0.12  0.    0.25]\n",
      "  [-0.02  0.47  0.05 -0.43]]]\n",
      "\n",
      "b [[ 0.47  0.2   0.23 -0.24]\n",
      " [ 0.02 -0.28 -0.32  0.01]\n",
      " [-0.42  0.29  0.46  0.12]\n",
      " [ 0.45 -0.41  0.3   0.11]]\n",
      "b1 [[-0.44  0.15 -0.12  0.35]\n",
      " [-0.13 -0.18 -0.44 -0.47]\n",
      " [ 0.01  0.17  0.18 -0.23]\n",
      " [-0.32 -0.19  0.05  0.14]]\n"
     ]
    }
   ],
   "source": [
    "print('Params')\n",
    "print('W', W)\n",
    "print('W1', W1)\n",
    "print()\n",
    "print('b', b)\n",
    "print('b1', b1)"
   ]
  },
  {
   "cell_type": "code",
   "execution_count": 24,
   "id": "3c947939-a14b-45d7-b5f7-371e4f7fc627",
   "metadata": {},
   "outputs": [
    {
     "name": "stdout",
     "output_type": "stream",
     "text": [
      "[0] \t  W @ x + b [ 0.29299999  0.107       0.46400001 -0.31699999]\n",
      "[0] \tW1 @ h0 + b [-0.1792     -0.17389999 -0.2158      0.51109999]\n",
      "\n",
      "[1] \t  W @ x + b [-0.21       -0.35       -0.24499999 -0.212     ]\n",
      "[1] \tW1 @ h0 + b [-0.26759999 -0.27170001 -0.22449999 -0.6617    ]\n",
      "\n",
      "[2] \t  W @ x + b [-0.39799999  0.095       0.30400001  0.129     ]\n",
      "[2] \tW1 @ h0 + b [ 0.032       0.0187      0.14480001 -0.1486    ]\n",
      "\n",
      "[3] \t  W @ x + b [ 0.27199998 -0.414       0.11200002 -0.012     ]\n",
      "[3] \tW1 @ h0 + b [-0.3265     -0.1123      0.25159999  0.2659    ]\n",
      "\n"
     ]
    }
   ],
   "source": [
    "for j in range(4):\n",
    "    print(f'[{j}] \\t  W @ x + b', (W[j] @ x)+b[j])\n",
    "    print(f'[{j}] \\tW1 @ h0 + b', (W1[j] @ h0)+b1[j])\n",
    "    print()"
   ]
  },
  {
   "cell_type": "code",
   "execution_count": 25,
   "id": "92c74215-f92c-410e-a3a4-b5f4f9feab89",
   "metadata": {},
   "outputs": [
    {
     "name": "stdout",
     "output_type": "stream",
     "text": [
      "i [0.52841933 0.48328124 0.56173341 0.54837322]\n",
      "f [0.38281901 0.34939491 0.3847346  0.29448499]\n",
      "g [-0.350488    0.11321255  0.42091212 -0.0195975 ]\n",
      "o [0.48637837 0.37138027 0.58991161 0.56313619]\n",
      "c [-0.36512957  0.16651987 -0.05595789  0.1276612 ]\n",
      "h [-0.17009832  0.06127686 -0.0329758   0.07150263]\n"
     ]
    }
   ],
   "source": [
    "print('i', i)\n",
    "print('f', f)\n",
    "print('g', g)\n",
    "print('o', o)\n",
    "print('c', c)\n",
    "print('h', h)"
   ]
  },
  {
   "cell_type": "code",
   "execution_count": null,
   "id": "67a8b933-523d-4f3d-a69e-db3e536c6851",
   "metadata": {},
   "outputs": [],
   "source": []
  }
 ],
 "metadata": {
  "kernelspec": {
   "display_name": "Python 3 (ipykernel)",
   "language": "python",
   "name": "python3"
  },
  "language_info": {
   "codemirror_mode": {
    "name": "ipython",
    "version": 3
   },
   "file_extension": ".py",
   "mimetype": "text/x-python",
   "name": "python",
   "nbconvert_exporter": "python",
   "pygments_lexer": "ipython3",
   "version": "3.10.12"
  },
  "widgets": {
   "application/vnd.jupyter.widget-state+json": {
    "state": {},
    "version_major": 2,
    "version_minor": 0
   }
  }
 },
 "nbformat": 4,
 "nbformat_minor": 5
}
